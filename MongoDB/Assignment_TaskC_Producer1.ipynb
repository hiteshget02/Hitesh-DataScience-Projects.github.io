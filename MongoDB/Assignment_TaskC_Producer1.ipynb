{
 "cells": [
  {
   "cell_type": "markdown",
   "metadata": {},
   "source": [
    "# FIT5148 Assignment 2\n",
    "#### Task C1, Part a\n",
    "\n",
    "* Due: 24/05/2019\n",
    "* Tutor: Paras Sitoula, Wednesday 12-2pm\n",
    "<br>\n",
    "\n",
    "| Student 1 | Student 2|\n",
    "|-----------|----------|\n",
    "| Hitesh Get | Samuel Campbell |"
   ]
  },
  {
   "cell_type": "markdown",
   "metadata": {},
   "source": [
    "## 1. Import Necessary Modules"
   ]
  },
  {
   "cell_type": "code",
   "execution_count": 7,
   "metadata": {},
   "outputs": [],
   "source": [
    "import os\n",
    "import csv\n",
    "import random\n",
    "from time import sleep\n",
    "import json\n",
    "import geohash as gh\n",
    "from kafka import KafkaProducer\n",
    "import random\n",
    "from datetime import datetime\n",
    "from pprint import pprint"
   ]
  },
  {
   "cell_type": "markdown",
   "metadata": {},
   "source": [
    "## 2. Set Working Directory"
   ]
  },
  {
   "cell_type": "code",
   "execution_count": 8,
   "metadata": {},
   "outputs": [
    {
     "name": "stdout",
     "output_type": "stream",
     "text": [
      "Please enter a valid path containing the climate and hotspot data\n"
     ]
    }
   ],
   "source": [
    "print(\"Please enter a valid path containing the climate and hotspot data\")\n",
    "os.chdir(input())"
   ]
  },
  {
   "cell_type": "markdown",
   "metadata": {},
   "source": [
    "## 3. Read Climate Data"
   ]
  },
  {
   "cell_type": "code",
   "execution_count": 9,
   "metadata": {},
   "outputs": [],
   "source": [
    "with open('./climate_streaming.csv') as file:\n",
    "    climate_stream = list(csv.reader(file))"
   ]
  },
  {
   "cell_type": "code",
   "execution_count": 10,
   "metadata": {},
   "outputs": [
    {
     "name": "stdout",
     "output_type": "stream",
     "text": [
      "For your convenience, please find an example JSON-formatted climate record below:\n",
      "{'air_temperature_celcius': '19',\n",
      " 'latitude': '-37.623',\n",
      " 'longitude': '149.323',\n",
      " 'max_wind_speed': '11.1',\n",
      " 'precipitation ': ' 0.00I',\n",
      " 'relative_humidity': '56.8',\n",
      " 'windspeed_knots': '7.9'}\n"
     ]
    }
   ],
   "source": [
    "print(\"For your convenience, please find an example JSON-formatted climate record below:\")\n",
    "pprint({\n",
    "    climate_stream[0][0]: climate_stream[1][0],\n",
    "    climate_stream[0][1]: climate_stream[1][1],\n",
    "    climate_stream[0][2]: climate_stream[1][2],\n",
    "    climate_stream[0][3]: climate_stream[1][3],\n",
    "    climate_stream[0][4]: climate_stream[1][4],\n",
    "    climate_stream[0][5]: climate_stream[1][5],\n",
    "    climate_stream[0][6]: climate_stream[1][6]\n",
    "})"
   ]
  },
  {
   "cell_type": "markdown",
   "metadata": {},
   "source": [
    "## 4. Instantiate Producer"
   ]
  },
  {
   "cell_type": "code",
   "execution_count": null,
   "metadata": {},
   "outputs": [],
   "source": [
    "def publish_message(producer_instance, topic_name, key, data):\n",
    "    \"\"\"\n",
    "    This publishing function encodes the data according to the provided `key` (here json-formatted) \n",
    "    and character encoding format (here utf-8).\n",
    "    \n",
    "    Then, the data are broadcast to the server with the provided `topic_name`.\n",
    "    \"\"\"\n",
    "    try:\n",
    "        key_bytes = bytes(key, encoding='utf-8')\n",
    "        producer_instance.send(topic_name, key = key_bytes, value=data)\n",
    "        producer_instance.flush()\n",
    "        print('Message published successfully.  ' + str(data))\n",
    "    except Exception as ex:\n",
    "        print('Exception in publishing message.')\n",
    "        print(\"Publish MEssage\",str(ex))        \n",
    "\n",
    "def connect_kafka_producer():\n",
    "    \"\"\"\n",
    "    Instantiates a producer on localhost.\n",
    "    \"\"\"\n",
    "    _producer = None\n",
    "    try:\n",
    "        _producer = KafkaProducer(bootstrap_servers=['localhost:9092'],\n",
    "                                  value_serializer = lambda x: json.dumps(x).encode('ascii'),\n",
    "                                  api_version=(0, 10))\n",
    "    except Exception as ex:\n",
    "        print('Exception while connecting Kafka.')\n",
    "        print(str(ex))\n",
    "    finally:\n",
    "        return _producer\n",
    "    \n",
    "if __name__ == '__main__':\n",
    "    # Set topic\n",
    "    topic = 'climate'\n",
    "    \n",
    "    print('Publishing records..')\n",
    "    # Connect the producer\n",
    "    producer = connect_kafka_producer()\n",
    "      \n",
    "    # JSON-format each randomly-selected record and push it to the stream\n",
    "    for i in random.sample(range(1, len(climate_stream)), len(climate_stream) - 1):\n",
    "        climate_stream_1 = dict()\n",
    "        climate_stream_1[\"Climate\"] = {}\n",
    "        climate_stream_1[\"Climate\"][\"latitude\"] = float(climate_stream[i][0])\n",
    "        climate_stream_1[\"Climate\"][\"longitude\"] = float(climate_stream[i][1])\n",
    "        climate_stream_1[\"Climate\"][\"air_temperature_celcius\"] = climate_stream[i][2]\n",
    "        climate_stream_1[\"Climate\"][\"relative_humidity\"] = climate_stream[i][3]\n",
    "        climate_stream_1[\"Climate\"][\"windspeed_knots\"] = climate_stream[i][4]\n",
    "        climate_stream_1[\"Climate\"][\"max_wind_speed\"] = climate_stream[i][5]\n",
    "        climate_stream_1[\"Climate\"][\"precipitation\"] = climate_stream[i][6]\n",
    "        climate_stream_1[\"Time_Stamp\"] = datetime.now().strftime('%Y-%m-%d %H:%M:%S')\n",
    "        climate_stream_1[\"sender_id\"] = \"climate_streamer\"\n",
    "        climate_stream_1[\"station\"] = \"climate_station\"\n",
    "        climate_stream_1['hotspot'] = []\n",
    "        climate_stream_1['geohash'] = gh.encode(climate_stream_1['Climate'][\"latitude\"], climate_stream_1['Climate'][\"longitude\"], precision = 5)\n",
    "        data = climate_stream_1\n",
    "        publish_message(producer, topic, 'jsondata', data)\n",
    "        \n",
    "        sleep(5)"
   ]
  }
 ],
 "metadata": {
  "kernelspec": {
   "display_name": "Python 3",
   "language": "python",
   "name": "python3"
  },
  "language_info": {
   "codemirror_mode": {
    "name": "ipython",
    "version": 3
   },
   "file_extension": ".py",
   "mimetype": "text/x-python",
   "name": "python",
   "nbconvert_exporter": "python",
   "pygments_lexer": "ipython3",
   "version": "3.7.1"
  }
 },
 "nbformat": 4,
 "nbformat_minor": 2
}
