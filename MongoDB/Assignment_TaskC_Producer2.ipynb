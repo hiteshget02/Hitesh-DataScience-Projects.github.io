{
 "cells": [
  {
   "cell_type": "markdown",
   "metadata": {},
   "source": [
    "# FIT5148 Assignment 2\n",
    "#### Task C1, Part b\n",
    "\n",
    "* Due: 24/05/2019\n",
    "* Tutor: Paras Sitoula, Wednesday 12-2pm\n",
    "<br>\n",
    "\n",
    "| Student 1 | Student 2|\n",
    "|-----------|----------|\n",
    "| Hitesh Get | Samuel Campbell |"
   ]
  },
  {
   "cell_type": "markdown",
   "metadata": {},
   "source": [
    "## 1. Import Necessary Modules"
   ]
  },
  {
   "cell_type": "code",
   "execution_count": 20,
   "metadata": {},
   "outputs": [],
   "source": [
    "import os\n",
    "import csv\n",
    "import random\n",
    "from time import sleep\n",
    "import json\n",
    "import geohash as gh\n",
    "from kafka import KafkaProducer\n",
    "import random\n",
    "from datetime import datetime\n",
    "from pprint import pprint"
   ]
  },
  {
   "cell_type": "markdown",
   "metadata": {},
   "source": [
    "## 2. Set Working Directory"
   ]
  },
  {
   "cell_type": "code",
   "execution_count": 21,
   "metadata": {},
   "outputs": [],
   "source": [
    "print(\"Please enter a valid path containing the climate and hotspot data\")\n",
    "os.chdir(input())"
   ]
  },
  {
   "cell_type": "markdown",
   "metadata": {},
   "source": [
    "## 3. Read Satellite Data"
   ]
  },
  {
   "cell_type": "code",
   "execution_count": 22,
   "metadata": {},
   "outputs": [],
   "source": [
    "with open('./hotspot_AQUA_streaming.csv') as file:\n",
    "    hotspot_aqua_stream = list(csv.reader(file))"
   ]
  },
  {
   "cell_type": "code",
   "execution_count": 36,
   "metadata": {},
   "outputs": [
    {
     "name": "stdout",
     "output_type": "stream",
     "text": [
      "For your convenience, please find an example JSON-formatted satellite record below:\n",
      "{'confidence': '51',\n",
      " 'latitude': '-37.623',\n",
      " 'longitude': '149.323',\n",
      " 'surface_temperature_celcius': '38'}\n"
     ]
    }
   ],
   "source": [
    "print(\"For your convenience, please find an example JSON-formatted satellite record below:\")\n",
    "pprint({\n",
    "    hotspot_aqua_stream[0][0]: hotspot_aqua_stream[1][0],\n",
    "    hotspot_aqua_stream[0][1]: hotspot_aqua_stream[1][1],\n",
    "    hotspot_aqua_stream[0][2]: hotspot_aqua_stream[1][2],\n",
    "    hotspot_aqua_stream[0][3]: hotspot_aqua_stream[1][3]\n",
    "})"
   ]
  },
  {
   "cell_type": "markdown",
   "metadata": {},
   "source": [
    "## 4. Instantiate Producer"
   ]
  },
  {
   "cell_type": "code",
   "execution_count": null,
   "metadata": {},
   "outputs": [],
   "source": [
    "def publish_message(producer_instance, topic_name, key, data):\n",
    "    \"\"\"\n",
    "    This publishing function encodes the data according to the provided `key` (here json-formatted) \n",
    "    and character encoding format (here utf-8).\n",
    "    \n",
    "    Then, the data are broadcast to the server with the provided `topic_name`.\n",
    "    \"\"\"\n",
    "    \n",
    "    try:\n",
    "        key_bytes = bytes(key, encoding='utf-8')\n",
    "        producer_instance.send(topic_name, key = key_bytes, value=data)\n",
    "        producer_instance.flush()\n",
    "        print('Message published successfully.  ' + str(data))\n",
    "    except Exception as ex:\n",
    "        print('Exception in publishing message.')\n",
    "        print(\"Publish MEssage\",str(ex))        \n",
    "\n",
    "def connect_kafka_producer():\n",
    "    \"\"\"\n",
    "    Instantiates a producer on localhost.\n",
    "    \"\"\"\n",
    "    \n",
    "    _producer = None\n",
    "    try:\n",
    "        _producer = KafkaProducer(bootstrap_servers=['localhost:9092'],\n",
    "                                  value_serializer = lambda x: json.dumps(x).encode('ascii'),\n",
    "                                  api_version=(0, 10))\n",
    "    except Exception as ex:\n",
    "        print('Exception while connecting Kafka.')\n",
    "        print(str(ex))\n",
    "    finally:\n",
    "        return _producer\n",
    "    \n",
    "if __name__ == '__main__':\n",
    "    # Set topic\n",
    "    topic = 'climate'\n",
    "    \n",
    "    print('Publishing records..')\n",
    "    # Connect the producer\n",
    "    producer = connect_kafka_producer()\n",
    "        \n",
    "    # JSON-format each randomly-selected record and push it to the stream\n",
    "    for i in random.sample(range(1, len(hotspot_aqua_stream)), len(hotspot_aqua_stream) - 1):\n",
    "        hotspot_aqua = dict()\n",
    "        hotspot_aqua[\"hotspot_aqua\"] = {}\n",
    "        hotspot_aqua[\"hotspot_aqua\"][\"latitude\"] = float(hotspot_aqua_stream[i][0])\n",
    "        hotspot_aqua[\"hotspot_aqua\"][\"longitude\"] = float(hotspot_aqua_stream[i][1])\n",
    "        hotspot_aqua[\"hotspot_aqua\"][\"confidence\"] = float(hotspot_aqua_stream[i][2])\n",
    "        hotspot_aqua[\"hotspot_aqua\"][\"surface_temperature_celcius\"] = float(hotspot_aqua_stream[i][3])\n",
    "        hotspot_aqua[\"Time_Stamp\"] = datetime.now().strftime('%Y-%m-%d %H:%M:%S')\n",
    "        hotspot_aqua[\"sender_id\"] = \"hotspot_streamer_aqua\"\n",
    "        hotspot_aqua['geohash'] = gh.encode(hotspot_aqua['hotspot_aqua'][\"latitude\"], hotspot_aqua['hotspot_aqua'][\"longitude\"], precision = 5)\n",
    "        data = hotspot_aqua\n",
    "        publish_message(producer, topic, 'jsondata', data)\n",
    "        \n",
    "        sleep(10)"
   ]
  }
 ],
 "metadata": {
  "kernelspec": {
   "display_name": "Python 3",
   "language": "python",
   "name": "python3"
  },
  "language_info": {
   "codemirror_mode": {
    "name": "ipython",
    "version": 3
   },
   "file_extension": ".py",
   "mimetype": "text/x-python",
   "name": "python",
   "nbconvert_exporter": "python",
   "pygments_lexer": "ipython3",
   "version": "3.7.1"
  }
 },
 "nbformat": 4,
 "nbformat_minor": 2
}
