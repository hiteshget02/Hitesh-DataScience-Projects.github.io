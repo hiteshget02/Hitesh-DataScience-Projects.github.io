{
 "cells": [
  {
   "cell_type": "markdown",
   "metadata": {},
   "source": [
    "# FIT5148 Assignment 2\n",
    "#### Task C1, Part c\n",
    "\n",
    "* Due: 24/05/2019\n",
    "* Tutor: Paras Sitoula, Wednesday 12-2pm\n",
    "<br>\n",
    "\n",
    "| Student 1 | Student 2|\n",
    "|-----------|----------|\n",
    "| Hitesh Get | Samuel Campbell |"
   ]
  },
  {
   "cell_type": "markdown",
   "metadata": {},
   "source": [
    "## 1. Import Necessary Modules"
   ]
  },
  {
   "cell_type": "code",
   "execution_count": 19,
   "metadata": {},
   "outputs": [],
   "source": [
    "import os\n",
    "import csv\n",
    "import random\n",
    "from time import sleep\n",
    "import json\n",
    "import geohash as gh\n",
    "from kafka import KafkaProducer\n",
    "import random\n",
    "from datetime import datetime\n",
    "from pprint import pprint"
   ]
  },
  {
   "cell_type": "markdown",
   "metadata": {},
   "source": [
    "## 2. Set Working Directory"
   ]
  },
  {
   "cell_type": "code",
   "execution_count": 20,
   "metadata": {},
   "outputs": [],
   "source": [
    "print(\"Please enter a valid path containing the climate and hotspot data\")\n",
    "os.chdir(input())"
   ]
  },
  {
   "cell_type": "markdown",
   "metadata": {},
   "source": [
    "## 3. Read Satellite Data"
   ]
  },
  {
   "cell_type": "code",
   "execution_count": 21,
   "metadata": {},
   "outputs": [],
   "source": [
    "with open('./hotspot_TERRA_streaming.csv') as file:\n",
    "    hotspot_terra_stream = list(csv.reader(file))"
   ]
  },
  {
   "cell_type": "code",
   "execution_count": 22,
   "metadata": {},
   "outputs": [
    {
     "name": "stdout",
     "output_type": "stream",
     "text": [
      "{'confidence': '78',\n",
      " 'latitude': '-37.966',\n",
      " 'longitude': '145.051',\n",
      " 'surface_temperature_celcius': '68'}\n"
     ]
    }
   ],
   "source": [
    "pprint({\n",
    "    hotspot_terra_stream[0][0]: hotspot_terra_stream[1][0],\n",
    "    hotspot_terra_stream[0][1]: hotspot_terra_stream[1][1],\n",
    "    hotspot_terra_stream[0][2]: hotspot_terra_stream[1][2],\n",
    "    hotspot_terra_stream[0][3]: hotspot_terra_stream[1][3]\n",
    "})"
   ]
  },
  {
   "cell_type": "markdown",
   "metadata": {},
   "source": [
    "## 4. Instantiate Producer"
   ]
  },
  {
   "cell_type": "code",
   "execution_count": null,
   "metadata": {},
   "outputs": [],
   "source": [
    "def publish_message(producer_instance, topic_name, key, data):\n",
    "    \"\"\"\n",
    "    This publishing function encodes the data according to the provided `key` (here json-formatted) \n",
    "    and character encoding format (here utf-8).\n",
    "    \n",
    "    Then, the data are broadcast to the server with the provided `topic_name`.\n",
    "    \"\"\"\n",
    "    try:\n",
    "        key_bytes = bytes(key, encoding='utf-8')\n",
    "        producer_instance.send(topic_name, key = key_bytes, value=data)\n",
    "        producer_instance.flush()\n",
    "        print('Message published successfully.  ' + str(data))\n",
    "    except Exception as ex:\n",
    "        print('Exception in publishing message.')\n",
    "        print(\"Publish MEssage\",str(ex))        \n",
    "\n",
    "def connect_kafka_producer():\n",
    "    _producer = None\n",
    "    try:\n",
    "        _producer = KafkaProducer(bootstrap_servers=['localhost:9092'],\n",
    "                                  value_serializer = lambda x: json.dumps(x).encode('ascii'),\n",
    "                                  api_version=(0, 10))\n",
    "    except Exception as ex:\n",
    "        print('Exception while connecting Kafka.')\n",
    "        print(str(ex))\n",
    "    finally:\n",
    "        return _producer\n",
    "    \n",
    "if __name__ == '__main__':\n",
    "    # Set topic   \n",
    "    topic = 'climate'\n",
    "    \n",
    "    print('Publishing records..')\n",
    "    # Connect the producer\n",
    "    producer = connect_kafka_producer()\n",
    "    \n",
    "    # JSON-format each randomly-selected record and push it to the stream\n",
    "    for i in random.sample(range(1, len(hotspot_terra_stream)), len(hotspot_terra_stream) - 1):\n",
    "        hotspot_terra = dict()\n",
    "        hotspot_terra[\"hotspot_terra\"] = {}\n",
    "        hotspot_terra[\"hotspot_terra\"][\"latitude\"] = float(hotspot_terra_stream[i][0])\n",
    "        hotspot_terra[\"hotspot_terra\"][\"longitude\"] = float(hotspot_terra_stream[i][1])\n",
    "        hotspot_terra[\"hotspot_terra\"][\"confidence\"] = float(hotspot_terra_stream[i][2])\n",
    "        hotspot_terra[\"hotspot_terra\"][\"surface_temperature_celcius\"] = float(hotspot_terra_stream[i][3])\n",
    "        hotspot_terra[\"Time_Stamp\"] = datetime.now().strftime('%Y-%m-%d %H:%M:%S')\n",
    "        hotspot_terra[\"sender_id\"] = \"hotspot_streamer_terra\"\n",
    "        hotspot_terra['geohash'] = gh.encode(hotspot_terra['hotspot_terra'][\"latitude\"], hotspot_terra['hotspot_terra'][\"longitude\"], precision = 5)\n",
    "        data = hotspot_terra\n",
    "        #print(data)\n",
    "        publish_message(producer, topic, 'jsondata', data)\n",
    "        \n",
    "        sleep(10)"
   ]
  }
 ],
 "metadata": {
  "kernelspec": {
   "display_name": "Python 3",
   "language": "python",
   "name": "python3"
  },
  "language_info": {
   "codemirror_mode": {
    "name": "ipython",
    "version": 3
   },
   "file_extension": ".py",
   "mimetype": "text/x-python",
   "name": "python",
   "nbconvert_exporter": "python",
   "pygments_lexer": "ipython3",
   "version": "3.7.1"
  }
 },
 "nbformat": 4,
 "nbformat_minor": 2
}
