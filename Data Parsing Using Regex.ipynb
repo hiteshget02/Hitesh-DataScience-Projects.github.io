{
 "cells": [
  {
   "cell_type": "markdown",
   "metadata": {},
   "source": [
    "# FIT5196 Assessment 1 - Task 1\n",
    "\n",
    "Date: 14/04/2019\n",
    "\n",
    "Version: 1.0\n",
    "\n",
    "Environment: Python 3.6.5 and Anaconda 4.4.10 (64-bit)\n",
    "\n",
    "Libraries used:\n",
    "* re 2.2.1 (for regular expression, included in Anaconda Python 3.6) \n",
    "* json 2.0.9 (for dumping the data in json format, included in Anaconda Python 3.6)\n",
    "\n",
    "## 0. Assumption\n",
    "The input file `29620163.txt` is in the current directory. \n",
    "\n",
    "\n",
    "## 1. Introduction\n",
    "This assignament needs the html data given to be parsed using regular expressions and dump the data into required json and xml format. The input data is in the file `29620163.txt` The required tasks are the following:\n",
    "\n",
    "1. Read the input file and split the entire data into list of units using Regular expression.\n",
    "2. For each unit chunk, use various regular expressions to extract the relavant information and store in a dictionary.\n",
    "3. Dump the dictionary formed in the json output file using the json package.\n",
    "4. Iterate over the dictionary to write the required output file. \n",
    "\n",
    "\n",
    "More details for each task will be given in the following sections."
   ]
  },
  {
   "cell_type": "markdown",
   "metadata": {},
   "source": [
    "## 2.  Import libraries "
   ]
  },
  {
   "cell_type": "code",
   "execution_count": 1,
   "metadata": {},
   "outputs": [],
   "source": [
    "import re\n",
    "import json"
   ]
  },
  {
   "cell_type": "markdown",
   "metadata": {},
   "source": [
    "## 3. Examining and loading data"
   ]
  },
  {
   "cell_type": "markdown",
   "metadata": {},
   "source": [
    "We read the file, and the first few characters are displayed."
   ]
  },
  {
   "cell_type": "code",
   "execution_count": 2,
   "metadata": {},
   "outputs": [
    {
     "data": {
      "text/plain": [
       "'<div class=\"content-inner__main\">\\n<!-- breadcrumbs -->\\n<nav class=\"breadcrumbs mobile-hidden\" id=\"breadcrumbs\">\\n<p class=\"visuallyhidden\" id=\"breadcrumb__label\">You are here:</p>\\n<ul aria-labelledby=\"breadcrumb__label\" class=\"breadcrumbs__list\">\\n<li class=\"breadcrumbs__item home\">\\n<a class=\"breadcrumbs__link\" href=\"https://www.monash.edu/\">Home</a>\\n<span aria-hidden=\"true\" class=\"breadcrumbs__divider\">|</span>\\n</li>\\n<li class=\"breadcrumbs__item\">\\n<a class=\"breadcrumbs__link\" href=\"https://www.monash.edu/study\">Study</a>\\n<span aria-hidden=\"true\" class=\"breadcrumbs__divider\">|</span>\\n</li>\\n<li class=\"breadcrumbs__item\">\\n<a class=\"breadcrumbs__link\" href=\"/pubs/2019handbooks/\">2019 Handbooks</a>\\n<span aria-hidden=\"true\" class=\"breadcrumbs__divider\">|</span>\\n</li>\\n<li class=\"breadcrumbs__item breadcrumbs__current\"><a class=\"breadcrumbs__link\" href=\"/pubs/2019handbooks/units\">Units</a></li>\\n</ul>\\n</nav>\\n<div class=\"hbk-banner-box\">\\n<h1 class=\"banner_ada\"><span class=\"unitcode\">DIS2907</span'"
      ]
     },
     "execution_count": 2,
     "metadata": {},
     "output_type": "execute_result"
    }
   ],
   "source": [
    "with open('29620163.txt', 'r') as testfile:\n",
    "    my_str = testfile.read()\n",
    "my_str[0:1000]"
   ]
  },
  {
   "cell_type": "markdown",
   "metadata": {},
   "source": [
    "Now, we first need to divide the entire text into chunks of units using a regular expression, which is as done below. \n",
    "Each unit tag starts with a pattern `<div class=\\\"content-inner__main\\\">` and ends with `<!-- \\/.content-inner__main --><\\/div>` and hence the below regex has been used with capturing groups to get all the units."
   ]
  },
  {
   "cell_type": "code",
   "execution_count": 3,
   "metadata": {},
   "outputs": [
    {
     "name": "stdout",
     "output_type": "stream",
     "text": [
      "Number of units found are:  400\n"
     ]
    }
   ],
   "source": [
    "units = re.findall(\"<div class=\\\"content-inner__main\\\">((.|\\n)*?)<!-- \\/.content-inner__main --><\\/div>\", my_str)\n",
    "print(\"Number of units found are: \",len(units))"
   ]
  },
  {
   "cell_type": "markdown",
   "metadata": {},
   "source": [
    "Lets have a look at the first element of the list."
   ]
  },
  {
   "cell_type": "code",
   "execution_count": 4,
   "metadata": {},
   "outputs": [
    {
     "data": {
      "text/plain": [
       "('\\n<!-- breadcrumbs -->\\n<nav class=\"breadcrumbs mobile-hidden\" id=\"breadcrumbs\">\\n<p class=\"visuallyhidden\" id=\"breadcrumb__label\">You are here:</p>\\n<ul aria-labelledby=\"breadcrumb__label\" class=\"breadcrumbs__list\">\\n<li class=\"breadcrumbs__item home\">\\n<a class=\"breadcrumbs__link\" href=\"https://www.monash.edu/\">Home</a>\\n<span aria-hidden=\"true\" class=\"breadcrumbs__divider\">|</span>\\n</li>\\n<li class=\"breadcrumbs__item\">\\n<a class=\"breadcrumbs__link\" href=\"https://www.monash.edu/study\">Study</a>\\n<span aria-hidden=\"true\" class=\"breadcrumbs__divider\">|</span>\\n</li>\\n<li class=\"breadcrumbs__item\">\\n<a class=\"breadcrumbs__link\" href=\"/pubs/2019handbooks/\">2019 Handbooks</a>\\n<span aria-hidden=\"true\" class=\"breadcrumbs__divider\">|</span>\\n</li>\\n<li class=\"breadcrumbs__item breadcrumbs__current\"><a class=\"breadcrumbs__link\" href=\"/pubs/2019handbooks/units\">Units</a></li>\\n</ul>\\n</nav>\\n<div class=\"hbk-banner-box\">\\n<h1 class=\"banner_ada\"><span class=\"unitcode\">DIS2907</span> - 3D animation<span class=\"hbk-archive-only\"> - 2019</span></h1>\\n</div>\\n<div id=\"content_container_\">\\n<h2 class=\"hbk-eftsl\">6 points, SCA Band 1, 0.125 EFTSL</h2>\\n<div class=\"hbk-unit-info-box\" id=\"box-DIS2907\">\\n<h2 class=\"hbk-unit-info-box__heading heading_ada\">Undergraduate - Unit</h2>\\n<p class=\"hbk-highlight-value\">Refer to the specific\\n         <a href=\"http://monash.edu/enrolments/dates/census.html\">census and withdrawal dates</a>\\n         for the semester(s) in which this unit is offered.</p>\\n<p class=\"hbk-highlight-heading\">Faculty</p>\\n<p class=\"hbk-highlight-value\"><a href=\"index-byfaculty-ada.html\">Art, Design and Architecture</a></p>\\n<p class=\"hbk-highlight-heading\">Organisational Unit</p>\\n<p class=\"hbk-highlight-value\"><a href=\"index-byou-department-of-design.html\">Department of Design</a></p>\\n<p class=\"hbk-highlight-heading\">Chief examiner(s)</p>\\n<p>\\n<a href=\"http://staffsearch.monash.edu/?name=Trinh Vu\">Dr Trinh Vu</a>\\n<br/>\\n</p>\\n<p class=\"hbk-highlight-heading\">Coordinator(s)</p>\\n<p>\\n<a href=\"http://staffsearch.monash.edu/?name=Trinh Vu\">Dr Trinh Vu</a>\\n<br/>\\n</p>\\n</div>\\n<div class=\"hbk-preamble \" id=\"preamble-DIS2907\">\\n<div class=\"hbk-preamble-entry\">\\n<div class=\"hbk-preamble-icon hbk-preamble-icon_mode\"></div>\\n<p>Not offered in 2019</p>\\n</div>\\n<div class=\"hbk-preamble-entry\">\\n<p class=\"hbk-preamble-heading\">Prerequisites</p>\\n<p><span class=\"unitlink\"><a href=\"/pubs/2019handbooks/units/DIS1911.html\">DIS1911</a></span> and <span class=\"unitlink\"><a href=\"/pubs/2019handbooks/units/OHS1000.html\">OHS1000</a></span></p>\\n</div>\\n</div>\\n<h2 class=\"hbk-heading\">Synopsis</h2>\\n<div>\\n<p>This unit introduces students to time-based imaging for 3D design and imaging. It develops sequentially upon the skills and knowledge of 3D imaging by providing a focus upon advanced asset creation and animation. Students are introduced to the range of options and controls available through 3D imaging and modeling software applications, towards skillfully creating, manipulating and animating 3D objects, manipulating camera properties and viewer perspectives. Demonstrations and lectures are given on conceiving, designing and producing animation sequences for inclusion into multimedia presentations with consideration for delivery methods and the merits of different media types and formats.</p>\\n</div>\\n<h2 class=\"hbk-heading\">Outcomes</h2>\\n<div>\\n<p>Upon successful completion of this unit students will be able to:</p>\\n<ol princestart=\"0\" start=\"1\" type=\"1\">\\n<li>Design and develop defined 3D models with application for animation;</li>\\n<li>Skilfully create and manipulate 3D objects within a changing environment utilising light and atmospheric conditions;</li>\\n<li>Explore the range of options and controls available through 3D imaging and modeling software applications;</li>\\n<li>Experiment with surface qualities to enhance the 3D appearance of the created object;</li>\\n<li>Understand and manipulate camera properties and viewer perspectives;</li>\\n<li>Prepare animation sequences for inclusion into multimedia presentations with consideration for delivery methods and the merits of media types and formats;</li>\\n<li>Understand and be able to apply the rules of occupational health and safety appropriate to the unit of study.</li>\\n</ol>\\n</div>\\n<h2 class=\"hbk-heading\">Assessment</h2>\\n<div>\\n<p>Exercises (30%)</p>\\n<p>Project (60%)</p>\\n<p>Journal (10%)</p>\\n</div>\\n<h2 class=\"hbk-heading\">Workload requirements</h2>\\n<div>\\n<p>12 hours per week including a 1-hour lecture plus 2 tutorial hours and 9 hours of independent study.</p><p>See also <a href=\"http://www.monash.edu.au/timetables/\">Unit timetable information</a></p>\\n</div>\\n<!-- /.content_container--> </div>\\n',\n",
       " '\\n')"
      ]
     },
     "execution_count": 4,
     "metadata": {},
     "output_type": "execute_result"
    }
   ],
   "source": [
    "units[0]"
   ]
  },
  {
   "cell_type": "markdown",
   "metadata": {},
   "source": [
    "We have received a list of tuples from the regex for each unit. We convert it to a list of strings by using the below code. "
   ]
  },
  {
   "cell_type": "code",
   "execution_count": 5,
   "metadata": {},
   "outputs": [],
   "source": [
    "units_new = [str(x) for x in units]"
   ]
  },
  {
   "cell_type": "markdown",
   "metadata": {},
   "source": [
    "## 4. Extract useful information from units"
   ]
  },
  {
   "cell_type": "markdown",
   "metadata": {},
   "source": [
    "Now, the data that would be captured from each unit will be stored in a dictionary. The whole process of the assignment revolves around the dictionary being generated correctly so that it can be dumped into json and xml in the required format. \n",
    "We initialise the dictionary in the below way."
   ]
  },
  {
   "cell_type": "code",
   "execution_count": 6,
   "metadata": {},
   "outputs": [],
   "source": [
    "unit_guide = {'units': {'unit': []}}"
   ]
  },
  {
   "cell_type": "markdown",
   "metadata": {},
   "source": [
    "We define the below utility functions to help in extracting the relavant functions. Comments have been provided in the functions below to explain the functionality.\n",
    "\n",
    "Note: There are some units in the data, that are of length 8, they have been included in the data and the regex is shown below for them. "
   ]
  },
  {
   "cell_type": "code",
   "execution_count": 7,
   "metadata": {},
   "outputs": [],
   "source": [
    "# Below is a utility function which converts a list of tuples to a list of strings.\n",
    "# Parameter: list_tuples - list of tuples\n",
    "# Returns: list of strings\n",
    "def convert_to_list(list_tuples):\n",
    "    return ([str(x) for x in list_tuples])\n",
    "\n",
    "\n",
    "# Below is a function which extracts the line that contains unit code and \n",
    "# title details from the passed string .\n",
    "# Parameter: test_str - string to search\n",
    "# Returns: string: matched unit line\n",
    "def match_unit_line(test_str):\n",
    "    rexpr = \"span class=\\\"unitcode\\\">((.|\\n)*?)<\\/h1>\"\n",
    "    matchobj = re.findall(rexpr, test_str)\n",
    "    return str(convert_to_list(matchobj))\n",
    "\n",
    "\n",
    "# Below is a function which extracts the unit code from the passed string.\n",
    "# Parameter: test_str - string to search\n",
    "# Returns: string: matched unit code\n",
    "def match_unit_code(test_str):\n",
    "    rexpr = \"[A-Z]{3}[0-9]{4}|[A-Z]{4}[0-9]{4}\"\n",
    "    matchobj = re.findall(rexpr, test_str)\n",
    "    return set(matchobj)\n",
    "\n",
    "\n",
    "# Below is a function which extracts the unit title from the passed string.\n",
    "# Parameter: test_str - string to search\n",
    "# Returns: string: matched unit title\n",
    "def match_unit_title(test_str):\n",
    "    rexpr = \"(?:[A-Z]{3}[0-9]{4}|[A-Z]{4}[0-9]{4})\\<\\/span> \\- (.*)<span class=\\\"hbk-archive-only\\\">\"\n",
    "    matchobj = str(re.findall(rexpr, test_str)).strip('[]\\'')\n",
    "    return matchobj\n",
    "\n",
    "\n",
    "# Below is a function which extracts the synopsis from the passed string.\n",
    "# Parameter: test_str - string to search\n",
    "# Returns: string: matched synopsis\n",
    "def match_synopsis(test_str):\n",
    "    rexpr = \"<h2 class=\\\"hbk-heading\\\">Synopsis<\\/h2>((.|\\n)*?)<\\/div>\"\n",
    "    matchobj = str(convert_to_list(re.findall(rexpr, test_str)))    \n",
    "    rexpr = \"<p>(.*?)<\\/p>\"\n",
    "    req = re.findall(rexpr, matchobj)\n",
    "    if(len(req) != 0):\n",
    "        req = str(req[0]).strip('[]\\'')\n",
    "        req = re.sub('(\\<.*?\\>)', ' ', req)\n",
    "    else:\n",
    "        req = \"\"\n",
    "    return req\n",
    "\n",
    "\n",
    "# Below is a function which extracts the Prerequisites from the passed string.\n",
    "# Parameter: test_str - string to search\n",
    "# Returns: string: matched Prerequisites\n",
    "def match_pre_req(test_str):\n",
    "    rexpr = \"<p class=\\\"hbk-preamble-heading\\\">Prerequisites<\\/p>((.|\\n)*?)<\\/p>\"\n",
    "    matchobj = str(convert_to_list(re.findall(rexpr, test_str)))\n",
    "    rexpr = \"<p class=\\\"hbk-preamble-heading\\\">Co-requisites<\\/p>((.|\\n)*?)<\\/p>\"\n",
    "    matchobj = matchobj + str(convert_to_list(re.findall(rexpr, test_str)))\n",
    "    unit_codes = list(match_unit_code(matchobj))\n",
    "    #print(unit_codes)\n",
    "    return unit_codes\n",
    "\n",
    "\n",
    "# Below is a function which extracts the Prohibitions from the passed string.\n",
    "# Parameter: test_str - string to search\n",
    "# Returns: string: matched Prohibitions\n",
    "def match_prohibitions(test_str):\n",
    "    rexpr = \"<p class=\\\"hbk-preamble-heading\\\">Prohibitions<\\/p>((.|\\n)*?)<\\/p>\"\n",
    "    matchobj = str(convert_to_list(re.findall(rexpr, test_str)))\n",
    "    unit_codes = list(match_unit_code(matchobj))\n",
    "    return unit_codes\n",
    "\n",
    "\n",
    "# Below is a function which extracts the Requirements from the passed string.\n",
    "# Parameter: test_str - string to search\n",
    "# Returns: string: matched Requirements\n",
    "def match_requirements(test_str):\n",
    "    rexpr = \"<h2 class=\\\"hbk-heading\\\">Assessment<\\/h2>((.|\\n)*?)<\\/div>\"\n",
    "    matchobj = str(convert_to_list(re.findall(rexpr, test_str)))\n",
    "    rexpr = \"<p>(.*?)<\\/p>\"\n",
    "    req = list(re.findall(rexpr, matchobj))\n",
    "    return req\n",
    "\n",
    "\n",
    "# Below is a function which extracts the Outcomes from the passed string.\n",
    "# Parameter: test_str - string to search\n",
    "# Returns: string: matched Outcomes\n",
    "def match_outcomes(test_str):\n",
    "    rexpr = \"<h2 class=\\\"hbk-heading\\\">Outcomes<\\/h2>((.|\\n)*?)<\\/div>\"\n",
    "    matchobj = str(convert_to_list(re.findall(rexpr, test_str)))\n",
    "    rexpr = \"<li>(.*?)<\\/li>\"\n",
    "    out = re.findall(rexpr, matchobj)\n",
    "    return out\n",
    "\n",
    "\n",
    "# Below is a function which extracts the Chief Examiners from the passed string.\n",
    "# Parameter: test_str - string to search\n",
    "# Returns: string: matched Chief Examiners\n",
    "def match_ce(test_str):\n",
    "    rexpr = \"<p class=\\\"hbk-highlight-heading\\\">Chief examiner\\(s\\)<\\/p>((.|\\n)*?)<\\/p>\"\n",
    "    matchobj = str(convert_to_list(re.findall(rexpr, test_str)))\n",
    "    rexpr = \"\\\">(.*?)<\\/a>\"\n",
    "    ce = list(re.findall(rexpr, matchobj))\n",
    "    return ce\n",
    "\n",
    "\n",
    "# Below is a function is to remove unwanted characters from the passed string.\n",
    "# Parameter: test_str - string to change\n",
    "# Returns: string: updated string\n",
    "def remove_extra_chars(temp_str):\n",
    "    temp_str = re.sub(r'[\\\\\\']+', '\\'',temp_str)\n",
    "    temp_str = re.sub('<span.*?html\\\\\\\">', '',temp_str)\n",
    "    temp_str = re.sub('<a class.*?html\\\\\\\">', '',temp_str)\n",
    "    temp_str = re.sub('&gt;', '>',temp_str)\n",
    "    temp_str = re.sub('(\\<.*?\\>)', ' ', temp_str)\n",
    "    temp_str = re.sub('<p>|<\\/p>|<ul>|<li>|<\\/ul>|<\\/li>|<\\/a>|<\\/span>', '',temp_str)\n",
    "    return temp_str"
   ]
  },
  {
   "cell_type": "markdown",
   "metadata": {},
   "source": [
    "Now we need to iterate over the list of unit chunks that we had created and use the above functions to extract the relavant information. Each unit would be stored in a dictionary and then it would be appended to the main dictionary variable which was created above i.e. `unit_guide`"
   ]
  },
  {
   "cell_type": "code",
   "execution_count": 8,
   "metadata": {},
   "outputs": [],
   "source": [
    "for unit in units_new:\n",
    "    # This is the dictionary for each unit and intialised as below. \n",
    "    unit_dict = {\"@id\": \"\", \"title\": \"\", \"synopsis\": \"\", \"pre_requistics\": \"\", \n",
    "                \"prohibisions\": \"\", \"requirements\": \"\", \"outcomes\": {\"outcome\": []},\n",
    "                \"chief_examiners\": \"\"}\n",
    "    \n",
    "    # Match the unit line. \n",
    "    unit_line = match_unit_line(unit)\n",
    "    \n",
    "    # Extract the unit code from the matched unit line.\n",
    "    unit_code = str(match_unit_code(unit_line)).strip('{}\\'')\n",
    "    unit_dict[\"@id\"] = unit_code\n",
    "\n",
    "    # Extract the unit title from the matched unit line.\n",
    "    unit_title = match_unit_title(unit_line)\n",
    "    unit_dict[\"title\"] = unit_title\n",
    "    \n",
    "    # Extract the synopsis from the unit chunk.\n",
    "    synopsis = match_synopsis(unit)\n",
    "    if(synopsis.strip() != \"\"):\n",
    "        synopsis = remove_extra_chars(synopsis)\n",
    "    unit_dict[\"synopsis\"] = synopsis\n",
    "    \n",
    "    # Extract the Prerequisites from the unit chunk.\n",
    "    pre_req = match_pre_req(unit)\n",
    "    if(len(pre_req) == 0):\n",
    "        unit_dict[\"pre_requistics\"] = \"NA\"\n",
    "    elif(len(pre_req) == 1):\n",
    "        unit_dict[\"pre_requistics\"] = {\"pre_requistic\": pre_req[0]}\n",
    "    else:\n",
    "        unit_dict[\"pre_requistics\"] = {\"pre_requistic\": pre_req}\n",
    "    \n",
    "    # Extract the Prohibitions from the unit chunk.\n",
    "    prohib = match_prohibitions(unit)\n",
    "    if(len(prohib) == 0):\n",
    "        unit_dict[\"prohibisions\"] = \"NA\"\n",
    "    elif(len(prohib) == 1):\n",
    "        unit_dict[\"prohibisions\"] = {\"prohibision\": prohib[0]}\n",
    "    else:\n",
    "        unit_dict[\"prohibisions\"] = {\"prohibision\": prohib}\n",
    "    \n",
    "    # Extract the Requirements from the unit chunk.\n",
    "    req = match_requirements(unit)\n",
    "    req = list(map(remove_extra_chars, req))\n",
    "    if(len(req) == 0):\n",
    "        unit_dict[\"requirements\"] = \"NA\"\n",
    "    elif(len(req) == 1):\n",
    "        unit_dict[\"requirements\"] = {\"requirement\": req[0]}\n",
    "    else:\n",
    "        unit_dict[\"requirements\"] = {\"requirement\": req}\n",
    "    \n",
    "    # Extract the Outcomes from the unit chunk.\n",
    "    outcomes = match_outcomes(unit)\n",
    "    outcomes = list(map(remove_extra_chars, outcomes))\n",
    "    unit_dict[\"outcomes\"][\"outcome\"] = outcomes\n",
    "    \n",
    "    # Extract the Chief Examiners from the unit chunk.\n",
    "    ce = match_ce(unit)\n",
    "    ce = list(map(remove_extra_chars, ce))\n",
    "    if(len(ce) == 0):\n",
    "        unit_dict[\"chief_examiners\"] = \"TBA\"\n",
    "    elif(len(ce) == 1):\n",
    "        unit_dict[\"chief_examiners\"] = {\"chief_examiner\": ce[0]}\n",
    "    else:\n",
    "        unit_dict[\"chief_examiners\"] = {\"chief_examiner\": ce}\n",
    "        \n",
    "    # In the end, append the unit to the main dictionary and continue with the next chunk.\n",
    "    unit_guide[\"units\"][\"unit\"].append(unit_dict)\n",
    "    "
   ]
  },
  {
   "cell_type": "markdown",
   "metadata": {},
   "source": [
    "Below we check the number of units that were captured in the dictionary. "
   ]
  },
  {
   "cell_type": "code",
   "execution_count": 9,
   "metadata": {},
   "outputs": [
    {
     "name": "stdout",
     "output_type": "stream",
     "text": [
      "Number of units in dictionary:  400\n"
     ]
    }
   ],
   "source": [
    "print(\"Number of units in dictionary: \",len(unit_guide['units']['unit']))"
   ]
  },
  {
   "cell_type": "markdown",
   "metadata": {},
   "source": [
    "Lets have a look at the first unit as how it looks like in the clean form in the dictionary. "
   ]
  },
  {
   "cell_type": "code",
   "execution_count": 10,
   "metadata": {},
   "outputs": [
    {
     "name": "stdout",
     "output_type": "stream",
     "text": [
      "{'@id': 'DIS2907', 'title': '3D animation', 'synopsis': 'This unit introduces students to time-based imaging for 3D design and imaging. It develops sequentially upon the skills and knowledge of 3D imaging by providing a focus upon advanced asset creation and animation. Students are introduced to the range of options and controls available through 3D imaging and modeling software applications, towards skillfully creating, manipulating and animating 3D objects, manipulating camera properties and viewer perspectives. Demonstrations and lectures are given on conceiving, designing and producing animation sequences for inclusion into multimedia presentations with consideration for delivery methods and the merits of different media types and formats.', 'pre_requistics': {'pre_requistic': ['DIS1911', 'OHS1000']}, 'prohibisions': 'NA', 'requirements': {'requirement': ['Exercises (30%)', 'Project (60%)', 'Journal (10%)']}, 'outcomes': {'outcome': ['Design and develop defined 3D models with application for animation;', 'Skilfully create and manipulate 3D objects within a changing environment utilising light and atmospheric conditions;', 'Explore the range of options and controls available through 3D imaging and modeling software applications;', 'Experiment with surface qualities to enhance the 3D appearance of the created object;', 'Understand and manipulate camera properties and viewer perspectives;', 'Prepare animation sequences for inclusion into multimedia presentations with consideration for delivery methods and the merits of media types and formats;', 'Understand and be able to apply the rules of occupational health and safety appropriate to the unit of study.']}, 'chief_examiners': {'chief_examiner': 'Dr Trinh Vu'}}\n"
     ]
    }
   ],
   "source": [
    "print(unit_guide['units']['unit'][0])"
   ]
  },
  {
   "cell_type": "markdown",
   "metadata": {},
   "source": [
    "## 5. Dump to json"
   ]
  },
  {
   "cell_type": "markdown",
   "metadata": {},
   "source": [
    "Once we have the dictionary ready, to create the json file we can use the json package as below with an indent of 5 to be in sync with the test data that was given. "
   ]
  },
  {
   "cell_type": "code",
   "execution_count": 11,
   "metadata": {},
   "outputs": [],
   "source": [
    "with open('29620163.json', 'w') as outfile:  \n",
    "    json.dump(unit_guide, outfile, indent=5)"
   ]
  },
  {
   "cell_type": "markdown",
   "metadata": {},
   "source": [
    "With this, the json file is generated and stored as needed."
   ]
  },
  {
   "cell_type": "markdown",
   "metadata": {},
   "source": [
    "We can use the below code to verify that the json generated is getting parsed properly. "
   ]
  },
  {
   "cell_type": "code",
   "execution_count": 12,
   "metadata": {},
   "outputs": [
    {
     "name": "stdout",
     "output_type": "stream",
     "text": [
      "Number of units in json file:  400\n"
     ]
    }
   ],
   "source": [
    "with open('29620163.json') as f:\n",
    "    data = json.load(f)\n",
    "print(\"Number of units in json file: \",len(data['units']['unit']))"
   ]
  },
  {
   "cell_type": "markdown",
   "metadata": {},
   "source": [
    "## 6. Dump to xml"
   ]
  },
  {
   "cell_type": "markdown",
   "metadata": {},
   "source": [
    "Below function is created to reuse and dump all the tags as needed in the xml file."
   ]
  },
  {
   "cell_type": "code",
   "execution_count": 13,
   "metadata": {},
   "outputs": [],
   "source": [
    "# Function to format based on the tags and return the combined string to be written to file.\n",
    "# Parameter: unit - dictionary containing the unid data\n",
    "#            main_tag: the main tag of the xml\n",
    "#            sub_tag: the nested tag of the main tag\n",
    "# Returns: output: combined string to written to file\n",
    "def write_data_xml(unit, main_tag, sub_tag):\n",
    "    output = \"\"\n",
    "    output += \"<\" + main_tag + \">\"\n",
    "    if(unit[main_tag] == \"NA\"):\n",
    "        output += \" NA \"\n",
    "    elif(unit[main_tag] == \"TBA\"):\n",
    "        output += \" TBA \"\n",
    "    else:\n",
    "        if(isinstance(unit[main_tag][sub_tag], str)):\n",
    "                output += \"\\n\"\n",
    "                output += \"<\" + sub_tag + \">\" + unit[main_tag][sub_tag] + \"<\" + \"/\" + sub_tag + \">\"\n",
    "        else:\n",
    "            output += \"\\n\"\n",
    "            for item in unit[main_tag][sub_tag]:\n",
    "                output += \"<\" + sub_tag + \">\"  + item + \"<\" + \"/\" + sub_tag + \">\"\n",
    "    output += \"</\" + main_tag + \">\\n\"\n",
    "    \n",
    "    # The below substitution is done, because '&' symbol is a special character for xml.\n",
    "    output = re.sub('&', '&#38;', output, re.M)\n",
    "    \n",
    "    return output"
   ]
  },
  {
   "cell_type": "markdown",
   "metadata": {},
   "source": [
    "Now, we need to open the output file, and iterate over the abpve created dictionary and keep dumping the items into the file. The below code does that."
   ]
  },
  {
   "cell_type": "code",
   "execution_count": 14,
   "metadata": {},
   "outputs": [],
   "source": [
    "with open('29620163.xml', 'w') as outfile:\n",
    "    outfile.write(\"<?xml version=\\\"1.0\\\" encoding=\\\"UTF-8\\\" ?>\\n\")\n",
    "    outfile.write(\"<units>\\n\")\n",
    "    for key, val in unit_guide.items():\n",
    "        units = val['unit']\n",
    "        for unit in units:\n",
    "            outfile.write(\"<unit id='\"+unit[\"@id\"] +\"'>\\n\")\n",
    "            \n",
    "            outfile.write(\"<title> \"+unit[\"title\"] +\"</title>\\n\")\n",
    "            \n",
    "            outfile.write(\"<synopsis> \"+unit[\"synopsis\"] +\"</synopsis>\\n\")\n",
    "            \n",
    "            outfile.write(write_data_xml(unit, \"pre_requistics\", \"pre_requistic\"))\n",
    "            \n",
    "            outfile.write(write_data_xml(unit, \"prohibisions\", \"prohibision\"))\n",
    "\n",
    "            outfile.write(write_data_xml(unit, \"requirements\", \"requirement\"))\n",
    "            \n",
    "            outfile.write(write_data_xml(unit, \"outcomes\", \"outcome\"))\n",
    "            \n",
    "            outfile.write(write_data_xml(unit, \"chief_examiners\", \"chief_examiner\"))\n",
    "            \n",
    "            outfile.write(\"</unit>\\n\")\n",
    "            \n",
    "    outfile.write(\"</units>\\n\")"
   ]
  },
  {
   "cell_type": "markdown",
   "metadata": {},
   "source": [
    "With this, we have created the needed xml file as well. "
   ]
  },
  {
   "cell_type": "markdown",
   "metadata": {},
   "source": [
    "We can verify that the generated xml file can be parsed properly, we can use the below code. Since it uses an external library, the code has been commented so as to not violate any conditions of this assessment. "
   ]
  },
  {
   "cell_type": "code",
   "execution_count": 15,
   "metadata": {},
   "outputs": [],
   "source": [
    "# import xml.etree.ElementTree as ET\n",
    "# root = ET.parse('29620163.xml').getroot()\n",
    "# print(\"Number of units in xml file: \",len(root))"
   ]
  },
  {
   "cell_type": "markdown",
   "metadata": {},
   "source": [
    "## 7. Summary\n",
    "This assessment measured the data extraction capabilities using Python. Starting from reading the raw text, first the unit chunks are extracted using Regular Expression. Then using various other regex all the relavant information is pulled out. \n",
    "To dump the data to json file, json library comes in very handy.\n",
    "To dump the data to xml file, there are external libraries available which can be used but it has been done by iterating over the data and manually writing it to the file. \n",
    "Now, the parsed and structured data can be used by anyone to do some kind of text analytics or for any other relavant application."
   ]
  },
  {
   "cell_type": "markdown",
   "metadata": {},
   "source": [
    "## 7. Observations\n",
    "* There is spelling mistake in the Prerequisites tags. THey are misspelled as 'pre_requistics' and 'pre_requistic', which can be corrected.\n",
    "* In the sample xml file give, at a few places there are unnecessary new lines. \n",
    "* In the Synopsis section, at few places there are multiple paragraphs, but only the first one has been extracted based on the test file provided."
   ]
  },
  {
   "cell_type": "markdown",
   "metadata": {},
   "source": [
    "## 8. References\n",
    "- Website to verify Regular Expressions https://regex101.com/\n",
    "- Monash Moodle for FIT5196 https://lms.monash.edu/course/view.php?id=50799\n",
    "- Python JSON https://www.w3schools.com/python/python_json.asp"
   ]
  },
  {
   "cell_type": "code",
   "execution_count": null,
   "metadata": {},
   "outputs": [],
   "source": []
  }
 ],
 "metadata": {
  "kernelspec": {
   "display_name": "Python 3",
   "language": "python",
   "name": "python3"
  },
  "language_info": {
   "codemirror_mode": {
    "name": "ipython",
    "version": 3
   },
   "file_extension": ".py",
   "mimetype": "text/x-python",
   "name": "python",
   "nbconvert_exporter": "python",
   "pygments_lexer": "ipython3",
   "version": "3.7.4"
  }
 },
 "nbformat": 4,
 "nbformat_minor": 2
}
