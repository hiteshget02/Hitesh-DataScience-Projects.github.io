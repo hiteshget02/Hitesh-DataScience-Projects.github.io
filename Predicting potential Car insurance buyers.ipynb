{
 "cells": [
  {
   "cell_type": "markdown",
   "metadata": {},
   "source": [
    "# FIT5149 S1 2019 Assessment 1: Choosing and Explaining Likely Caravan Insurance Customers\n",
    "\n",
    "\n",
    "Programming Language: R 3.5.3 in Jupyter Notebook\n",
    "\n",
    "R Libraries used:\n",
    "- ggplot2\n",
    "- MASS\n",
    "- PRROC\n",
    "- ROSE\n",
    "- randomForest\n",
    "- glmnet\n",
    "- lattice"
   ]
  },
  {
   "cell_type": "markdown",
   "metadata": {},
   "source": [
    "## Table of Contents\n",
    "\n",
    "* [Introduction](#sec_1)\n",
    "* [Data Exploration](#sec_2)\n",
    "* [Model Development](#sec_3)\n",
    "* [Model Comparison](#sec_4)\n",
    "* [Variable Identification and Explanation](#sec_5)\n",
    "* [Conclusion](#sec_6)\n",
    "* [References](#sec_7)"
   ]
  },
  {
   "cell_type": "markdown",
   "metadata": {},
   "source": [
    "## 1. Introduction <a class=\"anchor\" id=\"sec_1\"></a>"
   ]
  },
  {
   "cell_type": "markdown",
   "metadata": {},
   "source": [
    "The dataset given in the problem is from a Car Insurance policy company. This data specifically is about the people who bought or dint buy a Caravan insurance policy. Each person has 85 different attributes, which are explored further in the below sections, which describe a person and whether the person bought the policy or not. "
   ]
  },
  {
   "cell_type": "markdown",
   "metadata": {},
   "source": [
    "The dataset contains 3 files as described below:\n",
    "* TICDATA2000.txt : This contains the training data for 5822 customers, and each row has 86 columns, wherein the 86th column is a boolean representing whether the person bought the policy or not. This data will be used to train the model. \n",
    "\n",
    "* TICEVAL2000.txt : This is the validation dataset for 4000 customers, containing 85 columns. This would be used to evaluate the performance of the models built. \n",
    "\n",
    "* TICTGTS2000.txt : This data contains the true labels for the validation dataset and will be used to measure the performance of the model. \n"
   ]
  },
  {
   "cell_type": "markdown",
   "metadata": {},
   "source": [
    "The task is to explore the attributes about the customers, and identify the patterns to identify the customers better for a good marketting strategy. A prediction also has to be made on the validation dataset and pick the top 800 customers based on the probabilities and check how many actually bought out of the set. This in Machine Learning terms can be understood as calculating recall for top 800 customers. "
   ]
  },
  {
   "cell_type": "markdown",
   "metadata": {},
   "source": [
    "We would be needing the below libraries for the code written. Lets import them first. "
   ]
  },
  {
   "cell_type": "code",
   "execution_count": 1,
   "metadata": {},
   "outputs": [
    {
     "name": "stderr",
     "output_type": "stream",
     "text": [
      "Warning message:\n",
      "\"package 'ggplot2' was built under R version 3.5.2\"Warning message:\n",
      "\"package 'MASS' was built under R version 3.5.3\"Warning message:\n",
      "\"package 'PRROC' was built under R version 3.5.3\"Warning message:\n",
      "\"package 'ROSE' was built under R version 3.5.3\"Loaded ROSE 0.0-3\n",
      "\n",
      "\n",
      "Attaching package: 'ROSE'\n",
      "\n",
      "The following object is masked from 'package:PRROC':\n",
      "\n",
      "    roc.curve\n",
      "\n",
      "Warning message:\n",
      "\"package 'randomForest' was built under R version 3.5.3\"randomForest 4.6-14\n",
      "Type rfNews() to see new features/changes/bug fixes.\n",
      "\n",
      "Attaching package: 'randomForest'\n",
      "\n",
      "The following object is masked from 'package:ggplot2':\n",
      "\n",
      "    margin\n",
      "\n",
      "Warning message:\n",
      "\"package 'glmnet' was built under R version 3.5.3\"Loading required package: Matrix\n",
      "Loading required package: foreach\n",
      "Warning message:\n",
      "\"package 'foreach' was built under R version 3.5.3\"Loaded glmnet 2.0-16\n",
      "\n"
     ]
    }
   ],
   "source": [
    "library(ggplot2)\n",
    "library(MASS)\n",
    "library(PRROC)\n",
    "library(ROSE)\n",
    "library(randomForest)\n",
    "library(glmnet)\n",
    "library(lattice)"
   ]
  },
  {
   "cell_type": "markdown",
   "metadata": {},
   "source": [
    "## 2. Data Exploration<a class=\"anchor\" id=\"sec_2\"></a>"
   ]
  },
  {
   "cell_type": "markdown",
   "metadata": {},
   "source": [
    "Lets start by reading the data into a Data Frame and assign column names to the data frame as the data does not contain the column names. "
   ]
  },
  {
   "cell_type": "markdown",
   "metadata": {},
   "source": [
    "Assumption: All the input files are kept in the same directory as this jupyter notebook"
   ]
  },
  {
   "cell_type": "code",
   "execution_count": 2,
   "metadata": {},
   "outputs": [],
   "source": [
    "df_car <- read.csv('ticdata2000.txt', header = FALSE, sep = '\\t')\n",
    "names(df_car) <- c('MOSTYPE','MAANTHUI','MGEMOMV','MGEMLEEF',\n",
    "                   'MOSHOOFD','MGODRK','MGODPR','MGODOV','MGODGE',\n",
    "                   'MRELGE','MRELSA','MRELOV','MFALLEEN','MFGEKIND',\n",
    "                   'MFWEKIND','MOPLHOOG','MOPLMIDD','MOPLLAAG','MBERHOOG',\n",
    "                   'MBERZELF','MBERBOER','MBERMIDD','MBERARBG','MBERARBO',\n",
    "                   'MSKA','MSKB1','MSKB2','MSKC','MSKD','MHHUUR','MHKOOP',\n",
    "                   'MAUT1','MAUT2','MAUT0','MZFONDS','MZPART','MINKM30',\n",
    "                   'MINK3045','MINK4575','MINK7512','MINK123M','MINKGEM',\n",
    "                   'MKOOPKLA','PWAPART','PWABEDR','PWALAND','PPERSAUT',\n",
    "                   'PBESAUT','PMOTSCO','PVRAAUT','PAANHANG','PTRACTOR',\n",
    "                   'PWERKT','PBROM','PLEVEN','PPERSONG','PGEZONG',\n",
    "                   'PWAOREG','PBRAND','PZEILPL','PPLEZIER','PFIETS',\n",
    "                   'PINBOED','PBYSTAND','AWAPART','AWABEDR','AWALAND',\n",
    "                   'APERSAUT','ABESAUT','AMOTSCO','AVRAAUT','AAANHANG',\n",
    "                   'ATRACTOR','AWERKT','ABROM','ALEVEN','APERSONG','AGEZONG',\n",
    "                   'AWAOREG','ABRAND','AZEILPL','APLEZIER','AFIETS','AINBOED',\n",
    "                   'ABYSTAND','CARAVAN')"
   ]
  },
  {
   "cell_type": "markdown",
   "metadata": {},
   "source": [
    "Lets have a look at the dimension of the dataset. The following command tells us the rows and columns respectively."
   ]
  },
  {
   "cell_type": "code",
   "execution_count": 3,
   "metadata": {},
   "outputs": [
    {
     "data": {
      "text/html": [
       "<ol class=list-inline>\n",
       "\t<li>5822</li>\n",
       "\t<li>86</li>\n",
       "</ol>\n"
      ],
      "text/latex": [
       "\\begin{enumerate*}\n",
       "\\item 5822\n",
       "\\item 86\n",
       "\\end{enumerate*}\n"
      ],
      "text/markdown": [
       "1. 5822\n",
       "2. 86\n",
       "\n",
       "\n"
      ],
      "text/plain": [
       "[1] 5822   86"
      ]
     },
     "metadata": {},
     "output_type": "display_data"
    }
   ],
   "source": [
    "dim(df_car)"
   ]
  },
  {
   "cell_type": "markdown",
   "metadata": {},
   "source": [
    "Sneak peek on the first few rows with head."
   ]
  },
  {
   "cell_type": "code",
   "execution_count": 4,
   "metadata": {},
   "outputs": [
    {
     "data": {
      "text/html": [
       "<table>\n",
       "<thead><tr><th scope=col>MOSTYPE</th><th scope=col>MAANTHUI</th><th scope=col>MGEMOMV</th><th scope=col>MGEMLEEF</th><th scope=col>MOSHOOFD</th><th scope=col>MGODRK</th><th scope=col>MGODPR</th><th scope=col>MGODOV</th><th scope=col>MGODGE</th><th scope=col>MRELGE</th><th scope=col>...</th><th scope=col>APERSONG</th><th scope=col>AGEZONG</th><th scope=col>AWAOREG</th><th scope=col>ABRAND</th><th scope=col>AZEILPL</th><th scope=col>APLEZIER</th><th scope=col>AFIETS</th><th scope=col>AINBOED</th><th scope=col>ABYSTAND</th><th scope=col>CARAVAN</th></tr></thead>\n",
       "<tbody>\n",
       "\t<tr><td>33 </td><td>1  </td><td>3  </td><td>2  </td><td> 8 </td><td>0  </td><td>5  </td><td>1  </td><td>3  </td><td>7  </td><td>...</td><td>0  </td><td>0  </td><td>0  </td><td>1  </td><td>0  </td><td>0  </td><td>0  </td><td>0  </td><td>0  </td><td>0  </td></tr>\n",
       "\t<tr><td>37 </td><td>1  </td><td>2  </td><td>2  </td><td> 8 </td><td>1  </td><td>4  </td><td>1  </td><td>4  </td><td>6  </td><td>...</td><td>0  </td><td>0  </td><td>0  </td><td>1  </td><td>0  </td><td>0  </td><td>0  </td><td>0  </td><td>0  </td><td>0  </td></tr>\n",
       "\t<tr><td>37 </td><td>1  </td><td>2  </td><td>2  </td><td> 8 </td><td>0  </td><td>4  </td><td>2  </td><td>4  </td><td>3  </td><td>...</td><td>0  </td><td>0  </td><td>0  </td><td>1  </td><td>0  </td><td>0  </td><td>0  </td><td>0  </td><td>0  </td><td>0  </td></tr>\n",
       "\t<tr><td> 9 </td><td>1  </td><td>3  </td><td>3  </td><td> 3 </td><td>2  </td><td>3  </td><td>2  </td><td>4  </td><td>5  </td><td>...</td><td>0  </td><td>0  </td><td>0  </td><td>1  </td><td>0  </td><td>0  </td><td>0  </td><td>0  </td><td>0  </td><td>0  </td></tr>\n",
       "\t<tr><td>40 </td><td>1  </td><td>4  </td><td>2  </td><td>10 </td><td>1  </td><td>4  </td><td>1  </td><td>4  </td><td>7  </td><td>...</td><td>0  </td><td>0  </td><td>0  </td><td>1  </td><td>0  </td><td>0  </td><td>0  </td><td>0  </td><td>0  </td><td>0  </td></tr>\n",
       "\t<tr><td>23 </td><td>1  </td><td>2  </td><td>1  </td><td> 5 </td><td>0  </td><td>5  </td><td>0  </td><td>5  </td><td>0  </td><td>...</td><td>0  </td><td>0  </td><td>0  </td><td>0  </td><td>0  </td><td>0  </td><td>0  </td><td>0  </td><td>0  </td><td>0  </td></tr>\n",
       "</tbody>\n",
       "</table>\n"
      ],
      "text/latex": [
       "\\begin{tabular}{r|llllllllllllllllllllllllllllllllllllllllllllllllllllllllllllllllllllllllllllllllllllll}\n",
       " MOSTYPE & MAANTHUI & MGEMOMV & MGEMLEEF & MOSHOOFD & MGODRK & MGODPR & MGODOV & MGODGE & MRELGE & ... & APERSONG & AGEZONG & AWAOREG & ABRAND & AZEILPL & APLEZIER & AFIETS & AINBOED & ABYSTAND & CARAVAN\\\\\n",
       "\\hline\n",
       "\t 33  & 1   & 3   & 2   &  8  & 0   & 5   & 1   & 3   & 7   & ... & 0   & 0   & 0   & 1   & 0   & 0   & 0   & 0   & 0   & 0  \\\\\n",
       "\t 37  & 1   & 2   & 2   &  8  & 1   & 4   & 1   & 4   & 6   & ... & 0   & 0   & 0   & 1   & 0   & 0   & 0   & 0   & 0   & 0  \\\\\n",
       "\t 37  & 1   & 2   & 2   &  8  & 0   & 4   & 2   & 4   & 3   & ... & 0   & 0   & 0   & 1   & 0   & 0   & 0   & 0   & 0   & 0  \\\\\n",
       "\t  9  & 1   & 3   & 3   &  3  & 2   & 3   & 2   & 4   & 5   & ... & 0   & 0   & 0   & 1   & 0   & 0   & 0   & 0   & 0   & 0  \\\\\n",
       "\t 40  & 1   & 4   & 2   & 10  & 1   & 4   & 1   & 4   & 7   & ... & 0   & 0   & 0   & 1   & 0   & 0   & 0   & 0   & 0   & 0  \\\\\n",
       "\t 23  & 1   & 2   & 1   &  5  & 0   & 5   & 0   & 5   & 0   & ... & 0   & 0   & 0   & 0   & 0   & 0   & 0   & 0   & 0   & 0  \\\\\n",
       "\\end{tabular}\n"
      ],
      "text/markdown": [
       "\n",
       "MOSTYPE | MAANTHUI | MGEMOMV | MGEMLEEF | MOSHOOFD | MGODRK | MGODPR | MGODOV | MGODGE | MRELGE | ... | APERSONG | AGEZONG | AWAOREG | ABRAND | AZEILPL | APLEZIER | AFIETS | AINBOED | ABYSTAND | CARAVAN | \n",
       "|---|---|---|---|---|---|\n",
       "| 33  | 1   | 3   | 2   |  8  | 0   | 5   | 1   | 3   | 7   | ... | 0   | 0   | 0   | 1   | 0   | 0   | 0   | 0   | 0   | 0   | \n",
       "| 37  | 1   | 2   | 2   |  8  | 1   | 4   | 1   | 4   | 6   | ... | 0   | 0   | 0   | 1   | 0   | 0   | 0   | 0   | 0   | 0   | \n",
       "| 37  | 1   | 2   | 2   |  8  | 0   | 4   | 2   | 4   | 3   | ... | 0   | 0   | 0   | 1   | 0   | 0   | 0   | 0   | 0   | 0   | \n",
       "|  9  | 1   | 3   | 3   |  3  | 2   | 3   | 2   | 4   | 5   | ... | 0   | 0   | 0   | 1   | 0   | 0   | 0   | 0   | 0   | 0   | \n",
       "| 40  | 1   | 4   | 2   | 10  | 1   | 4   | 1   | 4   | 7   | ... | 0   | 0   | 0   | 1   | 0   | 0   | 0   | 0   | 0   | 0   | \n",
       "| 23  | 1   | 2   | 1   |  5  | 0   | 5   | 0   | 5   | 0   | ... | 0   | 0   | 0   | 0   | 0   | 0   | 0   | 0   | 0   | 0   | \n",
       "\n",
       "\n"
      ],
      "text/plain": [
       "  MOSTYPE MAANTHUI MGEMOMV MGEMLEEF MOSHOOFD MGODRK MGODPR MGODOV MGODGE MRELGE\n",
       "1 33      1        3       2         8       0      5      1      3      7     \n",
       "2 37      1        2       2         8       1      4      1      4      6     \n",
       "3 37      1        2       2         8       0      4      2      4      3     \n",
       "4  9      1        3       3         3       2      3      2      4      5     \n",
       "5 40      1        4       2        10       1      4      1      4      7     \n",
       "6 23      1        2       1         5       0      5      0      5      0     \n",
       "  ... APERSONG AGEZONG AWAOREG ABRAND AZEILPL APLEZIER AFIETS AINBOED ABYSTAND\n",
       "1 ... 0        0       0       1      0       0        0      0       0       \n",
       "2 ... 0        0       0       1      0       0        0      0       0       \n",
       "3 ... 0        0       0       1      0       0        0      0       0       \n",
       "4 ... 0        0       0       1      0       0        0      0       0       \n",
       "5 ... 0        0       0       1      0       0        0      0       0       \n",
       "6 ... 0        0       0       0      0       0        0      0       0       \n",
       "  CARAVAN\n",
       "1 0      \n",
       "2 0      \n",
       "3 0      \n",
       "4 0      \n",
       "5 0      \n",
       "6 0      "
      ]
     },
     "metadata": {},
     "output_type": "display_data"
    }
   ],
   "source": [
    "head(df_car)"
   ]
  },
  {
   "cell_type": "markdown",
   "metadata": {},
   "source": [
    "We can quickly look at the summary of all the columns as well to get an overall picture, before we dive into our variables."
   ]
  },
  {
   "cell_type": "code",
   "execution_count": 5,
   "metadata": {},
   "outputs": [
    {
     "data": {
      "text/plain": [
       "    MOSTYPE         MAANTHUI         MGEMOMV         MGEMLEEF    \n",
       " Min.   : 1.00   Min.   : 1.000   Min.   :1.000   Min.   :1.000  \n",
       " 1st Qu.:10.00   1st Qu.: 1.000   1st Qu.:2.000   1st Qu.:2.000  \n",
       " Median :30.00   Median : 1.000   Median :3.000   Median :3.000  \n",
       " Mean   :24.25   Mean   : 1.111   Mean   :2.679   Mean   :2.991  \n",
       " 3rd Qu.:35.00   3rd Qu.: 1.000   3rd Qu.:3.000   3rd Qu.:3.000  \n",
       " Max.   :41.00   Max.   :10.000   Max.   :5.000   Max.   :6.000  \n",
       "    MOSHOOFD          MGODRK           MGODPR          MGODOV    \n",
       " Min.   : 1.000   Min.   :0.0000   Min.   :0.000   Min.   :0.00  \n",
       " 1st Qu.: 3.000   1st Qu.:0.0000   1st Qu.:4.000   1st Qu.:0.00  \n",
       " Median : 7.000   Median :0.0000   Median :5.000   Median :1.00  \n",
       " Mean   : 5.774   Mean   :0.6965   Mean   :4.627   Mean   :1.07  \n",
       " 3rd Qu.: 8.000   3rd Qu.:1.0000   3rd Qu.:6.000   3rd Qu.:2.00  \n",
       " Max.   :10.000   Max.   :9.0000   Max.   :9.000   Max.   :5.00  \n",
       "     MGODGE          MRELGE          MRELSA           MRELOV    \n",
       " Min.   :0.000   Min.   :0.000   Min.   :0.0000   Min.   :0.00  \n",
       " 1st Qu.:2.000   1st Qu.:5.000   1st Qu.:0.0000   1st Qu.:1.00  \n",
       " Median :3.000   Median :6.000   Median :1.0000   Median :2.00  \n",
       " Mean   :3.259   Mean   :6.183   Mean   :0.8835   Mean   :2.29  \n",
       " 3rd Qu.:4.000   3rd Qu.:7.000   3rd Qu.:1.0000   3rd Qu.:3.00  \n",
       " Max.   :9.000   Max.   :9.000   Max.   :7.0000   Max.   :9.00  \n",
       "    MFALLEEN        MFGEKIND       MFWEKIND      MOPLHOOG        MOPLMIDD    \n",
       " Min.   :0.000   Min.   :0.00   Min.   :0.0   Min.   :0.000   Min.   :0.000  \n",
       " 1st Qu.:0.000   1st Qu.:2.00   1st Qu.:3.0   1st Qu.:0.000   1st Qu.:2.000  \n",
       " Median :2.000   Median :3.00   Median :4.0   Median :1.000   Median :3.000  \n",
       " Mean   :1.888   Mean   :3.23   Mean   :4.3   Mean   :1.461   Mean   :3.351  \n",
       " 3rd Qu.:3.000   3rd Qu.:4.00   3rd Qu.:6.0   3rd Qu.:2.000   3rd Qu.:4.000  \n",
       " Max.   :9.000   Max.   :9.00   Max.   :9.0   Max.   :9.000   Max.   :9.000  \n",
       "    MOPLLAAG        MBERHOOG        MBERZELF        MBERBOER     \n",
       " Min.   :0.000   Min.   :0.000   Min.   :0.000   Min.   :0.0000  \n",
       " 1st Qu.:3.000   1st Qu.:0.000   1st Qu.:0.000   1st Qu.:0.0000  \n",
       " Median :5.000   Median :2.000   Median :0.000   Median :0.0000  \n",
       " Mean   :4.572   Mean   :1.895   Mean   :0.398   Mean   :0.5223  \n",
       " 3rd Qu.:6.000   3rd Qu.:3.000   3rd Qu.:1.000   3rd Qu.:1.0000  \n",
       " Max.   :9.000   Max.   :9.000   Max.   :5.000   Max.   :9.0000  \n",
       "    MBERMIDD        MBERARBG       MBERARBO          MSKA           MSKB1      \n",
       " Min.   :0.000   Min.   :0.00   Min.   :0.000   Min.   :0.000   Min.   :0.000  \n",
       " 1st Qu.:2.000   1st Qu.:1.00   1st Qu.:1.000   1st Qu.:0.000   1st Qu.:1.000  \n",
       " Median :3.000   Median :2.00   Median :2.000   Median :1.000   Median :2.000  \n",
       " Mean   :2.899   Mean   :2.22   Mean   :2.306   Mean   :1.621   Mean   :1.607  \n",
       " 3rd Qu.:4.000   3rd Qu.:3.00   3rd Qu.:3.000   3rd Qu.:2.000   3rd Qu.:2.000  \n",
       " Max.   :9.000   Max.   :9.00   Max.   :9.000   Max.   :9.000   Max.   :9.000  \n",
       "     MSKB2            MSKC            MSKD           MHHUUR     \n",
       " Min.   :0.000   Min.   :0.000   Min.   :0.000   Min.   :0.000  \n",
       " 1st Qu.:1.000   1st Qu.:2.000   1st Qu.:0.000   1st Qu.:2.000  \n",
       " Median :2.000   Median :4.000   Median :1.000   Median :4.000  \n",
       " Mean   :2.203   Mean   :3.759   Mean   :1.067   Mean   :4.237  \n",
       " 3rd Qu.:3.000   3rd Qu.:5.000   3rd Qu.:2.000   3rd Qu.:7.000  \n",
       " Max.   :9.000   Max.   :9.000   Max.   :9.000   Max.   :9.000  \n",
       "     MHKOOP          MAUT1          MAUT2           MAUT0          MZFONDS     \n",
       " Min.   :0.000   Min.   :0.00   Min.   :0.000   Min.   :0.000   Min.   :0.000  \n",
       " 1st Qu.:2.000   1st Qu.:5.00   1st Qu.:0.000   1st Qu.:1.000   1st Qu.:5.000  \n",
       " Median :5.000   Median :6.00   Median :1.000   Median :2.000   Median :7.000  \n",
       " Mean   :4.772   Mean   :6.04   Mean   :1.316   Mean   :1.959   Mean   :6.277  \n",
       " 3rd Qu.:7.000   3rd Qu.:7.00   3rd Qu.:2.000   3rd Qu.:3.000   3rd Qu.:8.000  \n",
       " Max.   :9.000   Max.   :9.00   Max.   :7.000   Max.   :9.000   Max.   :9.000  \n",
       "     MZPART         MINKM30         MINK3045        MINK4575    \n",
       " Min.   :0.000   Min.   :0.000   Min.   :0.000   Min.   :0.000  \n",
       " 1st Qu.:1.000   1st Qu.:1.000   1st Qu.:2.000   1st Qu.:1.000  \n",
       " Median :2.000   Median :2.000   Median :4.000   Median :3.000  \n",
       " Mean   :2.729   Mean   :2.574   Mean   :3.536   Mean   :2.731  \n",
       " 3rd Qu.:4.000   3rd Qu.:4.000   3rd Qu.:5.000   3rd Qu.:4.000  \n",
       " Max.   :9.000   Max.   :9.000   Max.   :9.000   Max.   :9.000  \n",
       "    MINK7512         MINK123M         MINKGEM         MKOOPKLA    \n",
       " Min.   :0.0000   Min.   :0.0000   Min.   :0.000   Min.   :1.000  \n",
       " 1st Qu.:0.0000   1st Qu.:0.0000   1st Qu.:3.000   1st Qu.:3.000  \n",
       " Median :0.0000   Median :0.0000   Median :4.000   Median :4.000  \n",
       " Mean   :0.7961   Mean   :0.2027   Mean   :3.784   Mean   :4.236  \n",
       " 3rd Qu.:1.0000   3rd Qu.:0.0000   3rd Qu.:4.000   3rd Qu.:6.000  \n",
       " Max.   :9.0000   Max.   :9.0000   Max.   :9.000   Max.   :8.000  \n",
       "    PWAPART          PWABEDR           PWALAND           PPERSAUT   \n",
       " Min.   :0.0000   Min.   :0.00000   Min.   :0.00000   Min.   :0.00  \n",
       " 1st Qu.:0.0000   1st Qu.:0.00000   1st Qu.:0.00000   1st Qu.:0.00  \n",
       " Median :0.0000   Median :0.00000   Median :0.00000   Median :5.00  \n",
       " Mean   :0.7712   Mean   :0.04002   Mean   :0.07162   Mean   :2.97  \n",
       " 3rd Qu.:2.0000   3rd Qu.:0.00000   3rd Qu.:0.00000   3rd Qu.:6.00  \n",
       " Max.   :3.0000   Max.   :6.00000   Max.   :4.00000   Max.   :8.00  \n",
       "    PBESAUT           PMOTSCO          PVRAAUT            PAANHANG      \n",
       " Min.   :0.00000   Min.   :0.0000   Min.   :0.000000   Min.   :0.00000  \n",
       " 1st Qu.:0.00000   1st Qu.:0.0000   1st Qu.:0.000000   1st Qu.:0.00000  \n",
       " Median :0.00000   Median :0.0000   Median :0.000000   Median :0.00000  \n",
       " Mean   :0.04827   Mean   :0.1754   Mean   :0.009447   Mean   :0.02096  \n",
       " 3rd Qu.:0.00000   3rd Qu.:0.0000   3rd Qu.:0.000000   3rd Qu.:0.00000  \n",
       " Max.   :7.00000   Max.   :7.0000   Max.   :9.000000   Max.   :5.00000  \n",
       "    PTRACTOR           PWERKT            PBROM           PLEVEN      \n",
       " Min.   :0.00000   Min.   :0.00000   Min.   :0.000   Min.   :0.0000  \n",
       " 1st Qu.:0.00000   1st Qu.:0.00000   1st Qu.:0.000   1st Qu.:0.0000  \n",
       " Median :0.00000   Median :0.00000   Median :0.000   Median :0.0000  \n",
       " Mean   :0.09258   Mean   :0.01305   Mean   :0.215   Mean   :0.1948  \n",
       " 3rd Qu.:0.00000   3rd Qu.:0.00000   3rd Qu.:0.000   3rd Qu.:0.0000  \n",
       " Max.   :6.00000   Max.   :6.00000   Max.   :6.000   Max.   :9.0000  \n",
       "    PPERSONG          PGEZONG           PWAOREG            PBRAND     \n",
       " Min.   :0.00000   Min.   :0.00000   Min.   :0.00000   Min.   :0.000  \n",
       " 1st Qu.:0.00000   1st Qu.:0.00000   1st Qu.:0.00000   1st Qu.:0.000  \n",
       " Median :0.00000   Median :0.00000   Median :0.00000   Median :2.000  \n",
       " Mean   :0.01374   Mean   :0.01529   Mean   :0.02353   Mean   :1.828  \n",
       " 3rd Qu.:0.00000   3rd Qu.:0.00000   3rd Qu.:0.00000   3rd Qu.:4.000  \n",
       " Max.   :6.00000   Max.   :3.00000   Max.   :7.00000   Max.   :8.000  \n",
       "    PZEILPL             PPLEZIER           PFIETS           PINBOED       \n",
       " Min.   :0.0000000   Min.   :0.00000   Min.   :0.00000   Min.   :0.00000  \n",
       " 1st Qu.:0.0000000   1st Qu.:0.00000   1st Qu.:0.00000   1st Qu.:0.00000  \n",
       " Median :0.0000000   Median :0.00000   Median :0.00000   Median :0.00000  \n",
       " Mean   :0.0008588   Mean   :0.01889   Mean   :0.02525   Mean   :0.01563  \n",
       " 3rd Qu.:0.0000000   3rd Qu.:0.00000   3rd Qu.:0.00000   3rd Qu.:0.00000  \n",
       " Max.   :3.0000000   Max.   :6.00000   Max.   :1.00000   Max.   :6.00000  \n",
       "    PBYSTAND          AWAPART         AWABEDR           AWALAND       \n",
       " Min.   :0.00000   Min.   :0.000   Min.   :0.00000   Min.   :0.00000  \n",
       " 1st Qu.:0.00000   1st Qu.:0.000   1st Qu.:0.00000   1st Qu.:0.00000  \n",
       " Median :0.00000   Median :0.000   Median :0.00000   Median :0.00000  \n",
       " Mean   :0.04758   Mean   :0.403   Mean   :0.01477   Mean   :0.02061  \n",
       " 3rd Qu.:0.00000   3rd Qu.:1.000   3rd Qu.:0.00000   3rd Qu.:0.00000  \n",
       " Max.   :5.00000   Max.   :2.000   Max.   :5.00000   Max.   :1.00000  \n",
       "    APERSAUT         ABESAUT           AMOTSCO           AVRAAUT        \n",
       " Min.   :0.0000   Min.   :0.00000   Min.   :0.00000   Min.   :0.000000  \n",
       " 1st Qu.:0.0000   1st Qu.:0.00000   1st Qu.:0.00000   1st Qu.:0.000000  \n",
       " Median :1.0000   Median :0.00000   Median :0.00000   Median :0.000000  \n",
       " Mean   :0.5622   Mean   :0.01048   Mean   :0.04105   Mean   :0.002233  \n",
       " 3rd Qu.:1.0000   3rd Qu.:0.00000   3rd Qu.:0.00000   3rd Qu.:0.000000  \n",
       " Max.   :7.0000   Max.   :4.00000   Max.   :8.00000   Max.   :3.000000  \n",
       "    AAANHANG          ATRACTOR           AWERKT             ABROM        \n",
       " Min.   :0.00000   Min.   :0.00000   Min.   :0.000000   Min.   :0.00000  \n",
       " 1st Qu.:0.00000   1st Qu.:0.00000   1st Qu.:0.000000   1st Qu.:0.00000  \n",
       " Median :0.00000   Median :0.00000   Median :0.000000   Median :0.00000  \n",
       " Mean   :0.01254   Mean   :0.03367   Mean   :0.006183   Mean   :0.07042  \n",
       " 3rd Qu.:0.00000   3rd Qu.:0.00000   3rd Qu.:0.000000   3rd Qu.:0.00000  \n",
       " Max.   :3.00000   Max.   :4.00000   Max.   :6.000000   Max.   :2.00000  \n",
       "     ALEVEN           APERSONG           AGEZONG            AWAOREG        \n",
       " Min.   :0.00000   Min.   :0.000000   Min.   :0.000000   Min.   :0.000000  \n",
       " 1st Qu.:0.00000   1st Qu.:0.000000   1st Qu.:0.000000   1st Qu.:0.000000  \n",
       " Median :0.00000   Median :0.000000   Median :0.000000   Median :0.000000  \n",
       " Mean   :0.07661   Mean   :0.005325   Mean   :0.006527   Mean   :0.004638  \n",
       " 3rd Qu.:0.00000   3rd Qu.:0.000000   3rd Qu.:0.000000   3rd Qu.:0.000000  \n",
       " Max.   :8.00000   Max.   :1.000000   Max.   :1.000000   Max.   :2.000000  \n",
       "     ABRAND          AZEILPL             APLEZIER            AFIETS       \n",
       " Min.   :0.0000   Min.   :0.0000000   Min.   :0.000000   Min.   :0.00000  \n",
       " 1st Qu.:0.0000   1st Qu.:0.0000000   1st Qu.:0.000000   1st Qu.:0.00000  \n",
       " Median :1.0000   Median :0.0000000   Median :0.000000   Median :0.00000  \n",
       " Mean   :0.5701   Mean   :0.0005153   Mean   :0.006012   Mean   :0.03178  \n",
       " 3rd Qu.:1.0000   3rd Qu.:0.0000000   3rd Qu.:0.000000   3rd Qu.:0.00000  \n",
       " Max.   :7.0000   Max.   :1.0000000   Max.   :2.000000   Max.   :3.00000  \n",
       "    AINBOED            ABYSTAND          CARAVAN       \n",
       " Min.   :0.000000   Min.   :0.00000   Min.   :0.00000  \n",
       " 1st Qu.:0.000000   1st Qu.:0.00000   1st Qu.:0.00000  \n",
       " Median :0.000000   Median :0.00000   Median :0.00000  \n",
       " Mean   :0.007901   Mean   :0.01426   Mean   :0.05977  \n",
       " 3rd Qu.:0.000000   3rd Qu.:0.00000   3rd Qu.:0.00000  \n",
       " Max.   :2.000000   Max.   :2.00000   Max.   :1.00000  "
      ]
     },
     "metadata": {},
     "output_type": "display_data"
    }
   ],
   "source": [
    "summary(df_car)"
   ]
  },
  {
   "cell_type": "markdown",
   "metadata": {},
   "source": [
    "The below commans is just to set the size of plots that are used for visualisation. "
   ]
  },
  {
   "cell_type": "code",
   "execution_count": 6,
   "metadata": {},
   "outputs": [],
   "source": [
    "options(repr.plot.width = 5, repr.plot.height = 5)"
   ]
  },
  {
   "cell_type": "markdown",
   "metadata": {},
   "source": [
    "To start, lets see the distribution of the target variable. "
   ]
  },
  {
   "cell_type": "code",
   "execution_count": 7,
   "metadata": {},
   "outputs": [
    {
     "data": {
      "text/plain": [
       "\n",
       "   0    1 \n",
       "5474  348 "
      ]
     },
     "metadata": {},
     "output_type": "display_data"
    },
    {
     "data": {
      "image/png": "[encoded data removed]",
      "text/plain": [
       "plot without title"
      ]
     },
     "metadata": {},
     "output_type": "display_data"
    }
   ],
   "source": [
    "table(df_car$CARAVAN)\n",
    "barplot(table(df_car$CARAVAN), col=c(\"blue\",\"red\"))"
   ]
  },
  {
   "cell_type": "markdown",
   "metadata": {},
   "source": [
    "That's quite an imbalanced data that we are dealing with. The number of positive cases are just 5.9% in the data. It would be a challenge to tackle with such a data, but their are ways to tackle that and they are explaind in further sections. "
   ]
  },
  {
   "cell_type": "markdown",
   "metadata": {},
   "source": [
    "Lets start with exploring the features. To start, we look at the correlation of all the variables amongst themselves. "
   ]
  },
  {
   "cell_type": "code",
   "execution_count": 8,
   "metadata": {},
   "outputs": [
    {
     "data": {
      "text/html": [
       "<table>\n",
       "<thead><tr><th></th><th scope=col>MOSTYPE</th><th scope=col>MAANTHUI</th><th scope=col>MGEMOMV</th><th scope=col>MGEMLEEF</th><th scope=col>MOSHOOFD</th><th scope=col>MGODRK</th><th scope=col>MGODPR</th><th scope=col>MGODOV</th><th scope=col>MGODGE</th><th scope=col>MRELGE</th><th scope=col>...</th><th scope=col>APERSONG</th><th scope=col>AGEZONG</th><th scope=col>AWAOREG</th><th scope=col>ABRAND</th><th scope=col>AZEILPL</th><th scope=col>APLEZIER</th><th scope=col>AFIETS</th><th scope=col>AINBOED</th><th scope=col>ABYSTAND</th><th scope=col>CARAVAN</th></tr></thead>\n",
       "<tbody>\n",
       "\t<tr><th scope=row>MOSTYPE</th><td> 1.000000000 </td><td>-0.038721258 </td><td>-0.021996966 </td><td> 0.009454422 </td><td> 0.992671874 </td><td>-0.193613010 </td><td> 0.09039908  </td><td>-0.025642336 </td><td>-0.019504734 </td><td>-0.065595774 </td><td>...          </td><td> 0.0217073867</td><td>-0.0120597787</td><td>-0.0029094232</td><td>-0.0115121130</td><td> 0.0078009434</td><td>-0.0181616379</td><td>-0.015773558 </td><td>-0.0210874196</td><td>-0.053717567 </td><td>-0.069385237 </td></tr>\n",
       "\t<tr><th scope=row>MAANTHUI</th><td>-0.038721258 </td><td> 1.000000000 </td><td> 0.010102243 </td><td> 0.056974604 </td><td>-0.045816774 </td><td>-0.006136360 </td><td>-0.02436018  </td><td> 0.012056027 </td><td> 0.020540166 </td><td> 0.023024578 </td><td>...          </td><td> 0.0033205607</td><td> 0.0094435174</td><td>-0.0163329939</td><td> 0.0006545495</td><td>-0.0061891407</td><td> 0.0006662173</td><td>-0.020993273 </td><td> 0.0183037932</td><td>-0.004166222 </td><td>-0.009809028 </td></tr>\n",
       "\t<tr><th scope=row>MGEMOMV</th><td>-0.021996966 </td><td> 0.010102243 </td><td> 1.000000000 </td><td>-0.328257249 </td><td> 0.016115371 </td><td> 0.013105189 </td><td> 0.04935646  </td><td>-0.108649617 </td><td>-0.005527394 </td><td> 0.534797785 </td><td>...          </td><td>-0.0001283250</td><td> 0.0167597277</td><td> 0.0187492290</td><td>-0.0092689689</td><td> 0.0092343649</td><td> 0.0006443739</td><td> 0.030330056 </td><td> 0.0259066857</td><td> 0.028383762 </td><td> 0.035573157 </td></tr>\n",
       "\t<tr><th scope=row>MGEMLEEF</th><td> 0.009454422 </td><td> 0.056974604 </td><td>-0.328257249 </td><td> 1.000000000 </td><td> 0.003872334 </td><td>-0.037518737 </td><td> 0.09365402  </td><td> 0.057737161 </td><td>-0.119966338 </td><td>-0.040383808 </td><td>...          </td><td> 0.0210701969</td><td>-0.0017470283</td><td> 0.0006444196</td><td> 0.0244168979</td><td> 0.0002441930</td><td>-0.0017913964</td><td> 0.020611609 </td><td>-0.0200420361</td><td>-0.014539744 </td><td> 0.004490697 </td></tr>\n",
       "\t<tr><th scope=row>MOSHOOFD</th><td> 0.992671874 </td><td>-0.045816774 </td><td> 0.016115371 </td><td> 0.003872334 </td><td> 1.000000000 </td><td>-0.199186199 </td><td> 0.09849256  </td><td>-0.034565811 </td><td>-0.021465787 </td><td>-0.026618553 </td><td>...          </td><td> 0.0239757042</td><td>-0.0100041462</td><td>-0.0022434628</td><td>-0.0123720038</td><td> 0.0070986454</td><td>-0.0206830450</td><td>-0.017990254 </td><td>-0.0209970072</td><td>-0.051723141 </td><td>-0.069299830 </td></tr>\n",
       "\t<tr><th scope=row>MGODRK</th><td>-0.193613010 </td><td>-0.006136360 </td><td> 0.013105189 </td><td>-0.037518737 </td><td>-0.199186199 </td><td> 1.000000000 </td><td>-0.37276739  </td><td> 0.021125102 </td><td>-0.063904415 </td><td>-0.028594440 </td><td>...          </td><td>-0.0084496474</td><td> 0.0053862951</td><td>-0.0128432499</td><td> 0.0019283957</td><td>-0.0006751743</td><td> 0.0117945560</td><td>-0.001502914 </td><td>-0.0114309114</td><td>-0.004008778 </td><td> 0.006225424 </td></tr>\n",
       "\t<tr><th scope=row>MGODPR</th><td> 0.090399085 </td><td>-0.024360178 </td><td> 0.049356463 </td><td> 0.093654020 </td><td> 0.098492561 </td><td>-0.372767392 </td><td> 1.00000000  </td><td>-0.317548571 </td><td>-0.741894511 </td><td> 0.147256295 </td><td>...          </td><td>-0.0143545843</td><td> 0.0039492314</td><td> 0.0039747163</td><td> 0.0463522124</td><td> 0.0137600087</td><td> 0.0184678037</td><td> 0.001906471 </td><td> 0.0023918343</td><td> 0.016657867 </td><td> 0.032866330 </td></tr>\n",
       "\t<tr><th scope=row>MGODOV</th><td>-0.025642336 </td><td> 0.012056027 </td><td>-0.108649617 </td><td> 0.057737161 </td><td>-0.034565811 </td><td> 0.021125102 </td><td>-0.31754857  </td><td> 1.000000000 </td><td>-0.139306355 </td><td>-0.125703467 </td><td>...          </td><td> 0.0065716077</td><td>-0.0055693135</td><td> 0.0176955827</td><td> 0.0063015379</td><td>-0.0238772539</td><td> 0.0094173615</td><td> 0.025661055 </td><td>-0.0097344391</td><td> 0.010127307 </td><td> 0.004039404 </td></tr>\n",
       "\t<tr><th scope=row>MGODGE</th><td>-0.019504734 </td><td> 0.020540166 </td><td>-0.005527394 </td><td>-0.119966338 </td><td>-0.021465787 </td><td>-0.063904415 </td><td>-0.74189451  </td><td>-0.139306355 </td><td> 1.000000000 </td><td>-0.107899577 </td><td>...          </td><td> 0.0088443705</td><td> 0.0042418594</td><td>-0.0041392047</td><td>-0.0526046474</td><td>-0.0084119000</td><td>-0.0264073491</td><td>-0.011121966 </td><td> 0.0072612796</td><td>-0.027291255 </td><td>-0.041706886 </td></tr>\n",
       "\t<tr><th scope=row>MRELGE</th><td>-0.065595774 </td><td> 0.023024578 </td><td> 0.534797785 </td><td>-0.040383808 </td><td>-0.026618553 </td><td>-0.028594440 </td><td> 0.14725629  </td><td>-0.125703467 </td><td>-0.107899577 </td><td> 1.000000000 </td><td>...          </td><td> 0.0115124386</td><td> 0.0223758364</td><td> 0.0116780108</td><td>-0.0079785097</td><td> 0.0097105773</td><td>-0.0015655294</td><td> 0.020921355 </td><td>-0.0034195098</td><td> 0.036568846 </td><td> 0.070263828 </td></tr>\n",
       "\t<tr><th scope=row>MRELSA</th><td>-0.016270104 </td><td>-0.038565630 </td><td>-0.175586147 </td><td>-0.307400815 </td><td>-0.037508858 </td><td> 0.117575776 </td><td>-0.21103140  </td><td> 0.111762144 </td><td> 0.159553081 </td><td>-0.478340648 </td><td>...          </td><td>-0.0205018773</td><td>-0.0078946000</td><td>-0.0111572250</td><td>-0.0004703521</td><td>-0.0207711079</td><td> 0.0197738557</td><td>-0.037474485 </td><td> 0.0183959072</td><td>-0.013834785 </td><td>-0.033362293 </td></tr>\n",
       "\t<tr><th scope=row>MRELOV</th><td> 0.086939441 </td><td>-0.012544222 </td><td>-0.500734749 </td><td> 0.199773821 </td><td> 0.052670612 </td><td>-0.003456761 </td><td>-0.08405050  </td><td> 0.105340040 </td><td> 0.071837834 </td><td>-0.884361888 </td><td>...          </td><td>-0.0068564122</td><td>-0.0235741698</td><td>-0.0036618178</td><td> 0.0129517027</td><td>-0.0038286829</td><td>-0.0063107543</td><td>-0.007909229 </td><td>-0.0026024131</td><td>-0.039980805 </td><td>-0.062285359 </td></tr>\n",
       "\t<tr><th scope=row>MFALLEEN</th><td> 0.029239934 </td><td> 0.032534542 </td><td>-0.659552788 </td><td> 0.236593826 </td><td>-0.003443020 </td><td> 0.016316632 </td><td>-0.11592168  </td><td> 0.122197576 </td><td> 0.064642486 </td><td>-0.684233278 </td><td>...          </td><td> 0.0019438515</td><td>-0.0328660429</td><td>-0.0048916438</td><td> 0.0120280038</td><td>-0.0111987328</td><td>-0.0187871118</td><td>-0.010050988 </td><td>-0.0135392322</td><td>-0.033944424 </td><td>-0.053102157 </td></tr>\n",
       "\t<tr><th scope=row>MFGEKIND</th><td>-0.066250326 </td><td>-0.082919177 </td><td>-0.315959583 </td><td> 0.204225088 </td><td>-0.075000253 </td><td>-0.010359144 </td><td> 0.06645693  </td><td> 0.022851115 </td><td>-0.086730867 </td><td> 0.075363336 </td><td>...          </td><td>-0.0045755905</td><td> 0.0095433770</td><td>-0.0057802532</td><td> 0.0099099538</td><td> 0.0107886901</td><td> 0.0220042516</td><td>-0.003323160 </td><td>-0.0100759436</td><td> 0.001663515 </td><td> 0.007981430 </td></tr>\n",
       "\t<tr><th scope=row>MFWEKIND</th><td> 0.023407766 </td><td> 0.042143280 </td><td> 0.794014246 </td><td>-0.355754273 </td><td> 0.058618783 </td><td>-0.007469799 </td><td> 0.02397183  </td><td>-0.105429978 </td><td> 0.032341690 </td><td> 0.500353687 </td><td>...          </td><td> 0.0008151776</td><td> 0.0144578138</td><td> 0.0098433461</td><td>-0.0208052109</td><td> 0.0041493926</td><td>-0.0099787478</td><td> 0.008305852 </td><td> 0.0172251358</td><td> 0.020047390 </td><td> 0.032346087 </td></tr>\n",
       "\t<tr><th scope=row>MOPLHOOG</th><td>-0.473606339 </td><td> 0.003419200 </td><td> 0.008052835 </td><td>-0.025792266 </td><td>-0.471620098 </td><td> 0.241046873 </td><td>-0.09418137  </td><td> 0.002431063 </td><td>-0.003102010 </td><td> 0.075037877 </td><td>...          </td><td>-0.0120584910</td><td> 0.0045761801</td><td>-0.0101843348</td><td> 0.0159904140</td><td> 0.0168689330</td><td> 0.0076045933</td><td> 0.040493383 </td><td> 0.0161397587</td><td> 0.040344642 </td><td> 0.084635338 </td></tr>\n",
       "\t<tr><th scope=row>MOPLMIDD</th><td>-0.278429386 </td><td>-0.053170783 </td><td> 0.039626806 </td><td>-0.221675888 </td><td>-0.279497390 </td><td> 0.146696963 </td><td>-0.01580947  </td><td> 0.012658995 </td><td>-0.036979585 </td><td> 0.027069265 </td><td>...          </td><td>-0.0038720016</td><td> 0.0007902091</td><td> 0.0044313920</td><td>-0.0093395259</td><td>-0.0045292130</td><td> 0.0199639717</td><td> 0.010180192 </td><td> 0.0181618843</td><td> 0.030766841 </td><td> 0.043517067 </td></tr>\n",
       "\t<tr><th scope=row>MOPLLAAG</th><td> 0.525678035 </td><td> 0.036529125 </td><td>-0.038847106 </td><td> 0.178965233 </td><td> 0.524061718 </td><td>-0.251435075 </td><td> 0.05648093  </td><td>-0.006024369 </td><td> 0.042878421 </td><td>-0.081953565 </td><td>...          </td><td> 0.0105306984</td><td>-0.0062696478</td><td> 0.0043874157</td><td>-0.0039997167</td><td>-0.0056567002</td><td>-0.0192642558</td><td>-0.035398310 </td><td>-0.0234136465</td><td>-0.052650418 </td><td>-0.090561330 </td></tr>\n",
       "\t<tr><th scope=row>MBERHOOG</th><td>-0.418614955 </td><td>-0.005746748 </td><td> 0.023796484 </td><td> 0.141389484 </td><td>-0.412655659 </td><td> 0.217538119 </td><td>-0.01096481  </td><td>-0.052415156 </td><td>-0.056926766 </td><td> 0.176805677 </td><td>...          </td><td> 0.0082077682</td><td> 0.0071030386</td><td> 0.0034971231</td><td> 0.0411850992</td><td> 0.0139523647</td><td> 0.0042984648</td><td> 0.035957179 </td><td> 0.0146018884</td><td> 0.022060441 </td><td> 0.065081606 </td></tr>\n",
       "\t<tr><th scope=row>MBERZELF</th><td>-0.117735585 </td><td> 0.042437830 </td><td> 0.035698059 </td><td> 0.058309155 </td><td>-0.115330092 </td><td> 0.056606778 </td><td> 0.04293788  </td><td> 0.006322592 </td><td>-0.067139690 </td><td> 0.088330080 </td><td>...          </td><td>-0.0101628462</td><td>-0.0140997564</td><td> 0.0121835599</td><td> 0.0213447994</td><td> 0.0274037527</td><td> 0.0191989755</td><td> 0.023505483 </td><td> 0.0114990128</td><td> 0.011023979 </td><td> 0.021974498 </td></tr>\n",
       "\t<tr><th scope=row>MBERBOER</th><td> 0.248597540 </td><td>-0.018174590 </td><td> 0.106959822 </td><td> 0.090716402 </td><td> 0.276881858 </td><td>-0.105965116 </td><td> 0.11116370  </td><td>-0.046898666 </td><td>-0.052405042 </td><td> 0.019761300 </td><td>...          </td><td> 0.0174366726</td><td> 0.0063606758</td><td> 0.0375823399</td><td> 0.0157287240</td><td> 0.0174241758</td><td>-0.0065339200</td><td>-0.028990073 </td><td>-0.0198129546</td><td>-0.028923878 </td><td>-0.054002566 </td></tr>\n",
       "\t<tr><th scope=row>MBERMIDD</th><td>-0.206197511 </td><td> 0.005761900 </td><td>-0.004949426 </td><td>-0.162686466 </td><td>-0.219405165 </td><td> 0.087639077 </td><td>-0.03185736  </td><td> 0.077559808 </td><td>-0.024490370 </td><td>-0.007195562 </td><td>...          </td><td>-0.0113793899</td><td>-0.0025071182</td><td>-0.0015359163</td><td>-0.0007964099</td><td>-0.0152111551</td><td> 0.0074754840</td><td>-0.001910115 </td><td> 0.0120215444</td><td> 0.033760681 </td><td> 0.047716187 </td></tr>\n",
       "\t<tr><th scope=row>MBERARBG</th><td> 0.304749222 </td><td> 0.024801720 </td><td> 0.037589774 </td><td>-0.048102803 </td><td> 0.305281933 </td><td>-0.179813141 </td><td> 0.01715267  </td><td>-0.065500406 </td><td> 0.083005986 </td><td> 0.026831375 </td><td>...          </td><td> 0.0097975559</td><td> 0.0044929292</td><td>-0.0076118486</td><td>-0.0207847620</td><td> 0.0014887683</td><td>-0.0020608374</td><td>-0.010195720 </td><td>-0.0012215495</td><td>-0.048179272 </td><td>-0.042495838 </td></tr>\n",
       "\t<tr><th scope=row>MBERARBO</th><td> 0.273050765 </td><td>-0.052344935 </td><td>-0.161245997 </td><td> 0.034337607 </td><td> 0.258888302 </td><td>-0.072077265 </td><td>-0.03509865  </td><td> 0.108540812 </td><td> 0.023618473 </td><td>-0.298056266 </td><td>...          </td><td>-0.0090618940</td><td>-0.0134129403</td><td>-0.0160914532</td><td>-0.0204062656</td><td>-0.0175243212</td><td>-0.0133326853</td><td>-0.036886094 </td><td>-0.0214212797</td><td>-0.004594874 </td><td>-0.054632386 </td></tr>\n",
       "\t<tr><th scope=row>MSKA</th><td>-0.392931299 </td><td>-0.014437378 </td><td> 0.063096787 </td><td> 0.047819524 </td><td>-0.382017234 </td><td> 0.169645890 </td><td>-0.01056098  </td><td>-0.032892067 </td><td>-0.052752063 </td><td> 0.182821882 </td><td>...          </td><td> 0.0092568686</td><td>-0.0007286029</td><td> 0.0003088894</td><td> 0.0205318581</td><td> 0.0269653636</td><td> 0.0113277894</td><td> 0.031267916 </td><td> 0.0181269125</td><td> 0.022832992 </td><td> 0.063497598 </td></tr>\n",
       "\t<tr><th scope=row>MSKB1</th><td>-0.188518463 </td><td> 0.009924238 </td><td> 0.011569923 </td><td>-0.155801566 </td><td>-0.192616339 </td><td> 0.137215429 </td><td>-0.04100292  </td><td> 0.054053794 </td><td>-0.023215146 </td><td>-0.029214849 </td><td>...          </td><td>-0.0032140336</td><td> 0.0111259389</td><td> 0.0127019730</td><td> 0.0031952638</td><td> 0.0010210059</td><td> 0.0075292076</td><td> 0.006568950 </td><td>-0.0013050542</td><td> 0.010363610 </td><td> 0.028762971 </td></tr>\n",
       "\t<tr><th scope=row>MSKB2</th><td>-0.038077708 </td><td>-0.025302576 </td><td> 0.058551505 </td><td>-0.040359645 </td><td>-0.029730826 </td><td> 0.079703849 </td><td> 0.02859935  </td><td>-0.026432031 </td><td>-0.042170764 </td><td> 0.016749792 </td><td>...          </td><td> 0.0057449793</td><td>-0.0009698436</td><td> 0.0167364397</td><td> 0.0041724214</td><td>-0.0079563116</td><td>-0.0042490384</td><td>-0.019414001 </td><td>-0.0165343017</td><td> 0.025455216 </td><td> 0.004040261 </td></tr>\n",
       "\t<tr><th scope=row>MSKC</th><td> 0.386104459 </td><td>-0.007345068 </td><td>-0.019022276 </td><td>-0.063555498 </td><td> 0.379437394 </td><td>-0.215725169 </td><td> 0.05849485  </td><td> 0.001676504 </td><td> 0.031287617 </td><td>-0.036035268 </td><td>...          </td><td>-0.0030717159</td><td> 0.0012898904</td><td>-0.0166085373</td><td>-0.0194292257</td><td>-0.0128112295</td><td>-0.0082127482</td><td>-0.023286030 </td><td>-0.0008820314</td><td>-0.033262101 </td><td>-0.042309367 </td></tr>\n",
       "\t<tr><th scope=row>MSKD</th><td> 0.204630170 </td><td> 0.020671192 </td><td>-0.186612496 </td><td> 0.244596510 </td><td> 0.192136390 </td><td>-0.075164628 </td><td>-0.06989526  </td><td> 0.068483857 </td><td> 0.083144960 </td><td>-0.243143149 </td><td>...          </td><td> 0.0070869331</td><td>-0.0205574256</td><td>-0.0235334513</td><td>-0.0113684198</td><td>-0.0185981584</td><td> 0.0010390497</td><td>-0.019654090 </td><td>-0.0103422802</td><td>-0.040195468 </td><td>-0.063070266 </td></tr>\n",
       "\t<tr><th scope=row>MHHUUR</th><td> 0.148998453 </td><td>-0.049126992 </td><td>-0.339429461 </td><td> 0.025263825 </td><td> 0.118159882 </td><td>-0.096362189 </td><td>-0.22020374  </td><td> 0.145789737 </td><td> 0.224625163 </td><td>-0.390995695 </td><td>...          </td><td> 0.0050865079</td><td>-0.0220968491</td><td>-0.0283027543</td><td>-0.0821318695</td><td>-0.0237923520</td><td>-0.0260837399</td><td>-0.030262408 </td><td>-0.0122300177</td><td>-0.037379242 </td><td>-0.079143498 </td></tr>\n",
       "\t<tr><th scope=row>...</th><td>...</td><td>...</td><td>...</td><td>...</td><td>...</td><td>...</td><td>...</td><td>...</td><td>...</td><td>...</td><td>   </td><td>...</td><td>...</td><td>...</td><td>...</td><td>...</td><td>...</td><td>...</td><td>...</td><td>...</td><td>...</td></tr>\n",
       "\t<tr><th scope=row>PGEZONG</th><td>-0.015114736 </td><td> 0.0113378756</td><td> 0.0164834822</td><td>-0.0068157699</td><td>-0.0130761214</td><td> 0.0080176844</td><td> 0.0006257971</td><td>-0.004580546 </td><td> 0.006141642 </td><td> 0.020882036 </td><td>...          </td><td>-0.005811575 </td><td> 0.979968511 </td><td>-0.004759504 </td><td> 0.0401180921</td><td>-0.0018035419</td><td>-0.0058501112</td><td> 0.0303403431</td><td> 0.0127950052</td><td> 0.124450716 </td><td> 0.0402076295</td></tr>\n",
       "\t<tr><th scope=row>PWAOREG</th><td> 0.001364458 </td><td>-0.0170934893</td><td> 0.0173897518</td><td>-0.0015734652</td><td> 0.0014445015</td><td>-0.0138806571</td><td> 0.0064324766</td><td> 0.006038904 </td><td>-0.001264982 </td><td> 0.012914339 </td><td>...          </td><td>-0.004588185 </td><td>-0.005082934 </td><td> 0.948429867 </td><td> 0.0276096888</td><td>-0.0014238796</td><td>-0.0046186086</td><td>-0.0094454091</td><td>-0.0054775757</td><td>-0.007450981 </td><td> 0.0305286401</td></tr>\n",
       "\t<tr><th scope=row>PBRAND</th><td>-0.009754828 </td><td>-0.0013634521</td><td> 0.0559983328</td><td> 0.0193258328</td><td>-0.0003219675</td><td>-0.0038647412</td><td> 0.0767606816</td><td>-0.020293488 </td><td>-0.074481124 </td><td> 0.058452878 </td><td>...          </td><td> 0.014243676 </td><td> 0.058510949 </td><td> 0.073991709 </td><td> 0.8655359202</td><td> 0.0101370839</td><td> 0.0134711642</td><td>-0.0269183009</td><td> 0.0373125576</td><td> 0.053553940 </td><td> 0.0944459897</td></tr>\n",
       "\t<tr><th scope=row>PZEILPL</th><td> 0.014378841 </td><td>-0.0053866189</td><td> 0.0080369808</td><td> 0.0002125295</td><td> 0.0154023054</td><td> 0.0099188285</td><td> 0.0089042989</td><td>-0.020781183 </td><td>-0.010619899 </td><td> 0.012591479 </td><td>...          </td><td>-0.001445861 </td><td>-0.001601769 </td><td>-0.001184116 </td><td> 0.0080845731</td><td> 0.8703338933</td><td> 0.0469652271</td><td>-0.0029765028</td><td> 0.0419675144</td><td>-0.002348005 </td><td> 0.0116891605</td></tr>\n",
       "\t<tr><th scope=row>PPLEZIER</th><td>-0.018115529 </td><td> 0.0043912375</td><td> 0.0018573556</td><td>-0.0046626850</td><td>-0.0205050911</td><td> 0.0127853716</td><td> 0.0183490344</td><td> 0.005138917 </td><td>-0.023801543 </td><td>-0.010603456 </td><td>...          </td><td> 0.003581607 </td><td>-0.005609557 </td><td>-0.004146893 </td><td> 0.0048040124</td><td> 0.1647686648</td><td> 0.9044364454</td><td>-0.0104240112</td><td> 0.0635092440</td><td> 0.012751424 </td><td> 0.0913611589</td></tr>\n",
       "\t<tr><th scope=row>PFIETS</th><td>-0.012123635 </td><td>-0.0168904081</td><td> 0.0307978384</td><td> 0.0192052356</td><td>-0.0148414691</td><td> 0.0017627381</td><td> 0.0056417925</td><td> 0.026605567 </td><td>-0.017819088 </td><td> 0.017795816 </td><td>...          </td><td>-0.011775512 </td><td> 0.014147566 </td><td>-0.009643787 </td><td>-0.0405239315</td><td>-0.0036543672</td><td>-0.0118535948</td><td> 0.9358542621</td><td> 0.0101496232</td><td> 0.008251926 </td><td> 0.0286954418</td></tr>\n",
       "\t<tr><th scope=row>PINBOED</th><td>-0.017327120 </td><td> 0.0081407528</td><td> 0.0130025869</td><td>-0.0136116817</td><td>-0.0171678330</td><td>-0.0019932665</td><td> 0.0014434547</td><td>-0.011853554 </td><td> 0.006032587 </td><td>-0.008661315 </td><td>...          </td><td>-0.005591015 </td><td> 0.014662600 </td><td>-0.004578872 </td><td> 0.0255844661</td><td> 0.0352675355</td><td> 0.0252353952</td><td> 0.0004314066</td><td> 0.8752564772</td><td> 0.025913857 </td><td> 0.0055281002</td></tr>\n",
       "\t<tr><th scope=row>PBYSTAND</th><td>-0.059084119 </td><td>-0.0037674312</td><td> 0.0345498414</td><td>-0.0193733642</td><td>-0.0572352270</td><td> 0.0004482130</td><td> 0.0189315850</td><td> 0.009756510 </td><td>-0.031969277 </td><td> 0.036114659 </td><td>...          </td><td>-0.008511541 </td><td> 0.126171987 </td><td>-0.006970694 </td><td> 0.0411659741</td><td>-0.0026414390</td><td> 0.0223032622</td><td> 0.0083570993</td><td> 0.0269818333</td><td> 0.966238761 </td><td> 0.0627888617</td></tr>\n",
       "\t<tr><th scope=row>AWAPART</th><td>-0.032936542 </td><td> 0.0425310886</td><td>-0.0439198354</td><td>-0.0143195691</td><td>-0.0416142581</td><td> 0.0455425456</td><td>-0.0141825603</td><td> 0.017135413 </td><td>-0.017995798 </td><td>-0.042982245 </td><td>...          </td><td>-0.011938059 </td><td> 0.054940684 </td><td>-0.008468917 </td><td> 0.5252611810</td><td> 0.0121557789</td><td>-0.0047136300</td><td>-0.0058618390</td><td> 0.0403377398</td><td> 0.042298057 </td><td> 0.0893874727</td></tr>\n",
       "\t<tr><th scope=row>AWABEDR</th><td>-0.004066376 </td><td> 0.0046930448</td><td> 0.0350624609</td><td>-0.0082491669</td><td>-0.0006864250</td><td>-0.0266798069</td><td> 0.0254411779</td><td>-0.010084935 </td><td>-0.009003503 </td><td> 0.018260064 </td><td>...          </td><td>-0.008058080 </td><td>-0.008926993 </td><td> 0.191960170 </td><td> 0.0523488081</td><td>-0.0025007137</td><td>-0.0081115131</td><td>-0.0165886670</td><td> 0.0186954619</td><td>-0.002412590 </td><td>-0.0007589975</td></tr>\n",
       "\t<tr><th scope=row>AWALAND</th><td> 0.079674358 </td><td>-0.0276269681</td><td> 0.0360385378</td><td> 0.0074970071</td><td> 0.0897914471</td><td>-0.0549288781</td><td> 0.0400000155</td><td>-0.017097171 </td><td>-0.016663835 </td><td> 0.010122386 </td><td>...          </td><td> 0.039220622 </td><td> 0.018267049 </td><td> 0.053786707 </td><td> 0.1346357670</td><td>-0.0032939232</td><td> 0.0041262251</td><td>-0.0161201421</td><td> 0.0006932605</td><td> 0.002914314 </td><td>-0.0212790767</td></tr>\n",
       "\t<tr><th scope=row>APERSAUT</th><td>-0.008274480 </td><td>-0.0294270484</td><td> 0.0205980548</td><td>-0.0158070638</td><td>-0.0055732945</td><td>-0.0027271509</td><td> 0.0279868005</td><td>-0.024792659 </td><td>-0.024372533 </td><td> 0.027907272 </td><td>...          </td><td> 0.006137304 </td><td> 0.044575411 </td><td> 0.003013726 </td><td> 0.0258416787</td><td>-0.0085926331</td><td> 0.0463641834</td><td>-0.0296238620</td><td> 0.0318399871</td><td> 0.104962901 </td><td> 0.1442104645</td></tr>\n",
       "\t<tr><th scope=row>ABESAUT</th><td>-0.027822244 </td><td>-0.0187159833</td><td>-0.0090472463</td><td> 0.0219578117</td><td>-0.0287701034</td><td> 0.0072633041</td><td> 0.0098257453</td><td> 0.006150846 </td><td>-0.018834163 </td><td>-0.011205219 </td><td>...          </td><td>-0.005897753 </td><td>-0.006533715 </td><td> 0.029317743 </td><td> 0.0005294675</td><td>-0.0018302862</td><td>-0.0059368611</td><td>-0.0058775474</td><td>-0.0070409964</td><td> 0.012449249 </td><td>-0.0091760865</td></tr>\n",
       "\t<tr><th scope=row>AMOTSCO</th><td>-0.012530104 </td><td>-0.0192945220</td><td> 0.0130761418</td><td>-0.0155714609</td><td>-0.0117906217</td><td> 0.0093761338</td><td>-0.0029894687</td><td> 0.001690160 </td><td>-0.003654511 </td><td> 0.013421011 </td><td>...          </td><td> 0.017806987 </td><td>-0.005216645 </td><td>-0.001050551 </td><td>-0.0190202662</td><td>-0.0040711207</td><td>-0.0040145076</td><td>-0.0127820005</td><td> 0.0092195958</td><td> 0.022463507 </td><td> 0.0085891397</td></tr>\n",
       "\t<tr><th scope=row>AVRAAUT</th><td> 0.018883173 </td><td>-0.0096897254</td><td> 0.0006077907</td><td>-0.0130463630</td><td> 0.0219627902</td><td>-0.0110520075</td><td> 0.0252615535</td><td>-0.005130210 </td><td>-0.017734246 </td><td> 0.009474194 </td><td>...          </td><td>-0.002600888 </td><td>-0.002881345 </td><td> 0.033200839 </td><td>-0.0068653978</td><td>-0.0008071496</td><td>-0.0026181342</td><td> 0.0205689161</td><td>-0.0031050539</td><td>-0.004223711 </td><td>-0.0089630287</td></tr>\n",
       "\t<tr><th scope=row>AAANHANG</th><td> 0.030461318 </td><td>-0.0103485572</td><td> 0.0146078975</td><td> 0.0061024936</td><td> 0.0337196176</td><td>-0.0038722846</td><td> 0.0161068474</td><td>-0.016247003 </td><td>-0.005018963 </td><td> 0.015456850 </td><td>...          </td><td> 0.011472038 </td><td> 0.008879310 </td><td> 0.046964523 </td><td> 0.0325251869</td><td> 0.0579169959</td><td> 0.0261211692</td><td>-0.0085430564</td><td> 0.0365872195</td><td>-0.011845945 </td><td> 0.0094282251</td></tr>\n",
       "\t<tr><th scope=row>ATRACTOR</th><td> 0.092055217 </td><td>-0.0275696406</td><td> 0.0586812701</td><td>-0.0055037754</td><td> 0.1052491418</td><td>-0.0437516060</td><td> 0.0433001744</td><td>-0.029244699 </td><td>-0.014143150 </td><td> 0.020569918 </td><td>...          </td><td> 0.048592455 </td><td> 0.024106801 </td><td> 0.074588985 </td><td> 0.1120553521</td><td>-0.0031752861</td><td>-0.0015584540</td><td>-0.0109174647</td><td>-0.0043273199</td><td> 0.019063104 </td><td>-0.0172020197</td></tr>\n",
       "\t<tr><th scope=row>AWERKT</th><td> 0.020122753 </td><td>-0.0067560716</td><td> 0.0272568661</td><td> 0.0056300126</td><td> 0.0223467089</td><td>-0.0042383744</td><td> 0.0076027735</td><td> 0.000657104 </td><td>-0.008057564 </td><td> 0.014775725 </td><td>...          </td><td> 0.072381510 </td><td>-0.004036087 </td><td> 0.050630768 </td><td> 0.0208634766</td><td>-0.0011306270</td><td>-0.0036673912</td><td>-0.0075000966</td><td>-0.0043494513</td><td>-0.005916427 </td><td>-0.0125550985</td></tr>\n",
       "\t<tr><th scope=row>ABROM</th><td> 0.032137074 </td><td>-0.0133355687</td><td> 0.0186154409</td><td> 0.0004705706</td><td> 0.0362511036</td><td>-0.0242624569</td><td> 0.0158455377</td><td>-0.024621854 </td><td> 0.008523187 </td><td> 0.014860005 </td><td>...          </td><td>-0.019436715 </td><td>-0.005439815 </td><td>-0.015918081 </td><td>-0.1830023432</td><td>-0.0060319157</td><td>-0.0195655993</td><td>-0.0277280333</td><td>-0.0232044024</td><td>-0.015363803 </td><td>-0.0451163962</td></tr>\n",
       "\t<tr><th scope=row>ALEVEN</th><td>-0.028829359 </td><td> 0.0209263776</td><td> 0.0174277184</td><td>-0.0251870476</td><td>-0.0272403484</td><td> 0.0037927415</td><td>-0.0184591287</td><td> 0.003050293 </td><td> 0.010169288 </td><td> 0.015055761 </td><td>...          </td><td> 0.016411480 </td><td> 0.119148902 </td><td>-0.006280104 </td><td> 0.0920780021</td><td>-0.0046072276</td><td>-0.0037968843</td><td> 0.0039418840</td><td> 0.0325723826</td><td> 0.017600157 </td><td> 0.0371176230</td></tr>\n",
       "\t<tr><th scope=row>APERSONG</th><td> 0.021707387 </td><td> 0.0033205607</td><td>-0.0001283250</td><td> 0.0210701969</td><td> 0.0239757042</td><td>-0.0084496474</td><td>-0.0143545843</td><td> 0.006571608 </td><td> 0.008844371 </td><td> 0.011512439 </td><td>...          </td><td> 1.000000000 </td><td>-0.005930369 </td><td>-0.004384055 </td><td> 0.0139740784</td><td>-0.0016612711</td><td> 0.0235262146</td><td>-0.0110201631</td><td>-0.0063908061</td><td>-0.008693221 </td><td>-0.0084919429</td></tr>\n",
       "\t<tr><th scope=row>AGEZONG</th><td>-0.012059779 </td><td> 0.0094435174</td><td> 0.0167597277</td><td>-0.0017470283</td><td>-0.0100041462</td><td> 0.0053862951</td><td> 0.0039492314</td><td>-0.005569313 </td><td> 0.004241859 </td><td> 0.022375836 </td><td>...          </td><td>-0.005930369 </td><td> 1.000000000 </td><td>-0.004856792 </td><td> 0.0392323752</td><td>-0.0018404080</td><td>-0.0059696930</td><td> 0.0383447011</td><td> 0.0165009455</td><td> 0.114810193 </td><td> 0.0335484032</td></tr>\n",
       "\t<tr><th scope=row>AWAOREG</th><td>-0.002909423 </td><td>-0.0163329939</td><td> 0.0187492290</td><td> 0.0006444196</td><td>-0.0022434628</td><td>-0.0128432499</td><td> 0.0039747163</td><td> 0.017695583 </td><td>-0.004139205 </td><td> 0.011678011 </td><td>...          </td><td>-0.004384055 </td><td>-0.004856792 </td><td> 1.000000000 </td><td> 0.0339906750</td><td>-0.0013605307</td><td>-0.0044131251</td><td>-0.0090251795</td><td>-0.0052338765</td><td>-0.007119484 </td><td> 0.0223373107</td></tr>\n",
       "\t<tr><th scope=row>ABRAND</th><td>-0.011512113 </td><td> 0.0006545495</td><td>-0.0092689689</td><td> 0.0244168979</td><td>-0.0123720038</td><td> 0.0019283957</td><td> 0.0463522124</td><td> 0.006301538 </td><td>-0.052604647 </td><td>-0.007978510 </td><td>...          </td><td> 0.013974078 </td><td> 0.039232375 </td><td> 0.033990675 </td><td> 1.0000000000</td><td> 0.0039022420</td><td> 0.0001768573</td><td>-0.0310950672</td><td> 0.0262740207</td><td> 0.034853792 </td><td> 0.0613811660</td></tr>\n",
       "\t<tr><th scope=row>AZEILPL</th><td> 0.007800943 </td><td>-0.0061891407</td><td> 0.0092343649</td><td> 0.0002441930</td><td> 0.0070986454</td><td>-0.0006751743</td><td> 0.0137600087</td><td>-0.023877254 </td><td>-0.008411900 </td><td> 0.009710577 </td><td>...          </td><td>-0.001661271 </td><td>-0.001840408 </td><td>-0.001360531 </td><td> 0.0039022420</td><td> 1.0000000000</td><td> 0.0910520408</td><td>-0.0034199551</td><td> 0.0816888924</td><td>-0.002697821 </td><td> 0.0262010877</td></tr>\n",
       "\t<tr><th scope=row>APLEZIER</th><td>-0.018161638 </td><td> 0.0006662173</td><td> 0.0006443739</td><td>-0.0017913964</td><td>-0.0206830450</td><td> 0.0117945560</td><td> 0.0184678037</td><td> 0.009417361 </td><td>-0.026407349 </td><td>-0.001565529 </td><td>...          </td><td> 0.023526215 </td><td>-0.005969693 </td><td>-0.004413125 </td><td> 0.0001768573</td><td> 0.0910520408</td><td> 1.0000000000</td><td>-0.0110932372</td><td> 0.0400935156</td><td> 0.026324891 </td><td> 0.1056995045</td></tr>\n",
       "\t<tr><th scope=row>AFIETS</th><td>-0.015773558 </td><td>-0.0209932735</td><td> 0.0303300563</td><td> 0.0206116095</td><td>-0.0179902544</td><td>-0.0015029143</td><td> 0.0019064706</td><td> 0.025661055 </td><td>-0.011121966 </td><td> 0.020921355 </td><td>...          </td><td>-0.011020163 </td><td> 0.038344701 </td><td>-0.009025180 </td><td>-0.0310950672</td><td>-0.0034199551</td><td>-0.0110932372</td><td> 1.0000000000</td><td> 0.0048451248</td><td> 0.009245879 </td><td> 0.0341439482</td></tr>\n",
       "\t<tr><th scope=row>AINBOED</th><td>-0.021087420 </td><td> 0.0183037932</td><td> 0.0259066857</td><td>-0.0200420361</td><td>-0.0209970072</td><td>-0.0114309114</td><td> 0.0023918343</td><td>-0.009734439 </td><td> 0.007261280 </td><td>-0.003419510 </td><td>...          </td><td>-0.006390806 </td><td> 0.016500945 </td><td>-0.005233876 </td><td> 0.0262740207</td><td> 0.0816888924</td><td> 0.0400935156</td><td> 0.0048451248</td><td> 1.0000000000</td><td> 0.021273166 </td><td> 0.0180255830</td></tr>\n",
       "\t<tr><th scope=row>ABYSTAND</th><td>-0.053717567 </td><td>-0.0041662224</td><td> 0.0283837616</td><td>-0.0145397443</td><td>-0.0517231409</td><td>-0.0040087784</td><td> 0.0166578672</td><td> 0.010127307 </td><td>-0.027291255 </td><td> 0.036568846 </td><td>...          </td><td>-0.008693221 </td><td> 0.114810193 </td><td>-0.007119484 </td><td> 0.0348537916</td><td>-0.0026978207</td><td> 0.0263248910</td><td> 0.0092458794</td><td> 0.0212731661</td><td> 1.000000000 </td><td> 0.0666578513</td></tr>\n",
       "\t<tr><th scope=row>CARAVAN</th><td>-0.069385237 </td><td>-0.0098090276</td><td> 0.0355731574</td><td> 0.0044906973</td><td>-0.0692998304</td><td> 0.0062254235</td><td> 0.0328663302</td><td> 0.004039404 </td><td>-0.041706886 </td><td> 0.070263828 </td><td>...          </td><td>-0.008491943 </td><td> 0.033548403 </td><td> 0.022337311 </td><td> 0.0613811660</td><td> 0.0262010877</td><td> 0.1056995045</td><td> 0.0341439482</td><td> 0.0180255830</td><td> 0.066657851 </td><td> 1.0000000000</td></tr>\n",
       "</tbody>\n",
       "</table>\n"
      ],
      "text/latex": [
       "\\begin{tabular}{r|llllllllllllllllllllllllllllllllllllllllllllllllllllllllllllllllllllllllllllllllllllll}\n",
       "  & MOSTYPE & MAANTHUI & MGEMOMV & MGEMLEEF & MOSHOOFD & MGODRK & MGODPR & MGODOV & MGODGE & MRELGE & ... & APERSONG & AGEZONG & AWAOREG & ABRAND & AZEILPL & APLEZIER & AFIETS & AINBOED & ABYSTAND & CARAVAN\\\\\n",
       "\\hline\n",
       "\tMOSTYPE &  1.000000000  & -0.038721258  & -0.021996966  &  0.009454422  &  0.992671874  & -0.193613010  &  0.09039908   & -0.025642336  & -0.019504734  & -0.065595774  & ...           &  0.0217073867 & -0.0120597787 & -0.0029094232 & -0.0115121130 &  0.0078009434 & -0.0181616379 & -0.015773558  & -0.0210874196 & -0.053717567  & -0.069385237 \\\\\n",
       "\tMAANTHUI & -0.038721258  &  1.000000000  &  0.010102243  &  0.056974604  & -0.045816774  & -0.006136360  & -0.02436018   &  0.012056027  &  0.020540166  &  0.023024578  & ...           &  0.0033205607 &  0.0094435174 & -0.0163329939 &  0.0006545495 & -0.0061891407 &  0.0006662173 & -0.020993273  &  0.0183037932 & -0.004166222  & -0.009809028 \\\\\n",
       "\tMGEMOMV & -0.021996966  &  0.010102243  &  1.000000000  & -0.328257249  &  0.016115371  &  0.013105189  &  0.04935646   & -0.108649617  & -0.005527394  &  0.534797785  & ...           & -0.0001283250 &  0.0167597277 &  0.0187492290 & -0.0092689689 &  0.0092343649 &  0.0006443739 &  0.030330056  &  0.0259066857 &  0.028383762  &  0.035573157 \\\\\n",
       "\tMGEMLEEF &  0.009454422  &  0.056974604  & -0.328257249  &  1.000000000  &  0.003872334  & -0.037518737  &  0.09365402   &  0.057737161  & -0.119966338  & -0.040383808  & ...           &  0.0210701969 & -0.0017470283 &  0.0006444196 &  0.0244168979 &  0.0002441930 & -0.0017913964 &  0.020611609  & -0.0200420361 & -0.014539744  &  0.004490697 \\\\\n",
       "\tMOSHOOFD &  0.992671874  & -0.045816774  &  0.016115371  &  0.003872334  &  1.000000000  & -0.199186199  &  0.09849256   & -0.034565811  & -0.021465787  & -0.026618553  & ...           &  0.0239757042 & -0.0100041462 & -0.0022434628 & -0.0123720038 &  0.0070986454 & -0.0206830450 & -0.017990254  & -0.0209970072 & -0.051723141  & -0.069299830 \\\\\n",
       "\tMGODRK & -0.193613010  & -0.006136360  &  0.013105189  & -0.037518737  & -0.199186199  &  1.000000000  & -0.37276739   &  0.021125102  & -0.063904415  & -0.028594440  & ...           & -0.0084496474 &  0.0053862951 & -0.0128432499 &  0.0019283957 & -0.0006751743 &  0.0117945560 & -0.001502914  & -0.0114309114 & -0.004008778  &  0.006225424 \\\\\n",
       "\tMGODPR &  0.090399085  & -0.024360178  &  0.049356463  &  0.093654020  &  0.098492561  & -0.372767392  &  1.00000000   & -0.317548571  & -0.741894511  &  0.147256295  & ...           & -0.0143545843 &  0.0039492314 &  0.0039747163 &  0.0463522124 &  0.0137600087 &  0.0184678037 &  0.001906471  &  0.0023918343 &  0.016657867  &  0.032866330 \\\\\n",
       "\tMGODOV & -0.025642336  &  0.012056027  & -0.108649617  &  0.057737161  & -0.034565811  &  0.021125102  & -0.31754857   &  1.000000000  & -0.139306355  & -0.125703467  & ...           &  0.0065716077 & -0.0055693135 &  0.0176955827 &  0.0063015379 & -0.0238772539 &  0.0094173615 &  0.025661055  & -0.0097344391 &  0.010127307  &  0.004039404 \\\\\n",
       "\tMGODGE & -0.019504734  &  0.020540166  & -0.005527394  & -0.119966338  & -0.021465787  & -0.063904415  & -0.74189451   & -0.139306355  &  1.000000000  & -0.107899577  & ...           &  0.0088443705 &  0.0042418594 & -0.0041392047 & -0.0526046474 & -0.0084119000 & -0.0264073491 & -0.011121966  &  0.0072612796 & -0.027291255  & -0.041706886 \\\\\n",
       "\tMRELGE & -0.065595774  &  0.023024578  &  0.534797785  & -0.040383808  & -0.026618553  & -0.028594440  &  0.14725629   & -0.125703467  & -0.107899577  &  1.000000000  & ...           &  0.0115124386 &  0.0223758364 &  0.0116780108 & -0.0079785097 &  0.0097105773 & -0.0015655294 &  0.020921355  & -0.0034195098 &  0.036568846  &  0.070263828 \\\\\n",
       "\tMRELSA & -0.016270104  & -0.038565630  & -0.175586147  & -0.307400815  & -0.037508858  &  0.117575776  & -0.21103140   &  0.111762144  &  0.159553081  & -0.478340648  & ...           & -0.0205018773 & -0.0078946000 & -0.0111572250 & -0.0004703521 & -0.0207711079 &  0.0197738557 & -0.037474485  &  0.0183959072 & -0.013834785  & -0.033362293 \\\\\n",
       "\tMRELOV &  0.086939441  & -0.012544222  & -0.500734749  &  0.199773821  &  0.052670612  & -0.003456761  & -0.08405050   &  0.105340040  &  0.071837834  & -0.884361888  & ...           & -0.0068564122 & -0.0235741698 & -0.0036618178 &  0.0129517027 & -0.0038286829 & -0.0063107543 & -0.007909229  & -0.0026024131 & -0.039980805  & -0.062285359 \\\\\n",
       "\tMFALLEEN &  0.029239934  &  0.032534542  & -0.659552788  &  0.236593826  & -0.003443020  &  0.016316632  & -0.11592168   &  0.122197576  &  0.064642486  & -0.684233278  & ...           &  0.0019438515 & -0.0328660429 & -0.0048916438 &  0.0120280038 & -0.0111987328 & -0.0187871118 & -0.010050988  & -0.0135392322 & -0.033944424  & -0.053102157 \\\\\n",
       "\tMFGEKIND & -0.066250326  & -0.082919177  & -0.315959583  &  0.204225088  & -0.075000253  & -0.010359144  &  0.06645693   &  0.022851115  & -0.086730867  &  0.075363336  & ...           & -0.0045755905 &  0.0095433770 & -0.0057802532 &  0.0099099538 &  0.0107886901 &  0.0220042516 & -0.003323160  & -0.0100759436 &  0.001663515  &  0.007981430 \\\\\n",
       "\tMFWEKIND &  0.023407766  &  0.042143280  &  0.794014246  & -0.355754273  &  0.058618783  & -0.007469799  &  0.02397183   & -0.105429978  &  0.032341690  &  0.500353687  & ...           &  0.0008151776 &  0.0144578138 &  0.0098433461 & -0.0208052109 &  0.0041493926 & -0.0099787478 &  0.008305852  &  0.0172251358 &  0.020047390  &  0.032346087 \\\\\n",
       "\tMOPLHOOG & -0.473606339  &  0.003419200  &  0.008052835  & -0.025792266  & -0.471620098  &  0.241046873  & -0.09418137   &  0.002431063  & -0.003102010  &  0.075037877  & ...           & -0.0120584910 &  0.0045761801 & -0.0101843348 &  0.0159904140 &  0.0168689330 &  0.0076045933 &  0.040493383  &  0.0161397587 &  0.040344642  &  0.084635338 \\\\\n",
       "\tMOPLMIDD & -0.278429386  & -0.053170783  &  0.039626806  & -0.221675888  & -0.279497390  &  0.146696963  & -0.01580947   &  0.012658995  & -0.036979585  &  0.027069265  & ...           & -0.0038720016 &  0.0007902091 &  0.0044313920 & -0.0093395259 & -0.0045292130 &  0.0199639717 &  0.010180192  &  0.0181618843 &  0.030766841  &  0.043517067 \\\\\n",
       "\tMOPLLAAG &  0.525678035  &  0.036529125  & -0.038847106  &  0.178965233  &  0.524061718  & -0.251435075  &  0.05648093   & -0.006024369  &  0.042878421  & -0.081953565  & ...           &  0.0105306984 & -0.0062696478 &  0.0043874157 & -0.0039997167 & -0.0056567002 & -0.0192642558 & -0.035398310  & -0.0234136465 & -0.052650418  & -0.090561330 \\\\\n",
       "\tMBERHOOG & -0.418614955  & -0.005746748  &  0.023796484  &  0.141389484  & -0.412655659  &  0.217538119  & -0.01096481   & -0.052415156  & -0.056926766  &  0.176805677  & ...           &  0.0082077682 &  0.0071030386 &  0.0034971231 &  0.0411850992 &  0.0139523647 &  0.0042984648 &  0.035957179  &  0.0146018884 &  0.022060441  &  0.065081606 \\\\\n",
       "\tMBERZELF & -0.117735585  &  0.042437830  &  0.035698059  &  0.058309155  & -0.115330092  &  0.056606778  &  0.04293788   &  0.006322592  & -0.067139690  &  0.088330080  & ...           & -0.0101628462 & -0.0140997564 &  0.0121835599 &  0.0213447994 &  0.0274037527 &  0.0191989755 &  0.023505483  &  0.0114990128 &  0.011023979  &  0.021974498 \\\\\n",
       "\tMBERBOER &  0.248597540  & -0.018174590  &  0.106959822  &  0.090716402  &  0.276881858  & -0.105965116  &  0.11116370   & -0.046898666  & -0.052405042  &  0.019761300  & ...           &  0.0174366726 &  0.0063606758 &  0.0375823399 &  0.0157287240 &  0.0174241758 & -0.0065339200 & -0.028990073  & -0.0198129546 & -0.028923878  & -0.054002566 \\\\\n",
       "\tMBERMIDD & -0.206197511  &  0.005761900  & -0.004949426  & -0.162686466  & -0.219405165  &  0.087639077  & -0.03185736   &  0.077559808  & -0.024490370  & -0.007195562  & ...           & -0.0113793899 & -0.0025071182 & -0.0015359163 & -0.0007964099 & -0.0152111551 &  0.0074754840 & -0.001910115  &  0.0120215444 &  0.033760681  &  0.047716187 \\\\\n",
       "\tMBERARBG &  0.304749222  &  0.024801720  &  0.037589774  & -0.048102803  &  0.305281933  & -0.179813141  &  0.01715267   & -0.065500406  &  0.083005986  &  0.026831375  & ...           &  0.0097975559 &  0.0044929292 & -0.0076118486 & -0.0207847620 &  0.0014887683 & -0.0020608374 & -0.010195720  & -0.0012215495 & -0.048179272  & -0.042495838 \\\\\n",
       "\tMBERARBO &  0.273050765  & -0.052344935  & -0.161245997  &  0.034337607  &  0.258888302  & -0.072077265  & -0.03509865   &  0.108540812  &  0.023618473  & -0.298056266  & ...           & -0.0090618940 & -0.0134129403 & -0.0160914532 & -0.0204062656 & -0.0175243212 & -0.0133326853 & -0.036886094  & -0.0214212797 & -0.004594874  & -0.054632386 \\\\\n",
       "\tMSKA & -0.392931299  & -0.014437378  &  0.063096787  &  0.047819524  & -0.382017234  &  0.169645890  & -0.01056098   & -0.032892067  & -0.052752063  &  0.182821882  & ...           &  0.0092568686 & -0.0007286029 &  0.0003088894 &  0.0205318581 &  0.0269653636 &  0.0113277894 &  0.031267916  &  0.0181269125 &  0.022832992  &  0.063497598 \\\\\n",
       "\tMSKB1 & -0.188518463  &  0.009924238  &  0.011569923  & -0.155801566  & -0.192616339  &  0.137215429  & -0.04100292   &  0.054053794  & -0.023215146  & -0.029214849  & ...           & -0.0032140336 &  0.0111259389 &  0.0127019730 &  0.0031952638 &  0.0010210059 &  0.0075292076 &  0.006568950  & -0.0013050542 &  0.010363610  &  0.028762971 \\\\\n",
       "\tMSKB2 & -0.038077708  & -0.025302576  &  0.058551505  & -0.040359645  & -0.029730826  &  0.079703849  &  0.02859935   & -0.026432031  & -0.042170764  &  0.016749792  & ...           &  0.0057449793 & -0.0009698436 &  0.0167364397 &  0.0041724214 & -0.0079563116 & -0.0042490384 & -0.019414001  & -0.0165343017 &  0.025455216  &  0.004040261 \\\\\n",
       "\tMSKC &  0.386104459  & -0.007345068  & -0.019022276  & -0.063555498  &  0.379437394  & -0.215725169  &  0.05849485   &  0.001676504  &  0.031287617  & -0.036035268  & ...           & -0.0030717159 &  0.0012898904 & -0.0166085373 & -0.0194292257 & -0.0128112295 & -0.0082127482 & -0.023286030  & -0.0008820314 & -0.033262101  & -0.042309367 \\\\\n",
       "\tMSKD &  0.204630170  &  0.020671192  & -0.186612496  &  0.244596510  &  0.192136390  & -0.075164628  & -0.06989526   &  0.068483857  &  0.083144960  & -0.243143149  & ...           &  0.0070869331 & -0.0205574256 & -0.0235334513 & -0.0113684198 & -0.0185981584 &  0.0010390497 & -0.019654090  & -0.0103422802 & -0.040195468  & -0.063070266 \\\\\n",
       "\tMHHUUR &  0.148998453  & -0.049126992  & -0.339429461  &  0.025263825  &  0.118159882  & -0.096362189  & -0.22020374   &  0.145789737  &  0.224625163  & -0.390995695  & ...           &  0.0050865079 & -0.0220968491 & -0.0283027543 & -0.0821318695 & -0.0237923520 & -0.0260837399 & -0.030262408  & -0.0122300177 & -0.037379242  & -0.079143498 \\\\\n",
       "\t... & ... & ... & ... & ... & ... & ... & ... & ... & ... & ... &     & ... & ... & ... & ... & ... & ... & ... & ... & ... & ...\\\\\n",
       "\tPGEZONG & -0.015114736  &  0.0113378756 &  0.0164834822 & -0.0068157699 & -0.0130761214 &  0.0080176844 &  0.0006257971 & -0.004580546  &  0.006141642  &  0.020882036  & ...           & -0.005811575  &  0.979968511  & -0.004759504  &  0.0401180921 & -0.0018035419 & -0.0058501112 &  0.0303403431 &  0.0127950052 &  0.124450716  &  0.0402076295\\\\\n",
       "\tPWAOREG &  0.001364458  & -0.0170934893 &  0.0173897518 & -0.0015734652 &  0.0014445015 & -0.0138806571 &  0.0064324766 &  0.006038904  & -0.001264982  &  0.012914339  & ...           & -0.004588185  & -0.005082934  &  0.948429867  &  0.0276096888 & -0.0014238796 & -0.0046186086 & -0.0094454091 & -0.0054775757 & -0.007450981  &  0.0305286401\\\\\n",
       "\tPBRAND & -0.009754828  & -0.0013634521 &  0.0559983328 &  0.0193258328 & -0.0003219675 & -0.0038647412 &  0.0767606816 & -0.020293488  & -0.074481124  &  0.058452878  & ...           &  0.014243676  &  0.058510949  &  0.073991709  &  0.8655359202 &  0.0101370839 &  0.0134711642 & -0.0269183009 &  0.0373125576 &  0.053553940  &  0.0944459897\\\\\n",
       "\tPZEILPL &  0.014378841  & -0.0053866189 &  0.0080369808 &  0.0002125295 &  0.0154023054 &  0.0099188285 &  0.0089042989 & -0.020781183  & -0.010619899  &  0.012591479  & ...           & -0.001445861  & -0.001601769  & -0.001184116  &  0.0080845731 &  0.8703338933 &  0.0469652271 & -0.0029765028 &  0.0419675144 & -0.002348005  &  0.0116891605\\\\\n",
       "\tPPLEZIER & -0.018115529  &  0.0043912375 &  0.0018573556 & -0.0046626850 & -0.0205050911 &  0.0127853716 &  0.0183490344 &  0.005138917  & -0.023801543  & -0.010603456  & ...           &  0.003581607  & -0.005609557  & -0.004146893  &  0.0048040124 &  0.1647686648 &  0.9044364454 & -0.0104240112 &  0.0635092440 &  0.012751424  &  0.0913611589\\\\\n",
       "\tPFIETS & -0.012123635  & -0.0168904081 &  0.0307978384 &  0.0192052356 & -0.0148414691 &  0.0017627381 &  0.0056417925 &  0.026605567  & -0.017819088  &  0.017795816  & ...           & -0.011775512  &  0.014147566  & -0.009643787  & -0.0405239315 & -0.0036543672 & -0.0118535948 &  0.9358542621 &  0.0101496232 &  0.008251926  &  0.0286954418\\\\\n",
       "\tPINBOED & -0.017327120  &  0.0081407528 &  0.0130025869 & -0.0136116817 & -0.0171678330 & -0.0019932665 &  0.0014434547 & -0.011853554  &  0.006032587  & -0.008661315  & ...           & -0.005591015  &  0.014662600  & -0.004578872  &  0.0255844661 &  0.0352675355 &  0.0252353952 &  0.0004314066 &  0.8752564772 &  0.025913857  &  0.0055281002\\\\\n",
       "\tPBYSTAND & -0.059084119  & -0.0037674312 &  0.0345498414 & -0.0193733642 & -0.0572352270 &  0.0004482130 &  0.0189315850 &  0.009756510  & -0.031969277  &  0.036114659  & ...           & -0.008511541  &  0.126171987  & -0.006970694  &  0.0411659741 & -0.0026414390 &  0.0223032622 &  0.0083570993 &  0.0269818333 &  0.966238761  &  0.0627888617\\\\\n",
       "\tAWAPART & -0.032936542  &  0.0425310886 & -0.0439198354 & -0.0143195691 & -0.0416142581 &  0.0455425456 & -0.0141825603 &  0.017135413  & -0.017995798  & -0.042982245  & ...           & -0.011938059  &  0.054940684  & -0.008468917  &  0.5252611810 &  0.0121557789 & -0.0047136300 & -0.0058618390 &  0.0403377398 &  0.042298057  &  0.0893874727\\\\\n",
       "\tAWABEDR & -0.004066376  &  0.0046930448 &  0.0350624609 & -0.0082491669 & -0.0006864250 & -0.0266798069 &  0.0254411779 & -0.010084935  & -0.009003503  &  0.018260064  & ...           & -0.008058080  & -0.008926993  &  0.191960170  &  0.0523488081 & -0.0025007137 & -0.0081115131 & -0.0165886670 &  0.0186954619 & -0.002412590  & -0.0007589975\\\\\n",
       "\tAWALAND &  0.079674358  & -0.0276269681 &  0.0360385378 &  0.0074970071 &  0.0897914471 & -0.0549288781 &  0.0400000155 & -0.017097171  & -0.016663835  &  0.010122386  & ...           &  0.039220622  &  0.018267049  &  0.053786707  &  0.1346357670 & -0.0032939232 &  0.0041262251 & -0.0161201421 &  0.0006932605 &  0.002914314  & -0.0212790767\\\\\n",
       "\tAPERSAUT & -0.008274480  & -0.0294270484 &  0.0205980548 & -0.0158070638 & -0.0055732945 & -0.0027271509 &  0.0279868005 & -0.024792659  & -0.024372533  &  0.027907272  & ...           &  0.006137304  &  0.044575411  &  0.003013726  &  0.0258416787 & -0.0085926331 &  0.0463641834 & -0.0296238620 &  0.0318399871 &  0.104962901  &  0.1442104645\\\\\n",
       "\tABESAUT & -0.027822244  & -0.0187159833 & -0.0090472463 &  0.0219578117 & -0.0287701034 &  0.0072633041 &  0.0098257453 &  0.006150846  & -0.018834163  & -0.011205219  & ...           & -0.005897753  & -0.006533715  &  0.029317743  &  0.0005294675 & -0.0018302862 & -0.0059368611 & -0.0058775474 & -0.0070409964 &  0.012449249  & -0.0091760865\\\\\n",
       "\tAMOTSCO & -0.012530104  & -0.0192945220 &  0.0130761418 & -0.0155714609 & -0.0117906217 &  0.0093761338 & -0.0029894687 &  0.001690160  & -0.003654511  &  0.013421011  & ...           &  0.017806987  & -0.005216645  & -0.001050551  & -0.0190202662 & -0.0040711207 & -0.0040145076 & -0.0127820005 &  0.0092195958 &  0.022463507  &  0.0085891397\\\\\n",
       "\tAVRAAUT &  0.018883173  & -0.0096897254 &  0.0006077907 & -0.0130463630 &  0.0219627902 & -0.0110520075 &  0.0252615535 & -0.005130210  & -0.017734246  &  0.009474194  & ...           & -0.002600888  & -0.002881345  &  0.033200839  & -0.0068653978 & -0.0008071496 & -0.0026181342 &  0.0205689161 & -0.0031050539 & -0.004223711  & -0.0089630287\\\\\n",
       "\tAAANHANG &  0.030461318  & -0.0103485572 &  0.0146078975 &  0.0061024936 &  0.0337196176 & -0.0038722846 &  0.0161068474 & -0.016247003  & -0.005018963  &  0.015456850  & ...           &  0.011472038  &  0.008879310  &  0.046964523  &  0.0325251869 &  0.0579169959 &  0.0261211692 & -0.0085430564 &  0.0365872195 & -0.011845945  &  0.0094282251\\\\\n",
       "\tATRACTOR &  0.092055217  & -0.0275696406 &  0.0586812701 & -0.0055037754 &  0.1052491418 & -0.0437516060 &  0.0433001744 & -0.029244699  & -0.014143150  &  0.020569918  & ...           &  0.048592455  &  0.024106801  &  0.074588985  &  0.1120553521 & -0.0031752861 & -0.0015584540 & -0.0109174647 & -0.0043273199 &  0.019063104  & -0.0172020197\\\\\n",
       "\tAWERKT &  0.020122753  & -0.0067560716 &  0.0272568661 &  0.0056300126 &  0.0223467089 & -0.0042383744 &  0.0076027735 &  0.000657104  & -0.008057564  &  0.014775725  & ...           &  0.072381510  & -0.004036087  &  0.050630768  &  0.0208634766 & -0.0011306270 & -0.0036673912 & -0.0075000966 & -0.0043494513 & -0.005916427  & -0.0125550985\\\\\n",
       "\tABROM &  0.032137074  & -0.0133355687 &  0.0186154409 &  0.0004705706 &  0.0362511036 & -0.0242624569 &  0.0158455377 & -0.024621854  &  0.008523187  &  0.014860005  & ...           & -0.019436715  & -0.005439815  & -0.015918081  & -0.1830023432 & -0.0060319157 & -0.0195655993 & -0.0277280333 & -0.0232044024 & -0.015363803  & -0.0451163962\\\\\n",
       "\tALEVEN & -0.028829359  &  0.0209263776 &  0.0174277184 & -0.0251870476 & -0.0272403484 &  0.0037927415 & -0.0184591287 &  0.003050293  &  0.010169288  &  0.015055761  & ...           &  0.016411480  &  0.119148902  & -0.006280104  &  0.0920780021 & -0.0046072276 & -0.0037968843 &  0.0039418840 &  0.0325723826 &  0.017600157  &  0.0371176230\\\\\n",
       "\tAPERSONG &  0.021707387  &  0.0033205607 & -0.0001283250 &  0.0210701969 &  0.0239757042 & -0.0084496474 & -0.0143545843 &  0.006571608  &  0.008844371  &  0.011512439  & ...           &  1.000000000  & -0.005930369  & -0.004384055  &  0.0139740784 & -0.0016612711 &  0.0235262146 & -0.0110201631 & -0.0063908061 & -0.008693221  & -0.0084919429\\\\\n",
       "\tAGEZONG & -0.012059779  &  0.0094435174 &  0.0167597277 & -0.0017470283 & -0.0100041462 &  0.0053862951 &  0.0039492314 & -0.005569313  &  0.004241859  &  0.022375836  & ...           & -0.005930369  &  1.000000000  & -0.004856792  &  0.0392323752 & -0.0018404080 & -0.0059696930 &  0.0383447011 &  0.0165009455 &  0.114810193  &  0.0335484032\\\\\n",
       "\tAWAOREG & -0.002909423  & -0.0163329939 &  0.0187492290 &  0.0006444196 & -0.0022434628 & -0.0128432499 &  0.0039747163 &  0.017695583  & -0.004139205  &  0.011678011  & ...           & -0.004384055  & -0.004856792  &  1.000000000  &  0.0339906750 & -0.0013605307 & -0.0044131251 & -0.0090251795 & -0.0052338765 & -0.007119484  &  0.0223373107\\\\\n",
       "\tABRAND & -0.011512113  &  0.0006545495 & -0.0092689689 &  0.0244168979 & -0.0123720038 &  0.0019283957 &  0.0463522124 &  0.006301538  & -0.052604647  & -0.007978510  & ...           &  0.013974078  &  0.039232375  &  0.033990675  &  1.0000000000 &  0.0039022420 &  0.0001768573 & -0.0310950672 &  0.0262740207 &  0.034853792  &  0.0613811660\\\\\n",
       "\tAZEILPL &  0.007800943  & -0.0061891407 &  0.0092343649 &  0.0002441930 &  0.0070986454 & -0.0006751743 &  0.0137600087 & -0.023877254  & -0.008411900  &  0.009710577  & ...           & -0.001661271  & -0.001840408  & -0.001360531  &  0.0039022420 &  1.0000000000 &  0.0910520408 & -0.0034199551 &  0.0816888924 & -0.002697821  &  0.0262010877\\\\\n",
       "\tAPLEZIER & -0.018161638  &  0.0006662173 &  0.0006443739 & -0.0017913964 & -0.0206830450 &  0.0117945560 &  0.0184678037 &  0.009417361  & -0.026407349  & -0.001565529  & ...           &  0.023526215  & -0.005969693  & -0.004413125  &  0.0001768573 &  0.0910520408 &  1.0000000000 & -0.0110932372 &  0.0400935156 &  0.026324891  &  0.1056995045\\\\\n",
       "\tAFIETS & -0.015773558  & -0.0209932735 &  0.0303300563 &  0.0206116095 & -0.0179902544 & -0.0015029143 &  0.0019064706 &  0.025661055  & -0.011121966  &  0.020921355  & ...           & -0.011020163  &  0.038344701  & -0.009025180  & -0.0310950672 & -0.0034199551 & -0.0110932372 &  1.0000000000 &  0.0048451248 &  0.009245879  &  0.0341439482\\\\\n",
       "\tAINBOED & -0.021087420  &  0.0183037932 &  0.0259066857 & -0.0200420361 & -0.0209970072 & -0.0114309114 &  0.0023918343 & -0.009734439  &  0.007261280  & -0.003419510  & ...           & -0.006390806  &  0.016500945  & -0.005233876  &  0.0262740207 &  0.0816888924 &  0.0400935156 &  0.0048451248 &  1.0000000000 &  0.021273166  &  0.0180255830\\\\\n",
       "\tABYSTAND & -0.053717567  & -0.0041662224 &  0.0283837616 & -0.0145397443 & -0.0517231409 & -0.0040087784 &  0.0166578672 &  0.010127307  & -0.027291255  &  0.036568846  & ...           & -0.008693221  &  0.114810193  & -0.007119484  &  0.0348537916 & -0.0026978207 &  0.0263248910 &  0.0092458794 &  0.0212731661 &  1.000000000  &  0.0666578513\\\\\n",
       "\tCARAVAN & -0.069385237  & -0.0098090276 &  0.0355731574 &  0.0044906973 & -0.0692998304 &  0.0062254235 &  0.0328663302 &  0.004039404  & -0.041706886  &  0.070263828  & ...           & -0.008491943  &  0.033548403  &  0.022337311  &  0.0613811660 &  0.0262010877 &  0.1056995045 &  0.0341439482 &  0.0180255830 &  0.066657851  &  1.0000000000\\\\\n",
       "\\end{tabular}\n"
      ],
      "text/markdown": [
       "\n",
       "| <!--/--> | MOSTYPE | MAANTHUI | MGEMOMV | MGEMLEEF | MOSHOOFD | MGODRK | MGODPR | MGODOV | MGODGE | MRELGE | ... | APERSONG | AGEZONG | AWAOREG | ABRAND | AZEILPL | APLEZIER | AFIETS | AINBOED | ABYSTAND | CARAVAN | \n",
       "|---|---|---|---|---|---|---|---|---|---|---|---|---|---|---|---|---|---|---|---|---|---|---|---|---|---|---|---|---|---|---|---|---|---|---|---|---|---|---|---|---|---|---|---|---|---|---|---|---|---|---|---|---|---|---|---|---|---|---|---|---|\n",
       "| MOSTYPE |  1.000000000  | -0.038721258  | -0.021996966  |  0.009454422  |  0.992671874  | -0.193613010  |  0.09039908   | -0.025642336  | -0.019504734  | -0.065595774  | ...           |  0.0217073867 | -0.0120597787 | -0.0029094232 | -0.0115121130 |  0.0078009434 | -0.0181616379 | -0.015773558  | -0.0210874196 | -0.053717567  | -0.069385237  | \n",
       "| MAANTHUI | -0.038721258  |  1.000000000  |  0.010102243  |  0.056974604  | -0.045816774  | -0.006136360  | -0.02436018   |  0.012056027  |  0.020540166  |  0.023024578  | ...           |  0.0033205607 |  0.0094435174 | -0.0163329939 |  0.0006545495 | -0.0061891407 |  0.0006662173 | -0.020993273  |  0.0183037932 | -0.004166222  | -0.009809028  | \n",
       "| MGEMOMV | -0.021996966  |  0.010102243  |  1.000000000  | -0.328257249  |  0.016115371  |  0.013105189  |  0.04935646   | -0.108649617  | -0.005527394  |  0.534797785  | ...           | -0.0001283250 |  0.0167597277 |  0.0187492290 | -0.0092689689 |  0.0092343649 |  0.0006443739 |  0.030330056  |  0.0259066857 |  0.028383762  |  0.035573157  | \n",
       "| MGEMLEEF |  0.009454422  |  0.056974604  | -0.328257249  |  1.000000000  |  0.003872334  | -0.037518737  |  0.09365402   |  0.057737161  | -0.119966338  | -0.040383808  | ...           |  0.0210701969 | -0.0017470283 |  0.0006444196 |  0.0244168979 |  0.0002441930 | -0.0017913964 |  0.020611609  | -0.0200420361 | -0.014539744  |  0.004490697  | \n",
       "| MOSHOOFD |  0.992671874  | -0.045816774  |  0.016115371  |  0.003872334  |  1.000000000  | -0.199186199  |  0.09849256   | -0.034565811  | -0.021465787  | -0.026618553  | ...           |  0.0239757042 | -0.0100041462 | -0.0022434628 | -0.0123720038 |  0.0070986454 | -0.0206830450 | -0.017990254  | -0.0209970072 | -0.051723141  | -0.069299830  | \n",
       "| MGODRK | -0.193613010  | -0.006136360  |  0.013105189  | -0.037518737  | -0.199186199  |  1.000000000  | -0.37276739   |  0.021125102  | -0.063904415  | -0.028594440  | ...           | -0.0084496474 |  0.0053862951 | -0.0128432499 |  0.0019283957 | -0.0006751743 |  0.0117945560 | -0.001502914  | -0.0114309114 | -0.004008778  |  0.006225424  | \n",
       "| MGODPR |  0.090399085  | -0.024360178  |  0.049356463  |  0.093654020  |  0.098492561  | -0.372767392  |  1.00000000   | -0.317548571  | -0.741894511  |  0.147256295  | ...           | -0.0143545843 |  0.0039492314 |  0.0039747163 |  0.0463522124 |  0.0137600087 |  0.0184678037 |  0.001906471  |  0.0023918343 |  0.016657867  |  0.032866330  | \n",
       "| MGODOV | -0.025642336  |  0.012056027  | -0.108649617  |  0.057737161  | -0.034565811  |  0.021125102  | -0.31754857   |  1.000000000  | -0.139306355  | -0.125703467  | ...           |  0.0065716077 | -0.0055693135 |  0.0176955827 |  0.0063015379 | -0.0238772539 |  0.0094173615 |  0.025661055  | -0.0097344391 |  0.010127307  |  0.004039404  | \n",
       "| MGODGE | -0.019504734  |  0.020540166  | -0.005527394  | -0.119966338  | -0.021465787  | -0.063904415  | -0.74189451   | -0.139306355  |  1.000000000  | -0.107899577  | ...           |  0.0088443705 |  0.0042418594 | -0.0041392047 | -0.0526046474 | -0.0084119000 | -0.0264073491 | -0.011121966  |  0.0072612796 | -0.027291255  | -0.041706886  | \n",
       "| MRELGE | -0.065595774  |  0.023024578  |  0.534797785  | -0.040383808  | -0.026618553  | -0.028594440  |  0.14725629   | -0.125703467  | -0.107899577  |  1.000000000  | ...           |  0.0115124386 |  0.0223758364 |  0.0116780108 | -0.0079785097 |  0.0097105773 | -0.0015655294 |  0.020921355  | -0.0034195098 |  0.036568846  |  0.070263828  | \n",
       "| MRELSA | -0.016270104  | -0.038565630  | -0.175586147  | -0.307400815  | -0.037508858  |  0.117575776  | -0.21103140   |  0.111762144  |  0.159553081  | -0.478340648  | ...           | -0.0205018773 | -0.0078946000 | -0.0111572250 | -0.0004703521 | -0.0207711079 |  0.0197738557 | -0.037474485  |  0.0183959072 | -0.013834785  | -0.033362293  | \n",
       "| MRELOV |  0.086939441  | -0.012544222  | -0.500734749  |  0.199773821  |  0.052670612  | -0.003456761  | -0.08405050   |  0.105340040  |  0.071837834  | -0.884361888  | ...           | -0.0068564122 | -0.0235741698 | -0.0036618178 |  0.0129517027 | -0.0038286829 | -0.0063107543 | -0.007909229  | -0.0026024131 | -0.039980805  | -0.062285359  | \n",
       "| MFALLEEN |  0.029239934  |  0.032534542  | -0.659552788  |  0.236593826  | -0.003443020  |  0.016316632  | -0.11592168   |  0.122197576  |  0.064642486  | -0.684233278  | ...           |  0.0019438515 | -0.0328660429 | -0.0048916438 |  0.0120280038 | -0.0111987328 | -0.0187871118 | -0.010050988  | -0.0135392322 | -0.033944424  | -0.053102157  | \n",
       "| MFGEKIND | -0.066250326  | -0.082919177  | -0.315959583  |  0.204225088  | -0.075000253  | -0.010359144  |  0.06645693   |  0.022851115  | -0.086730867  |  0.075363336  | ...           | -0.0045755905 |  0.0095433770 | -0.0057802532 |  0.0099099538 |  0.0107886901 |  0.0220042516 | -0.003323160  | -0.0100759436 |  0.001663515  |  0.007981430  | \n",
       "| MFWEKIND |  0.023407766  |  0.042143280  |  0.794014246  | -0.355754273  |  0.058618783  | -0.007469799  |  0.02397183   | -0.105429978  |  0.032341690  |  0.500353687  | ...           |  0.0008151776 |  0.0144578138 |  0.0098433461 | -0.0208052109 |  0.0041493926 | -0.0099787478 |  0.008305852  |  0.0172251358 |  0.020047390  |  0.032346087  | \n",
       "| MOPLHOOG | -0.473606339  |  0.003419200  |  0.008052835  | -0.025792266  | -0.471620098  |  0.241046873  | -0.09418137   |  0.002431063  | -0.003102010  |  0.075037877  | ...           | -0.0120584910 |  0.0045761801 | -0.0101843348 |  0.0159904140 |  0.0168689330 |  0.0076045933 |  0.040493383  |  0.0161397587 |  0.040344642  |  0.084635338  | \n",
       "| MOPLMIDD | -0.278429386  | -0.053170783  |  0.039626806  | -0.221675888  | -0.279497390  |  0.146696963  | -0.01580947   |  0.012658995  | -0.036979585  |  0.027069265  | ...           | -0.0038720016 |  0.0007902091 |  0.0044313920 | -0.0093395259 | -0.0045292130 |  0.0199639717 |  0.010180192  |  0.0181618843 |  0.030766841  |  0.043517067  | \n",
       "| MOPLLAAG |  0.525678035  |  0.036529125  | -0.038847106  |  0.178965233  |  0.524061718  | -0.251435075  |  0.05648093   | -0.006024369  |  0.042878421  | -0.081953565  | ...           |  0.0105306984 | -0.0062696478 |  0.0043874157 | -0.0039997167 | -0.0056567002 | -0.0192642558 | -0.035398310  | -0.0234136465 | -0.052650418  | -0.090561330  | \n",
       "| MBERHOOG | -0.418614955  | -0.005746748  |  0.023796484  |  0.141389484  | -0.412655659  |  0.217538119  | -0.01096481   | -0.052415156  | -0.056926766  |  0.176805677  | ...           |  0.0082077682 |  0.0071030386 |  0.0034971231 |  0.0411850992 |  0.0139523647 |  0.0042984648 |  0.035957179  |  0.0146018884 |  0.022060441  |  0.065081606  | \n",
       "| MBERZELF | -0.117735585  |  0.042437830  |  0.035698059  |  0.058309155  | -0.115330092  |  0.056606778  |  0.04293788   |  0.006322592  | -0.067139690  |  0.088330080  | ...           | -0.0101628462 | -0.0140997564 |  0.0121835599 |  0.0213447994 |  0.0274037527 |  0.0191989755 |  0.023505483  |  0.0114990128 |  0.011023979  |  0.021974498  | \n",
       "| MBERBOER |  0.248597540  | -0.018174590  |  0.106959822  |  0.090716402  |  0.276881858  | -0.105965116  |  0.11116370   | -0.046898666  | -0.052405042  |  0.019761300  | ...           |  0.0174366726 |  0.0063606758 |  0.0375823399 |  0.0157287240 |  0.0174241758 | -0.0065339200 | -0.028990073  | -0.0198129546 | -0.028923878  | -0.054002566  | \n",
       "| MBERMIDD | -0.206197511  |  0.005761900  | -0.004949426  | -0.162686466  | -0.219405165  |  0.087639077  | -0.03185736   |  0.077559808  | -0.024490370  | -0.007195562  | ...           | -0.0113793899 | -0.0025071182 | -0.0015359163 | -0.0007964099 | -0.0152111551 |  0.0074754840 | -0.001910115  |  0.0120215444 |  0.033760681  |  0.047716187  | \n",
       "| MBERARBG |  0.304749222  |  0.024801720  |  0.037589774  | -0.048102803  |  0.305281933  | -0.179813141  |  0.01715267   | -0.065500406  |  0.083005986  |  0.026831375  | ...           |  0.0097975559 |  0.0044929292 | -0.0076118486 | -0.0207847620 |  0.0014887683 | -0.0020608374 | -0.010195720  | -0.0012215495 | -0.048179272  | -0.042495838  | \n",
       "| MBERARBO |  0.273050765  | -0.052344935  | -0.161245997  |  0.034337607  |  0.258888302  | -0.072077265  | -0.03509865   |  0.108540812  |  0.023618473  | -0.298056266  | ...           | -0.0090618940 | -0.0134129403 | -0.0160914532 | -0.0204062656 | -0.0175243212 | -0.0133326853 | -0.036886094  | -0.0214212797 | -0.004594874  | -0.054632386  | \n",
       "| MSKA | -0.392931299  | -0.014437378  |  0.063096787  |  0.047819524  | -0.382017234  |  0.169645890  | -0.01056098   | -0.032892067  | -0.052752063  |  0.182821882  | ...           |  0.0092568686 | -0.0007286029 |  0.0003088894 |  0.0205318581 |  0.0269653636 |  0.0113277894 |  0.031267916  |  0.0181269125 |  0.022832992  |  0.063497598  | \n",
       "| MSKB1 | -0.188518463  |  0.009924238  |  0.011569923  | -0.155801566  | -0.192616339  |  0.137215429  | -0.04100292   |  0.054053794  | -0.023215146  | -0.029214849  | ...           | -0.0032140336 |  0.0111259389 |  0.0127019730 |  0.0031952638 |  0.0010210059 |  0.0075292076 |  0.006568950  | -0.0013050542 |  0.010363610  |  0.028762971  | \n",
       "| MSKB2 | -0.038077708  | -0.025302576  |  0.058551505  | -0.040359645  | -0.029730826  |  0.079703849  |  0.02859935   | -0.026432031  | -0.042170764  |  0.016749792  | ...           |  0.0057449793 | -0.0009698436 |  0.0167364397 |  0.0041724214 | -0.0079563116 | -0.0042490384 | -0.019414001  | -0.0165343017 |  0.025455216  |  0.004040261  | \n",
       "| MSKC |  0.386104459  | -0.007345068  | -0.019022276  | -0.063555498  |  0.379437394  | -0.215725169  |  0.05849485   |  0.001676504  |  0.031287617  | -0.036035268  | ...           | -0.0030717159 |  0.0012898904 | -0.0166085373 | -0.0194292257 | -0.0128112295 | -0.0082127482 | -0.023286030  | -0.0008820314 | -0.033262101  | -0.042309367  | \n",
       "| MSKD |  0.204630170  |  0.020671192  | -0.186612496  |  0.244596510  |  0.192136390  | -0.075164628  | -0.06989526   |  0.068483857  |  0.083144960  | -0.243143149  | ...           |  0.0070869331 | -0.0205574256 | -0.0235334513 | -0.0113684198 | -0.0185981584 |  0.0010390497 | -0.019654090  | -0.0103422802 | -0.040195468  | -0.063070266  | \n",
       "| MHHUUR |  0.148998453  | -0.049126992  | -0.339429461  |  0.025263825  |  0.118159882  | -0.096362189  | -0.22020374   |  0.145789737  |  0.224625163  | -0.390995695  | ...           |  0.0050865079 | -0.0220968491 | -0.0283027543 | -0.0821318695 | -0.0237923520 | -0.0260837399 | -0.030262408  | -0.0122300177 | -0.037379242  | -0.079143498  | \n",
       "| ... | ... | ... | ... | ... | ... | ... | ... | ... | ... | ... |     | ... | ... | ... | ... | ... | ... | ... | ... | ... | ... | \n",
       "| PGEZONG | -0.015114736  |  0.0113378756 |  0.0164834822 | -0.0068157699 | -0.0130761214 |  0.0080176844 |  0.0006257971 | -0.004580546  |  0.006141642  |  0.020882036  | ...           | -0.005811575  |  0.979968511  | -0.004759504  |  0.0401180921 | -0.0018035419 | -0.0058501112 |  0.0303403431 |  0.0127950052 |  0.124450716  |  0.0402076295 | \n",
       "| PWAOREG |  0.001364458  | -0.0170934893 |  0.0173897518 | -0.0015734652 |  0.0014445015 | -0.0138806571 |  0.0064324766 |  0.006038904  | -0.001264982  |  0.012914339  | ...           | -0.004588185  | -0.005082934  |  0.948429867  |  0.0276096888 | -0.0014238796 | -0.0046186086 | -0.0094454091 | -0.0054775757 | -0.007450981  |  0.0305286401 | \n",
       "| PBRAND | -0.009754828  | -0.0013634521 |  0.0559983328 |  0.0193258328 | -0.0003219675 | -0.0038647412 |  0.0767606816 | -0.020293488  | -0.074481124  |  0.058452878  | ...           |  0.014243676  |  0.058510949  |  0.073991709  |  0.8655359202 |  0.0101370839 |  0.0134711642 | -0.0269183009 |  0.0373125576 |  0.053553940  |  0.0944459897 | \n",
       "| PZEILPL |  0.014378841  | -0.0053866189 |  0.0080369808 |  0.0002125295 |  0.0154023054 |  0.0099188285 |  0.0089042989 | -0.020781183  | -0.010619899  |  0.012591479  | ...           | -0.001445861  | -0.001601769  | -0.001184116  |  0.0080845731 |  0.8703338933 |  0.0469652271 | -0.0029765028 |  0.0419675144 | -0.002348005  |  0.0116891605 | \n",
       "| PPLEZIER | -0.018115529  |  0.0043912375 |  0.0018573556 | -0.0046626850 | -0.0205050911 |  0.0127853716 |  0.0183490344 |  0.005138917  | -0.023801543  | -0.010603456  | ...           |  0.003581607  | -0.005609557  | -0.004146893  |  0.0048040124 |  0.1647686648 |  0.9044364454 | -0.0104240112 |  0.0635092440 |  0.012751424  |  0.0913611589 | \n",
       "| PFIETS | -0.012123635  | -0.0168904081 |  0.0307978384 |  0.0192052356 | -0.0148414691 |  0.0017627381 |  0.0056417925 |  0.026605567  | -0.017819088  |  0.017795816  | ...           | -0.011775512  |  0.014147566  | -0.009643787  | -0.0405239315 | -0.0036543672 | -0.0118535948 |  0.9358542621 |  0.0101496232 |  0.008251926  |  0.0286954418 | \n",
       "| PINBOED | -0.017327120  |  0.0081407528 |  0.0130025869 | -0.0136116817 | -0.0171678330 | -0.0019932665 |  0.0014434547 | -0.011853554  |  0.006032587  | -0.008661315  | ...           | -0.005591015  |  0.014662600  | -0.004578872  |  0.0255844661 |  0.0352675355 |  0.0252353952 |  0.0004314066 |  0.8752564772 |  0.025913857  |  0.0055281002 | \n",
       "| PBYSTAND | -0.059084119  | -0.0037674312 |  0.0345498414 | -0.0193733642 | -0.0572352270 |  0.0004482130 |  0.0189315850 |  0.009756510  | -0.031969277  |  0.036114659  | ...           | -0.008511541  |  0.126171987  | -0.006970694  |  0.0411659741 | -0.0026414390 |  0.0223032622 |  0.0083570993 |  0.0269818333 |  0.966238761  |  0.0627888617 | \n",
       "| AWAPART | -0.032936542  |  0.0425310886 | -0.0439198354 | -0.0143195691 | -0.0416142581 |  0.0455425456 | -0.0141825603 |  0.017135413  | -0.017995798  | -0.042982245  | ...           | -0.011938059  |  0.054940684  | -0.008468917  |  0.5252611810 |  0.0121557789 | -0.0047136300 | -0.0058618390 |  0.0403377398 |  0.042298057  |  0.0893874727 | \n",
       "| AWABEDR | -0.004066376  |  0.0046930448 |  0.0350624609 | -0.0082491669 | -0.0006864250 | -0.0266798069 |  0.0254411779 | -0.010084935  | -0.009003503  |  0.018260064  | ...           | -0.008058080  | -0.008926993  |  0.191960170  |  0.0523488081 | -0.0025007137 | -0.0081115131 | -0.0165886670 |  0.0186954619 | -0.002412590  | -0.0007589975 | \n",
       "| AWALAND |  0.079674358  | -0.0276269681 |  0.0360385378 |  0.0074970071 |  0.0897914471 | -0.0549288781 |  0.0400000155 | -0.017097171  | -0.016663835  |  0.010122386  | ...           |  0.039220622  |  0.018267049  |  0.053786707  |  0.1346357670 | -0.0032939232 |  0.0041262251 | -0.0161201421 |  0.0006932605 |  0.002914314  | -0.0212790767 | \n",
       "| APERSAUT | -0.008274480  | -0.0294270484 |  0.0205980548 | -0.0158070638 | -0.0055732945 | -0.0027271509 |  0.0279868005 | -0.024792659  | -0.024372533  |  0.027907272  | ...           |  0.006137304  |  0.044575411  |  0.003013726  |  0.0258416787 | -0.0085926331 |  0.0463641834 | -0.0296238620 |  0.0318399871 |  0.104962901  |  0.1442104645 | \n",
       "| ABESAUT | -0.027822244  | -0.0187159833 | -0.0090472463 |  0.0219578117 | -0.0287701034 |  0.0072633041 |  0.0098257453 |  0.006150846  | -0.018834163  | -0.011205219  | ...           | -0.005897753  | -0.006533715  |  0.029317743  |  0.0005294675 | -0.0018302862 | -0.0059368611 | -0.0058775474 | -0.0070409964 |  0.012449249  | -0.0091760865 | \n",
       "| AMOTSCO | -0.012530104  | -0.0192945220 |  0.0130761418 | -0.0155714609 | -0.0117906217 |  0.0093761338 | -0.0029894687 |  0.001690160  | -0.003654511  |  0.013421011  | ...           |  0.017806987  | -0.005216645  | -0.001050551  | -0.0190202662 | -0.0040711207 | -0.0040145076 | -0.0127820005 |  0.0092195958 |  0.022463507  |  0.0085891397 | \n",
       "| AVRAAUT |  0.018883173  | -0.0096897254 |  0.0006077907 | -0.0130463630 |  0.0219627902 | -0.0110520075 |  0.0252615535 | -0.005130210  | -0.017734246  |  0.009474194  | ...           | -0.002600888  | -0.002881345  |  0.033200839  | -0.0068653978 | -0.0008071496 | -0.0026181342 |  0.0205689161 | -0.0031050539 | -0.004223711  | -0.0089630287 | \n",
       "| AAANHANG |  0.030461318  | -0.0103485572 |  0.0146078975 |  0.0061024936 |  0.0337196176 | -0.0038722846 |  0.0161068474 | -0.016247003  | -0.005018963  |  0.015456850  | ...           |  0.011472038  |  0.008879310  |  0.046964523  |  0.0325251869 |  0.0579169959 |  0.0261211692 | -0.0085430564 |  0.0365872195 | -0.011845945  |  0.0094282251 | \n",
       "| ATRACTOR |  0.092055217  | -0.0275696406 |  0.0586812701 | -0.0055037754 |  0.1052491418 | -0.0437516060 |  0.0433001744 | -0.029244699  | -0.014143150  |  0.020569918  | ...           |  0.048592455  |  0.024106801  |  0.074588985  |  0.1120553521 | -0.0031752861 | -0.0015584540 | -0.0109174647 | -0.0043273199 |  0.019063104  | -0.0172020197 | \n",
       "| AWERKT |  0.020122753  | -0.0067560716 |  0.0272568661 |  0.0056300126 |  0.0223467089 | -0.0042383744 |  0.0076027735 |  0.000657104  | -0.008057564  |  0.014775725  | ...           |  0.072381510  | -0.004036087  |  0.050630768  |  0.0208634766 | -0.0011306270 | -0.0036673912 | -0.0075000966 | -0.0043494513 | -0.005916427  | -0.0125550985 | \n",
       "| ABROM |  0.032137074  | -0.0133355687 |  0.0186154409 |  0.0004705706 |  0.0362511036 | -0.0242624569 |  0.0158455377 | -0.024621854  |  0.008523187  |  0.014860005  | ...           | -0.019436715  | -0.005439815  | -0.015918081  | -0.1830023432 | -0.0060319157 | -0.0195655993 | -0.0277280333 | -0.0232044024 | -0.015363803  | -0.0451163962 | \n",
       "| ALEVEN | -0.028829359  |  0.0209263776 |  0.0174277184 | -0.0251870476 | -0.0272403484 |  0.0037927415 | -0.0184591287 |  0.003050293  |  0.010169288  |  0.015055761  | ...           |  0.016411480  |  0.119148902  | -0.006280104  |  0.0920780021 | -0.0046072276 | -0.0037968843 |  0.0039418840 |  0.0325723826 |  0.017600157  |  0.0371176230 | \n",
       "| APERSONG |  0.021707387  |  0.0033205607 | -0.0001283250 |  0.0210701969 |  0.0239757042 | -0.0084496474 | -0.0143545843 |  0.006571608  |  0.008844371  |  0.011512439  | ...           |  1.000000000  | -0.005930369  | -0.004384055  |  0.0139740784 | -0.0016612711 |  0.0235262146 | -0.0110201631 | -0.0063908061 | -0.008693221  | -0.0084919429 | \n",
       "| AGEZONG | -0.012059779  |  0.0094435174 |  0.0167597277 | -0.0017470283 | -0.0100041462 |  0.0053862951 |  0.0039492314 | -0.005569313  |  0.004241859  |  0.022375836  | ...           | -0.005930369  |  1.000000000  | -0.004856792  |  0.0392323752 | -0.0018404080 | -0.0059696930 |  0.0383447011 |  0.0165009455 |  0.114810193  |  0.0335484032 | \n",
       "| AWAOREG | -0.002909423  | -0.0163329939 |  0.0187492290 |  0.0006444196 | -0.0022434628 | -0.0128432499 |  0.0039747163 |  0.017695583  | -0.004139205  |  0.011678011  | ...           | -0.004384055  | -0.004856792  |  1.000000000  |  0.0339906750 | -0.0013605307 | -0.0044131251 | -0.0090251795 | -0.0052338765 | -0.007119484  |  0.0223373107 | \n",
       "| ABRAND | -0.011512113  |  0.0006545495 | -0.0092689689 |  0.0244168979 | -0.0123720038 |  0.0019283957 |  0.0463522124 |  0.006301538  | -0.052604647  | -0.007978510  | ...           |  0.013974078  |  0.039232375  |  0.033990675  |  1.0000000000 |  0.0039022420 |  0.0001768573 | -0.0310950672 |  0.0262740207 |  0.034853792  |  0.0613811660 | \n",
       "| AZEILPL |  0.007800943  | -0.0061891407 |  0.0092343649 |  0.0002441930 |  0.0070986454 | -0.0006751743 |  0.0137600087 | -0.023877254  | -0.008411900  |  0.009710577  | ...           | -0.001661271  | -0.001840408  | -0.001360531  |  0.0039022420 |  1.0000000000 |  0.0910520408 | -0.0034199551 |  0.0816888924 | -0.002697821  |  0.0262010877 | \n",
       "| APLEZIER | -0.018161638  |  0.0006662173 |  0.0006443739 | -0.0017913964 | -0.0206830450 |  0.0117945560 |  0.0184678037 |  0.009417361  | -0.026407349  | -0.001565529  | ...           |  0.023526215  | -0.005969693  | -0.004413125  |  0.0001768573 |  0.0910520408 |  1.0000000000 | -0.0110932372 |  0.0400935156 |  0.026324891  |  0.1056995045 | \n",
       "| AFIETS | -0.015773558  | -0.0209932735 |  0.0303300563 |  0.0206116095 | -0.0179902544 | -0.0015029143 |  0.0019064706 |  0.025661055  | -0.011121966  |  0.020921355  | ...           | -0.011020163  |  0.038344701  | -0.009025180  | -0.0310950672 | -0.0034199551 | -0.0110932372 |  1.0000000000 |  0.0048451248 |  0.009245879  |  0.0341439482 | \n",
       "| AINBOED | -0.021087420  |  0.0183037932 |  0.0259066857 | -0.0200420361 | -0.0209970072 | -0.0114309114 |  0.0023918343 | -0.009734439  |  0.007261280  | -0.003419510  | ...           | -0.006390806  |  0.016500945  | -0.005233876  |  0.0262740207 |  0.0816888924 |  0.0400935156 |  0.0048451248 |  1.0000000000 |  0.021273166  |  0.0180255830 | \n",
       "| ABYSTAND | -0.053717567  | -0.0041662224 |  0.0283837616 | -0.0145397443 | -0.0517231409 | -0.0040087784 |  0.0166578672 |  0.010127307  | -0.027291255  |  0.036568846  | ...           | -0.008693221  |  0.114810193  | -0.007119484  |  0.0348537916 | -0.0026978207 |  0.0263248910 |  0.0092458794 |  0.0212731661 |  1.000000000  |  0.0666578513 | \n",
       "| CARAVAN | -0.069385237  | -0.0098090276 |  0.0355731574 |  0.0044906973 | -0.0692998304 |  0.0062254235 |  0.0328663302 |  0.004039404  | -0.041706886  |  0.070263828  | ...           | -0.008491943  |  0.033548403  |  0.022337311  |  0.0613811660 |  0.0262010877 |  0.1056995045 |  0.0341439482 |  0.0180255830 |  0.066657851  |  1.0000000000 | \n",
       "\n",
       "\n"
      ],
      "text/plain": [
       "         MOSTYPE      MAANTHUI      MGEMOMV       MGEMLEEF      MOSHOOFD     \n",
       "MOSTYPE   1.000000000 -0.038721258  -0.021996966   0.009454422   0.992671874 \n",
       "MAANTHUI -0.038721258  1.000000000   0.010102243   0.056974604  -0.045816774 \n",
       "MGEMOMV  -0.021996966  0.010102243   1.000000000  -0.328257249   0.016115371 \n",
       "MGEMLEEF  0.009454422  0.056974604  -0.328257249   1.000000000   0.003872334 \n",
       "MOSHOOFD  0.992671874 -0.045816774   0.016115371   0.003872334   1.000000000 \n",
       "MGODRK   -0.193613010 -0.006136360   0.013105189  -0.037518737  -0.199186199 \n",
       "MGODPR    0.090399085 -0.024360178   0.049356463   0.093654020   0.098492561 \n",
       "MGODOV   -0.025642336  0.012056027  -0.108649617   0.057737161  -0.034565811 \n",
       "MGODGE   -0.019504734  0.020540166  -0.005527394  -0.119966338  -0.021465787 \n",
       "MRELGE   -0.065595774  0.023024578   0.534797785  -0.040383808  -0.026618553 \n",
       "MRELSA   -0.016270104 -0.038565630  -0.175586147  -0.307400815  -0.037508858 \n",
       "MRELOV    0.086939441 -0.012544222  -0.500734749   0.199773821   0.052670612 \n",
       "MFALLEEN  0.029239934  0.032534542  -0.659552788   0.236593826  -0.003443020 \n",
       "MFGEKIND -0.066250326 -0.082919177  -0.315959583   0.204225088  -0.075000253 \n",
       "MFWEKIND  0.023407766  0.042143280   0.794014246  -0.355754273   0.058618783 \n",
       "MOPLHOOG -0.473606339  0.003419200   0.008052835  -0.025792266  -0.471620098 \n",
       "MOPLMIDD -0.278429386 -0.053170783   0.039626806  -0.221675888  -0.279497390 \n",
       "MOPLLAAG  0.525678035  0.036529125  -0.038847106   0.178965233   0.524061718 \n",
       "MBERHOOG -0.418614955 -0.005746748   0.023796484   0.141389484  -0.412655659 \n",
       "MBERZELF -0.117735585  0.042437830   0.035698059   0.058309155  -0.115330092 \n",
       "MBERBOER  0.248597540 -0.018174590   0.106959822   0.090716402   0.276881858 \n",
       "MBERMIDD -0.206197511  0.005761900  -0.004949426  -0.162686466  -0.219405165 \n",
       "MBERARBG  0.304749222  0.024801720   0.037589774  -0.048102803   0.305281933 \n",
       "MBERARBO  0.273050765 -0.052344935  -0.161245997   0.034337607   0.258888302 \n",
       "MSKA     -0.392931299 -0.014437378   0.063096787   0.047819524  -0.382017234 \n",
       "MSKB1    -0.188518463  0.009924238   0.011569923  -0.155801566  -0.192616339 \n",
       "MSKB2    -0.038077708 -0.025302576   0.058551505  -0.040359645  -0.029730826 \n",
       "MSKC      0.386104459 -0.007345068  -0.019022276  -0.063555498   0.379437394 \n",
       "MSKD      0.204630170  0.020671192  -0.186612496   0.244596510   0.192136390 \n",
       "MHHUUR    0.148998453 -0.049126992  -0.339429461   0.025263825   0.118159882 \n",
       "...      ...          ...           ...           ...           ...          \n",
       "PGEZONG  -0.015114736  0.0113378756  0.0164834822 -0.0068157699 -0.0130761214\n",
       "PWAOREG   0.001364458 -0.0170934893  0.0173897518 -0.0015734652  0.0014445015\n",
       "PBRAND   -0.009754828 -0.0013634521  0.0559983328  0.0193258328 -0.0003219675\n",
       "PZEILPL   0.014378841 -0.0053866189  0.0080369808  0.0002125295  0.0154023054\n",
       "PPLEZIER -0.018115529  0.0043912375  0.0018573556 -0.0046626850 -0.0205050911\n",
       "PFIETS   -0.012123635 -0.0168904081  0.0307978384  0.0192052356 -0.0148414691\n",
       "PINBOED  -0.017327120  0.0081407528  0.0130025869 -0.0136116817 -0.0171678330\n",
       "PBYSTAND -0.059084119 -0.0037674312  0.0345498414 -0.0193733642 -0.0572352270\n",
       "AWAPART  -0.032936542  0.0425310886 -0.0439198354 -0.0143195691 -0.0416142581\n",
       "AWABEDR  -0.004066376  0.0046930448  0.0350624609 -0.0082491669 -0.0006864250\n",
       "AWALAND   0.079674358 -0.0276269681  0.0360385378  0.0074970071  0.0897914471\n",
       "APERSAUT -0.008274480 -0.0294270484  0.0205980548 -0.0158070638 -0.0055732945\n",
       "ABESAUT  -0.027822244 -0.0187159833 -0.0090472463  0.0219578117 -0.0287701034\n",
       "AMOTSCO  -0.012530104 -0.0192945220  0.0130761418 -0.0155714609 -0.0117906217\n",
       "AVRAAUT   0.018883173 -0.0096897254  0.0006077907 -0.0130463630  0.0219627902\n",
       "AAANHANG  0.030461318 -0.0103485572  0.0146078975  0.0061024936  0.0337196176\n",
       "ATRACTOR  0.092055217 -0.0275696406  0.0586812701 -0.0055037754  0.1052491418\n",
       "AWERKT    0.020122753 -0.0067560716  0.0272568661  0.0056300126  0.0223467089\n",
       "ABROM     0.032137074 -0.0133355687  0.0186154409  0.0004705706  0.0362511036\n",
       "ALEVEN   -0.028829359  0.0209263776  0.0174277184 -0.0251870476 -0.0272403484\n",
       "APERSONG  0.021707387  0.0033205607 -0.0001283250  0.0210701969  0.0239757042\n",
       "AGEZONG  -0.012059779  0.0094435174  0.0167597277 -0.0017470283 -0.0100041462\n",
       "AWAOREG  -0.002909423 -0.0163329939  0.0187492290  0.0006444196 -0.0022434628\n",
       "ABRAND   -0.011512113  0.0006545495 -0.0092689689  0.0244168979 -0.0123720038\n",
       "AZEILPL   0.007800943 -0.0061891407  0.0092343649  0.0002441930  0.0070986454\n",
       "APLEZIER -0.018161638  0.0006662173  0.0006443739 -0.0017913964 -0.0206830450\n",
       "AFIETS   -0.015773558 -0.0209932735  0.0303300563  0.0206116095 -0.0179902544\n",
       "AINBOED  -0.021087420  0.0183037932  0.0259066857 -0.0200420361 -0.0209970072\n",
       "ABYSTAND -0.053717567 -0.0041662224  0.0283837616 -0.0145397443 -0.0517231409\n",
       "CARAVAN  -0.069385237 -0.0098090276  0.0355731574  0.0044906973 -0.0692998304\n",
       "         MGODRK        MGODPR        MGODOV       MGODGE       MRELGE       ...\n",
       "MOSTYPE  -0.193613010   0.09039908   -0.025642336 -0.019504734 -0.065595774 ...\n",
       "MAANTHUI -0.006136360  -0.02436018    0.012056027  0.020540166  0.023024578 ...\n",
       "MGEMOMV   0.013105189   0.04935646   -0.108649617 -0.005527394  0.534797785 ...\n",
       "MGEMLEEF -0.037518737   0.09365402    0.057737161 -0.119966338 -0.040383808 ...\n",
       "MOSHOOFD -0.199186199   0.09849256   -0.034565811 -0.021465787 -0.026618553 ...\n",
       "MGODRK    1.000000000  -0.37276739    0.021125102 -0.063904415 -0.028594440 ...\n",
       "MGODPR   -0.372767392   1.00000000   -0.317548571 -0.741894511  0.147256295 ...\n",
       "MGODOV    0.021125102  -0.31754857    1.000000000 -0.139306355 -0.125703467 ...\n",
       "MGODGE   -0.063904415  -0.74189451   -0.139306355  1.000000000 -0.107899577 ...\n",
       "MRELGE   -0.028594440   0.14725629   -0.125703467 -0.107899577  1.000000000 ...\n",
       "MRELSA    0.117575776  -0.21103140    0.111762144  0.159553081 -0.478340648 ...\n",
       "MRELOV   -0.003456761  -0.08405050    0.105340040  0.071837834 -0.884361888 ...\n",
       "MFALLEEN  0.016316632  -0.11592168    0.122197576  0.064642486 -0.684233278 ...\n",
       "MFGEKIND -0.010359144   0.06645693    0.022851115 -0.086730867  0.075363336 ...\n",
       "MFWEKIND -0.007469799   0.02397183   -0.105429978  0.032341690  0.500353687 ...\n",
       "MOPLHOOG  0.241046873  -0.09418137    0.002431063 -0.003102010  0.075037877 ...\n",
       "MOPLMIDD  0.146696963  -0.01580947    0.012658995 -0.036979585  0.027069265 ...\n",
       "MOPLLAAG -0.251435075   0.05648093   -0.006024369  0.042878421 -0.081953565 ...\n",
       "MBERHOOG  0.217538119  -0.01096481   -0.052415156 -0.056926766  0.176805677 ...\n",
       "MBERZELF  0.056606778   0.04293788    0.006322592 -0.067139690  0.088330080 ...\n",
       "MBERBOER -0.105965116   0.11116370   -0.046898666 -0.052405042  0.019761300 ...\n",
       "MBERMIDD  0.087639077  -0.03185736    0.077559808 -0.024490370 -0.007195562 ...\n",
       "MBERARBG -0.179813141   0.01715267   -0.065500406  0.083005986  0.026831375 ...\n",
       "MBERARBO -0.072077265  -0.03509865    0.108540812  0.023618473 -0.298056266 ...\n",
       "MSKA      0.169645890  -0.01056098   -0.032892067 -0.052752063  0.182821882 ...\n",
       "MSKB1     0.137215429  -0.04100292    0.054053794 -0.023215146 -0.029214849 ...\n",
       "MSKB2     0.079703849   0.02859935   -0.026432031 -0.042170764  0.016749792 ...\n",
       "MSKC     -0.215725169   0.05849485    0.001676504  0.031287617 -0.036035268 ...\n",
       "MSKD     -0.075164628  -0.06989526    0.068483857  0.083144960 -0.243143149 ...\n",
       "MHHUUR   -0.096362189  -0.22020374    0.145789737  0.224625163 -0.390995695 ...\n",
       "...      ...           ...           ...          ...          ...             \n",
       "PGEZONG   0.0080176844  0.0006257971 -0.004580546  0.006141642  0.020882036 ...\n",
       "PWAOREG  -0.0138806571  0.0064324766  0.006038904 -0.001264982  0.012914339 ...\n",
       "PBRAND   -0.0038647412  0.0767606816 -0.020293488 -0.074481124  0.058452878 ...\n",
       "PZEILPL   0.0099188285  0.0089042989 -0.020781183 -0.010619899  0.012591479 ...\n",
       "PPLEZIER  0.0127853716  0.0183490344  0.005138917 -0.023801543 -0.010603456 ...\n",
       "PFIETS    0.0017627381  0.0056417925  0.026605567 -0.017819088  0.017795816 ...\n",
       "PINBOED  -0.0019932665  0.0014434547 -0.011853554  0.006032587 -0.008661315 ...\n",
       "PBYSTAND  0.0004482130  0.0189315850  0.009756510 -0.031969277  0.036114659 ...\n",
       "AWAPART   0.0455425456 -0.0141825603  0.017135413 -0.017995798 -0.042982245 ...\n",
       "AWABEDR  -0.0266798069  0.0254411779 -0.010084935 -0.009003503  0.018260064 ...\n",
       "AWALAND  -0.0549288781  0.0400000155 -0.017097171 -0.016663835  0.010122386 ...\n",
       "APERSAUT -0.0027271509  0.0279868005 -0.024792659 -0.024372533  0.027907272 ...\n",
       "ABESAUT   0.0072633041  0.0098257453  0.006150846 -0.018834163 -0.011205219 ...\n",
       "AMOTSCO   0.0093761338 -0.0029894687  0.001690160 -0.003654511  0.013421011 ...\n",
       "AVRAAUT  -0.0110520075  0.0252615535 -0.005130210 -0.017734246  0.009474194 ...\n",
       "AAANHANG -0.0038722846  0.0161068474 -0.016247003 -0.005018963  0.015456850 ...\n",
       "ATRACTOR -0.0437516060  0.0433001744 -0.029244699 -0.014143150  0.020569918 ...\n",
       "AWERKT   -0.0042383744  0.0076027735  0.000657104 -0.008057564  0.014775725 ...\n",
       "ABROM    -0.0242624569  0.0158455377 -0.024621854  0.008523187  0.014860005 ...\n",
       "ALEVEN    0.0037927415 -0.0184591287  0.003050293  0.010169288  0.015055761 ...\n",
       "APERSONG -0.0084496474 -0.0143545843  0.006571608  0.008844371  0.011512439 ...\n",
       "AGEZONG   0.0053862951  0.0039492314 -0.005569313  0.004241859  0.022375836 ...\n",
       "AWAOREG  -0.0128432499  0.0039747163  0.017695583 -0.004139205  0.011678011 ...\n",
       "ABRAND    0.0019283957  0.0463522124  0.006301538 -0.052604647 -0.007978510 ...\n",
       "AZEILPL  -0.0006751743  0.0137600087 -0.023877254 -0.008411900  0.009710577 ...\n",
       "APLEZIER  0.0117945560  0.0184678037  0.009417361 -0.026407349 -0.001565529 ...\n",
       "AFIETS   -0.0015029143  0.0019064706  0.025661055 -0.011121966  0.020921355 ...\n",
       "AINBOED  -0.0114309114  0.0023918343 -0.009734439  0.007261280 -0.003419510 ...\n",
       "ABYSTAND -0.0040087784  0.0166578672  0.010127307 -0.027291255  0.036568846 ...\n",
       "CARAVAN   0.0062254235  0.0328663302  0.004039404 -0.041706886  0.070263828 ...\n",
       "         APERSONG      AGEZONG       AWAOREG       ABRAND        AZEILPL      \n",
       "MOSTYPE   0.0217073867 -0.0120597787 -0.0029094232 -0.0115121130  0.0078009434\n",
       "MAANTHUI  0.0033205607  0.0094435174 -0.0163329939  0.0006545495 -0.0061891407\n",
       "MGEMOMV  -0.0001283250  0.0167597277  0.0187492290 -0.0092689689  0.0092343649\n",
       "MGEMLEEF  0.0210701969 -0.0017470283  0.0006444196  0.0244168979  0.0002441930\n",
       "MOSHOOFD  0.0239757042 -0.0100041462 -0.0022434628 -0.0123720038  0.0070986454\n",
       "MGODRK   -0.0084496474  0.0053862951 -0.0128432499  0.0019283957 -0.0006751743\n",
       "MGODPR   -0.0143545843  0.0039492314  0.0039747163  0.0463522124  0.0137600087\n",
       "MGODOV    0.0065716077 -0.0055693135  0.0176955827  0.0063015379 -0.0238772539\n",
       "MGODGE    0.0088443705  0.0042418594 -0.0041392047 -0.0526046474 -0.0084119000\n",
       "MRELGE    0.0115124386  0.0223758364  0.0116780108 -0.0079785097  0.0097105773\n",
       "MRELSA   -0.0205018773 -0.0078946000 -0.0111572250 -0.0004703521 -0.0207711079\n",
       "MRELOV   -0.0068564122 -0.0235741698 -0.0036618178  0.0129517027 -0.0038286829\n",
       "MFALLEEN  0.0019438515 -0.0328660429 -0.0048916438  0.0120280038 -0.0111987328\n",
       "MFGEKIND -0.0045755905  0.0095433770 -0.0057802532  0.0099099538  0.0107886901\n",
       "MFWEKIND  0.0008151776  0.0144578138  0.0098433461 -0.0208052109  0.0041493926\n",
       "MOPLHOOG -0.0120584910  0.0045761801 -0.0101843348  0.0159904140  0.0168689330\n",
       "MOPLMIDD -0.0038720016  0.0007902091  0.0044313920 -0.0093395259 -0.0045292130\n",
       "MOPLLAAG  0.0105306984 -0.0062696478  0.0043874157 -0.0039997167 -0.0056567002\n",
       "MBERHOOG  0.0082077682  0.0071030386  0.0034971231  0.0411850992  0.0139523647\n",
       "MBERZELF -0.0101628462 -0.0140997564  0.0121835599  0.0213447994  0.0274037527\n",
       "MBERBOER  0.0174366726  0.0063606758  0.0375823399  0.0157287240  0.0174241758\n",
       "MBERMIDD -0.0113793899 -0.0025071182 -0.0015359163 -0.0007964099 -0.0152111551\n",
       "MBERARBG  0.0097975559  0.0044929292 -0.0076118486 -0.0207847620  0.0014887683\n",
       "MBERARBO -0.0090618940 -0.0134129403 -0.0160914532 -0.0204062656 -0.0175243212\n",
       "MSKA      0.0092568686 -0.0007286029  0.0003088894  0.0205318581  0.0269653636\n",
       "MSKB1    -0.0032140336  0.0111259389  0.0127019730  0.0031952638  0.0010210059\n",
       "MSKB2     0.0057449793 -0.0009698436  0.0167364397  0.0041724214 -0.0079563116\n",
       "MSKC     -0.0030717159  0.0012898904 -0.0166085373 -0.0194292257 -0.0128112295\n",
       "MSKD      0.0070869331 -0.0205574256 -0.0235334513 -0.0113684198 -0.0185981584\n",
       "MHHUUR    0.0050865079 -0.0220968491 -0.0283027543 -0.0821318695 -0.0237923520\n",
       "...      ...           ...           ...           ...           ...          \n",
       "PGEZONG  -0.005811575   0.979968511  -0.004759504   0.0401180921 -0.0018035419\n",
       "PWAOREG  -0.004588185  -0.005082934   0.948429867   0.0276096888 -0.0014238796\n",
       "PBRAND    0.014243676   0.058510949   0.073991709   0.8655359202  0.0101370839\n",
       "PZEILPL  -0.001445861  -0.001601769  -0.001184116   0.0080845731  0.8703338933\n",
       "PPLEZIER  0.003581607  -0.005609557  -0.004146893   0.0048040124  0.1647686648\n",
       "PFIETS   -0.011775512   0.014147566  -0.009643787  -0.0405239315 -0.0036543672\n",
       "PINBOED  -0.005591015   0.014662600  -0.004578872   0.0255844661  0.0352675355\n",
       "PBYSTAND -0.008511541   0.126171987  -0.006970694   0.0411659741 -0.0026414390\n",
       "AWAPART  -0.011938059   0.054940684  -0.008468917   0.5252611810  0.0121557789\n",
       "AWABEDR  -0.008058080  -0.008926993   0.191960170   0.0523488081 -0.0025007137\n",
       "AWALAND   0.039220622   0.018267049   0.053786707   0.1346357670 -0.0032939232\n",
       "APERSAUT  0.006137304   0.044575411   0.003013726   0.0258416787 -0.0085926331\n",
       "ABESAUT  -0.005897753  -0.006533715   0.029317743   0.0005294675 -0.0018302862\n",
       "AMOTSCO   0.017806987  -0.005216645  -0.001050551  -0.0190202662 -0.0040711207\n",
       "AVRAAUT  -0.002600888  -0.002881345   0.033200839  -0.0068653978 -0.0008071496\n",
       "AAANHANG  0.011472038   0.008879310   0.046964523   0.0325251869  0.0579169959\n",
       "ATRACTOR  0.048592455   0.024106801   0.074588985   0.1120553521 -0.0031752861\n",
       "AWERKT    0.072381510  -0.004036087   0.050630768   0.0208634766 -0.0011306270\n",
       "ABROM    -0.019436715  -0.005439815  -0.015918081  -0.1830023432 -0.0060319157\n",
       "ALEVEN    0.016411480   0.119148902  -0.006280104   0.0920780021 -0.0046072276\n",
       "APERSONG  1.000000000  -0.005930369  -0.004384055   0.0139740784 -0.0016612711\n",
       "AGEZONG  -0.005930369   1.000000000  -0.004856792   0.0392323752 -0.0018404080\n",
       "AWAOREG  -0.004384055  -0.004856792   1.000000000   0.0339906750 -0.0013605307\n",
       "ABRAND    0.013974078   0.039232375   0.033990675   1.0000000000  0.0039022420\n",
       "AZEILPL  -0.001661271  -0.001840408  -0.001360531   0.0039022420  1.0000000000\n",
       "APLEZIER  0.023526215  -0.005969693  -0.004413125   0.0001768573  0.0910520408\n",
       "AFIETS   -0.011020163   0.038344701  -0.009025180  -0.0310950672 -0.0034199551\n",
       "AINBOED  -0.006390806   0.016500945  -0.005233876   0.0262740207  0.0816888924\n",
       "ABYSTAND -0.008693221   0.114810193  -0.007119484   0.0348537916 -0.0026978207\n",
       "CARAVAN  -0.008491943   0.033548403   0.022337311   0.0613811660  0.0262010877\n",
       "         APLEZIER      AFIETS        AINBOED       ABYSTAND     CARAVAN      \n",
       "MOSTYPE  -0.0181616379 -0.015773558  -0.0210874196 -0.053717567 -0.069385237 \n",
       "MAANTHUI  0.0006662173 -0.020993273   0.0183037932 -0.004166222 -0.009809028 \n",
       "MGEMOMV   0.0006443739  0.030330056   0.0259066857  0.028383762  0.035573157 \n",
       "MGEMLEEF -0.0017913964  0.020611609  -0.0200420361 -0.014539744  0.004490697 \n",
       "MOSHOOFD -0.0206830450 -0.017990254  -0.0209970072 -0.051723141 -0.069299830 \n",
       "MGODRK    0.0117945560 -0.001502914  -0.0114309114 -0.004008778  0.006225424 \n",
       "MGODPR    0.0184678037  0.001906471   0.0023918343  0.016657867  0.032866330 \n",
       "MGODOV    0.0094173615  0.025661055  -0.0097344391  0.010127307  0.004039404 \n",
       "MGODGE   -0.0264073491 -0.011121966   0.0072612796 -0.027291255 -0.041706886 \n",
       "MRELGE   -0.0015655294  0.020921355  -0.0034195098  0.036568846  0.070263828 \n",
       "MRELSA    0.0197738557 -0.037474485   0.0183959072 -0.013834785 -0.033362293 \n",
       "MRELOV   -0.0063107543 -0.007909229  -0.0026024131 -0.039980805 -0.062285359 \n",
       "MFALLEEN -0.0187871118 -0.010050988  -0.0135392322 -0.033944424 -0.053102157 \n",
       "MFGEKIND  0.0220042516 -0.003323160  -0.0100759436  0.001663515  0.007981430 \n",
       "MFWEKIND -0.0099787478  0.008305852   0.0172251358  0.020047390  0.032346087 \n",
       "MOPLHOOG  0.0076045933  0.040493383   0.0161397587  0.040344642  0.084635338 \n",
       "MOPLMIDD  0.0199639717  0.010180192   0.0181618843  0.030766841  0.043517067 \n",
       "MOPLLAAG -0.0192642558 -0.035398310  -0.0234136465 -0.052650418 -0.090561330 \n",
       "MBERHOOG  0.0042984648  0.035957179   0.0146018884  0.022060441  0.065081606 \n",
       "MBERZELF  0.0191989755  0.023505483   0.0114990128  0.011023979  0.021974498 \n",
       "MBERBOER -0.0065339200 -0.028990073  -0.0198129546 -0.028923878 -0.054002566 \n",
       "MBERMIDD  0.0074754840 -0.001910115   0.0120215444  0.033760681  0.047716187 \n",
       "MBERARBG -0.0020608374 -0.010195720  -0.0012215495 -0.048179272 -0.042495838 \n",
       "MBERARBO -0.0133326853 -0.036886094  -0.0214212797 -0.004594874 -0.054632386 \n",
       "MSKA      0.0113277894  0.031267916   0.0181269125  0.022832992  0.063497598 \n",
       "MSKB1     0.0075292076  0.006568950  -0.0013050542  0.010363610  0.028762971 \n",
       "MSKB2    -0.0042490384 -0.019414001  -0.0165343017  0.025455216  0.004040261 \n",
       "MSKC     -0.0082127482 -0.023286030  -0.0008820314 -0.033262101 -0.042309367 \n",
       "MSKD      0.0010390497 -0.019654090  -0.0103422802 -0.040195468 -0.063070266 \n",
       "MHHUUR   -0.0260837399 -0.030262408  -0.0122300177 -0.037379242 -0.079143498 \n",
       "...      ...           ...           ...           ...          ...          \n",
       "PGEZONG  -0.0058501112  0.0303403431  0.0127950052  0.124450716  0.0402076295\n",
       "PWAOREG  -0.0046186086 -0.0094454091 -0.0054775757 -0.007450981  0.0305286401\n",
       "PBRAND    0.0134711642 -0.0269183009  0.0373125576  0.053553940  0.0944459897\n",
       "PZEILPL   0.0469652271 -0.0029765028  0.0419675144 -0.002348005  0.0116891605\n",
       "PPLEZIER  0.9044364454 -0.0104240112  0.0635092440  0.012751424  0.0913611589\n",
       "PFIETS   -0.0118535948  0.9358542621  0.0101496232  0.008251926  0.0286954418\n",
       "PINBOED   0.0252353952  0.0004314066  0.8752564772  0.025913857  0.0055281002\n",
       "PBYSTAND  0.0223032622  0.0083570993  0.0269818333  0.966238761  0.0627888617\n",
       "AWAPART  -0.0047136300 -0.0058618390  0.0403377398  0.042298057  0.0893874727\n",
       "AWABEDR  -0.0081115131 -0.0165886670  0.0186954619 -0.002412590 -0.0007589975\n",
       "AWALAND   0.0041262251 -0.0161201421  0.0006932605  0.002914314 -0.0212790767\n",
       "APERSAUT  0.0463641834 -0.0296238620  0.0318399871  0.104962901  0.1442104645\n",
       "ABESAUT  -0.0059368611 -0.0058775474 -0.0070409964  0.012449249 -0.0091760865\n",
       "AMOTSCO  -0.0040145076 -0.0127820005  0.0092195958  0.022463507  0.0085891397\n",
       "AVRAAUT  -0.0026181342  0.0205689161 -0.0031050539 -0.004223711 -0.0089630287\n",
       "AAANHANG  0.0261211692 -0.0085430564  0.0365872195 -0.011845945  0.0094282251\n",
       "ATRACTOR -0.0015584540 -0.0109174647 -0.0043273199  0.019063104 -0.0172020197\n",
       "AWERKT   -0.0036673912 -0.0075000966 -0.0043494513 -0.005916427 -0.0125550985\n",
       "ABROM    -0.0195655993 -0.0277280333 -0.0232044024 -0.015363803 -0.0451163962\n",
       "ALEVEN   -0.0037968843  0.0039418840  0.0325723826  0.017600157  0.0371176230\n",
       "APERSONG  0.0235262146 -0.0110201631 -0.0063908061 -0.008693221 -0.0084919429\n",
       "AGEZONG  -0.0059696930  0.0383447011  0.0165009455  0.114810193  0.0335484032\n",
       "AWAOREG  -0.0044131251 -0.0090251795 -0.0052338765 -0.007119484  0.0223373107\n",
       "ABRAND    0.0001768573 -0.0310950672  0.0262740207  0.034853792  0.0613811660\n",
       "AZEILPL   0.0910520408 -0.0034199551  0.0816888924 -0.002697821  0.0262010877\n",
       "APLEZIER  1.0000000000 -0.0110932372  0.0400935156  0.026324891  0.1056995045\n",
       "AFIETS   -0.0110932372  1.0000000000  0.0048451248  0.009245879  0.0341439482\n",
       "AINBOED   0.0400935156  0.0048451248  1.0000000000  0.021273166  0.0180255830\n",
       "ABYSTAND  0.0263248910  0.0092458794  0.0212731661  1.000000000  0.0666578513\n",
       "CARAVAN   0.1056995045  0.0341439482  0.0180255830  0.066657851  1.0000000000"
      ]
     },
     "metadata": {},
     "output_type": "display_data"
    }
   ],
   "source": [
    "cor(df_car)"
   ]
  },
  {
   "cell_type": "markdown",
   "metadata": {},
   "source": [
    "Whoa!! That's a big(85 x 85) table to get some insights from. Lets depict this pictorially. "
   ]
  },
  {
   "cell_type": "code",
   "execution_count": 9,
   "metadata": {},
   "outputs": [
    {
     "data": {},
     "metadata": {},
     "output_type": "display_data"
    },
    {
     "data": {
      "image/png": "[encoded data removed]",
      "text/plain": [
       "plot without title"
      ]
     },
     "metadata": {},
     "output_type": "display_data"
    }
   ],
   "source": [
    "levelplot(cor(df_car))"
   ]
  },
  {
   "cell_type": "markdown",
   "metadata": {},
   "source": [
    "Althugh, the column names are not quite visible properly, but the plot is more informative than the previous matrix. \n",
    "\n",
    "One Key information from the plot is that there is high correlation between variables from column index 44-64 to 65:85.  "
   ]
  },
  {
   "cell_type": "markdown",
   "metadata": {},
   "source": [
    "Lets plot them below separately to see. "
   ]
  },
  {
   "cell_type": "code",
   "execution_count": 10,
   "metadata": {},
   "outputs": [
    {
     "data": {},
     "metadata": {},
     "output_type": "display_data"
    },
    {
     "data": {
      "image/png": "[encoded data removed]",
      "text/plain": [
       "plot without title"
      ]
     },
     "metadata": {},
     "output_type": "display_data"
    }
   ],
   "source": [
    "levelplot(cor(df_car[,44:64], df_car[,65:85]))"
   ]
  },
  {
   "cell_type": "markdown",
   "metadata": {},
   "source": [
    "The blue diagonal line, proves our hypothesis that they are highly correlated. Lets see what the description of these variables are for a few of them.\n",
    "\n",
    "Column 44 - PWAPART: Contribution private third party insurance\n",
    "\n",
    "Column 65 - AWAPART: Number of private third party insurance\n",
    "\n",
    "Now, these two variable have a very high correlation and it makes sense because, if a person contributes more to a third party insurance, then he/she would have more number of third party insurance as well. \n",
    "\n",
    "This is just one example but this is the case with all the other pairs that are seen to have high correlation. \n",
    "\n",
    "And hence we keep only one set of them. "
   ]
  },
  {
   "cell_type": "code",
   "execution_count": 11,
   "metadata": {},
   "outputs": [
    {
     "data": {
      "text/html": [
       "<ol class=list-inline>\n",
       "\t<li>5822</li>\n",
       "\t<li>65</li>\n",
       "</ol>\n"
      ],
      "text/latex": [
       "\\begin{enumerate*}\n",
       "\\item 5822\n",
       "\\item 65\n",
       "\\end{enumerate*}\n"
      ],
      "text/markdown": [
       "1. 5822\n",
       "2. 65\n",
       "\n",
       "\n"
      ],
      "text/plain": [
       "[1] 5822   65"
      ]
     },
     "metadata": {},
     "output_type": "display_data"
    }
   ],
   "source": [
    "df_selected <- df_car[,c(1:64, 86)]\n",
    "dim(df_selected)"
   ]
  },
  {
   "cell_type": "markdown",
   "metadata": {},
   "source": [
    "The above code selects the needed variable and the data has been reduced to 65 columns now. \n",
    "\n",
    "Now lets have a look at some of the variables that we are left with. "
   ]
  },
  {
   "cell_type": "markdown",
   "metadata": {},
   "source": [
    "Variable - MOSTYPE - Customer Subtype"
   ]
  },
  {
   "cell_type": "code",
   "execution_count": 12,
   "metadata": {},
   "outputs": [
    {
     "data": {
      "image/png": "[encoded data removed]",
      "text/plain": [
       "Plot with title \"Customer Subtype distribution\""
      ]
     },
     "metadata": {},
     "output_type": "display_data"
    }
   ],
   "source": [
    "barplot(table(df_selected$MOSTYPE),col=c(\"Blue\"), xlab=\"Customer Subtype\", ylab = \"Frequency\",\n",
    "       main=\"Customer Subtype distribution\")"
   ]
  },
  {
   "cell_type": "markdown",
   "metadata": {},
   "source": [
    "We see that the highest sumber of Customer Subtype is 33, which upon looking on data dictionary we find that belong to \"Lower class large families\". "
   ]
  },
  {
   "cell_type": "markdown",
   "metadata": {},
   "source": [
    "Variable - MGEMLEEF - Average Age"
   ]
  },
  {
   "cell_type": "code",
   "execution_count": 13,
   "metadata": {},
   "outputs": [
    {
     "data": {
      "image/png": "[encoded data removed]",
      "text/plain": [
       "Plot with title \"Average Age for people who \n",
       "purchased the CARAVAN policy\""
      ]
     },
     "metadata": {},
     "output_type": "display_data"
    }
   ],
   "source": [
    "data <- table(df_selected[df_selected$CARAVAN==1,][, c(\"MGEMLEEF\")])\n",
    "names(data)=c(\"20-30\",\"30-40\",\"40-50\",\"50-60\",\"60-70\",\"70-80\")\n",
    "barplot(data, col=c(\"Blue\"), xlab=\"Average Age\", ylab = \"Frequency\",\n",
    "       main=\"Average Age for people who \n",
    "purchased the CARAVAN policy\")"
   ]
  },
  {
   "cell_type": "markdown",
   "metadata": {},
   "source": [
    "With this we see that there is a big chunk of people in the age of 40-50. "
   ]
  },
  {
   "cell_type": "code",
   "execution_count": 14,
   "metadata": {},
   "outputs": [
    {
     "data": {},
     "metadata": {},
     "output_type": "display_data"
    },
    {
     "data": {
      "image/png": "[encoded data removed]",
      "text/plain": [
       "plot without title"
      ]
     },
     "metadata": {},
     "output_type": "display_data"
    }
   ],
   "source": [
    "ggplot(df_selected, aes(x=as.factor(MKOOPKLA), fill=as.factor(CARAVAN)), fill=CARAVAN) +\n",
    "geom_bar() +ylab(\"Frequency\") +\n",
    "xlab(\"Purchasing power class\") + \n",
    "ggtitle(\"Purchasing power class vs CARAVAN Policy purchase\") +\n",
    "scale_fill_discrete(name = \"CARAVAN Purchase\")"
   ]
  },
  {
   "cell_type": "markdown",
   "metadata": {},
   "source": [
    "This shows that there are more people in 3,6,7 classes who purchase policy than the others."
   ]
  },
  {
   "cell_type": "code",
   "execution_count": 15,
   "metadata": {},
   "outputs": [
    {
     "data": {},
     "metadata": {},
     "output_type": "display_data"
    },
    {
     "data": {
      "image/png": "[encoded data removed]",
      "text/plain": [
       "plot without title"
      ]
     },
     "metadata": {},
     "output_type": "display_data"
    }
   ],
   "source": [
    "ggplot(df_selected, aes(x=as.factor(PBRAND), fill=as.factor(CARAVAN)), fill=CARAVAN)+\n",
    "geom_bar() +ylab(\"Frequency\") +\n",
    "xlab(\"Contribution fire policies\") + \n",
    "ggtitle(\"Contribution fire policies vs CARAVAN Policy purchase\") +\n",
    "scale_fill_discrete(name = \"CARAVAN Purchase\")"
   ]
  },
  {
   "cell_type": "markdown",
   "metadata": {},
   "source": [
    "## 3. Model Development<a class=\"anchor\" id=\"sec_3\"></a>"
   ]
  },
  {
   "cell_type": "markdown",
   "metadata": {},
   "source": [
    "To start the model development, first the data is divided into training and test set. We do that with the below piece of code. "
   ]
  },
  {
   "cell_type": "code",
   "execution_count": 16,
   "metadata": {},
   "outputs": [],
   "source": [
    "set.seed(1234)\n",
    "#75% trainng and 25% data for testing\n",
    "bound <- floor(0.75 * nrow(df_selected))\n",
    "df <- df_selected[sample(nrow(df_selected)), ]           #sample rows \n",
    "df.train <- df[1:bound, ]              #get training set\n",
    "df.test <- df[(bound+1):nrow(df), ] "
   ]
  },
  {
   "cell_type": "code",
   "execution_count": 17,
   "metadata": {},
   "outputs": [
    {
     "name": "stdout",
     "output_type": "stream",
     "text": [
      "[1] 4366   65\n",
      "[1] 1456   65\n"
     ]
    }
   ],
   "source": [
    "print(dim(df.train))\n",
    "print(dim(df.test))"
   ]
  },
  {
   "cell_type": "markdown",
   "metadata": {},
   "source": [
    "Now we need to pick out the features that are relavant to the target. First, we look at the correlation of all the feature variable against the target variable. "
   ]
  },
  {
   "cell_type": "code",
   "execution_count": 18,
   "metadata": {},
   "outputs": [
    {
     "data": {
      "text/html": [
       "<table>\n",
       "<tbody>\n",
       "\t<tr><th scope=row>MOPLLAAG</th><td>-0.0905613304</td></tr>\n",
       "\t<tr><th scope=row>MINKM30</th><td>-0.0797651169</td></tr>\n",
       "\t<tr><th scope=row>MHHUUR</th><td>-0.0791434984</td></tr>\n",
       "\t<tr><th scope=row>MAUT0</th><td>-0.0765007839</td></tr>\n",
       "\t<tr><th scope=row>MOSTYPE</th><td>-0.0693852373</td></tr>\n",
       "\t<tr><th scope=row>MOSHOOFD</th><td>-0.0692998304</td></tr>\n",
       "\t<tr><th scope=row>MSKD</th><td>-0.0630702655</td></tr>\n",
       "\t<tr><th scope=row>MRELOV</th><td>-0.0622853593</td></tr>\n",
       "\t<tr><th scope=row>MZFONDS</th><td>-0.0583778481</td></tr>\n",
       "\t<tr><th scope=row>MBERARBO</th><td>-0.0546323865</td></tr>\n",
       "\t<tr><th scope=row>MBERBOER</th><td>-0.0540025663</td></tr>\n",
       "\t<tr><th scope=row>MFALLEEN</th><td>-0.0531021574</td></tr>\n",
       "\t<tr><th scope=row>PBROM</th><td>-0.0444097107</td></tr>\n",
       "\t<tr><th scope=row>MBERARBG</th><td>-0.0424958378</td></tr>\n",
       "\t<tr><th scope=row>MSKC</th><td>-0.0423093665</td></tr>\n",
       "\t<tr><th scope=row>MGODGE</th><td>-0.0417068857</td></tr>\n",
       "\t<tr><th scope=row>MRELSA</th><td>-0.0333622934</td></tr>\n",
       "\t<tr><th scope=row>PWALAND</th><td>-0.0216306917</td></tr>\n",
       "\t<tr><th scope=row>PWERKT</th><td>-0.0143800095</td></tr>\n",
       "\t<tr><th scope=row>PTRACTOR</th><td>-0.0122766711</td></tr>\n",
       "\t<tr><th scope=row>MAANTHUI</th><td>-0.0098090276</td></tr>\n",
       "\t<tr><th scope=row>PVRAAUT</th><td>-0.0097358668</td></tr>\n",
       "\t<tr><th scope=row>PPERSONG</th><td>-0.0096326131</td></tr>\n",
       "\t<tr><th scope=row>PBESAUT</th><td>-0.0065406802</td></tr>\n",
       "\t<tr><th scope=row>MINK123M</th><td>-0.0020132359</td></tr>\n",
       "\t<tr><th scope=row>PWABEDR</th><td>-0.0018523902</td></tr>\n",
       "\t<tr><th scope=row>MINK3045</th><td>-0.0009823603</td></tr>\n",
       "\t<tr><th scope=row>MGODOV</th><td> 0.0040394037</td></tr>\n",
       "\t<tr><th scope=row>MSKB2</th><td> 0.0040402607</td></tr>\n",
       "\t<tr><th scope=row>MGEMLEEF</th><td> 0.0044906973</td></tr>\n",
       "\t<tr><th scope=row>...</th><td>...</td></tr>\n",
       "\t<tr><th scope=row>PZEILPL</th><td>0.01168916</td></tr>\n",
       "\t<tr><th scope=row>PAANHANG</th><td>0.01262846</td></tr>\n",
       "\t<tr><th scope=row>PLEVEN</th><td>0.02115220</td></tr>\n",
       "\t<tr><th scope=row>MBERZELF</th><td>0.02197450</td></tr>\n",
       "\t<tr><th scope=row>PFIETS</th><td>0.02869544</td></tr>\n",
       "\t<tr><th scope=row>MSKB1</th><td>0.02876297</td></tr>\n",
       "\t<tr><th scope=row>PWAOREG</th><td>0.03052864</td></tr>\n",
       "\t<tr><th scope=row>MFWEKIND</th><td>0.03234609</td></tr>\n",
       "\t<tr><th scope=row>MGODPR</th><td>0.03286633</td></tr>\n",
       "\t<tr><th scope=row>MGEMOMV</th><td>0.03557316</td></tr>\n",
       "\t<tr><th scope=row>PGEZONG</th><td>0.04020763</td></tr>\n",
       "\t<tr><th scope=row>MOPLMIDD</th><td>0.04351707</td></tr>\n",
       "\t<tr><th scope=row>MBERMIDD</th><td>0.04771619</td></tr>\n",
       "\t<tr><th scope=row>MZPART</th><td>0.05751819</td></tr>\n",
       "\t<tr><th scope=row>MINK4575</th><td>0.05769183</td></tr>\n",
       "\t<tr><th scope=row>MINK7512</th><td>0.05792057</td></tr>\n",
       "\t<tr><th scope=row>PBYSTAND</th><td>0.06278886</td></tr>\n",
       "\t<tr><th scope=row>MSKA</th><td>0.06349760</td></tr>\n",
       "\t<tr><th scope=row>MBERHOOG</th><td>0.06508161</td></tr>\n",
       "\t<tr><th scope=row>MAUT1</th><td>0.06997387</td></tr>\n",
       "\t<tr><th scope=row>MRELGE</th><td>0.07026383</td></tr>\n",
       "\t<tr><th scope=row>MHKOOP</th><td>0.07842892</td></tr>\n",
       "\t<tr><th scope=row>MOPLHOOG</th><td>0.08463534</td></tr>\n",
       "\t<tr><th scope=row>MINKGEM</th><td>0.09018538</td></tr>\n",
       "\t<tr><th scope=row>PPLEZIER</th><td>0.09136116</td></tr>\n",
       "\t<tr><th scope=row>PBRAND</th><td>0.09444599</td></tr>\n",
       "\t<tr><th scope=row>MKOOPKLA</th><td>0.09593826</td></tr>\n",
       "\t<tr><th scope=row>PWAPART</th><td>0.09646269</td></tr>\n",
       "\t<tr><th scope=row>PPERSAUT</th><td>0.15090971</td></tr>\n",
       "\t<tr><th scope=row>CARAVAN</th><td>1.00000000</td></tr>\n",
       "</tbody>\n",
       "</table>\n"
      ],
      "text/latex": [
       "\\begin{tabular}{r|l}\n",
       "\tMOPLLAAG & -0.0905613304\\\\\n",
       "\tMINKM30 & -0.0797651169\\\\\n",
       "\tMHHUUR & -0.0791434984\\\\\n",
       "\tMAUT0 & -0.0765007839\\\\\n",
       "\tMOSTYPE & -0.0693852373\\\\\n",
       "\tMOSHOOFD & -0.0692998304\\\\\n",
       "\tMSKD & -0.0630702655\\\\\n",
       "\tMRELOV & -0.0622853593\\\\\n",
       "\tMZFONDS & -0.0583778481\\\\\n",
       "\tMBERARBO & -0.0546323865\\\\\n",
       "\tMBERBOER & -0.0540025663\\\\\n",
       "\tMFALLEEN & -0.0531021574\\\\\n",
       "\tPBROM & -0.0444097107\\\\\n",
       "\tMBERARBG & -0.0424958378\\\\\n",
       "\tMSKC & -0.0423093665\\\\\n",
       "\tMGODGE & -0.0417068857\\\\\n",
       "\tMRELSA & -0.0333622934\\\\\n",
       "\tPWALAND & -0.0216306917\\\\\n",
       "\tPWERKT & -0.0143800095\\\\\n",
       "\tPTRACTOR & -0.0122766711\\\\\n",
       "\tMAANTHUI & -0.0098090276\\\\\n",
       "\tPVRAAUT & -0.0097358668\\\\\n",
       "\tPPERSONG & -0.0096326131\\\\\n",
       "\tPBESAUT & -0.0065406802\\\\\n",
       "\tMINK123M & -0.0020132359\\\\\n",
       "\tPWABEDR & -0.0018523902\\\\\n",
       "\tMINK3045 & -0.0009823603\\\\\n",
       "\tMGODOV &  0.0040394037\\\\\n",
       "\tMSKB2 &  0.0040402607\\\\\n",
       "\tMGEMLEEF &  0.0044906973\\\\\n",
       "\t... & ...\\\\\n",
       "\tPZEILPL & 0.01168916\\\\\n",
       "\tPAANHANG & 0.01262846\\\\\n",
       "\tPLEVEN & 0.02115220\\\\\n",
       "\tMBERZELF & 0.02197450\\\\\n",
       "\tPFIETS & 0.02869544\\\\\n",
       "\tMSKB1 & 0.02876297\\\\\n",
       "\tPWAOREG & 0.03052864\\\\\n",
       "\tMFWEKIND & 0.03234609\\\\\n",
       "\tMGODPR & 0.03286633\\\\\n",
       "\tMGEMOMV & 0.03557316\\\\\n",
       "\tPGEZONG & 0.04020763\\\\\n",
       "\tMOPLMIDD & 0.04351707\\\\\n",
       "\tMBERMIDD & 0.04771619\\\\\n",
       "\tMZPART & 0.05751819\\\\\n",
       "\tMINK4575 & 0.05769183\\\\\n",
       "\tMINK7512 & 0.05792057\\\\\n",
       "\tPBYSTAND & 0.06278886\\\\\n",
       "\tMSKA & 0.06349760\\\\\n",
       "\tMBERHOOG & 0.06508161\\\\\n",
       "\tMAUT1 & 0.06997387\\\\\n",
       "\tMRELGE & 0.07026383\\\\\n",
       "\tMHKOOP & 0.07842892\\\\\n",
       "\tMOPLHOOG & 0.08463534\\\\\n",
       "\tMINKGEM & 0.09018538\\\\\n",
       "\tPPLEZIER & 0.09136116\\\\\n",
       "\tPBRAND & 0.09444599\\\\\n",
       "\tMKOOPKLA & 0.09593826\\\\\n",
       "\tPWAPART & 0.09646269\\\\\n",
       "\tPPERSAUT & 0.15090971\\\\\n",
       "\tCARAVAN & 1.00000000\\\\\n",
       "\\end{tabular}\n"
      ],
      "text/markdown": [
       "\n",
       "| MOPLLAAG | -0.0905613304 | \n",
       "| MINKM30 | -0.0797651169 | \n",
       "| MHHUUR | -0.0791434984 | \n",
       "| MAUT0 | -0.0765007839 | \n",
       "| MOSTYPE | -0.0693852373 | \n",
       "| MOSHOOFD | -0.0692998304 | \n",
       "| MSKD | -0.0630702655 | \n",
       "| MRELOV | -0.0622853593 | \n",
       "| MZFONDS | -0.0583778481 | \n",
       "| MBERARBO | -0.0546323865 | \n",
       "| MBERBOER | -0.0540025663 | \n",
       "| MFALLEEN | -0.0531021574 | \n",
       "| PBROM | -0.0444097107 | \n",
       "| MBERARBG | -0.0424958378 | \n",
       "| MSKC | -0.0423093665 | \n",
       "| MGODGE | -0.0417068857 | \n",
       "| MRELSA | -0.0333622934 | \n",
       "| PWALAND | -0.0216306917 | \n",
       "| PWERKT | -0.0143800095 | \n",
       "| PTRACTOR | -0.0122766711 | \n",
       "| MAANTHUI | -0.0098090276 | \n",
       "| PVRAAUT | -0.0097358668 | \n",
       "| PPERSONG | -0.0096326131 | \n",
       "| PBESAUT | -0.0065406802 | \n",
       "| MINK123M | -0.0020132359 | \n",
       "| PWABEDR | -0.0018523902 | \n",
       "| MINK3045 | -0.0009823603 | \n",
       "| MGODOV |  0.0040394037 | \n",
       "| MSKB2 |  0.0040402607 | \n",
       "| MGEMLEEF |  0.0044906973 | \n",
       "| ... | ... | \n",
       "| PZEILPL | 0.01168916 | \n",
       "| PAANHANG | 0.01262846 | \n",
       "| PLEVEN | 0.02115220 | \n",
       "| MBERZELF | 0.02197450 | \n",
       "| PFIETS | 0.02869544 | \n",
       "| MSKB1 | 0.02876297 | \n",
       "| PWAOREG | 0.03052864 | \n",
       "| MFWEKIND | 0.03234609 | \n",
       "| MGODPR | 0.03286633 | \n",
       "| MGEMOMV | 0.03557316 | \n",
       "| PGEZONG | 0.04020763 | \n",
       "| MOPLMIDD | 0.04351707 | \n",
       "| MBERMIDD | 0.04771619 | \n",
       "| MZPART | 0.05751819 | \n",
       "| MINK4575 | 0.05769183 | \n",
       "| MINK7512 | 0.05792057 | \n",
       "| PBYSTAND | 0.06278886 | \n",
       "| MSKA | 0.06349760 | \n",
       "| MBERHOOG | 0.06508161 | \n",
       "| MAUT1 | 0.06997387 | \n",
       "| MRELGE | 0.07026383 | \n",
       "| MHKOOP | 0.07842892 | \n",
       "| MOPLHOOG | 0.08463534 | \n",
       "| MINKGEM | 0.09018538 | \n",
       "| PPLEZIER | 0.09136116 | \n",
       "| PBRAND | 0.09444599 | \n",
       "| MKOOPKLA | 0.09593826 | \n",
       "| PWAPART | 0.09646269 | \n",
       "| PPERSAUT | 0.15090971 | \n",
       "| CARAVAN | 1.00000000 | \n",
       "\n",
       "\n"
      ],
      "text/plain": [
       "         [,1]         \n",
       "MOPLLAAG -0.0905613304\n",
       "MINKM30  -0.0797651169\n",
       "MHHUUR   -0.0791434984\n",
       "MAUT0    -0.0765007839\n",
       "MOSTYPE  -0.0693852373\n",
       "MOSHOOFD -0.0692998304\n",
       "MSKD     -0.0630702655\n",
       "MRELOV   -0.0622853593\n",
       "MZFONDS  -0.0583778481\n",
       "MBERARBO -0.0546323865\n",
       "MBERBOER -0.0540025663\n",
       "MFALLEEN -0.0531021574\n",
       "PBROM    -0.0444097107\n",
       "MBERARBG -0.0424958378\n",
       "MSKC     -0.0423093665\n",
       "MGODGE   -0.0417068857\n",
       "MRELSA   -0.0333622934\n",
       "PWALAND  -0.0216306917\n",
       "PWERKT   -0.0143800095\n",
       "PTRACTOR -0.0122766711\n",
       "MAANTHUI -0.0098090276\n",
       "PVRAAUT  -0.0097358668\n",
       "PPERSONG -0.0096326131\n",
       "PBESAUT  -0.0065406802\n",
       "MINK123M -0.0020132359\n",
       "PWABEDR  -0.0018523902\n",
       "MINK3045 -0.0009823603\n",
       "MGODOV    0.0040394037\n",
       "MSKB2     0.0040402607\n",
       "MGEMLEEF  0.0044906973\n",
       "...      ...          \n",
       "PZEILPL  0.01168916   \n",
       "PAANHANG 0.01262846   \n",
       "PLEVEN   0.02115220   \n",
       "MBERZELF 0.02197450   \n",
       "PFIETS   0.02869544   \n",
       "MSKB1    0.02876297   \n",
       "PWAOREG  0.03052864   \n",
       "MFWEKIND 0.03234609   \n",
       "MGODPR   0.03286633   \n",
       "MGEMOMV  0.03557316   \n",
       "PGEZONG  0.04020763   \n",
       "MOPLMIDD 0.04351707   \n",
       "MBERMIDD 0.04771619   \n",
       "MZPART   0.05751819   \n",
       "MINK4575 0.05769183   \n",
       "MINK7512 0.05792057   \n",
       "PBYSTAND 0.06278886   \n",
       "MSKA     0.06349760   \n",
       "MBERHOOG 0.06508161   \n",
       "MAUT1    0.06997387   \n",
       "MRELGE   0.07026383   \n",
       "MHKOOP   0.07842892   \n",
       "MOPLHOOG 0.08463534   \n",
       "MINKGEM  0.09018538   \n",
       "PPLEZIER 0.09136116   \n",
       "PBRAND   0.09444599   \n",
       "MKOOPKLA 0.09593826   \n",
       "PWAPART  0.09646269   \n",
       "PPERSAUT 0.15090971   \n",
       "CARAVAN  1.00000000   "
      ]
     },
     "metadata": {},
     "output_type": "display_data"
    }
   ],
   "source": [
    "apply(cor(df_selected, df_selected$CARAVAN), 2, sort)"
   ]
  },
  {
   "cell_type": "markdown",
   "metadata": {},
   "source": [
    "With the below code, we see that the correlation is quite week aginst the target and hence perform a cross-validation experiment to find the right threshold for correlation."
   ]
  },
  {
   "cell_type": "markdown",
   "metadata": {},
   "source": [
    "Below, some of the utility functions are defined to make the process simple and modular. "
   ]
  },
  {
   "cell_type": "code",
   "execution_count": 19,
   "metadata": {},
   "outputs": [],
   "source": [
    "get_corelated_feature <- function(data, corr){\n",
    "    # Computes the list of variables having a minimum correlation.\n",
    "    #\n",
    "    # Args:\n",
    "    #   data: Data on which correlation needs to be calculated\n",
    "    #   corr: Correlation threshold to be considered\n",
    "    #\n",
    "    # Returns:\n",
    "    #   Vector with variable names within the correlation threshold. \n",
    "    l <- c()\n",
    "    i <- 1\n",
    "    for (cc in cor(data, data$CARAVAN)){\n",
    "    \n",
    "    if(abs(cc)>corr){\n",
    "        l <- append(l,i)\n",
    "        }\n",
    "    i <- i + 1\n",
    "}\n",
    "    return(l)\n",
    "}"
   ]
  },
  {
   "cell_type": "code",
   "execution_count": 20,
   "metadata": {},
   "outputs": [],
   "source": [
    "fit_glm_cv_func <- function(data, corr_thresh=NULL){\n",
    "    # Performs cross-validation on the data and returns the mean of relavant metrics. \n",
    "    #\n",
    "    # Args:\n",
    "    #   data: Data on which model needs to be build and cross-validated.\n",
    "    #   thresh: Optional parameter to consider the correlation threshold. \n",
    "    #\n",
    "    # Returns:\n",
    "    #   List containing the necessary metrics\n",
    "    \n",
    "    set.seed(41)\n",
    "    \n",
    "    #Check for the optional parameter\n",
    "    if(missing(corr_thresh)){\n",
    "        yourData<-data[sample(nrow(data)),]\n",
    "    }\n",
    "    else{\n",
    "        feat <- get_corelated_feature(data, corr_thresh)\n",
    "        yourData<-data[sample(nrow(data)),feat]        \n",
    "    }\n",
    "\n",
    "   \n",
    "    #Create 5 equally size folds\n",
    "    folds <- cut(seq(1,nrow(yourData)),breaks=5,labels=FALSE)\n",
    "    \n",
    "    roc_list <- c()\n",
    "    pr_list <- c()\n",
    "    err_rate_list <- c()\n",
    "    rec_list <- c()\n",
    "    prec_list <- c()\n",
    "    \n",
    "    #fit the model on one part and train on the rest part for cross-validation.\n",
    "    for(i in 1:5){\n",
    "        #Segement your data by fold using the which() function \n",
    "        testIndexes <- which(folds==i,arr.ind=TRUE)\n",
    "        testData <- yourData[testIndexes, ]\n",
    "        trainData <- yourData[-testIndexes, ]\n",
    "        \n",
    "        fit.glm <- glm(CARAVAN ~ ., data = trainData, family = \"binomial\")\n",
    "        probs <- predict(fit.glm, newdata = testData, type=\"response\")\n",
    "        ret <- summary_func(probs, testData$CARAVAN, 0.5, FALSE)\n",
    "        roc_list <- append(roc_list, ret$roc)\n",
    "        pr_list <- append(pr_list, ret$pr)\n",
    "        err_rate_list <- append(err_rate_list, ret$err_rate)\n",
    "        rec_list <- append(rec_list, ret$recall)\n",
    "        prec_list <- append(prec_list, ret$precision)\n",
    "    }\n",
    "      \n",
    "    return(list(\"roc\"=mean(roc_list), \"pr\"=mean(pr_list), \n",
    "                \"recall\"=mean(rec_list, na.rm=TRUE), \n",
    "                \"err_rate\"=mean(err_rate_list), \n",
    "                \"precision\"=mean(prec_list, na.rm=TRUE)))\n",
    "    \n",
    "}"
   ]
  },
  {
   "cell_type": "code",
   "execution_count": 21,
   "metadata": {},
   "outputs": [],
   "source": [
    "summary_func <- function(probs, labels, prob_thresh, verbose){\n",
    "    # Gives the summary of the model given the probabilities and true labels.\n",
    "    #\n",
    "    # Args:\n",
    "    #   probs: probabilities from prediction\n",
    "    #   label: True labels \n",
    "    #   prob_thresh: probability threshold to be used for making a p\n",
    "    #                rediction positive\n",
    "    #   verbose: to see if details needs to be printed. \n",
    "    #\n",
    "    # Returns:\n",
    "    #   List containing the necessary metrics\n",
    "  \n",
    "    test.true <- labels\n",
    "    pred <- rep(0, length(probs))\n",
    "    pred[probs > prob_thresh] <- 1\n",
    "    \n",
    "    fg <- probs[test.true == 1]\n",
    "    bg <- probs[test.true == 0]\n",
    "    \n",
    "    conf <- table(pred, test.true)\n",
    "    if(verbose == TRUE){\n",
    "        print(conf)\n",
    "    }\n",
    "    \n",
    "    #calculate the relavant metrics\n",
    "    recall <- length(pred[(pred == 1) & (test.true == 1)])/length(test.true[test.true == 1])\n",
    "    precision <- length(pred[(pred == 1) & (test.true == 1)])/length(pred[pred == 1])\n",
    "    roc <- PRROC:::roc.curve(scores.class0 = fg, scores.class1 = bg, curve = T)\n",
    "    pr <- pr.curve(scores.class0 = fg, scores.class1 = bg, curve = T)\n",
    "    err_rate <- mean(pred != test.true)\n",
    "    \n",
    "    #print details only if verbose is true\n",
    "    if(verbose == TRUE){\n",
    "        cat(\"ROC AUC score is\", roc$auc, \"\\n\")\n",
    "        cat(\"P-R AUC is\", pr$auc.integral, \"\\n\")\n",
    "        cat(\"Recall is\", recall, \"\\n\")\n",
    "        cat(\"Precision is\", precision, \"\\n\")\n",
    "        cat(\"Error rate is\", err_rate, \"\\n\")\n",
    "    }\n",
    "   \n",
    "    if(verbose == TRUE){\n",
    "        plot(roc)\n",
    "        plot(pr)\n",
    "    }\n",
    "    \n",
    "    #return multiple items and hence a list\n",
    "    return(list(\"roc\"=roc$auc, \"pr\"=pr$auc.integral, \n",
    "                \"recall\"=recall, \"err_rate\"=err_rate, \n",
    "                \"precision\"=precision))\n",
    "}"
   ]
  },
  {
   "cell_type": "markdown",
   "metadata": {},
   "source": [
    "Now, using the above functions, we would first do cross-validation on the various probability thresholds and the above functions would be reused all over the rest of the code. "
   ]
  },
  {
   "cell_type": "code",
   "execution_count": 22,
   "metadata": {},
   "outputs": [
    {
     "name": "stderr",
     "output_type": "stream",
     "text": [
      "Warning message:\n",
      "\"glm.fit: fitted probabilities numerically 0 or 1 occurred\"Warning message:\n",
      "\"glm.fit: fitted probabilities numerically 0 or 1 occurred\"Warning message:\n",
      "\"glm.fit: fitted probabilities numerically 0 or 1 occurred\"Warning message:\n",
      "\"glm.fit: fitted probabilities numerically 0 or 1 occurred\"Warning message:\n",
      "\"glm.fit: fitted probabilities numerically 0 or 1 occurred\"Warning message:\n",
      "\"glm.fit: fitted probabilities numerically 0 or 1 occurred\"Warning message:\n",
      "\"glm.fit: fitted probabilities numerically 0 or 1 occurred\"Warning message:\n",
      "\"glm.fit: fitted probabilities numerically 0 or 1 occurred\""
     ]
    },
    {
     "name": "stdout",
     "output_type": "stream",
     "text": [
      "     Correlation Threshold   ROC_AUC    PR_AUC      Recall Error rate Precision\n",
      "[1,]                  0.05 0.7387883 0.1597465 0.012403467 0.05863628 0.3888889\n",
      "[2,]                  0.06 0.7408187 0.1638789 0.012403467 0.05863628 0.3888889\n",
      "[3,]                  0.07 0.7426557 0.1682026 0.008699764 0.05886538 0.2222222\n",
      "[4,]                  0.08 0.7360955 0.1722225 0.008699764 0.05886538 0.2222222\n"
     ]
    }
   ],
   "source": [
    "tab <- matrix(NA,ncol=6,nrow=4)\n",
    "colnames(tab) <- c(\"Correlation Threshold\", \n",
    "                   \"ROC_AUC\", \"PR_AUC\", \"Recall\", \n",
    "                   \"Error rate\", \"Precision\")\n",
    "len <- 1\n",
    "for (corr in c(0.05, 0.06, 0.07, 0.08)){\n",
    "    \n",
    "    ret <- fit_glm_cv_func(df.train, corr)\n",
    "    tab[len,] <- c(corr, ret$roc, ret$pr, ret$recall, ret$err_rate, ret$precision)\n",
    "    len <- len + 1\n",
    "        \n",
    "}\n",
    "print(tab)"
   ]
  },
  {
   "cell_type": "markdown",
   "metadata": {},
   "source": [
    "Based on the above table, the observation that we make is there is not much of a difference between different correlation threshold. One of the major reason for that is that the data is highly imbalanced which makes the model to be too conservative and the number of data points predicted to be positive is way too less to make an effect on these metrics. \n",
    "\n",
    "There is nothing much to take here but we can have a closer look at the metrics for threshold=0.06 because that seem to be doing the best in all the metrics. "
   ]
  },
  {
   "cell_type": "code",
   "execution_count": 23,
   "metadata": {},
   "outputs": [
    {
     "name": "stdout",
     "output_type": "stream",
     "text": [
      "[1] 4366   25\n"
     ]
    }
   ],
   "source": [
    "feat <- get_corelated_feature(df.train, 0.06)\n",
    "df_sel <- df.train[sample(nrow(df.train)),feat] \n",
    "print(dim(df_sel))"
   ]
  },
  {
   "cell_type": "markdown",
   "metadata": {},
   "source": [
    "We see that there are 24 features and the label column is picked based on the 0.06 threshold of correlation. "
   ]
  },
  {
   "cell_type": "code",
   "execution_count": 24,
   "metadata": {},
   "outputs": [
    {
     "name": "stderr",
     "output_type": "stream",
     "text": [
      "Warning message:\n",
      "\"glm.fit: fitted probabilities numerically 0 or 1 occurred\""
     ]
    },
    {
     "name": "stdout",
     "output_type": "stream",
     "text": [
      "    test.true\n",
      "pred    0    1\n",
      "   0 1362   93\n",
      "   1    0    1\n",
      "ROC AUC score is 0.7542881 \n",
      "P-R AUC is 0.1944586 \n",
      "Recall is 0.0106383 \n",
      "Precision is 1 \n",
      "Error rate is 0.06387363 \n"
     ]
    },
    {
     "data": {
      "image/png": "[encoded data removed]",
      "text/plain": [
       "Plot with title \"ROC curve\n",
       "AUC = 0.7542881\""
      ]
     },
     "metadata": {},
     "output_type": "display_data"
    },
    {
     "data": {
      "image/png": "[encoded data removed]",
      "text/plain": [
       "Plot with title \"PR curve\n",
       "AUC = 0.1944586\""
      ]
     },
     "metadata": {},
     "output_type": "display_data"
    }
   ],
   "source": [
    "fit.glm.corr <- glm(CARAVAN ~ ., data = df_sel, family = \"binomial\")\n",
    "probs <- predict(fit.glm.corr, newdata = df.test, type=\"response\")\n",
    "ret <- summary_func(probs, df.test$CARAVAN, 0.5, TRUE)"
   ]
  },
  {
   "cell_type": "markdown",
   "metadata": {},
   "source": [
    "So, as expected, the model doesn't do so well on the test data, although the ROC-AUC is decent. Based on the confusion matrix, there is just one data point which is predicted to be positive, which is too less. \n",
    "\n",
    "Precision Recall curve has also been plotted because it helps in judging the model on imbalanced data. (Relavant research paper in References)"
   ]
  },
  {
   "cell_type": "markdown",
   "metadata": {},
   "source": [
    "Since the correlation cross-validation dint work so well, lets try a step-wise model to do the feature selection. "
   ]
  },
  {
   "cell_type": "code",
   "execution_count": 25,
   "metadata": {
    "scrolled": true
   },
   "outputs": [
    {
     "name": "stderr",
     "output_type": "stream",
     "text": [
      "Warning message:\n",
      "\"glm.fit: fitted probabilities numerically 0 or 1 occurred\""
     ]
    }
   ],
   "source": [
    "full.model <- glm(CARAVAN ~., data = df.train, family=\"binomial\")\n",
    "step.model <- suppressWarnings(stepAIC(full.model, \n",
    "                                       direction = \"backward\", \n",
    "                                       trace = FALSE))"
   ]
  },
  {
   "cell_type": "markdown",
   "metadata": {},
   "source": [
    "Based on the stepwise backward selection, below are the variables picked up by it."
   ]
  },
  {
   "cell_type": "code",
   "execution_count": 26,
   "metadata": {},
   "outputs": [
    {
     "data": {
      "text/plain": [
       "CARAVAN ~ MGEMLEEF + MGODPR + MFGEKIND + MOPLMIDD + MOPLLAAG + \n",
       "    MSKA + MSKB1 + MSKB2 + MSKD + MHHUUR + MHKOOP + MAUT1 + MINKM30 + \n",
       "    MINK3045 + MINK4575 + MINK7512 + MINKGEM + PWABEDR + PWALAND + \n",
       "    PPERSAUT + PWAOREG + PBRAND + PPLEZIER + PFIETS"
      ]
     },
     "metadata": {},
     "output_type": "display_data"
    }
   ],
   "source": [
    "step.model$formula"
   ]
  },
  {
   "cell_type": "code",
   "execution_count": 27,
   "metadata": {},
   "outputs": [
    {
     "name": "stdout",
     "output_type": "stream",
     "text": [
      "    test.true\n",
      "pred    0    1\n",
      "   0 1362   93\n",
      "   1    0    1\n",
      "ROC AUC score is 0.7303793 \n",
      "P-R AUC is 0.1531654 \n",
      "Recall is 0.0106383 \n",
      "Precision is 1 \n",
      "Error rate is 0.06387363 \n"
     ]
    },
    {
     "data": {
      "image/png": "[encoded data removed]",
      "text/plain": [
       "Plot with title \"ROC curve\n",
       "AUC = 0.7303793\""
      ]
     },
     "metadata": {},
     "output_type": "display_data"
    },
    {
     "data": {
      "image/png": "[encoded data removed]",
      "text/plain": [
       "Plot with title \"PR curve\n",
       "AUC = 0.1531654\""
      ]
     },
     "metadata": {},
     "output_type": "display_data"
    }
   ],
   "source": [
    "fit.glm.step <- glm(step.model$formula, data = df.train, family = \"binomial\")\n",
    "probs <- predict(fit.glm.step, newdata = df.test, type=\"response\")\n",
    "ret <- summary_func(probs, df.test$CARAVAN, 0.5, TRUE)"
   ]
  },
  {
   "cell_type": "markdown",
   "metadata": {},
   "source": [
    "Even this model is suffering from the imbalanced problem since its not predicting a lot of positives. But we still keep this model and we will compare this on the validation data and see how it performs. "
   ]
  },
  {
   "cell_type": "markdown",
   "metadata": {},
   "source": [
    "Lets try fitting an LDA model as well on the selected features and compare them against each other. "
   ]
  },
  {
   "cell_type": "code",
   "execution_count": 28,
   "metadata": {},
   "outputs": [
    {
     "name": "stdout",
     "output_type": "stream",
     "text": [
      "    test.true\n",
      "pred    0    1\n",
      "   0 1357   92\n",
      "   1    5    2\n",
      "ROC AUC score is 0.7329881 \n",
      "P-R AUC is 0.1502852 \n",
      "Recall is 0.0212766 \n",
      "Precision is 0.2857143 \n",
      "Error rate is 0.06662088 \n"
     ]
    },
    {
     "data": {
      "image/png": "[encoded data removed]",
      "text/plain": [
       "Plot with title \"ROC curve\n",
       "AUC = 0.7329881\""
      ]
     },
     "metadata": {},
     "output_type": "display_data"
    },
    {
     "data": {
      "image/png": "[encoded data removed]",
      "text/plain": [
       "Plot with title \"PR curve\n",
       "AUC = 0.1502852\""
      ]
     },
     "metadata": {},
     "output_type": "display_data"
    }
   ],
   "source": [
    "fit.lda.step <- lda(step.model$formula, data = df.train, family = \"binomial\")\n",
    "probs <- predict(fit.lda.step, df.test)$posterior[,2]\n",
    "ret <- summary_func(probs, df.test$CARAVAN, 0.5, TRUE)"
   ]
  },
  {
   "cell_type": "markdown",
   "metadata": {},
   "source": [
    "Performs slightly better than the base gl model, but still has a very low recall. "
   ]
  },
  {
   "cell_type": "markdown",
   "metadata": {},
   "source": [
    "Since the data is imbalanced, the probability threshold of 0.5 seems to be too high, lets do an experiment by changing that and seeing the performance of the model. "
   ]
  },
  {
   "cell_type": "code",
   "execution_count": 29,
   "metadata": {},
   "outputs": [
    {
     "name": "stderr",
     "output_type": "stream",
     "text": [
      "Warning message:\n",
      "\"glm.fit: fitted probabilities numerically 0 or 1 occurred\""
     ]
    },
    {
     "name": "stdout",
     "output_type": "stream",
     "text": [
      "     Probability Threshold   ROC_AUC    PR_AUC    Recall Error rate Precision\n",
      "[1,]                  0.50 0.7542881 0.1944586 0.0106383 0.06387363 1.0000000\n",
      "[2,]                  0.40 0.7542881 0.1944586 0.0106383 0.06524725 0.3333333\n",
      "[3,]                  0.30 0.7542881 0.1944586 0.0212766 0.06799451 0.2222222\n",
      "[4,]                  0.20 0.7542881 0.1944586 0.1595745 0.08241758 0.2678571\n",
      "[5,]                  0.15 0.7542881 0.1944586 0.3404255 0.11332418 0.2370370\n",
      "[6,]                  0.10 0.7542881 0.1944586 0.5319149 0.19986264 0.1683502\n"
     ]
    }
   ],
   "source": [
    "fit.glm.prob.thresh <- glm(CARAVAN ~ ., data = df_sel, family = \"binomial\")\n",
    "probs <- predict(fit.glm.prob.thresh, newdata = df.test, type=\"response\")\n",
    "\n",
    "tab <- matrix(NA,ncol=6,nrow=6)\n",
    "colnames(tab) <- c(\"Probability Threshold\", \"ROC_AUC\", \n",
    "                   \"PR_AUC\", \"Recall\", \"Error rate\", \"Precision\")\n",
    "len <- 1\n",
    "\n",
    "for (p_thresh in c(0.5, 0.4, 0.3, 0.2, 0.15, 0.1)){\n",
    "    ret <- summary_func(probs, df.test$CARAVAN, p_thresh, FALSE)\n",
    "    tab[len,] <- c(p_thresh, ret$roc, ret$pr, ret$recall, \n",
    "                   ret$err_rate, ret$precision)\n",
    "    \n",
    "    len <- len + 1\n",
    "}\n",
    "print(tab)"
   ]
  },
  {
   "cell_type": "markdown",
   "metadata": {},
   "source": [
    "Now, based on this we see that the recall increases as we decrease the threshold but the precision decreases.\n",
    "\n",
    "For now, we pick the threshold of 0.15 since it gives a balance between the threshold of precision and recall. "
   ]
  },
  {
   "cell_type": "markdown",
   "metadata": {},
   "source": [
    "Another way of variable selection could be, by fitting a Random forest model on entire data and then using the variables out of its feature importance. Lets give that a try. "
   ]
  },
  {
   "cell_type": "code",
   "execution_count": 30,
   "metadata": {},
   "outputs": [
    {
     "data": {
      "text/plain": [
       "\n",
       "Call:\n",
       " randomForest(formula = as.factor(CARAVAN) ~ ., data = df.train,      ntree = 100) \n",
       "               Type of random forest: classification\n",
       "                     Number of trees: 100\n",
       "No. of variables tried at each split: 8\n",
       "\n",
       "        OOB estimate of  error rate: 6.5%\n",
       "Confusion matrix:\n",
       "     0  1 class.error\n",
       "0 4075 37 0.008998054\n",
       "1  247  7 0.972440945"
      ]
     },
     "metadata": {},
     "output_type": "display_data"
    }
   ],
   "source": [
    "fit.rf <- randomForest(as.factor(CARAVAN)~., df.train,ntree=100)\n",
    "fit.rf"
   ]
  },
  {
   "cell_type": "markdown",
   "metadata": {},
   "source": [
    "Now the following code gives the importance of the variables in decreasing order of importance. "
   ]
  },
  {
   "cell_type": "code",
   "execution_count": 31,
   "metadata": {},
   "outputs": [
    {
     "data": {
      "text/html": [
       "<table>\n",
       "<thead><tr><th></th><th scope=col>MeanDecreaseGini</th></tr></thead>\n",
       "<tbody>\n",
       "\t<tr><th scope=row>PPERSAUT</th><td>19.998387</td></tr>\n",
       "\t<tr><th scope=row>PBRAND</th><td>18.411592</td></tr>\n",
       "\t<tr><th scope=row>MOSTYPE</th><td>16.054320</td></tr>\n",
       "\t<tr><th scope=row>PWAPART</th><td>11.965570</td></tr>\n",
       "\t<tr><th scope=row>MKOOPKLA</th><td> 9.565796</td></tr>\n",
       "\t<tr><th scope=row>MOSHOOFD</th><td> 8.879234</td></tr>\n",
       "\t<tr><th scope=row>MSKC</th><td> 8.696840</td></tr>\n",
       "\t<tr><th scope=row>MBERARBG</th><td> 8.600520</td></tr>\n",
       "\t<tr><th scope=row>MGODPR</th><td> 8.558441</td></tr>\n",
       "\t<tr><th scope=row>MOPLMIDD</th><td> 8.483859</td></tr>\n",
       "\t<tr><th scope=row>MOPLHOOG</th><td> 8.473058</td></tr>\n",
       "\t<tr><th scope=row>PPLEZIER</th><td> 8.447893</td></tr>\n",
       "\t<tr><th scope=row>MINK3045</th><td> 8.396289</td></tr>\n",
       "\t<tr><th scope=row>MBERMIDD</th><td> 8.215771</td></tr>\n",
       "\t<tr><th scope=row>MFGEKIND</th><td> 8.099822</td></tr>\n",
       "\t<tr><th scope=row>MGODGE</th><td> 7.869856</td></tr>\n",
       "\t<tr><th scope=row>MFWEKIND</th><td> 7.803437</td></tr>\n",
       "\t<tr><th scope=row>MBERARBO</th><td> 7.796259</td></tr>\n",
       "\t<tr><th scope=row>MINK4575</th><td> 7.699442</td></tr>\n",
       "\t<tr><th scope=row>MOPLLAAG</th><td> 7.691880</td></tr>\n",
       "\t<tr><th scope=row>MBERHOOG</th><td> 7.589841</td></tr>\n",
       "\t<tr><th scope=row>MHKOOP</th><td> 7.535214</td></tr>\n",
       "\t<tr><th scope=row>MINKM30</th><td> 7.469213</td></tr>\n",
       "\t<tr><th scope=row>MSKA</th><td> 7.177016</td></tr>\n",
       "\t<tr><th scope=row>MINK7512</th><td> 7.162520</td></tr>\n",
       "\t<tr><th scope=row>MHHUUR</th><td> 7.141026</td></tr>\n",
       "\t<tr><th scope=row>MSKB2</th><td> 7.051680</td></tr>\n",
       "\t<tr><th scope=row>MAUT1</th><td> 7.048153</td></tr>\n",
       "\t<tr><th scope=row>MRELGE</th><td> 6.755983</td></tr>\n",
       "\t<tr><th scope=row>MSKB1</th><td> 6.735009</td></tr>\n",
       "\t<tr><th scope=row>...</th><td>...</td></tr>\n",
       "\t<tr><th scope=row>MFALLEEN</th><td>6.11851884</td></tr>\n",
       "\t<tr><th scope=row>MAUT0</th><td>5.86134621</td></tr>\n",
       "\t<tr><th scope=row>MGODOV</th><td>5.82608214</td></tr>\n",
       "\t<tr><th scope=row>PLEVEN</th><td>5.82404594</td></tr>\n",
       "\t<tr><th scope=row>MAUT2</th><td>5.60303477</td></tr>\n",
       "\t<tr><th scope=row>MGEMLEEF</th><td>5.25557896</td></tr>\n",
       "\t<tr><th scope=row>MRELSA</th><td>4.80537740</td></tr>\n",
       "\t<tr><th scope=row>MGODRK</th><td>4.49625507</td></tr>\n",
       "\t<tr><th scope=row>MGEMOMV</th><td>4.37864369</td></tr>\n",
       "\t<tr><th scope=row>MBERZELF</th><td>4.31006394</td></tr>\n",
       "\t<tr><th scope=row>MSKD</th><td>4.22504910</td></tr>\n",
       "\t<tr><th scope=row>PBYSTAND</th><td>3.93422742</td></tr>\n",
       "\t<tr><th scope=row>PBROM</th><td>3.69121722</td></tr>\n",
       "\t<tr><th scope=row>PFIETS</th><td>3.58585546</td></tr>\n",
       "\t<tr><th scope=row>PMOTSCO</th><td>3.30280144</td></tr>\n",
       "\t<tr><th scope=row>MBERBOER</th><td>2.95112495</td></tr>\n",
       "\t<tr><th scope=row>MINK123M</th><td>2.68075701</td></tr>\n",
       "\t<tr><th scope=row>PWAOREG</th><td>2.43973722</td></tr>\n",
       "\t<tr><th scope=row>PGEZONG</th><td>2.18334994</td></tr>\n",
       "\t<tr><th scope=row>MAANTHUI</th><td>1.69208691</td></tr>\n",
       "\t<tr><th scope=row>PAANHANG</th><td>1.67935512</td></tr>\n",
       "\t<tr><th scope=row>PINBOED</th><td>1.54092805</td></tr>\n",
       "\t<tr><th scope=row>PTRACTOR</th><td>1.26241327</td></tr>\n",
       "\t<tr><th scope=row>PBESAUT</th><td>1.10053551</td></tr>\n",
       "\t<tr><th scope=row>PWABEDR</th><td>0.91782099</td></tr>\n",
       "\t<tr><th scope=row>PWALAND</th><td>0.51731743</td></tr>\n",
       "\t<tr><th scope=row>PZEILPL</th><td>0.33284079</td></tr>\n",
       "\t<tr><th scope=row>PPERSONG</th><td>0.20033242</td></tr>\n",
       "\t<tr><th scope=row>PWERKT</th><td>0.01751748</td></tr>\n",
       "\t<tr><th scope=row>PVRAAUT</th><td>0.01500000</td></tr>\n",
       "</tbody>\n",
       "</table>\n"
      ],
      "text/latex": [
       "\\begin{tabular}{r|l}\n",
       "  & MeanDecreaseGini\\\\\n",
       "\\hline\n",
       "\tPPERSAUT & 19.998387\\\\\n",
       "\tPBRAND & 18.411592\\\\\n",
       "\tMOSTYPE & 16.054320\\\\\n",
       "\tPWAPART & 11.965570\\\\\n",
       "\tMKOOPKLA &  9.565796\\\\\n",
       "\tMOSHOOFD &  8.879234\\\\\n",
       "\tMSKC &  8.696840\\\\\n",
       "\tMBERARBG &  8.600520\\\\\n",
       "\tMGODPR &  8.558441\\\\\n",
       "\tMOPLMIDD &  8.483859\\\\\n",
       "\tMOPLHOOG &  8.473058\\\\\n",
       "\tPPLEZIER &  8.447893\\\\\n",
       "\tMINK3045 &  8.396289\\\\\n",
       "\tMBERMIDD &  8.215771\\\\\n",
       "\tMFGEKIND &  8.099822\\\\\n",
       "\tMGODGE &  7.869856\\\\\n",
       "\tMFWEKIND &  7.803437\\\\\n",
       "\tMBERARBO &  7.796259\\\\\n",
       "\tMINK4575 &  7.699442\\\\\n",
       "\tMOPLLAAG &  7.691880\\\\\n",
       "\tMBERHOOG &  7.589841\\\\\n",
       "\tMHKOOP &  7.535214\\\\\n",
       "\tMINKM30 &  7.469213\\\\\n",
       "\tMSKA &  7.177016\\\\\n",
       "\tMINK7512 &  7.162520\\\\\n",
       "\tMHHUUR &  7.141026\\\\\n",
       "\tMSKB2 &  7.051680\\\\\n",
       "\tMAUT1 &  7.048153\\\\\n",
       "\tMRELGE &  6.755983\\\\\n",
       "\tMSKB1 &  6.735009\\\\\n",
       "\t... & ...\\\\\n",
       "\tMFALLEEN & 6.11851884\\\\\n",
       "\tMAUT0 & 5.86134621\\\\\n",
       "\tMGODOV & 5.82608214\\\\\n",
       "\tPLEVEN & 5.82404594\\\\\n",
       "\tMAUT2 & 5.60303477\\\\\n",
       "\tMGEMLEEF & 5.25557896\\\\\n",
       "\tMRELSA & 4.80537740\\\\\n",
       "\tMGODRK & 4.49625507\\\\\n",
       "\tMGEMOMV & 4.37864369\\\\\n",
       "\tMBERZELF & 4.31006394\\\\\n",
       "\tMSKD & 4.22504910\\\\\n",
       "\tPBYSTAND & 3.93422742\\\\\n",
       "\tPBROM & 3.69121722\\\\\n",
       "\tPFIETS & 3.58585546\\\\\n",
       "\tPMOTSCO & 3.30280144\\\\\n",
       "\tMBERBOER & 2.95112495\\\\\n",
       "\tMINK123M & 2.68075701\\\\\n",
       "\tPWAOREG & 2.43973722\\\\\n",
       "\tPGEZONG & 2.18334994\\\\\n",
       "\tMAANTHUI & 1.69208691\\\\\n",
       "\tPAANHANG & 1.67935512\\\\\n",
       "\tPINBOED & 1.54092805\\\\\n",
       "\tPTRACTOR & 1.26241327\\\\\n",
       "\tPBESAUT & 1.10053551\\\\\n",
       "\tPWABEDR & 0.91782099\\\\\n",
       "\tPWALAND & 0.51731743\\\\\n",
       "\tPZEILPL & 0.33284079\\\\\n",
       "\tPPERSONG & 0.20033242\\\\\n",
       "\tPWERKT & 0.01751748\\\\\n",
       "\tPVRAAUT & 0.01500000\\\\\n",
       "\\end{tabular}\n"
      ],
      "text/markdown": [
       "\n",
       "| <!--/--> | MeanDecreaseGini | \n",
       "|---|---|---|---|---|---|---|---|---|---|---|---|---|---|---|---|---|---|---|---|---|---|---|---|---|---|---|---|---|---|---|---|---|---|---|---|---|---|---|---|---|---|---|---|---|---|---|---|---|---|---|---|---|---|---|---|---|---|---|---|---|\n",
       "| PPERSAUT | 19.998387 | \n",
       "| PBRAND | 18.411592 | \n",
       "| MOSTYPE | 16.054320 | \n",
       "| PWAPART | 11.965570 | \n",
       "| MKOOPKLA |  9.565796 | \n",
       "| MOSHOOFD |  8.879234 | \n",
       "| MSKC |  8.696840 | \n",
       "| MBERARBG |  8.600520 | \n",
       "| MGODPR |  8.558441 | \n",
       "| MOPLMIDD |  8.483859 | \n",
       "| MOPLHOOG |  8.473058 | \n",
       "| PPLEZIER |  8.447893 | \n",
       "| MINK3045 |  8.396289 | \n",
       "| MBERMIDD |  8.215771 | \n",
       "| MFGEKIND |  8.099822 | \n",
       "| MGODGE |  7.869856 | \n",
       "| MFWEKIND |  7.803437 | \n",
       "| MBERARBO |  7.796259 | \n",
       "| MINK4575 |  7.699442 | \n",
       "| MOPLLAAG |  7.691880 | \n",
       "| MBERHOOG |  7.589841 | \n",
       "| MHKOOP |  7.535214 | \n",
       "| MINKM30 |  7.469213 | \n",
       "| MSKA |  7.177016 | \n",
       "| MINK7512 |  7.162520 | \n",
       "| MHHUUR |  7.141026 | \n",
       "| MSKB2 |  7.051680 | \n",
       "| MAUT1 |  7.048153 | \n",
       "| MRELGE |  6.755983 | \n",
       "| MSKB1 |  6.735009 | \n",
       "| ... | ... | \n",
       "| MFALLEEN | 6.11851884 | \n",
       "| MAUT0 | 5.86134621 | \n",
       "| MGODOV | 5.82608214 | \n",
       "| PLEVEN | 5.82404594 | \n",
       "| MAUT2 | 5.60303477 | \n",
       "| MGEMLEEF | 5.25557896 | \n",
       "| MRELSA | 4.80537740 | \n",
       "| MGODRK | 4.49625507 | \n",
       "| MGEMOMV | 4.37864369 | \n",
       "| MBERZELF | 4.31006394 | \n",
       "| MSKD | 4.22504910 | \n",
       "| PBYSTAND | 3.93422742 | \n",
       "| PBROM | 3.69121722 | \n",
       "| PFIETS | 3.58585546 | \n",
       "| PMOTSCO | 3.30280144 | \n",
       "| MBERBOER | 2.95112495 | \n",
       "| MINK123M | 2.68075701 | \n",
       "| PWAOREG | 2.43973722 | \n",
       "| PGEZONG | 2.18334994 | \n",
       "| MAANTHUI | 1.69208691 | \n",
       "| PAANHANG | 1.67935512 | \n",
       "| PINBOED | 1.54092805 | \n",
       "| PTRACTOR | 1.26241327 | \n",
       "| PBESAUT | 1.10053551 | \n",
       "| PWABEDR | 0.91782099 | \n",
       "| PWALAND | 0.51731743 | \n",
       "| PZEILPL | 0.33284079 | \n",
       "| PPERSONG | 0.20033242 | \n",
       "| PWERKT | 0.01751748 | \n",
       "| PVRAAUT | 0.01500000 | \n",
       "\n",
       "\n"
      ],
      "text/plain": [
       "         MeanDecreaseGini\n",
       "PPERSAUT 19.998387       \n",
       "PBRAND   18.411592       \n",
       "MOSTYPE  16.054320       \n",
       "PWAPART  11.965570       \n",
       "MKOOPKLA  9.565796       \n",
       "MOSHOOFD  8.879234       \n",
       "MSKC      8.696840       \n",
       "MBERARBG  8.600520       \n",
       "MGODPR    8.558441       \n",
       "MOPLMIDD  8.483859       \n",
       "MOPLHOOG  8.473058       \n",
       "PPLEZIER  8.447893       \n",
       "MINK3045  8.396289       \n",
       "MBERMIDD  8.215771       \n",
       "MFGEKIND  8.099822       \n",
       "MGODGE    7.869856       \n",
       "MFWEKIND  7.803437       \n",
       "MBERARBO  7.796259       \n",
       "MINK4575  7.699442       \n",
       "MOPLLAAG  7.691880       \n",
       "MBERHOOG  7.589841       \n",
       "MHKOOP    7.535214       \n",
       "MINKM30   7.469213       \n",
       "MSKA      7.177016       \n",
       "MINK7512  7.162520       \n",
       "MHHUUR    7.141026       \n",
       "MSKB2     7.051680       \n",
       "MAUT1     7.048153       \n",
       "MRELGE    6.755983       \n",
       "MSKB1     6.735009       \n",
       "...      ...             \n",
       "MFALLEEN 6.11851884      \n",
       "MAUT0    5.86134621      \n",
       "MGODOV   5.82608214      \n",
       "PLEVEN   5.82404594      \n",
       "MAUT2    5.60303477      \n",
       "MGEMLEEF 5.25557896      \n",
       "MRELSA   4.80537740      \n",
       "MGODRK   4.49625507      \n",
       "MGEMOMV  4.37864369      \n",
       "MBERZELF 4.31006394      \n",
       "MSKD     4.22504910      \n",
       "PBYSTAND 3.93422742      \n",
       "PBROM    3.69121722      \n",
       "PFIETS   3.58585546      \n",
       "PMOTSCO  3.30280144      \n",
       "MBERBOER 2.95112495      \n",
       "MINK123M 2.68075701      \n",
       "PWAOREG  2.43973722      \n",
       "PGEZONG  2.18334994      \n",
       "MAANTHUI 1.69208691      \n",
       "PAANHANG 1.67935512      \n",
       "PINBOED  1.54092805      \n",
       "PTRACTOR 1.26241327      \n",
       "PBESAUT  1.10053551      \n",
       "PWABEDR  0.91782099      \n",
       "PWALAND  0.51731743      \n",
       "PZEILPL  0.33284079      \n",
       "PPERSONG 0.20033242      \n",
       "PWERKT   0.01751748      \n",
       "PVRAAUT  0.01500000      "
      ]
     },
     "metadata": {},
     "output_type": "display_data"
    }
   ],
   "source": [
    "apply(fit.rf$importance, 2, sort, decreasing = TRUE)"
   ]
  },
  {
   "cell_type": "markdown",
   "metadata": {},
   "source": [
    "For our analysis, we pick the top 25 variables using the below code. "
   ]
  },
  {
   "cell_type": "code",
   "execution_count": 32,
   "metadata": {},
   "outputs": [
    {
     "data": {
      "text/html": [
       "<ol class=list-inline>\n",
       "\t<li>'PPERSAUT'</li>\n",
       "\t<li>'PBRAND'</li>\n",
       "\t<li>'MOSTYPE'</li>\n",
       "\t<li>'PWAPART'</li>\n",
       "\t<li>'MKOOPKLA'</li>\n",
       "\t<li>'MOSHOOFD'</li>\n",
       "\t<li>'MSKC'</li>\n",
       "\t<li>'MBERARBG'</li>\n",
       "\t<li>'MGODPR'</li>\n",
       "\t<li>'MOPLMIDD'</li>\n",
       "\t<li>'MOPLHOOG'</li>\n",
       "\t<li>'PPLEZIER'</li>\n",
       "\t<li>'MINK3045'</li>\n",
       "\t<li>'MBERMIDD'</li>\n",
       "\t<li>'MFGEKIND'</li>\n",
       "\t<li>'MGODGE'</li>\n",
       "\t<li>'MFWEKIND'</li>\n",
       "\t<li>'MBERARBO'</li>\n",
       "\t<li>'MINK4575'</li>\n",
       "\t<li>'MOPLLAAG'</li>\n",
       "\t<li>'MBERHOOG'</li>\n",
       "\t<li>'MHKOOP'</li>\n",
       "\t<li>'MINKM30'</li>\n",
       "\t<li>'MSKA'</li>\n",
       "\t<li>'MINK7512'</li>\n",
       "</ol>\n"
      ],
      "text/latex": [
       "\\begin{enumerate*}\n",
       "\\item 'PPERSAUT'\n",
       "\\item 'PBRAND'\n",
       "\\item 'MOSTYPE'\n",
       "\\item 'PWAPART'\n",
       "\\item 'MKOOPKLA'\n",
       "\\item 'MOSHOOFD'\n",
       "\\item 'MSKC'\n",
       "\\item 'MBERARBG'\n",
       "\\item 'MGODPR'\n",
       "\\item 'MOPLMIDD'\n",
       "\\item 'MOPLHOOG'\n",
       "\\item 'PPLEZIER'\n",
       "\\item 'MINK3045'\n",
       "\\item 'MBERMIDD'\n",
       "\\item 'MFGEKIND'\n",
       "\\item 'MGODGE'\n",
       "\\item 'MFWEKIND'\n",
       "\\item 'MBERARBO'\n",
       "\\item 'MINK4575'\n",
       "\\item 'MOPLLAAG'\n",
       "\\item 'MBERHOOG'\n",
       "\\item 'MHKOOP'\n",
       "\\item 'MINKM30'\n",
       "\\item 'MSKA'\n",
       "\\item 'MINK7512'\n",
       "\\end{enumerate*}\n"
      ],
      "text/markdown": [
       "1. 'PPERSAUT'\n",
       "2. 'PBRAND'\n",
       "3. 'MOSTYPE'\n",
       "4. 'PWAPART'\n",
       "5. 'MKOOPKLA'\n",
       "6. 'MOSHOOFD'\n",
       "7. 'MSKC'\n",
       "8. 'MBERARBG'\n",
       "9. 'MGODPR'\n",
       "10. 'MOPLMIDD'\n",
       "11. 'MOPLHOOG'\n",
       "12. 'PPLEZIER'\n",
       "13. 'MINK3045'\n",
       "14. 'MBERMIDD'\n",
       "15. 'MFGEKIND'\n",
       "16. 'MGODGE'\n",
       "17. 'MFWEKIND'\n",
       "18. 'MBERARBO'\n",
       "19. 'MINK4575'\n",
       "20. 'MOPLLAAG'\n",
       "21. 'MBERHOOG'\n",
       "22. 'MHKOOP'\n",
       "23. 'MINKM30'\n",
       "24. 'MSKA'\n",
       "25. 'MINK7512'\n",
       "\n",
       "\n"
      ],
      "text/plain": [
       " [1] \"PPERSAUT\" \"PBRAND\"   \"MOSTYPE\"  \"PWAPART\"  \"MKOOPKLA\" \"MOSHOOFD\"\n",
       " [7] \"MSKC\"     \"MBERARBG\" \"MGODPR\"   \"MOPLMIDD\" \"MOPLHOOG\" \"PPLEZIER\"\n",
       "[13] \"MINK3045\" \"MBERMIDD\" \"MFGEKIND\" \"MGODGE\"   \"MFWEKIND\" \"MBERARBO\"\n",
       "[19] \"MINK4575\" \"MOPLLAAG\" \"MBERHOOG\" \"MHKOOP\"   \"MINKM30\"  \"MSKA\"    \n",
       "[25] \"MINK7512\""
      ]
     },
     "metadata": {},
     "output_type": "display_data"
    }
   ],
   "source": [
    "rf_feat <- rownames(apply(fit.rf$importance, 2, sort, decreasing = TRUE))[1:25]\n",
    "rf_feat"
   ]
  },
  {
   "cell_type": "code",
   "execution_count": 33,
   "metadata": {},
   "outputs": [
    {
     "name": "stdout",
     "output_type": "stream",
     "text": [
      "    test.true\n",
      "pred    0    1\n",
      "   0 1360   93\n",
      "   1    2    1\n",
      "ROC AUC score is 0.7358703 \n",
      "P-R AUC is 0.1656308 \n",
      "Recall is 0.0106383 \n",
      "Precision is 0.3333333 \n",
      "Error rate is 0.06524725 \n"
     ]
    },
    {
     "data": {
      "image/png": "[encoded data removed]",
      "text/plain": [
       "Plot with title \"ROC curve\n",
       "AUC = 0.7358703\""
      ]
     },
     "metadata": {},
     "output_type": "display_data"
    },
    {
     "data": {
      "image/png": "[encoded data removed]",
      "text/plain": [
       "Plot with title \"PR curve\n",
       "AUC = 0.1656308\""
      ]
     },
     "metadata": {},
     "output_type": "display_data"
    }
   ],
   "source": [
    "df_rf_train <- df.train[c(rf_feat, \"CARAVAN\")]\n",
    "df_rf_test <- df.test[c(rf_feat)]\n",
    "fit.glm.rf <- glm(CARAVAN ~ . , data = df_rf_train, family = \"binomial\")\n",
    "probs <- predict(fit.glm.rf, newdata = df_rf_test, type=\"response\")\n",
    "ret <- summary_func(probs, df.test$CARAVAN, 0.5, TRUE)"
   ]
  },
  {
   "cell_type": "markdown",
   "metadata": {},
   "source": [
    "This performs slightly better than the base glm method with the probability threshold of 0.5"
   ]
  },
  {
   "cell_type": "markdown",
   "metadata": {},
   "source": [
    "Now, since the key road block for this problem has been the imbalance nature of it, lets try to get to the root cause and sample the data in a way to balance it more. Here, we explore a library called 'ROSE' to synthetically generate the dataset for the minority class. It can be done using the below code. The sampling is done to get a 70-30 ratio as shown below. "
   ]
  },
  {
   "cell_type": "code",
   "execution_count": 34,
   "metadata": {},
   "outputs": [
    {
     "data": {
      "text/plain": [
       "\n",
       "   0    1 \n",
       "3059 1307 "
      ]
     },
     "metadata": {},
     "output_type": "display_data"
    }
   ],
   "source": [
    "data.rose <- ROSE(CARAVAN~., data=df.train, seed=3, p=0.3)$data\n",
    "table(data.rose$CARAVAN)"
   ]
  },
  {
   "cell_type": "code",
   "execution_count": 35,
   "metadata": {},
   "outputs": [
    {
     "name": "stdout",
     "output_type": "stream",
     "text": [
      "    test.true\n",
      "pred    0    1\n",
      "   0 1257   68\n",
      "   1  105   26\n",
      "ROC AUC score is 0.7448839 \n",
      "P-R AUC is 0.1590687 \n",
      "Recall is 0.2765957 \n",
      "Precision is 0.1984733 \n",
      "Error rate is 0.1188187 \n"
     ]
    },
    {
     "data": {
      "image/png": "[encoded data removed]",
      "text/plain": [
       "Plot with title \"ROC curve\n",
       "AUC = 0.7448839\""
      ]
     },
     "metadata": {},
     "output_type": "display_data"
    },
    {
     "data": {
      "image/png": "[encoded data removed]",
      "text/plain": [
       "Plot with title \"PR curve\n",
       "AUC = 0.1590687\""
      ]
     },
     "metadata": {},
     "output_type": "display_data"
    }
   ],
   "source": [
    "fit.glm.rose <- glm(CARAVAN ~ . , data = data.rose, family = \"binomial\")\n",
    "probs <- predict(fit.glm.rose, newdata = df.test, type=\"response\")\n",
    "ret <- summary_func(probs, df.test$CARAVAN, 0.5, TRUE)"
   ]
  },
  {
   "cell_type": "markdown",
   "metadata": {},
   "source": [
    "This model performs quite good on the test data as well. It has a better ROC AUC, PR AUC and a good recall as well. "
   ]
  },
  {
   "cell_type": "markdown",
   "metadata": {},
   "source": [
    "## 4. Model Comparsion<a class=\"anchor\" id=\"sec_4\"></a>"
   ]
  },
  {
   "cell_type": "markdown",
   "metadata": {},
   "source": [
    "Having built various models, lets compare their performance on the real validation data and see which one performs the best. \n",
    "\n",
    "The task here is to predict the 800 most likely customers to buy the CARAVAN policy and the metric for evaluation would be the number of people who bought amongst the top 800 predicted. In simple words, we compare the recall at 800 for all the models. "
   ]
  },
  {
   "cell_type": "markdown",
   "metadata": {},
   "source": [
    "We would first read the validation data and their labels and jon them together. "
   ]
  },
  {
   "cell_type": "code",
   "execution_count": 36,
   "metadata": {},
   "outputs": [],
   "source": [
    "df_car_val <- read.csv('ticeval2000.txt', header = FALSE, sep = '\\t')\n",
    "df_car_val_labels <- read.csv('tictgts2000.txt', header = FALSE)"
   ]
  },
  {
   "cell_type": "code",
   "execution_count": 37,
   "metadata": {},
   "outputs": [],
   "source": [
    "names(df_car_val) <- c('MOSTYPE','MAANTHUI','MGEMOMV','MGEMLEEF',\n",
    "                   'MOSHOOFD','MGODRK','MGODPR','MGODOV','MGODGE',\n",
    "                   'MRELGE','MRELSA','MRELOV','MFALLEEN','MFGEKIND',\n",
    "                   'MFWEKIND','MOPLHOOG','MOPLMIDD','MOPLLAAG','MBERHOOG',\n",
    "                   'MBERZELF','MBERBOER','MBERMIDD','MBERARBG','MBERARBO',\n",
    "                   'MSKA','MSKB1','MSKB2','MSKC','MSKD','MHHUUR','MHKOOP',\n",
    "                   'MAUT1','MAUT2','MAUT0','MZFONDS','MZPART','MINKM30',\n",
    "                   'MINK3045','MINK4575','MINK7512','MINK123M','MINKGEM',\n",
    "                   'MKOOPKLA','PWAPART','PWABEDR','PWALAND','PPERSAUT',\n",
    "                   'PBESAUT','PMOTSCO','PVRAAUT','PAANHANG','PTRACTOR',\n",
    "                   'PWERKT','PBROM','PLEVEN','PPERSONG','PGEZONG',\n",
    "                   'PWAOREG','PBRAND','PZEILPL','PPLEZIER','PFIETS',\n",
    "                   'PINBOED','PBYSTAND','AWAPART','AWABEDR','AWALAND',\n",
    "                   'APERSAUT','ABESAUT','AMOTSCO','AVRAAUT','AAANHANG',\n",
    "                   'ATRACTOR','AWERKT','ABROM','ALEVEN','APERSONG','AGEZONG',\n",
    "                   'AWAOREG','ABRAND','AZEILPL','APLEZIER','AFIETS',\n",
    "                       'AINBOED','ABYSTAND')\n",
    "names(df_car_val_labels) <- c('CARAVAN')"
   ]
  },
  {
   "cell_type": "code",
   "execution_count": 38,
   "metadata": {},
   "outputs": [
    {
     "data": {
      "text/html": [
       "<ol class=list-inline>\n",
       "\t<li>4000</li>\n",
       "\t<li>86</li>\n",
       "</ol>\n"
      ],
      "text/latex": [
       "\\begin{enumerate*}\n",
       "\\item 4000\n",
       "\\item 86\n",
       "\\end{enumerate*}\n"
      ],
      "text/markdown": [
       "1. 4000\n",
       "2. 86\n",
       "\n",
       "\n"
      ],
      "text/plain": [
       "[1] 4000   86"
      ]
     },
     "metadata": {},
     "output_type": "display_data"
    }
   ],
   "source": [
    "df_car_val$CARAVAN <- df_car_val_labels$CARAVAN\n",
    "dim(df_car_val)"
   ]
  },
  {
   "cell_type": "markdown",
   "metadata": {},
   "source": [
    "Now, we have got 4000 data points and we predict using the various model objects that we had prepared above and summarise their performance. "
   ]
  },
  {
   "cell_type": "code",
   "execution_count": 39,
   "metadata": {},
   "outputs": [],
   "source": [
    "tab <- matrix(NA,ncol=7,nrow=5)\n",
    "colnames(tab) <- c(\"Method\", \"ROC_AUC\", \"PR_AUC\", \n",
    "                   \"Recall\", \"Error rate\", \"Precision\",\n",
    "                   \"Positives among 800\")\n",
    "len <- 1"
   ]
  },
  {
   "cell_type": "markdown",
   "metadata": {},
   "source": [
    "Below cells of code are for the respective models that have been built earlier. "
   ]
  },
  {
   "cell_type": "code",
   "execution_count": 40,
   "metadata": {},
   "outputs": [],
   "source": [
    "# glm model based on the correlation threshold of 0.06\n",
    "probs <- predict(fit.glm.corr, newdata = df_car_val, type=\"response\")\n",
    "df_car_val$probablity <- probs\n",
    "df_car_val_sorted <- df_car_val[order(df_car_val$probablity, \n",
    "                                      decreasing = TRUE),][1:800,]\n",
    "\n",
    "tot_positives <- nrow(df_car_val_sorted[df_car_val_sorted$CARAVAN == 1,])\n",
    "\n",
    "ret <- summary_func(df_car_val_sorted$probablity,\n",
    "                    df_car_val_sorted$CARAVAN, 0.5, FALSE)\n",
    "\n",
    "tab[len,] <- c(\"GLM correlation based\", ret$roc, ret$pr,\n",
    "               ret$recall, ret$err_rate, ret$precision, tot_positives)\n",
    "\n",
    "len <- len + 1"
   ]
  },
  {
   "cell_type": "code",
   "execution_count": 41,
   "metadata": {},
   "outputs": [],
   "source": [
    "# glm model based on Step selection of features.\n",
    "probs <- predict(fit.glm.step, newdata = df_car_val, type=\"response\")\n",
    "df_car_val$probablity <- probs\n",
    "\n",
    "df_car_val_sorted <- df_car_val[order(df_car_val$probablity, \n",
    "                                      decreasing = TRUE),][1:800,]\n",
    "\n",
    "tot_positives <- nrow(df_car_val_sorted[df_car_val_sorted$CARAVAN == 1,])\n",
    "\n",
    "ret <- summary_func(df_car_val_sorted$probablity, \n",
    "                    df_car_val_sorted$CARAVAN, 0.5, FALSE)\n",
    "\n",
    "tab[len,] <- c(\"Step Selection\", ret$roc, ret$pr, ret$recall, \n",
    "               ret$err_rate, ret$precision, tot_positives)\n",
    "\n",
    "len <- len + 1"
   ]
  },
  {
   "cell_type": "code",
   "execution_count": 42,
   "metadata": {},
   "outputs": [],
   "source": [
    "# lda model based on step selected features\n",
    "probs <- predict(fit.lda.step, df_car_val)$posterior[,2]\n",
    "df_car_val$probablity <- probs\n",
    "\n",
    "df_car_val_sorted <- df_car_val[order(df_car_val$probablity, \n",
    "                                      decreasing = TRUE),][1:800,]\n",
    "\n",
    "tot_positives <- nrow(df_car_val_sorted[df_car_val_sorted$CARAVAN == 1,])\n",
    "\n",
    "ret <- summary_func(df_car_val_sorted$probablity, \n",
    "                    df_car_val_sorted$CARAVAN, 0.5, FALSE)\n",
    "\n",
    "tab[len,] <- c(\"LDA\", ret$roc, ret$pr, ret$recall, \n",
    "               ret$err_rate, ret$precision, tot_positives)\n",
    "\n",
    "len <- len + 1"
   ]
  },
  {
   "cell_type": "code",
   "execution_count": 43,
   "metadata": {},
   "outputs": [],
   "source": [
    "# glm on features selected by Random Forest method\n",
    "probs <- predict(fit.glm.rf, newdata = df_car_val, type=\"response\")\n",
    "df_car_val$probablity <- probs\n",
    "\n",
    "df_car_val_sorted <- df_car_val[order(df_car_val$probablity, \n",
    "                                      decreasing = TRUE),][1:800,]\n",
    "\n",
    "tot_positives <- nrow(df_car_val_sorted[df_car_val_sorted$CARAVAN == 1,])\n",
    "ret <- summary_func(df_car_val_sorted$probablity, \n",
    "                    df_car_val_sorted$CARAVAN, 0.5, FALSE)\n",
    "\n",
    "tab[len,] <- c(\"GLM on RF features\", ret$roc, ret$pr, ret$recall, \n",
    "               ret$err_rate, ret$precision, tot_positives)\n",
    "\n",
    "len <- len + 1"
   ]
  },
  {
   "cell_type": "code",
   "execution_count": 44,
   "metadata": {},
   "outputs": [],
   "source": [
    "# Prediction based on the model built using ROSE sampling data\n",
    "probs <- predict(fit.glm.rose, newdata = df_car_val, type=\"response\")\n",
    "df_car_val$probablity <- probs\n",
    "\n",
    "df_car_val_sorted <- df_car_val[order(df_car_val$probablity, \n",
    "                                      decreasing = TRUE),][1:800,]\n",
    "\n",
    "tot_positives <- nrow(df_car_val_sorted[df_car_val_sorted$CARAVAN == 1,])\n",
    "\n",
    "ret <- summary_func(df_car_val_sorted$probablity, \n",
    "                    df_car_val_sorted$CARAVAN, 0.5, FALSE)\n",
    "\n",
    "tab[len,] <- c(\"ROSE Sampling\", ret$roc, ret$pr, ret$recall, \n",
    "               ret$err_rate, ret$precision, tot_positives)\n",
    "\n",
    "len <- len + 1"
   ]
  },
  {
   "cell_type": "code",
   "execution_count": 45,
   "metadata": {},
   "outputs": [
    {
     "data": {
      "text/html": [
       "<table>\n",
       "<thead><tr><th scope=col>Method</th><th scope=col>ROC_AUC</th><th scope=col>PR_AUC</th><th scope=col>Recall</th><th scope=col>Error rate</th><th scope=col>Precision</th><th scope=col>Positives among 800</th></tr></thead>\n",
       "<tbody>\n",
       "\t<tr><td>GLM correlation based</td><td>0.584880568768861    </td><td>0.198143199446058    </td><td>0.0263157894736842   </td><td>0.1425               </td><td>0.5                  </td><td>114                  </td></tr>\n",
       "\t<tr><td>Step Selection       </td><td>0.641549001362085    </td><td>0.193197367157038    </td><td>0.0186915887850467   </td><td>0.13875              </td><td>0.25                 </td><td>107                  </td></tr>\n",
       "\t<tr><td>LDA                  </td><td>0.615164690382082    </td><td>0.18424234358795     </td><td>0.0272727272727273   </td><td>0.14875              </td><td>0.2                  </td><td>110                  </td></tr>\n",
       "\t<tr><td>GLM on RF features   </td><td>0.596038053949904    </td><td>0.194102307572119    </td><td>0.0277777777777778   </td><td>0.135                </td><td>0.5                  </td><td>108                  </td></tr>\n",
       "\t<tr><td>ROSE Sampling        </td><td>0.585907599781301    </td><td>0.202563245445302    </td><td>0.508474576271186    </td><td>0.38875              </td><td>0.191693290734824    </td><td>118                  </td></tr>\n",
       "</tbody>\n",
       "</table>\n"
      ],
      "text/latex": [
       "\\begin{tabular}{lllllll}\n",
       " Method & ROC\\_AUC & PR\\_AUC & Recall & Error rate & Precision & Positives among 800\\\\\n",
       "\\hline\n",
       "\t GLM correlation based & 0.584880568768861     & 0.198143199446058     & 0.0263157894736842    & 0.1425                & 0.5                   & 114                  \\\\\n",
       "\t Step Selection        & 0.641549001362085     & 0.193197367157038     & 0.0186915887850467    & 0.13875               & 0.25                  & 107                  \\\\\n",
       "\t LDA                   & 0.615164690382082     & 0.18424234358795      & 0.0272727272727273    & 0.14875               & 0.2                   & 110                  \\\\\n",
       "\t GLM on RF features    & 0.596038053949904     & 0.194102307572119     & 0.0277777777777778    & 0.135                 & 0.5                   & 108                  \\\\\n",
       "\t ROSE Sampling         & 0.585907599781301     & 0.202563245445302     & 0.508474576271186     & 0.38875               & 0.191693290734824     & 118                  \\\\\n",
       "\\end{tabular}\n"
      ],
      "text/markdown": [
       "\n",
       "Method | ROC_AUC | PR_AUC | Recall | Error rate | Precision | Positives among 800 | \n",
       "|---|---|---|---|---|\n",
       "| GLM correlation based | 0.584880568768861     | 0.198143199446058     | 0.0263157894736842    | 0.1425                | 0.5                   | 114                   | \n",
       "| Step Selection        | 0.641549001362085     | 0.193197367157038     | 0.0186915887850467    | 0.13875               | 0.25                  | 107                   | \n",
       "| LDA                   | 0.615164690382082     | 0.18424234358795      | 0.0272727272727273    | 0.14875               | 0.2                   | 110                   | \n",
       "| GLM on RF features    | 0.596038053949904     | 0.194102307572119     | 0.0277777777777778    | 0.135                 | 0.5                   | 108                   | \n",
       "| ROSE Sampling         | 0.585907599781301     | 0.202563245445302     | 0.508474576271186     | 0.38875               | 0.191693290734824     | 118                   | \n",
       "\n",
       "\n"
      ],
      "text/plain": [
       "     Method                ROC_AUC           PR_AUC           \n",
       "[1,] GLM correlation based 0.584880568768861 0.198143199446058\n",
       "[2,] Step Selection        0.641549001362085 0.193197367157038\n",
       "[3,] LDA                   0.615164690382082 0.18424234358795 \n",
       "[4,] GLM on RF features    0.596038053949904 0.194102307572119\n",
       "[5,] ROSE Sampling         0.585907599781301 0.202563245445302\n",
       "     Recall             Error rate Precision         Positives among 800\n",
       "[1,] 0.0263157894736842 0.1425     0.5               114                \n",
       "[2,] 0.0186915887850467 0.13875    0.25              107                \n",
       "[3,] 0.0272727272727273 0.14875    0.2               110                \n",
       "[4,] 0.0277777777777778 0.135      0.5               108                \n",
       "[5,] 0.508474576271186  0.38875    0.191693290734824 118                "
      ]
     },
     "metadata": {},
     "output_type": "display_data"
    }
   ],
   "source": [
    "tab"
   ]
  },
  {
   "cell_type": "code",
   "execution_count": 46,
   "metadata": {},
   "outputs": [
    {
     "name": "stdout",
     "output_type": "stream",
     "text": [
      "     Method                  ROC_AUC             PR_AUC             \n",
      "[1,] \"GLM correlation based\" \"0.584880568768861\" \"0.198143199446058\"\n",
      "[2,] \"Step Selection\"        \"0.641549001362085\" \"0.193197367157038\"\n",
      "[3,] \"LDA\"                   \"0.615164690382082\" \"0.18424234358795\" \n",
      "[4,] \"GLM on RF features\"    \"0.596038053949904\" \"0.194102307572119\"\n",
      "[5,] \"ROSE Sampling\"         \"0.585907599781301\" \"0.202563245445302\"\n",
      "     Recall               Error rate Precision           Positives among 800\n",
      "[1,] \"0.0263157894736842\" \"0.1425\"   \"0.5\"               \"114\"              \n",
      "[2,] \"0.0186915887850467\" \"0.13875\"  \"0.25\"              \"107\"              \n",
      "[3,] \"0.0272727272727273\" \"0.14875\"  \"0.2\"               \"110\"              \n",
      "[4,] \"0.0277777777777778\" \"0.135\"    \"0.5\"               \"108\"              \n",
      "[5,] \"0.508474576271186\"  \"0.38875\"  \"0.191693290734824\" \"118\"              \n"
     ]
    }
   ],
   "source": [
    "#Since the above table was not visible properly in the generated pdf, \n",
    "#below display can be used to understand the results.\n",
    "print(tab)"
   ]
  },
  {
   "cell_type": "markdown",
   "metadata": {},
   "source": [
    "The objective of the problem was to get as many as customers in the top 800 predicted. So basically we need to get the maximum positives in the top 800 customers which is shown in the last column of the above table. \n",
    "\n",
    "Of course, the best method is ROSE sampling because it has 118 positives which is the maximum among all the other methods. The correlation cross-validation method (1st row) comes second which might make us eager to go and experiment more on that, but it wouldn't be fair to look at test data and then re tuning the models. \n",
    "\n",
    "If we consider the recall metric, clearly the ROSE sampling method wins and it has maximum Precision-Recall AUC as well, a metric that should be considered for an imbalanced data. \n",
    "\n",
    "Step selection wins on ROC AUC, but has a very low Recall and capture rate, and is also expensive to train because it takes more time and is computationaly expensive. \n",
    "\n",
    "LDA and GLM on Random Forest features, are very close to each other but are still far behind the ROSE sampling. "
   ]
  },
  {
   "cell_type": "markdown",
   "metadata": {},
   "source": [
    "## 5. Variable Identification and Explanation <a class=\"anchor\" id=\"sec_5\"></a>"
   ]
  },
  {
   "cell_type": "markdown",
   "metadata": {},
   "source": [
    "Now, lets have a look at some of the properties of the people who have actually bought the insurance policy. "
   ]
  },
  {
   "cell_type": "code",
   "execution_count": 47,
   "metadata": {},
   "outputs": [
    {
     "data": {},
     "metadata": {},
     "output_type": "display_data"
    },
    {
     "data": {
      "image/png": "[encoded data removed]",
      "text/plain": [
       "plot without title"
      ]
     },
     "metadata": {},
     "output_type": "display_data"
    }
   ],
   "source": [
    "ggplot(df_car[df_selected$CARAVAN==1,], \n",
    "       aes(x=as.factor(MKOOPKLA), fill=as.factor(CARAVAN)), fill=CARAVAN) + \n",
    "geom_bar() +ylab(\"Frequency\") +\n",
    "xlab(\"Purchasing power class\") + \n",
    "ggtitle(\"Purchasing power class vs CARAVAN Policy purchase\") +\n",
    "scale_fill_discrete(name = \"CARAVAN Purchase\")"
   ]
  },
  {
   "cell_type": "markdown",
   "metadata": {},
   "source": [
    "This shows that, customers with 3,6,7 purchasing class are more likely to buy a CARAVAN policy. "
   ]
  },
  {
   "cell_type": "code",
   "execution_count": 48,
   "metadata": {},
   "outputs": [
    {
     "data": {},
     "metadata": {},
     "output_type": "display_data"
    },
    {
     "data": {
      "image/png": "[encoded data removed]",
      "text/plain": [
       "plot without title"
      ]
     },
     "metadata": {},
     "output_type": "display_data"
    }
   ],
   "source": [
    "ggplot(df_car[df_selected$CARAVAN==1,], \n",
    "       aes(x=as.factor(PBYSTAND), fill=as.factor(CARAVAN)), fill=CARAVAN) + \n",
    "geom_bar() +ylab(\"Frequency\") +\n",
    "xlab(\"Contribution social security insurance policies\") + \n",
    "ggtitle(\"Contribution social security insurance policies \n",
    "vs CARAVAN Policy purchase\") +\n",
    "scale_fill_discrete(name = \"CARAVAN Purchase\")"
   ]
  },
  {
   "cell_type": "markdown",
   "metadata": {},
   "source": [
    "In the above plot we notice that, a person who doesn't buy a Social security insurance is more likely to buy a Caravan policy. "
   ]
  },
  {
   "cell_type": "code",
   "execution_count": 49,
   "metadata": {},
   "outputs": [
    {
     "data": {},
     "metadata": {},
     "output_type": "display_data"
    },
    {
     "data": {
      "image/png": "[encoded data removed]",
      "text/plain": [
       "plot without title"
      ]
     },
     "metadata": {},
     "output_type": "display_data"
    }
   ],
   "source": [
    "ggplot(df_car[df_selected$CARAVAN==1,], \n",
    "       aes(x=as.factor(PPLEZIER), fill=as.factor(CARAVAN)), fill=CARAVAN) + \n",
    "geom_bar() +ylab(\"Frequency\") +\n",
    "xlab(\"Contribution boat policies\") + \n",
    "ggtitle(\"Contribution boat policies vs CARAVAN Policy purchase\") +\n",
    "scale_fill_discrete(name = \"CARAVAN Purchase\")"
   ]
  },
  {
   "cell_type": "markdown",
   "metadata": {},
   "source": [
    "The customers who have not bought a boat policy are likely to buy a Caravan policy. "
   ]
  },
  {
   "cell_type": "code",
   "execution_count": 50,
   "metadata": {},
   "outputs": [
    {
     "data": {},
     "metadata": {},
     "output_type": "display_data"
    },
    {
     "data": {
      "image/png": "[encoded data removed]",
      "text/plain": [
       "plot without title"
      ]
     },
     "metadata": {},
     "output_type": "display_data"
    }
   ],
   "source": [
    "ggplot(df_car[df_selected$CARAVAN==1,], \n",
    "       aes(x=as.factor(PBRAND), fill=as.factor(CARAVAN)), fill=CARAVAN) + \n",
    "geom_bar() +ylab(\"Frequency\") +\n",
    "xlab(\"Contribution fire policies\") + \n",
    "ggtitle(\"Contribution fire policies vs CARAVAN Policy purchase\") +\n",
    "scale_fill_discrete(name = \"CARAVAN Purchase\")"
   ]
  },
  {
   "cell_type": "markdown",
   "metadata": {},
   "source": [
    "Intrestingly, if the contribution in the fire policy is higher, the chances of person buying the Caravan policy increases. "
   ]
  },
  {
   "cell_type": "markdown",
   "metadata": {},
   "source": [
    "Based on the above plots, we get to know some of the qualities of the customers who purchased the Caravan policy. THis could be one of the starting point for the Marketing team to do a targeted marketing. These atributes have a significant impact on the on the customer buying the Caravan policy. "
   ]
  },
  {
   "cell_type": "markdown",
   "metadata": {},
   "source": [
    "## 6. Conclusion <a class=\"anchor\" id=\"sec_6\"></a>"
   ]
  },
  {
   "cell_type": "markdown",
   "metadata": {},
   "source": [
    "Based on the models built, given a marketing team in the business scenario, they are always eager to capture most number of people by targeting the minimum set. In this case, they have the capacity of targeting 800 people, and then the ROSE sampling method seems to be performing the best with this scenario as shown in the table in the previous sections. \n",
    "\n",
    "Marketing team can also make use of the some of the patterns that are found in the previous section to incorporate some business rule on the predictions made and make the targeting better. "
   ]
  },
  {
   "cell_type": "markdown",
   "metadata": {},
   "source": [
    "## 7. References <a class=\"anchor\" id=\"sec_7\"></a>"
   ]
  },
  {
   "cell_type": "markdown",
   "metadata": {},
   "source": [
    "* Monash Moodle for FIT5149 https://lms.monash.edu/course/view.php?id=50752\n",
    "* Data Description http://liacs.leidenuniv.nl/~puttenpwhvander/library/cc2000/data.html\n",
    "* Caravan Insurance Challenge: RF (R) https://www.kaggle.com/aldoabdn/caravan-insurance-challenge-rf-r\n",
    "* PROJECT - INSURANCE COMPANY BENCHMARK CoIL 2000 https://rpubs.com/g_k_s_rajkumar/115458\n",
    "* Calculating AUPR in R https://stats.stackexchange.com/questions/10501/calculating-aupr-in-r\n",
    "* The Relationship Between Precision-Recall and ROC Curves https://www.biostat.wisc.edu/~page/rocpr.pdf\n",
    "* Adding a column to a data.frame https://stackoverflow.com/questions/10150579/adding-a-column-to-a-data-frame/10152029\n",
    "* Plot table objects with ggplot? https://stackoverflow.com/questions/26788049/plot-table-objects-with-ggplot\n",
    "* How to put labels over geom_bar in R with ggplot2 https://stackoverflow.com/questions/6455088/how-to-put-labels-over-geom-bar-in-r-with-ggplot2\n",
    "* How to sort a matrix/data frame in R https://yihui.name/cn/2006/10/how-to-sort-a-matrixdata-frame-in-r/\n",
    "* randomForest https://www.rdocumentation.org/packages/randomForest/versions/4.6-14/topics/randomForest\n",
    "* posterior probabilities from lda.predict https://stat.ethz.ch/pipermail/r-help/2014-August/421272.html\n",
    "* How to split a data set to do 10-fold cross validation https://stats.stackexchange.com/questions/61090/how-to-split-a-data-set-to-do-10-fold-cross-validation\n",
    "* How to split data into training/testing sets using sample function https://stackoverflow.com/questions/17200114/how-to-split-data-into-training-testing-sets-using-sample-function\n",
    "* Google's R Style Guide https://google.github.io/styleguide/Rguide.xml#functiondocumentation\n",
    "* How to temporarily supress warnings in R https://stackoverflow.com/questions/36474556/how-to-temporarily-supress-warnings-in-r"
   ]
  },
  {
   "cell_type": "code",
   "execution_count": null,
   "metadata": {},
   "outputs": [],
   "source": []
  }
 ],
 "metadata": {
  "kernelspec": {
   "display_name": "R",
   "language": "R",
   "name": "ir"
  },
  "language_info": {
   "codemirror_mode": "r",
   "file_extension": ".r",
   "mimetype": "text/x-r-source",
   "name": "R",
   "pygments_lexer": "r",
   "version": "3.6.1"
  }
 },
 "nbformat": 4,
 "nbformat_minor": 2
}
