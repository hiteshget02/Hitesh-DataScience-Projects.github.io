{
 "cells": [
  {
   "cell_type": "markdown",
   "metadata": {},
   "source": [
    "# FIT5196 Assessment 1 - Task 2\n",
    "\n",
    "Date: 15/04/2019\n",
    "\n",
    "Version: 1.0\n",
    "\n",
    "Environment: Python 3.6.5 and Anaconda 4.4.10 (64-bit)\n",
    "\n",
    "Libraries used:\n",
    "* re 2.2.1 (for regular expression, included in Anaconda Python 3.6) \n",
    "* PyPDF2 (for reading the PDF file)\n",
    "* nltk 3.3 (for various functionality of nltk)\n",
    "* FreqDist (for calculaing the frequency distribution of words)\n",
    "* nltk.tokenize (for RegexpTokenizer, MWETokenizer to tokenise the data)\n",
    "* matplotlib.pyplot (for plotting some basic charts)\n",
    "* nltk.stem (for PorterStemmer to Stem the tokens)\n",
    "* itertools (for chain to get all the words from the dictionary values)\n",
    "* collections (for counting the frequency of items in a list)\n",
    "* pylab (for plotting one of the charts)\n",
    "* numpy (for some basic stats calculation)\n",
    "\n",
    "## 0. Assumption\n",
    "The input file `29620163.pdf` and the stop words file `./stopwords_en/stopwords_en.txt` is in the current directory. \n",
    "\n",
    "\n",
    "\n",
    "## 1. Introduction\n",
    "This assignament needs the html data given to be parsed using regular expressions and dump the data into required json and xml format. The input data is in the file `29620163.pdf`. \n",
    "\n",
    "\n"
   ]
  },
  {
   "cell_type": "markdown",
   "metadata": {},
   "source": [
    "## 2.  Import libraries "
   ]
  },
  {
   "cell_type": "code",
   "execution_count": 1,
   "metadata": {},
   "outputs": [],
   "source": [
    "import re\n",
    "import PyPDF2\n",
    "import nltk\n",
    "from nltk import FreqDist\n",
    "from nltk.tokenize import RegexpTokenizer\n",
    "from nltk.tokenize import MWETokenizer\n",
    "import matplotlib.pyplot as plt\n",
    "from nltk.stem import PorterStemmer\n",
    "from itertools import chain\n",
    "import collections\n",
    "from pylab import *\n",
    "import numpy as np\n",
    "%matplotlib inline "
   ]
  },
  {
   "cell_type": "markdown",
   "metadata": {},
   "source": [
    "The steps to get the final vocab are as follows:\n",
    "1. Read the pdf file.\n",
    "2. Tokenise and Normalise the tokens.\n",
    "3. Extract first 200 meaningful bigrams.\n",
    "4. Retokenise using MWETokeniser.\n",
    "5. Remove context-independent stop words from the bag of words using the file provided.\n",
    "6. Remove the context-dependent stop words using the 95% threshold.\n",
    "7. Remove the rare tokens using the 5% threshold.\n",
    "8. Stemming of tokens using PorterStemmer.\n",
    "9. Create the 29620163_vocab.txt and 29620163_countVec.txt file as output in the desired format. \n",
    "\n",
    "Each of these steps are explained in detail below in their respective sections."
   ]
  },
  {
   "cell_type": "markdown",
   "metadata": {},
   "source": [
    "## 3. Read PDF file\n",
    "File is read using a PyPDF2 library as shown in the below code. \n",
    "The read contents are concatenated in one big string."
   ]
  },
  {
   "cell_type": "code",
   "execution_count": 2,
   "metadata": {},
   "outputs": [],
   "source": [
    "pdf_file = open('29620163.pdf', 'rb')\n",
    "read_pdf = PyPDF2.PdfFileReader(pdf_file)\n",
    "file_contents = \"\"\n",
    "number_of_pages = read_pdf.getNumPages()\n",
    "for pageid in range(0,number_of_pages):\n",
    "    page = read_pdf.getPage(pageid)\n",
    "    page_content = page.extractText()\n",
    "    file_contents += str(page_content)\n"
   ]
  },
  {
   "cell_type": "markdown",
   "metadata": {},
   "source": [
    "Lets have a look at initial few characters to see how the string looks like. "
   ]
  },
  {
   "cell_type": "code",
   "execution_count": 3,
   "metadata": {},
   "outputs": [
    {
     "name": "stdout",
     "output_type": "stream",
     "text": [
      "Title\n",
      "Synopsis\n",
      "Outcomes\n",
      "MEC2408\n",
      "The unit introduces a range of fundamental\n",
      "technologies, processes and manufacturing methods\n",
      "used in the creation of engineering artefacts, and\n",
      "explains their relative merits and limitations. 3D\n",
      "Computer Aided Design and Manufacturing\n",
      "(CAD/CAM) tools are utilised to design and\n",
      "manufacture using advanced technologies.\n",
      "['Identify engineering technologies, processes,\n",
      "materials and artefacts;', 'Select and apply appropriate\n",
      "protocols to ensure safety and environmental\n",
      "protection.', 'Use a range of fundamental technologies\n",
      "to construct engineering artefacts.', 'Design and\n",
      "construct an engineering artefact using at least one\n",
      "advanced engineering technology and incorporating\n",
      "the use of computer aided design.']\n",
      "OCC4010\n",
      "This unit introduces students to the profession of\n",
      "occupational therapy and key knowledge, skills and\n",
      "attitudes that are essential for professional practice.\n",
      "Theoretical foundations of occupational therapy will\n",
      "include: theoretical concepts and mo\n"
     ]
    }
   ],
   "source": [
    "print(file_contents[0:1000])"
   ]
  },
  {
   "cell_type": "markdown",
   "metadata": {},
   "source": [
    "The below cell shows the number of pages read, which is can be confirmed from the pdf file as well."
   ]
  },
  {
   "cell_type": "code",
   "execution_count": 4,
   "metadata": {},
   "outputs": [
    {
     "name": "stdout",
     "output_type": "stream",
     "text": [
      "Number of pages in the file:  65\n"
     ]
    }
   ],
   "source": [
    "print(\"Number of pages in the file: \",number_of_pages)"
   ]
  },
  {
   "cell_type": "markdown",
   "metadata": {},
   "source": [
    "The following Regular expression is to split the entire string into multiple units."
   ]
  },
  {
   "cell_type": "code",
   "execution_count": 5,
   "metadata": {},
   "outputs": [],
   "source": [
    "rexpr = \"([A-Z]{3}[0-9]{4})(.*?)\\[(.*?)\\]\\\\n\"\n",
    "matchobj = re.findall(rexpr, str(file_contents),re.S)"
   ]
  },
  {
   "cell_type": "markdown",
   "metadata": {},
   "source": [
    "We can see that the number of units have been extracted successfully. "
   ]
  },
  {
   "cell_type": "code",
   "execution_count": 6,
   "metadata": {},
   "outputs": [
    {
     "name": "stdout",
     "output_type": "stream",
     "text": [
      "Number of units in the file:  200\n"
     ]
    }
   ],
   "source": [
    "print(\"Number of units in the file: \",len(matchobj))"
   ]
  },
  {
   "cell_type": "markdown",
   "metadata": {},
   "source": [
    "Lets have a look at the first item of the matched object. We see that it is a tuple of size 3, where the first element is unit code, second is the Synopsis and the third item is Outcomes."
   ]
  },
  {
   "cell_type": "code",
   "execution_count": 7,
   "metadata": {},
   "outputs": [
    {
     "name": "stdout",
     "output_type": "stream",
     "text": [
      "('MEC2408', '\\nThe unit introduces a range of fundamental\\ntechnologies, processes and manufacturing methods\\nused in the creation of engineering artefacts, and\\nexplains their relative merits and limitations. 3D\\nComputer Aided Design and Manufacturing\\n(CAD/CAM) tools are utilised to design and\\nmanufacture using advanced technologies.\\n', \"'Identify engineering technologies, processes,\\nmaterials and artefacts;', 'Select and apply appropriate\\nprotocols to ensure safety and environmental\\nprotection.', 'Use a range of fundamental technologies\\nto construct engineering artefacts.', 'Design and\\nconstruct an engineering artefact using at least one\\nadvanced engineering technology and incorporating\\nthe use of computer aided design.'\")\n"
     ]
    }
   ],
   "source": [
    "print(matchobj[0])"
   ]
  },
  {
   "cell_type": "markdown",
   "metadata": {},
   "source": [
    "The below code is to check if there are any duplicate units in the given data. We see that there are 6 units that are duplicated which means the output will have only 194 units. "
   ]
  },
  {
   "cell_type": "code",
   "execution_count": 8,
   "metadata": {},
   "outputs": [
    {
     "data": {
      "text/plain": [
       "[('APG5069', 2),\n",
       " ('ATS2941', 2),\n",
       " ('APG5355', 2),\n",
       " ('IDN2101', 2),\n",
       " ('FIT5213', 2),\n",
       " ('AZA1365', 2),\n",
       " ('MEC2408', 1),\n",
       " ('OCC4010', 1),\n",
       " ('CDS1511', 1),\n",
       " ('FIT3165', 1),\n",
       " ('TDN4101', 1),\n",
       " ('TAD4504', 1),\n",
       " ('MGF5011', 1),\n",
       " ('BEX5200', 1),\n",
       " ('PSY6399', 1),\n",
       " ('ATS1310', 1),\n",
       " ('CIV6885', 1),\n",
       " ('ATS2551', 1),\n",
       " ('ACF5001', 1),\n",
       " ('FIT1033', 1),\n",
       " ('ATS2146', 1),\n",
       " ('IDN3002', 1),\n",
       " ('BTC3150', 1),\n",
       " ('HPE5015', 1),\n",
       " ('MGB2230', 1),\n",
       " ('PGC5103', 1),\n",
       " ('MAE5409', 1),\n",
       " ('NUR2229', 1),\n",
       " ('UPD5201', 1),\n",
       " ('BFW2341', 1),\n",
       " ('SWM5106', 1),\n",
       " ('MKF5912', 1),\n",
       " ('ADD6093', 1),\n",
       " ('APG5349', 1),\n",
       " ('ATS3012', 1),\n",
       " ('MPH5277', 1),\n",
       " ('NUT5001', 1),\n",
       " ('FST1800', 1),\n",
       " ('AZA2719', 1),\n",
       " ('VPR1012', 1),\n",
       " ('CHE6885', 1),\n",
       " ('BIO4280', 1),\n",
       " ('RTS4102', 1),\n",
       " ('MEC4401', 1),\n",
       " ('MBS4100', 1),\n",
       " ('ATS3465', 1),\n",
       " ('ATS1262', 1),\n",
       " ('ATS3805', 1),\n",
       " ('MAE5401', 1),\n",
       " ('APG5092', 1),\n",
       " ('MAE3402', 1),\n",
       " ('ATS3069', 1),\n",
       " ('MBA5111', 1),\n",
       " ('BFC2751', 1),\n",
       " ('ATS3296', 1),\n",
       " ('MEC6887', 1),\n",
       " ('BTF5919', 1),\n",
       " ('BEX5001', 1),\n",
       " ('ATS3743', 1),\n",
       " ('FIT2090', 1),\n",
       " ('AZA3808', 1),\n",
       " ('FIT2086', 1),\n",
       " ('PAR5200', 1),\n",
       " ('BEX6011', 1),\n",
       " ('EAE3121', 1),\n",
       " ('RSE3060', 1),\n",
       " ('ATS4281', 1),\n",
       " ('FIT3181', 1),\n",
       " ('BEX3724', 1),\n",
       " ('PSY6199', 1),\n",
       " ('BEX6510', 1),\n",
       " ('IMM3051', 1),\n",
       " ('ATS2698', 1),\n",
       " ('EAE5022', 1),\n",
       " ('DGN1104', 1),\n",
       " ('ATS4367', 1),\n",
       " ('SWK4401', 1),\n",
       " ('MEC4447', 1),\n",
       " ('BFW2140', 1),\n",
       " ('ATS2086', 1),\n",
       " ('APG5640', 1),\n",
       " ('MGW2430', 1),\n",
       " ('ATS2863', 1),\n",
       " ('LAW4313', 1),\n",
       " ('AZA3629', 1),\n",
       " ('MGM5638', 1),\n",
       " ('ARC3101', 1),\n",
       " ('ATS3632', 1),\n",
       " ('ATS4171', 1),\n",
       " ('RAD5108', 1),\n",
       " ('MEC6886', 1),\n",
       " ('AHT1102', 1),\n",
       " ('UPD5500', 1),\n",
       " ('LAW4121', 1),\n",
       " ('MTH1010', 1),\n",
       " ('APG5155', 1),\n",
       " ('BEX3411', 1),\n",
       " ('LAW4173', 1),\n",
       " ('MEC4418', 1),\n",
       " ('FOR5011', 1),\n",
       " ('MEC4408', 1),\n",
       " ('ATS3974', 1),\n",
       " ('FIT5190', 1),\n",
       " ('NUR5228', 1),\n",
       " ('SWK4031', 1),\n",
       " ('BTZ5919', 1),\n",
       " ('BTF2601', 1),\n",
       " ('MKC3500', 1),\n",
       " ('HSC4002', 1),\n",
       " ('ATS2485', 1),\n",
       " ('AHT3130', 1),\n",
       " ('CIV5801', 1),\n",
       " ('AZA2015', 1),\n",
       " ('APG5616', 1),\n",
       " ('BIO2011', 1),\n",
       " ('CCS5100', 1),\n",
       " ('MKX4080', 1),\n",
       " ('BEX5975', 1),\n",
       " ('FIT3134', 1),\n",
       " ('ATS3098', 1),\n",
       " ('GEN2041', 1),\n",
       " ('BEX6001', 1),\n",
       " ('FNA1112', 1),\n",
       " ('BIO3011', 1),\n",
       " ('ATS1835', 1),\n",
       " ('ATS1353', 1),\n",
       " ('ATS3083', 1),\n",
       " ('MED4200', 1),\n",
       " ('MPH5271', 1),\n",
       " ('ATS3156', 1),\n",
       " ('NUR5325', 1),\n",
       " ('UPD4101', 1),\n",
       " ('GLS1231', 1),\n",
       " ('NUR1202', 1),\n",
       " ('SCI1020', 1),\n",
       " ('FST3711', 1),\n",
       " ('ATS3226', 1),\n",
       " ('ATS2633', 1),\n",
       " ('ATS3308', 1),\n",
       " ('CHE3166', 1),\n",
       " ('ACW2522', 1),\n",
       " ('PSY7141', 1),\n",
       " ('PSY6262', 1),\n",
       " ('PHA3042', 1),\n",
       " ('APG5547', 1),\n",
       " ('OCC5070', 1),\n",
       " ('NUR5833', 1),\n",
       " ('FIT4443', 1),\n",
       " ('NUR3310', 1),\n",
       " ('FPA5007', 1),\n",
       " ('NUR2447', 1),\n",
       " ('MKC3460', 1),\n",
       " ('AHT2301', 1),\n",
       " ('FIT3143', 1),\n",
       " ('BTF5060', 1),\n",
       " ('ATS3782', 1),\n",
       " ('GEN3062', 1),\n",
       " ('AZA3463', 1),\n",
       " ('FIT2098', 1),\n",
       " ('AMG5400', 1),\n",
       " ('MRE5002', 1),\n",
       " ('AMU1305', 1),\n",
       " ('TAD5500', 1),\n",
       " ('AZA3468', 1),\n",
       " ('MKC3140', 1),\n",
       " ('ATS2900', 1),\n",
       " ('RTS2101', 1),\n",
       " ('ATS3705', 1),\n",
       " ('AMU4727', 1),\n",
       " ('ATS3199', 1),\n",
       " ('ACF5150', 1),\n",
       " ('BFF2701', 1),\n",
       " ('CHE4161', 1),\n",
       " ('BTF5340', 1),\n",
       " ('ARC2401', 1),\n",
       " ('APG4681', 1),\n",
       " ('BEX4690', 1),\n",
       " ('ATS3278', 1),\n",
       " ('NUR5870', 1),\n",
       " ('ADA3111', 1),\n",
       " ('NUT4122', 1),\n",
       " ('APG5850', 1),\n",
       " ('ARC2301', 1),\n",
       " ('MDC4550', 1),\n",
       " ('APG5874', 1),\n",
       " ('MAE3401', 1),\n",
       " ('ATS2277', 1),\n",
       " ('SCI4220', 1),\n",
       " ('BMA1011', 1),\n",
       " ('FIT5183', 1),\n",
       " ('LAW4197', 1),\n",
       " ('RAD2006', 1),\n",
       " ('ACC5903', 1),\n",
       " ('MED1200', 1)]"
      ]
     },
     "execution_count": 8,
     "metadata": {},
     "output_type": "execute_result"
    }
   ],
   "source": [
    "list_units = []\n",
    "for uc in matchobj:\n",
    "    list_units.append(uc[0])\n",
    "sorted(collections.Counter(list_units).items(), key=lambda item: item[1], reverse=True)"
   ]
  },
  {
   "cell_type": "markdown",
   "metadata": {},
   "source": [
    "## 4. Tokenise and Normalise the tokens."
   ]
  },
  {
   "cell_type": "markdown",
   "metadata": {},
   "source": [
    "The below regex is a slight modification of the one given in the requirement. It has been modified to include the fullstop(.) characters to normalise. "
   ]
  },
  {
   "cell_type": "code",
   "execution_count": 9,
   "metadata": {},
   "outputs": [],
   "source": [
    "units_raw = {}\n",
    "tokenizer = RegexpTokenizer(r\"[\\w\\.]+(?:[-']\\w+)?\")\n",
    "\n",
    "for item in matchobj:\n",
    "    item_1 = re.sub(r'[\\\\]+n', ' ',str(item[1]))\n",
    "    item_2 = re.sub(r'[\\\\]+n', ' ',str(item[2]))\n",
    "    full_str = str(item_1) + str(item_2)\n",
    "    units_raw[item[0]] = tokenizer.tokenize(full_str)\n"
   ]
  },
  {
   "cell_type": "markdown",
   "metadata": {},
   "source": [
    "We have created a dictionary `units_raw` with unit codes as the key and tokens list as the values. We see that it is of size 194 and the reason has been explained above. "
   ]
  },
  {
   "cell_type": "code",
   "execution_count": 10,
   "metadata": {},
   "outputs": [
    {
     "name": "stdout",
     "output_type": "stream",
     "text": [
      "Number of unique units remaining:  194\n"
     ]
    }
   ],
   "source": [
    "print(\"Number of unique units remaining: \", len(units_raw))"
   ]
  },
  {
   "cell_type": "markdown",
   "metadata": {},
   "source": [
    "Lets have a look at one of the element. "
   ]
  },
  {
   "cell_type": "code",
   "execution_count": 11,
   "metadata": {},
   "outputs": [
    {
     "name": "stdout",
     "output_type": "stream",
     "text": [
      "['The', 'unit', 'introduces', 'a', 'range', 'of', 'fundamental', 'technologies', 'processes', 'and', 'manufacturing', 'methods', 'used', 'in', 'the', 'creation', 'of', 'engineering', 'artefacts', 'and', 'explains', 'their', 'relative', 'merits', 'and', 'limitations.', '3D', 'Computer', 'Aided', 'Design', 'and', 'Manufacturing', 'CAD', 'CAM', 'tools', 'are', 'utilised', 'to', 'design', 'and', 'manufacture', 'using', 'advanced', 'technologies.', 'Identify', 'engineering', 'technologies', 'processes', 'materials', 'and', 'artefacts', 'Select', 'and', 'apply', 'appropriate', 'protocols', 'to', 'ensure', 'safety', 'and', 'environmental', 'protection.', 'Use', 'a', 'range', 'of', 'fundamental', 'technologies', 'to', 'construct', 'engineering', 'artefacts.', 'Design', 'and', 'construct', 'an', 'engineering', 'artefact', 'using', 'at', 'least', 'one', 'advanced', 'engineering', 'technology', 'and', 'incorporating', 'the', 'use', 'of', 'computer', 'aided', 'design.']\n"
     ]
    }
   ],
   "source": [
    "print(units_raw['MEC2408'])"
   ]
  },
  {
   "cell_type": "markdown",
   "metadata": {},
   "source": [
    "The below logic is to normalise all the tokens. If its the first word of the sentence, then it is changed to lower case, but if the capitalised word comes in the middle of the line, it is kept as is. The inclusion of fullstop helps in the logic."
   ]
  },
  {
   "cell_type": "code",
   "execution_count": 12,
   "metadata": {},
   "outputs": [],
   "source": [
    "for unit_id in units_raw:\n",
    "    text = units_raw[unit_id]\n",
    "    for i in range(0,len(text)):\n",
    "        if(i==0):\n",
    "            text[i] = text[i].lower()\n",
    "            continue\n",
    "        if(text[i][0].isupper() and '.' in text[i-1]):\n",
    "            text[i] = text[i].lower()\n",
    "            text[i-1].replace('.', '')\n",
    "    units_raw[unit_id] = ' '.join(text)"
   ]
  },
  {
   "cell_type": "code",
   "execution_count": 13,
   "metadata": {},
   "outputs": [
    {
     "name": "stdout",
     "output_type": "stream",
     "text": [
      "the unit introduces a range of fundamental technologies processes and manufacturing methods used in the creation of engineering artefacts and explains their relative merits and limitations. 3D Computer Aided Design and Manufacturing CAD CAM tools are utilised to design and manufacture using advanced technologies. identify engineering technologies processes materials and artefacts Select and apply appropriate protocols to ensure safety and environmental protection. use a range of fundamental technologies to construct engineering artefacts. design and construct an engineering artefact using at least one advanced engineering technology and incorporating the use of computer aided design.\n"
     ]
    }
   ],
   "source": [
    "print(units_raw['MEC2408'])"
   ]
  },
  {
   "cell_type": "markdown",
   "metadata": {},
   "source": [
    "Now, we use the regular expression given as is in the requirement to get the tokens for each unit. "
   ]
  },
  {
   "cell_type": "code",
   "execution_count": 14,
   "metadata": {},
   "outputs": [],
   "source": [
    "tokenizer = RegexpTokenizer(r\"\\w+(?:[-']\\w+)?\")\n",
    "for unit_id in units_raw:\n",
    "    text = units_raw[unit_id]\n",
    "    unigram_tokens_new = tokenizer.tokenize(text)\n",
    "    units_raw[unit_id] = unigram_tokens_new"
   ]
  },
  {
   "cell_type": "code",
   "execution_count": 15,
   "metadata": {},
   "outputs": [
    {
     "name": "stdout",
     "output_type": "stream",
     "text": [
      "['the', 'unit', 'introduces', 'a', 'range', 'of', 'fundamental', 'technologies', 'processes', 'and', 'manufacturing', 'methods', 'used', 'in', 'the', 'creation', 'of', 'engineering', 'artefacts', 'and', 'explains', 'their', 'relative', 'merits', 'and', 'limitations', '3D', 'Computer', 'Aided', 'Design', 'and', 'Manufacturing', 'CAD', 'CAM', 'tools', 'are', 'utilised', 'to', 'design', 'and', 'manufacture', 'using', 'advanced', 'technologies', 'identify', 'engineering', 'technologies', 'processes', 'materials', 'and', 'artefacts', 'Select', 'and', 'apply', 'appropriate', 'protocols', 'to', 'ensure', 'safety', 'and', 'environmental', 'protection', 'use', 'a', 'range', 'of', 'fundamental', 'technologies', 'to', 'construct', 'engineering', 'artefacts', 'design', 'and', 'construct', 'an', 'engineering', 'artefact', 'using', 'at', 'least', 'one', 'advanced', 'engineering', 'technology', 'and', 'incorporating', 'the', 'use', 'of', 'computer', 'aided', 'design']\n"
     ]
    }
   ],
   "source": [
    "print(units_raw['MEC2408'])"
   ]
  },
  {
   "cell_type": "markdown",
   "metadata": {},
   "source": [
    "Now, below is the situation of the vocab and tokens as of now. That's a lot of words."
   ]
  },
  {
   "cell_type": "code",
   "execution_count": 16,
   "metadata": {},
   "outputs": [
    {
     "name": "stdout",
     "output_type": "stream",
     "text": [
      "Vocabulary size:  4271 \n",
      "Total number of tokens:  32296 \n",
      "Lexical diversity:  7.561695153359869\n"
     ]
    }
   ],
   "source": [
    "words = list(chain.from_iterable(units_raw.values()))\n",
    "vocab = set(words)\n",
    "lexical_diversity = len(words)/len(vocab)\n",
    "print (\"Vocabulary size: \",len(vocab),\"\\nTotal number of tokens: \", len(words), \\\n",
    "\"\\nLexical diversity: \", lexical_diversity)"
   ]
  },
  {
   "cell_type": "markdown",
   "metadata": {},
   "source": [
    "## 5. Extract first 200 meaningful bigrams"
   ]
  },
  {
   "cell_type": "markdown",
   "metadata": {},
   "source": [
    "Here, we are extracting the bigrams before removing the stop words because of we remove the stop words and then extract bigrams, then we would have got some collocations which actually dont exist. For eg, consider the two sentences below:\n",
    "\n",
    "sent1 = \"Monash University is in city Melbourne.\"\n",
    "\n",
    "sent2 = \"Monash is a University\"\n",
    "\n",
    "Now, if we remove the stop words and then extract the bigrams, we would get a bigram as \"Monash University\" from both the sentence whereas it is actually not a bigram of second sentence. \n",
    "\n",
    "Hence the bigrams are calculated before removing the stop words.\n"
   ]
  },
  {
   "cell_type": "code",
   "execution_count": 17,
   "metadata": {},
   "outputs": [
    {
     "name": "stdout",
     "output_type": "stream",
     "text": [
      "The number of bigrams are:  200\n"
     ]
    }
   ],
   "source": [
    "bigram_measures = nltk.collocations.BigramAssocMeasures()\n",
    "bigram_finder = nltk.collocations.BigramCollocationFinder.from_words(words)\n",
    "bigram_finder.apply_word_filter(lambda w: len(w) < 3)\n",
    "top_200_bigrams = bigram_finder.nbest(bigram_measures.pmi, 200) # Top-200 bigrams\n",
    "print(\"The number of bigrams are: \", len(top_200_bigrams))\n"
   ]
  },
  {
   "cell_type": "markdown",
   "metadata": {},
   "source": [
    "Lets have a look at our bigrams."
   ]
  },
  {
   "cell_type": "code",
   "execution_count": 18,
   "metadata": {},
   "outputs": [
    {
     "name": "stdout",
     "output_type": "stream",
     "text": [
      "[('1910-1945', 'supplemented'), ('1984', 'Cth'), ('1990-91', 'Gulf'), ('2003', 'invasion'), ('2012', 'despite'), ('APG5690', 'Advanced'), ('APG5849', 'Graduate'), ('ATS2297', 'ATS3297'), ('Act', '1984'), ('Adobe', 'suite'), ('Advanced', 'Translation'), ('Agency', 'AHPRA'), ('Auditing', 'Organization'), ('Bank', 'BNM'), ('Behavior', 'Therapy'), ('Building', 'Index'), ('Capabilities', 'Sensors'), ('Central', 'Bank'), ('Charismatic', 'Christianity'), ('Chief', 'Examiner'), ('Civil', 'Engineering'), ('Computer', 'Aided'), ('Contracts', 'Act'), ('Council', 'ANMAC'), ('Crew', 'Resource'), ('Dialectical', 'Behavior'), ('EEC', 'WEU'), ('Ethics', 'deliberate'), ('First', 'Philosophy'), ('Functioning', 'Disability'), ('GANNT', 'chart'), ('Genetics', 'BIO4100'), (\"Germany's\", 'reunification'), ('Green', 'Building'), ('Hardware', 'Capabilities'), ('Index', 'GBI'), ('Infuse', 'daily'), ('Insurance', 'Contracts'), ('Integrated', 'Marketing'), ('Interactions', 'Hardware'), ('Maintain', 'records'), ('Management', 'CRM'), ('Marketing', 'Communication'), ('Midwifery', 'Council'), (\"Monash's\", 'Melbourne'), ('NATO', 'EEC'), ('NUR2225', 'NUR2226'), ('NUR2226', 'NUR2228'), ('Nobel', 'Prize'), ('Nurse', 'Codes'), ('Objective', 'Structured'), ('One', 'transferable'), ('Philosophy', '1641'), ('Practica', 'Coordinator'), ('Practitioner', 'Registration'), ('Registered', 'Nurse'), ('Registration', 'Agency'), ('Resource', 'Management'), ('Rwanda', 'Cambodia'), ('SIMULINK', 'assumes'), ('Social', 'Change'), ('Torres', 'Strait'), ('User', 'Interactions'), ('Wave', 'phenomenon'), ('West', 'primarily'), ('abusive', 'head'), ('academics', 'magazine'), ('active', 'stakeholder'), ('aids', 'distributes'), ('alarming', 'transformation'), ('algebraic', 'geometric'), ('ambiguous', 'VUCA'), ('answers', 'translations'), ('anti-colonial', 'nationalists'), ('assay', 'ELISA'), ('asylum', 'seeker'), ('bacteria', 'fungi'), ('balance', 'trade-offs'), ('beliefs', 'schema'), ('bosnia', 'Rwanda'), ('broadcasters', 'journalists'), ('camerawork', 'editing'), ('cannot', 'afford'), ('certain', 'accepted'), ('characterise', 'inflicted'), ('climb', 'gliding'), ('coherently', 'argued'), ('conduction', 'convection'), ('conjecture', 'Cultivate'), ('cooking', 'wares'), ('critics', 'broadcasters'), ('cytometry', 'enzyme'), ('deadlines', 'convey'), ('disordered', 'defendants'), ('dissertations', 'although'), ('droughts', 'earthquakes'), ('earthquakes', 'epidemics'), ('encounter', 'unmediated'), ('endurance', 'accelerated'), ('epidemics', 'fires'), ('evenly', 'split'), ('expansion', 'fans'), ('expectations', 'judgments'), ('expert', 'witness'), ('explaining', 'troubles'), ('exponential', 'logarithmic'), ('expressions', 'Manipulate'), ('eyewitness', 'testimony'), ('faith', 'non-disclosure'), ('famously', 'declared'), ('fellow', 'trainees'), ('feudal', 'hierarchy'), ('finished', 'artwork'), ('fires', 'floods'), ('floods', 'hurricanes'), ('fluorescence', 'microscopy'), ('formative', 'Objective'), ('former', 'Yugoslavia'), ('founding', 'moment'), ('fundamentalist', 'streams'), ('fungi', 'plants'), ('genetically', 'modified'), ('goal', 'alignment'), ('good', 'faith'), ('harbour', 'inefficiencies'), ('held', 'accountable'), ('hurricanes', 'landslides'), ('imaginative', 'conjecture'), ('imaginatively', 'connect'), ('immunisation', 'certificates'), ('immunofluorescence', 'fluorescence'), ('immunosorbent', 'assay'), ('inclusiveness', 'nurturance'), ('inherently', 'variable'), ('instance', 'serial'), ('instances', 'even'), ('institutionalized', 'patriarchy'), ('intellectually', 'stimulating'), ('inter', 'alia'), ('junior', 'employee'), ('landing', 'gear'), ('landslides', 'tsunamis'), ('largely', 'self-directed'), ('lay', 'persons'), ('lecture', 'inputs'), ('legislatures', 'enact'), ('liability', 'fire'), ('logarithmic', 'trigonometric'), ('long', 'aspired'), ('loss', 'remedies'), ('makers', 'regulators'), ('medieval', 'theological'), ('mentally', 'disordered'), ('mine-to', 'mill'), ('minimal', 'supervisory'), ('murder', 'pyromania'), ('nationalists', 'pushing'), ('native', 'speakers'), ('non-professionals', 'Turn'), ('notes', 'summarisation'), ('nutrient', 'cycling'), ('oblique', 'shocks'), ('observability', 'introductions'), ('obtained', 'handled'), ('offences', 'substance'), ('operational', 'KPIs'), ('perpetuating', 'predisposing'), ('personality', 'motivation'), ('pharmacokinetics', 'adverse'), ('philosopher', 'Rene'), ('plants', 'invertebrates'), ('players', 'privacy'), ('politically-loaded', 'visions'), ('pollutant', 'concentrations'), ('polyclonal', 'antisera'), ('post-Holocaust', 'German-Jewish'), ('post-structuralist', 'feminist'), ('potentially', 'publishable'), ('powerfully', 'endorsed'), ('precipitating', 'perpetuating'), ('predisposing', 'protective'), ('prevalent', 'ethos'), ('previous', 'VPR'), ('protections', 'termination'), ('protocol', 'Interpret'), ('proxy', 'decision-makers'), ('psycholinguistics', 'neurolinguistics'), ('psychrometric', 'charts'), ('publicly', 'listed'), ('purpose-built', 'newsroom'), ('pursuing', 'Relate'), ('pyromania', 'hostage-taking'), ('quasi-1D', 'approximation'), ('race', 'age'), ('reconciliation', 'bosnia'), ('reduce', 'resourcing'), ('reviewing', 'curation'), ('scattering', 'absorption'), ('score', 'ultimately'), ('sections', 'Culture')]\n"
     ]
    }
   ],
   "source": [
    "print(top_200_bigrams)"
   ]
  },
  {
   "cell_type": "markdown",
   "metadata": {},
   "source": [
    "## 6. Retokenise using MWETokeniser\n",
    "\n",
    "Now we will Retokenise and bigrams would be included in our vocab and the related individual tokens would be removed. The below code does that for us."
   ]
  },
  {
   "cell_type": "code",
   "execution_count": 19,
   "metadata": {},
   "outputs": [],
   "source": [
    "mwe_tokenizer = MWETokenizer(top_200_bigrams)\n",
    "for unit, tokens in units_raw.items():\n",
    "    units_raw[unit] = mwe_tokenizer.tokenize(units_raw[unit])"
   ]
  },
  {
   "cell_type": "markdown",
   "metadata": {},
   "source": [
    "Lets have a look at our vocab now. We have reduced it a bit, lets move to next steps."
   ]
  },
  {
   "cell_type": "code",
   "execution_count": 20,
   "metadata": {},
   "outputs": [
    {
     "name": "stdout",
     "output_type": "stream",
     "text": [
      "Vocabulary size:  4103 \n",
      "Total number of tokens:  32128 \n",
      "Lexical diversity:  7.830368023397514\n"
     ]
    }
   ],
   "source": [
    "words_1 = list(chain.from_iterable(units_raw.values()))\n",
    "vocab_1 = set(words_1)\n",
    "lexical_diversity_1 = len(words_1)/len(vocab_1)\n",
    "print (\"Vocabulary size: \",len(vocab_1),\"\\nTotal number of tokens: \", len(words_1), \\\n",
    "\"\\nLexical diversity: \", lexical_diversity_1)"
   ]
  },
  {
   "cell_type": "markdown",
   "metadata": {},
   "source": [
    "The below code gives a visual picture of the frequency of the words in the vocab. We can see in the image that all the more frequent words are stop words which would be removed in the next step. "
   ]
  },
  {
   "cell_type": "code",
   "execution_count": 21,
   "metadata": {},
   "outputs": [
    {
     "name": "stdout",
     "output_type": "stream",
     "text": [
      "[('and', 2447), ('the', 1798), ('of', 1633), ('to', 917), ('in', 806), ('a', 574), ('for', 263), ('research', 249), ('unit', 245), ('will', 238), ('an', 233), ('with', 225), ('students', 222), ('on', 210), ('their', 194), ('this', 193), ('skills', 165), ('be', 161), ('as', 152), ('that', 140), ('is', 132), ('design', 129), ('health', 117), ('understanding', 111), ('issues', 106)]\n"
     ]
    },
    {
     "data": {
      "image/png": "[encoded data removed]",
      "text/plain": [
       "<Figure size 432x288 with 1 Axes>"
      ]
     },
     "metadata": {},
     "output_type": "display_data"
    }
   ],
   "source": [
    "fd_1 = FreqDist(words_1)\n",
    "print(fd_1.most_common(25))\n",
    "fd_1.plot(25, cumulative=True)\n"
   ]
  },
  {
   "cell_type": "markdown",
   "metadata": {},
   "source": [
    "## 7. Context-independent Stop words\n",
    "\n",
    "To remove the context-independent stop words we use the file that has been provided. We read the file and the words are removed from the dictionary."
   ]
  },
  {
   "cell_type": "code",
   "execution_count": 22,
   "metadata": {},
   "outputs": [],
   "source": [
    "stopwords = []\n",
    "with open('./stopwords_en/stopwords_en.txt') as f:\n",
    "    stopwords = f.read().splitlines()"
   ]
  },
  {
   "cell_type": "markdown",
   "metadata": {},
   "source": [
    "The below code removes the words. One thing to not here is that even though the list of stop words is unique, we still convert it into set for faster performance because it provides hashing for its keys and it becomes much optimised while using the 'in' operator."
   ]
  },
  {
   "cell_type": "code",
   "execution_count": 23,
   "metadata": {},
   "outputs": [],
   "source": [
    "stopwordsSet = set(stopwords)\n",
    "for unit_id,text in units_raw.items():\n",
    "    units_raw[unit_id] = [w for w in units_raw[unit_id] if w not in stopwordsSet]"
   ]
  },
  {
   "cell_type": "markdown",
   "metadata": {},
   "source": [
    "Now we remove the words that have a length less than 3 as asked in the requirement."
   ]
  },
  {
   "cell_type": "code",
   "execution_count": 24,
   "metadata": {},
   "outputs": [],
   "source": [
    "for unit_id,text in units_raw.items():\n",
    "    units_raw[unit_id] = [w for w in units_raw[unit_id] if len(w) >= 3]"
   ]
  },
  {
   "cell_type": "markdown",
   "metadata": {},
   "source": [
    "After removing these context-independent stop words, the vocab has reduced quite a lot. Below are the current stats."
   ]
  },
  {
   "cell_type": "code",
   "execution_count": 25,
   "metadata": {},
   "outputs": [
    {
     "name": "stdout",
     "output_type": "stream",
     "text": [
      "Vocabulary size:  3822 \n",
      "Total number of tokens:  18983 \n",
      "Lexical diversity:  4.966771323914181\n"
     ]
    }
   ],
   "source": [
    "words_1 = list(chain.from_iterable(units_raw.values()))\n",
    "vocab_1 = set(words_1)\n",
    "lexical_diversity_1 = len(words_1)/len(vocab_1)\n",
    "print (\"Vocabulary size: \",len(vocab_1),\"\\nTotal number of tokens: \", len(words_1), \\\n",
    "\"\\nLexical diversity: \", lexical_diversity_1)"
   ]
  },
  {
   "cell_type": "markdown",
   "metadata": {},
   "source": [
    "## 8. Context-dependent stop words (threshold of 95%)"
   ]
  },
  {
   "cell_type": "markdown",
   "metadata": {},
   "source": [
    "Context-dependent stop words are the ones, which are repeating w.r.t. these documents and hence are dependent on contexts but because of very hight frequency wont be useful for us. We have considered the threshold of 95% in this case. \n",
    "\n",
    "Below picture shows the frequency of frequency of words. "
   ]
  },
  {
   "cell_type": "code",
   "execution_count": 26,
   "metadata": {},
   "outputs": [
    {
     "data": {
      "image/png": "[encoded data removed]",
      "text/plain": [
       "<Figure size 432x288 with 1 Axes>"
      ]
     },
     "metadata": {},
     "output_type": "display_data"
    }
   ],
   "source": [
    "words_3 = list(chain.from_iterable(units_raw.values()))\n",
    "fd_3 = FreqDist(words_3)\n",
    "ffd = FreqDist(fd_3.values())\n",
    "y = [0]*14\n",
    "for k, v in ffd.items():\n",
    "     if k <= 10:\n",
    "        y[k-1] = v\n",
    "     elif k >10 and k <= 50:\n",
    "        y[10] =  y[10] + v\n",
    "     elif k >50 and k <= 100:\n",
    "        y[11] =  y[11] + v\n",
    "     elif k > 100 and k <= 500:\n",
    "        y[12] =  y[12] + v\n",
    "     else:\n",
    "        y[13] =  y[13] + v\n",
    "x = range(1, 15) # generate integer from 1 to 14\n",
    "ytks =list(map(str, range(1, 11))) # covert a integer list to a string list\n",
    "ytks.append('10-50')\n",
    "ytks.append('51-100')\n",
    "ytks.append('101-500')\n",
    "ytks.append('>500')\n",
    "barh(x,y, align='center')\n",
    "yticks(x, ytks)\n",
    "xlabel('Frequency of Frequency')\n",
    "ylabel('Word Frequency')\n",
    "grid(True)"
   ]
  },
  {
   "cell_type": "markdown",
   "metadata": {},
   "source": [
    "A big bar at 1 indicates that there are a lot of words that happen only once, and hence are useless to us and they would be removed in the next step of removing rare tokens. "
   ]
  },
  {
   "cell_type": "markdown",
   "metadata": {},
   "source": [
    "The below code calculates the document frequency of all the tokens. "
   ]
  },
  {
   "cell_type": "code",
   "execution_count": 27,
   "metadata": {},
   "outputs": [],
   "source": [
    "doc_freq = {}\n",
    "for word in set(words_1):\n",
    "    count = 0\n",
    "    for k,val in units_raw.items():\n",
    "        if word in val:\n",
    "            count += 1\n",
    "    doc_freq[word] = count"
   ]
  },
  {
   "cell_type": "code",
   "execution_count": 28,
   "metadata": {},
   "outputs": [
    {
     "name": "stdout",
     "output_type": "stream",
     "text": [
      "Document frequence of all the words:  {'Computational': 1, 'prototypical': 1, 'non-accidental': 1, 'non-traditional': 2, 'adjustment': 1, 'defendants': 1, 'India': 2, 'test': 4, 'micro': 1, 'ability': 32, 'dark': 1, 'microorganisms': 1, 'critiqued': 1, 'discuss': 25, 'meaningful': 3, 'matter': 1, 'gather': 3, \"coroner's\": 1, 'cater': 1, 'possess': 1, 'booth': 1, 'non-English': 1, 'venture': 2, 'interrelation': 1, 'linguistic': 4, 'raise': 1, 'concisely': 1, 'attributed': 1, 'location-awareness': 1, 'perception': 2, 'Skill': 1, 'bias': 1, 'discrimination': 1, 'drugs': 3, 'particles': 1, 'businesses': 4, 'relationship': 22, 'registers': 1, 'Assess': 2, 'Make': 1, 'controversy': 1, 'DNA': 1, 'changing': 2, 'Illustrate': 1, 'uncertain': 1, 'distribution': 5, 'demands': 4, 'workplace': 6, 'move': 1, 'contexts': 27, 'shared': 3, 'cross': 1, 'effectively': 19, 'meant': 1, 'NUR2229': 1, 'risks': 5, 'simple': 6, 'reducing': 1, 'subrogation': 1, 'interpret': 14, 'spoilage': 1, 'Art': 2, 'healing': 1, 'interactive': 2, 'coverage': 1, 'CAM': 1, 'features': 10, 'rationale': 5, 'Society': 2, 'bio': 1, 'seminar': 4, 'professions': 1, 'vehicles': 1, 'budgetary': 2, 'functioning': 1, 'detected': 1, 'manipulation': 1, 'respect': 4, 'infection': 1, 'solutions': 15, 'aspect': 2, 'fluid': 2, 'progresses': 1, 'German': 1, 'predisposing_protective': 1, 'imagery': 2, 'recent': 6, 'barriers': 2, 'expertise': 2, 'considerations': 7, 'practicality': 1, 'typical': 2, 'central': 6, 'pursue': 2, 'listening': 2, 'triple': 1, 'APG5874': 1, 'remains': 2, 'agents': 1, 'tension': 1, 'practica': 1, 'reference': 7, 'composition': 4, 'disturbance': 1, 'The': 4, 'anthropogenic': 1, 'aircraft': 2, 'studied': 8, 'behaviours': 2, 'recognised': 1, 'load': 1, 'mating': 1, 'timely': 1, 'mitigation': 4, 'conceptualising': 1, 'highlighted': 1, 'contradictions': 1, 'forums': 3, 'archaeological': 1, 'culture': 15, 'assist': 5, 'mitigating': 1, 'representational': 1, 'epidemics_fires': 1, 'Explain': 8, 'lifelong': 1, 'politics': 7, 'summary': 3, 'competency': 4, 'regard': 1, 'locate': 2, 'disease': 8, 'system': 24, 'existing': 5, 'Professional': 2, 'modes': 5, \"practitioner's\": 1, 'treat': 2, 'descriptions': 2, 'talisman': 1, 'NUR2228': 1, 'limiting': 1, 'meet': 5, 'poses': 1, '2003_invasion': 1, 'experienced': 4, 'cooperative': 1, 'player': 1, 'regime': 2, 'borrower': 1, 'aerofoils': 2, 'war': 1, 'Language': 1, 'lay_persons': 1, 'existence': 1, 'utilising': 2, 'ethical': 24, 'IPC': 2, 'precedents': 1, 'promotes': 2, 'whilst': 2, 'similar': 1, 'rigorously': 1, 'provided': 4, 'mitigate': 2, 'indemnity': 1, 'industries': 4, 'equations': 4, 'Nobel_Prize': 1, 'ASX': 1, 'equation': 1, 'framework': 20, 'adapt': 1, 'derivatives': 2, 'utility': 1, 'travel': 1, 'accurately': 2, 'post-conflict': 1, 'sovereignty': 1, 'representing': 1, 'organisms': 2, 'evidence-based': 6, 'staffing': 1, 'requiring': 3, 'kinds': 2, 'underside': 1, 'piling': 1, 'increasing': 4, 'handbook': 1, 'deploying': 1, 'costing': 2, 'technology': 14, 'offerings': 1, 'Framework': 1, 'optimize': 1, 'Express': 1, 'integrity': 2, 'confronted': 1, 'Recognise': 7, 'International': 2, 'capacity': 10, 'life': 12, 'co-ordination': 1, 'finally': 1, 'abuse': 2, 'GPU': 1, 'inheritance': 1, 'clinicians': 1, 'mind': 1, 'MATLAB': 1, 'provide': 24, 'implementing': 4, 'offering': 1, 'productively': 1, 'Basis': 1, 'physiological': 3, 'scene': 2, 'empirical': 8, 'Relying': 1, 'mobile': 2, 'adaptation': 1, 'disclosures': 1, 'musical': 1, 'employability': 1, 'enterprises': 1, 'significance': 10, 'preferred': 1, 'hypersonic': 1, 'computer-aided': 1, 'overarching': 1, 'Biology': 1, 'put': 1, 'certain_accepted': 1, 'investigatory': 1, 'film': 6, 'pre-sentence': 1, 'Union': 1, 'base': 4, 'philosophical': 3, 'cutting-edge': 1, 'currency': 1, 'patterns': 4, 'priority': 1, 'Inderstand': 1, 'construct': 6, 'highest': 1, 'organisations': 9, 'solution': 4, 'discretise': 1, 'nations': 3, 'involving': 11, 'CGT': 1, 'justify': 6, 'exist': 4, 'prospects': 1, 'personalities': 1, 'rate': 2, 'medicine': 3, 'unsupervised': 1, 'building': 6, 'viability': 1, 'contemporary': 32, 'algebraic_geometric': 1, 'Meditations': 1, 'capabilities': 6, 'asia': 1, 'peninsula': 1, 'precipitation': 1, 'insurance': 3, 'Choose': 2, 'proficient': 3, 'requirement': 2, 'seeks': 2, \"designer's\": 1, 'internetworking': 1, 'integration': 5, 'highlighting': 1, 'text': 6, 'Initiate': 1, 'alternatives': 2, 'forces': 2, 'summaries': 1, 'speeches': 1, 'problems': 28, 'nation': 1, 'lead': 2, 'religions': 2, 'Pentecostal': 1, 'print': 3, 'derivation': 1, 'exists': 1, 'interpersonal': 2, 'antibody': 1, 'participating': 2, 'stages': 5, 'public': 10, 'advisor': 1, 'authority': 2, 'Board': 1, 'Population': 2, 'patients': 8, 'stories': 4, 'teamwork': 5, 'deploy': 2, 'department': 2, 'larger': 1, 'optimum': 1, 'uncomplicated': 1, 'fundamentalist_streams': 1, 'book': 1, 'turbulent': 3, 'populations': 6, 'injury': 2, 'needed': 2, 'decades': 2, 'incorporates': 2, 'requirements': 11, 'ground-based': 1, 'findings': 14, 'Plan': 4, 'assemble': 1, 'offences_substance': 1, 'sharpens': 1, 'experiences': 3, 'neurotransmitters': 1, 'statistics': 2, 'front': 1, 'discovery': 2, 'contextualises': 1, 'wide-scale': 1, 'dietetic': 1, 'systemic': 2, 'agreements': 5, 'cases': 5, 'fair': 1, 'selecting': 2, 'fault-tree': 1, 'commenced': 1, 'confident': 1, 'normal': 4, 'nanomaterials': 1, 'epistemology': 1, 'properties': 9, 'viscous': 2, '21st': 3, 'self-guided': 2, 'ats1835': 1, 'topics': 30, 'immunology': 1, 'artefact': 2, 'layer': 3, 'journalistic': 2, 'genomes': 1, 'Classification': 1, 'double': 1, 'concepts': 37, 'bystander': 1, 'cellular': 4, 'corporation': 1, 'encourage': 2, '450': 1, 'criteria': 3, 'systematic': 3, 'user': 1, 'Hallyu': 1, 'drift': 1, 'developing': 17, 'advice': 1, 'Asia-Pacific': 1, 'prominent': 1, 'statements': 2, 'spiritual': 2, 'opinion': 1, 'monologues': 1, 'community': 14, 'vessel': 1, 'immunisation_certificates': 1, 'rules': 17, 'fine': 2, 'phenotypes': 1, 'animating': 1, 'methodologies': 11, 'ranging': 1, '1968': 1, 'feudal_hierarchy': 1, 'practice-based': 1, 'Revolution': 1, 'beliefs_schema': 1, 'gained': 4, 'toxicology': 1, 'poetry': 1, 'halal': 1, 'Descartes': 1, 'Discuss': 7, 'owed': 1, 'reported': 1, 'explored': 8, 'conceptualise': 3, 'creating': 3, 'indicators': 1, 'medico-legal': 3, 'prices': 1, 'compiling': 1, 'innovations': 4, 'difficulty': 1, 'Practicum': 1, 'organization': 1, 'extended': 3, 'occur': 1, 'basics': 3, 'calculations': 2, 'powerfully_endorsed': 1, 'prescribed': 2, 'characterise_inflicted': 1, 'shown': 3, 'analysis': 61, 'research': 70, 'past': 5, 'tuition': 1, 'icons': 1, 'judgement': 4, 'protects': 1, 'historical': 27, 'recruitment': 2, 'sustaining': 1, 'trauma': 3, 'energies': 1, 'campaign': 1, 'Write': 2, 'determined': 1, 'learn': 14, 'Describe': 6, 'goods': 2, 'Structured': 1, 'extremes': 1, 'WTO': 1, 'varied': 1, 'Translation': 1, 'socket-level': 1, 'scholarly': 5, 'regulations': 2, 'drawn': 4, 'millennia': 1, 'landing_gear': 1, 'transient': 1, 'lens': 1, 'understand': 37, 'linking': 1, 'sizing': 1, 'sense': 3, 'theorising': 1, 'paradigms': 3, 'presentation': 24, 'references': 2, 'educational': 2, 'psychiatry': 1, 'safely': 2, 'practices': 21, 'analyse': 61, 'technologies': 9, 'profit': 1, 'thrust': 1, 'plasma': 1, 'Musical': 1, 'hostage-taking': 1, 'critics_broadcasters': 1, 'subject': 9, 'inviscid': 2, 'fixed': 1, 'tasked': 1, 'urban': 5, 'argumentation': 2, 'sponsorship': 1, 'wireless': 2, 'emitters': 1, 'molecular': 4, 'inclusiveness_nurturance': 1, 'emissions': 2, 'digital': 6, 'Century': 1, 'enforceability': 1, 'dataset': 1, 'Government': 1, 'deal': 1, 'specification': 2, 'arm': 1, 'origin': 1, 'immunoglobulins': 1, 'inter-professional': 1, 'Functioning_Disability': 1, 'reconciliation_bosnia': 1, 'discussing': 3, 'rigorous': 3, 'occurrence': 2, 'power': 9, 'current': 28, 'shape': 6, 'Understand': 21, 'performance': 13, 'expressions_Manipulate': 1, 'starting': 2, 'manufacture': 3, 'improve': 2, 'Psychiatry': 1, 'eager': 1, 'relative': 4, 'cash': 2, 'temporal': 1, 'fermentations': 1, 'Work': 6, 'African': 3, 'carry': 5, 'ethno-nationalism': 1, 'potentially_publishable': 1, 'linearised': 1, 'peoples': 3, 'industry-centred': 1, 'agency': 2, 'assessments': 4, 'realistic': 1, 'gene': 2, 'secondary-source': 1, 'states': 4, 'elements': 8, 'types': 16, 'measurements': 1, 'chosen': 5, 'attained': 1, 'disaster': 1, 'ICF': 1, 'speech': 3, 'famously_declared': 1, 'genomic': 1, 'well-documented': 1, 'Monash': 1, 'pertain': 2, 'involved': 15, 'full': 3, 'native_speakers': 1, 'attempts': 1, 'descriptive': 2, 'reasoning': 5, 'concise': 1, 'images': 2, 'ANMAC': 1, 'indices': 1, 'brought': 1, 'augmented': 1, 'hospitals': 1, 'non-standard': 1, 'immigrant': 1, 'communities': 5, 'maximise': 1, 'screens': 1, 'reform': 3, 'aero': 1, 'studies': 27, 'history': 17, 'valuation': 1, 'degrees': 1, 'foods': 1, 'regulation': 6, 'judgements': 1, 'aided': 1, 'Learn': 1, 'functions': 9, 'blast': 1, 'initiate': 2, 'publishing': 1, 'team': 17, 'interpretation': 12, 'internships': 1, 'banker-customer': 1, 'evolutionary': 1, 'lucidly': 1, 'commitment': 1, 'present': 23, 'expansion_fans': 1, 'status': 3, 'subjected': 1, 'theorists': 1, 'corporate': 4, 'Aboriginal': 1, 'specifications': 1, 'ready': 1, 'affecting': 7, 'structure': 16, 'refined': 1, 'context': 41, 'influences': 3, 're-emergence': 1, 'controllability': 1, 'improvements': 1, 'conciseness': 1, 'loadings': 1, 'career': 2, 'dictionaries': 1, 'focussing': 3, 'Neuropsychology': 1, 'global': 19, 'breadth': 2, 'plied': 1, 'sexuality': 1, \"people's\": 1, 'contact': 1, 'included': 3, 'mode': 1, 'imaginative_conjecture': 1, 'careers': 2, 'factitious': 1, 'true': 2, 'peace': 1, 'exploited': 2, 'educate': 1, 'firm': 3, 'single-input': 1, 'faculty': 1, 'scale': 1, 'radiographic': 2, 'users': 3, 'collaborative': 4, 'optimal': 2, 'fiction': 3, 'develop': 62, \"student's\": 2, 'crime': 5, 'contributing': 1, 'combination': 2, 'transformations': 1, 'shoulder': 1, 'dietary': 1, 'embodies': 1, 'knowledge': 59, 'aesthetic': 7, 'complaint': 1, 'introductory': 3, 'psychrometric_charts': 1, 'team-work': 1, 'CDS1001': 1, 'consist': 1, 'Broadway': 1, 'grind': 1, 'examination': 4, 'professional': 33, 'tables': 1, 'tactics': 1, 'subverts': 1, 'failures': 1, 'plays': 3, 'Examine': 3, 'Clearly': 1, 'focus': 22, 'efficient': 3, 'meeting': 2, 'photographic': 1, 'interpretations': 3, 'significantly': 1, 'collaboration': 3, 'sustainable': 5, 'disclosure': 2, 'principles': 42, 'intersect': 1, 'evidence-base': 1, 'formal': 5, 'challenging': 4, 'future': 9, 'limbs': 1, 'effectiveness': 5, 'aiming': 1, 'Possess': 1, 'inclusive': 2, 'liability_fire': 1, 'calculus': 1, 'investment': 3, 'realities': 1, 'inclusion': 1, 'density': 1, 'interventional': 1, 'electronic': 4, 'based': 17, 'distinct': 1, 'philosophers': 1, 'determine': 7, 'Convey': 1, 'emphasis': 14, 'adopted': 1, 'governed': 1, 'underpinning': 4, 'operationalization': 1, 'grounds': 1, 'symptoms': 3, 'sociability': 1, 'supercomputing': 1, 'translate': 2, 'make': 7, 'locally': 2, 'oblique_shocks': 1, 'presented': 6, 'debate': 2, 'identify': 45, 'medications': 1, 'humans': 2, 'carriage': 2, 'cannot_afford': 1, 'mobility': 1, 'sections_Culture': 1, 'two-dimensional': 1, 'operability': 1, 'forensic': 3, 'nervous': 3, 'state-space': 1, 'assessment': 19, 'two-semester': 1, 'achieved': 2, 'attention': 7, 'investigations': 2, 'textbooks': 2, 'propulsion': 2, 'Generate': 1, 'teams': 8, 'independence': 2, 'aetiology': 2, 'space': 1, 'specifically': 6, 'Identify': 14, 'simplified': 2, 'intervals': 1, 'net': 1, 'location': 2, 'supplement': 1, 'simulated': 3, 'younger': 1, 'information': 19, 'balance_trade-offs': 1, 'fieldwork': 2, 'papers': 3, 'staff': 6, 'optimization': 1, 'corrosion': 1, 'visualise': 1, 'homeostasis': 1, 'jurisdictions': 1, 'gender': 4, 'efficiency': 2, 'poster': 2, 'managers': 1, 'Code': 2, 'approximate': 1, 'compelling': 2, 'disputes': 1, 'interacting': 1, 'nuanced': 1, 'engineering': 8, 'furniture': 1, 'application': 19, 'weekly': 5, 'operation': 5, 'exegesis': 2, 'instance_serial': 1, 'industrial': 9, 'experience': 15, 'familiar': 3, 'instruction': 2, 'footprint': 1, 'measure': 4, 'rapid': 1, 'defend': 3, 'perceptive': 1, 'select': 7, 'inventive': 2, 'experiencing': 3, 'membrane': 1, 'closely': 1, 'promoted': 1, 'supplied': 1, 'gaming': 2, 'girdle': 1, 'geopolitical': 1, 'capitalism': 1, 'geotechnical': 1, 'informal': 2, 'trends': 4, 'image': 3, 'genetic': 2, 'relationality': 1, 'critical-thinking': 1, 'formulation': 2, 'GST': 1, 'Critical': 2, 'negotiation': 2, 'employees': 2, 'innovators': 1, 'inherently_variable': 1, 'counselling': 1, 'week': 2, 'equips': 1, 'style': 2, 'Zakat': 1, 'task': 7, 'fluent': 1, 'Doctor': 1, 'renal': 2, 'harming': 2, 'Scientific': 1, 'domain': 5, 'combat': 1, 'Persuasive': 1, 'epistemological': 2, 'suggests': 1, 'variety': 27, 'report': 15, 'Recall': 1, 'translated': 1, 'related': 21, 'necessarily': 1, 'thinkers': 1, 'Crew_Resource': 1, 'deep': 2, 'bargaining': 1, 'treaties': 1, 'clinics': 1, 'situation': 4, 'throughput': 1, 'pace': 1, 'one-dimensional': 1, 'institutions': 6, 'reflect': 22, 'regression': 1, 'conservation': 1, 'target': 1, 'exchange': 3, 'examines': 25, 'Have': 6, 'contraindications': 1, 'readiness': 2, 'interest': 4, 'coronial': 1, 'Southeast': 4, 'West_primarily': 1, 'case': 25, 'establishment': 1, 'assignments': 2, 'repeated': 1, 'quantitative': 10, 'moisture': 1, 'radio': 1, 'Indigenous': 5, 'journals': 2, 'giving': 1, 'improvement': 3, 'challenged': 1, 'respiratory': 2, 'Elicit': 2, 'response': 7, 'arrangements': 3, 'community-based': 1, 'reflection': 2, 'unmet': 1, 'two-way': 1, 'recording': 1, 'prompts': 1, 'advocacy': 2, 'identity': 3, 'interested': 1, 'solving': 11, 'capital': 5, 'taste': 1, 'notoriety': 1, 'organ': 1, 'increase': 1, 'conclusions': 2, 'endurance_accelerated': 1, 'word': 2, 'Source': 2, 'This': 4, 'Global': 1, 'collaborate': 2, 'terrorism': 1, 'hegemonic': 1, 'special': 8, 'measures': 2, 'supported': 1, 'tensions': 1, \"Children's\": 1, 'Perform': 2, 'coefficients': 1, 'refugee': 2, 'frequently': 1, 'transferred': 1, 'reliability': 1, 'manage': 13, 'broad': 11, 'strategies': 28, 'guide': 2, 'offered': 3, 'emergent': 1, 'details': 2, 'viable': 1, 'United': 1, 'boundaries': 1, 'skills': 92, 'wing': 2, 'converting': 1, 'Dynamics': 1, 'substances': 1, 'denoted': 1, 'spatial': 1, 'dose': 1, 'critique': 15, 'plant': 4, 'adapting': 1, 'seminal': 1, 'Improved': 1, 'evidentiary': 1, 'threat': 1, 'Chart': 1, 'significant': 5, 'fashion': 1, 'consultation': 3, 'instances_even': 1, 'forms': 13, 'source': 2, 'patient-centred': 2, 'ethics': 5, 'ecological': 2, 'family': 3, 'laminar': 2, 'hedging': 1, 'synthesize': 1, 'visualisation': 2, 'biological': 6, 'Radio': 1, 'summarise': 3, 'engineer': 2, 'broadcasting': 1, 'livelihoods': 1, 'sub-disciplines': 1, 'tail': 1, 'tight': 1, 'driver': 1, 'mixture': 2, 'mental': 6, 'motors': 1, 'comparative': 3, 'formative_Objective': 1, 'applications': 7, 'well-reasoned': 1, 'illustrate': 2, 'environments': 11, 'specialised': 2, 'timeline': 1, 'due': 5, 'joints': 1, 'positioning': 1, 'song': 1, 'continue': 2, 'cost-effective': 1, 'assessing': 1, 'evolution': 3, 'preceding': 1, 'Japan': 2, 'colleagues': 4, 'broadcast': 1, 'series': 7, 'beneficial': 1, 'questions': 18, 'comparatively': 1, 'generalise': 1, 'century': 3, 'hazardous': 1, 'post-Holocaust_German-Jewish': 1, 'identified': 3, 'ambiguous_VUCA': 1, 'modules': 2, 'ground-borne': 1, 'technological': 6, 'communication': 33, 'futures': 2, 'gendered': 1, 'common': 11, 'integrated': 4, 'acceptable': 1, \"semester's\": 1, 'evaluate': 48, 'overcome': 1, 'enforceable': 1, 'fabrication': 4, 'FIT': 1, 'represented': 3, 'sophistication': 1, 'Examination': 1, 'bones': 2, 'tools': 17, 'hitherto': 1, 'appraise': 17, 'risky': 1, 'cinema': 2, 'Asia': 6, 'entrepreneurship': 2, 'fluids': 1, 'private': 3, 'in-laboratory': 1, 'emerging': 5, 'ineffective': 1, 'persuasive': 1, 'trained': 1, 'Produce': 2, 'directed': 2, 'online': 2, 'nutrition': 2, 'quantify': 1, 'reconsider': 1, 'One_transferable': 1, 'conceive': 2, 'recognition': 3, 'write': 8, 'discussion': 9, 'physics': 2, 'implied': 1, 'pricing': 4, 'dysfunction': 1, 'reactions': 1, 'convention': 1, 'ethnicity': 1, 'dominant': 1, 'semantic': 1, 'days': 2, 'loan': 1, 'time': 11, 'corruption': 1, 'distinguish': 6, 'weights': 1, 'creativity': 4, 'found': 1, 'includes': 6, 'texturing': 1, 'whole-aircraft': 1, 'predictive': 1, 'sales': 3, 'package': 1, 'reconfiguration': 1, 'leading': 4, 'democratisation': 1, 'established': 3, 'stock': 1, 'young': 3, 'approx': 1, 'difference': 3, 'dialogue': 3, 'continues': 1, 'Participate': 1, 'circumstances': 1, 'variations': 2, 'classical': 2, 'numerical': 3, 'aid': 2, 'embody': 1, 'folio': 1, 'metaphysics': 2, 'interdisciplinary': 7, 'oral': 20, 'importance': 14, 'laboratory': 6, 'dying': 1, 'food-borne': 1, 'Blowing': 1, 'diagnosis': 1, 'lifespan': 1, 'issue': 7, 'self-preservation': 1, 'compulsory': 1, 'settings': 18, 'measurement': 4, 'act': 2, 'recognise': 12, 'learnt': 1, 'execute': 4, 'sequence': 3, 'essays': 3, 'Internet': 1, 'clouds': 1, 'thematic': 2, 'agencies': 2, 'manifestations': 2, 'scales': 1, 'wealth': 1, 'movements': 2, 'gains': 1, 'centred': 4, 'meanings': 1, 'videos': 1, 'props': 1, 'extent': 2, 'subsequently': 1, 'conjecturing': 1, 'conclude': 1, 'identifying': 8, 'type': 4, 'reflectively': 1, 'State': 1, 'deteriorating': 2, 'workshop': 1, 'original': 4, 'strengthened': 1, 'costs': 3, 'translation': 3, 'moves': 1, 'rendering': 2, 'statuses': 1, 'shifts': 1, 'emphasise': 2, 'Iran': 1, 'Differentiate': 1, 'illnesses': 4, 'screening': 1, 'arts': 1, 'equip': 2, 'tailored': 1, 'origins': 4, 'airflow': 1, 'Midwifery_Council': 1, 'wide': 7, 'comprehend': 2, 'circulation': 1, 'occupation-focussed': 1, 'participate': 4, 'patient': 7, 'music': 2, 'in-depth': 4, '1945': 1, 'reflective': 2, 'planner': 1, 'physiology': 3, 'exegetical': 2, 'hedge': 1, 'Australasia': 1, 'radiant': 1, '1990-91_Gulf': 1, 'receive': 1, 'seek': 1, 'givens': 1, 'governs': 2, 'satellite': 1, 'shaped': 3, 'conceptualization': 1, 'duties': 2, 'webs': 1, 'minor': 1, 'homeostatic': 1, 'mathematical': 6, 'small-group': 1, 'short': 1, 'presenting': 5, 'real': 7, 'fragmentation': 1, 'acquired': 7, 'score_ultimately': 1, 'observation': 3, 'Cultivate': 1, 'literature': 28, 'liable': 1, 'contribution': 7, 'utilizing': 2, 'disciplines': 9, 'deadline': 1, 'situations': 13, 'rapidly': 2, 'popular': 5, 'engaged': 2, 'genetically_modified': 1, 'sub-discipline': 1, 'development': 34, 'workers': 2, 'rock': 1, 'integumentary': 2, 'obtained_handled': 1, 'junior_employee': 1, 'detect': 1, 'identification': 1, 'dates': 1, 'differential': 5, 'interfaces': 3, 'supervision': 5, 'symbolic': 1, 'historians': 1, 'text-based': 1, 'key': 49, 'planning': 18, 'the-art': 1, 'sufficiency': 1, 'ecosystems': 1, 'payments': 1, 'attendance': 1, 'non-professionals_Turn': 1, 'effective': 16, 'supervisor': 6, 'result': 2, 'perspectives': 11, 'conducting': 5, 'interrogate': 1, 'Interpreting': 1, 'consecutive': 1, 'neighbours': 1, 'BIO4200': 1, 'scientists': 1, 'Provide': 1, 'generates': 1, 'views': 4, 'validation': 1, 'lawmaking': 1, 'preoccupation': 1, 'constitute': 1, 'clustered': 1, 'factors': 20, 'addresses': 5, 'competent': 1, 'pushing': 1, 'assets': 2, 'plan': 10, 'pain': 2, 'walking': 1, 'reality': 2, 'clustering': 1, 'uncertainty': 2, 'gross': 1, 'polynomial': 1, 'exploring': 5, 'reward': 1, 'characteristics': 6, '3-dimensional': 1, 'security': 3, 'assistance': 2, 'capture': 2, 'refer': 2, 'liabilities': 1, 'Wave_phenomenon': 1, 'builds': 4, 'weight': 1, 'Glass': 1, 'Institutions': 1, 'realms': 1, 'enrolling': 1, 'logic': 2, 'pertaining': 1, 'unique': 3, 'models': 26, 'sources': 15, 'debates': 12, 'behaviors': 1, 'times': 1, 'self-determination': 2, 'enterprise': 3, 'sub-theme': 1, 'gradual': 1, 'obligations': 6, 'illustrating': 1, 'surveys': 2, 'dichotomies': 1, 'relation': 12, 'theoretical': 37, 'Excel': 1, 'perspective': 2, '2-dimensional': 1, 'note': 1, 'enable': 7, 'faunal': 1, 'child': 3, 'training': 6, 'invited': 1, 'SIMULINK_assumes': 1, 'devoted': 1, 'conventions': 5, 'pro-active': 1, 'Italian': 1, 'families': 6, 'Social_Change': 1, 'Facebook': 1, 'crisis': 1, '1641': 1, 'service-oriented': 1, 'concern': 1, 'nursing': 8, 'intervention': 8, 'length': 1, 'state-of': 1, 'subsonic': 1, 'cardiovascular': 1, 'documentation': 4, 'material': 11, 'opportunity': 19, 'degree': 4, 'Development': 2, 'good_faith': 1, 'unity': 1, 'student-led': 1, 'swept': 1, 'mobilise': 1, 'mentioned': 1, 'enquiry': 3, 'offers': 3, 'European': 2, 'workplaces': 1, 'conduction_convection': 1, 'exploratory': 1, 'unit': 157, 'polar': 1, 'domains': 4, 'generating': 2, 'resolving': 2, 'standards': 11, 'Countries': 1, 'directly': 2, 'architectural': 3, 'platforms': 1, 'digestive': 1, 'traditional': 4, 'entire': 1, 'drag-buildup': 1, 'third-year': 1, 'intricate': 1, 'humanities': 2, 'treatment': 7, 'deceived': 1, 'face': 3, 'comprehensive': 14, 'simultaneous': 1, 'viruses': 1, 'describing': 1, 'Dialectical_Behavior': 1, 'autonomously': 1, 'opened': 1, 'cytotoxic': 1, 'posed': 2, 'sexual': 2, 'thin-walled': 1, 'dynamic': 6, 'chromosome': 1, 'policy': 13, 'representations': 2, 'Capture': 1, 'australia': 1, 'Aviation': 1, 'transactions': 4, 'collected': 2, 'constructing': 2, 'syntactically': 1, 'non-linear': 1, 'rates': 1, 'proficiency': 5, 'violators': 1, 'ponders': 1, 'voice': 3, 'aeronautics': 1, 'include': 25, 'terms': 8, 'injuries': 1, 'geometry': 2, 'theatre': 1, 'Develop': 7, 'reviewing_curation': 1, 'colonisation': 1, 'civil': 2, 'coursework': 4, 'Chinese': 1, 'instrumentation': 3, 'issues': 66, 'demonstrating': 1, 'Enhanced': 1, 'Zealand': 1, 'mechanical': 1, 'Australian': 8, 'Baroque': 2, 'ecosystem': 1, 'minimise': 1, 'intend': 1, 'catastrophes': 1, 'gravity': 1, 'Personal': 1, 'model': 11, 'satisfactory': 1, 'Asian': 4, 'traditions': 4, 'Practice': 4, 'explore': 15, 'peers': 4, 'production': 20, 'methodology': 8, 'obtain': 1, 'encouraged': 6, 'investigative': 3, 'timing': 2, 'intellectual': 5, 'churches': 1, 'network': 2, 'environmental': 11, 'globalization': 1, 'metalwork': 1, 'national': 8, 'alienation': 1, 'variables': 2, 'generate': 5, 'configuration': 1, 'America': 1, 'interactions': 5, 'climb_gliding': 1, 'stability': 4, 'affect': 6, 'Chief_Examiner': 1, 'nozzles': 1, 'profiling': 1, 'arbitration': 1, 'explains': 1, 'virtual': 1, 'Explore': 3, 'thinking': 17, 'fundamentals': 4, 'mainstream': 2, 'read': 6, 'predict': 1, \"Monash's_Melbourne\": 1, 'familial': 2, 'answer': 3, 'taxation': 1, 'weather': 2, 'frequency': 2, 'combined': 2, 'conceptualizations': 1, 'Interdisciplinary': 1, 'male': 1, 'socio-political': 1, 'situating': 2, 'covering': 1, 'proxy_decision-makers': 1, 'sociology': 2, 'Practica_Coordinator': 1, 'traits': 1, 'academically': 1, 'evaluating': 4, 'scenes': 3, 'detailed-scaled': 1, 'Communicate': 4, 'human': 20, 'focussed': 1, 'encountered': 1, 'palliative': 2, 'vector': 1, 'vertebrates': 1, 'interface': 2, 'concert': 1, 'excavation': 1, 'teaching': 3, 'CFSP': 1, 'risk': 9, 'operations': 5, 'psychopathology': 1, 'visits': 1, 'narrative': 4, 'contribute': 7, 'providers': 1, 'associations': 1, 'legal': 21, 'proceedings': 1, 'shutdown': 1, 'Latin': 1, 'dressing': 1, 'actively': 1, 'creatively': 2, 'letters': 2, 'finance': 5, 'draw': 3, 'New': 2, 'appraisal': 2, 'bounded': 1, 'initiative': 1, 'equity': 3, 'trading': 4, 'vapors': 1, 'inter-related': 2, 'people': 9, 'intention': 2, 'dissertations_although': 1, 'in-house': 1, 'demand': 1, 'asylum_seeker': 1, 'mediums': 2, 'psychosocial': 3, '000': 1, 'list': 2, 'creative': 9, 'stimulate': 1, 'aerodynamics': 2, 'cancellation': 1, 'linear': 3, 'wind': 1, 'credentialing': 1, 'today': 3, 'shaping': 3, 'leaning': 1, 'skill': 9, 'emergency': 2, 'document': 4, 'employers': 1, 'purpose': 6, 'point-of': 1, 'implications': 17, 'colloquium': 1, 'occupational': 18, 'inevitably': 1, 'aviation': 3, 'radar': 1, 'in-situ': 1, 'journey': 1, 'characterised': 1, 'constraints': 5, 'awarding': 1, 'opportunities': 6, 'threatening': 1, 'contracts': 6, 'alternative': 2, 'consequences': 2, 'Muslim': 1, 'deconstruction': 1, 'clinical': 14, 'Industrial': 1, 'demonstrations': 1, 'high-value': 1, 'machine': 1, 'affects': 1, 'distributions': 1, 'conceiving': 1, 'cooking_wares': 1, 'process': 31, 'benefit': 3, 'experiential': 3, 'primary': 8, 'keeping': 1, 'adopting': 1, 'User_Interactions': 1, 'bring': 2, 'background': 2, 'taxpayers': 1, 'hour': 1, 'therapists': 1, '1st': 1, 'connections': 1, 'GANNT_chart': 1, 'University': 2, 'non-western': 1, 'method': 9, 'Twitter': 1, 'science': 23, 'organise': 1, 'large-scale': 1, 'contrasting': 1, 'govern': 1, 'frame': 2, 'dramas': 1, 'suspicions': 1, 'produced': 2, 'appropriately': 3, 'involve': 5, 'exponential_logarithmic': 1, 'gases': 2, 'professionalism': 1, 'warranties': 1, 'behaviour': 7, 'finds': 1, 'mobilising': 1, 'internal': 4, 'storytelling': 1, 'examining': 5, 'divisions': 1, 'observability_introductions': 1, 'situated': 2, 'success': 3, 'electability': 1, 'conference': 3, 'agreed': 1, 'search': 2, 'precipitating_perpetuating': 1, 'utmost': 1, 'diplomatic': 1, 'coordinator': 3, 'Mannerist': 2, 'plants_invertebrates': 1, 'correlations': 1, 'reflexively': 1, 'introduces': 20, 'neurocognitive': 1, 'synthesis': 10, 'ordered': 1, 'persistent': 1, 'notation': 2, 'police': 1, 'journalism': 5, 'articulation': 1, 'feature': 2, 'remote': 1, 'exposed': 3, 'anti-colonial_nationalists': 1, 'orientation': 1, 'face-to': 1, 'design': 45, 'notes_summarisation': 1, 'Create': 3, 'limits': 2, 'Evaluate': 4, 'roots': 1, 'thermodynamic': 3, 'epidemiology': 2, 'conflicts': 4, 'fora': 2, 'standardised': 1, 'steady': 1, 'dispute': 4, 'interests': 1, 'Charismatic_Christianity': 1, 'develops': 3, 'banks': 2, 'expectations_judgments': 1, 'tax': 2, 'diversity': 5, 'microphysics': 1, 'sophisticated': 4, 'consumption': 2, 'academic': 19, 'discernment': 1, 'undertake': 22, 'remain': 2, 'sociological': 4, 'cultures': 3, 'explicit': 2, 'range': 53, 'countries': 5, 'collect': 2, 'preventing': 1, 'supersonic': 1, 'systematically': 1, 'artefacts': 3, 'listing': 1, 'reporting': 8, 'considered': 6, 'biotic': 1, 'invasive': 1, 'person': 3, 'region': 5, 'transfer': 4, 'prototyping': 2, 'compressible': 3, 'enshrine': 1, 'deepen': 1, 'possibilities': 1, 'converted': 1, \"Australia's\": 3, 'excavated': 1, 'choose': 2, 'free': 2, 'habits': 1, 'jurisdiction': 1, 'layout': 2, 'innovative': 6, 'excitation': 1, 'tasks': 4, 'suspected': 1, 'Genetics_BIO4100': 1, 'detection': 1, 'incorporating': 1, 'critically': 52, 'cross-cultural': 3, 'law': 12, 'pharmaceutical': 1, 'stratigraphy': 1, 'Eastern': 1, 'Westphalian': 1, 'universalist': 1, 'disorders': 3, 'addressing': 4, 'brings': 3, 'materiality': 1, 'rigour': 1, 'radiation': 5, 'premium': 1, 'Standard': 1, 'diaspora': 1, 'relationships': 3, 'policy-making': 1, 'inception': 1, 'format': 4, 'adult': 1, 'interim': 1, 'vehicle': 3, 'companies': 4, 'magnitude': 1, 'open': 2, 'proposal': 6, 'structuring': 1, 'Investigate': 1, 'framing': 1, 'emission': 2, 'Campuses': 1, 'decision': 4, 'retrieve': 1, 'day': 3, 'strategic': 4, 'establish': 2, 'differing': 2, 'implement': 12, 'case-based': 1, 'rural': 1, 'story': 2, 'artistic': 2, 'professionally': 3, 'intelligence': 2, 'Nursing': 1, 'documenting': 1, 'derived': 1, 'reflecting': 1, 'challenge': 3, 'characterize': 1, 'prose': 1, 'Implement': 1, 'viewers': 1, 'developmental': 5, 'legislation': 7, 'members': 2, 'deadlines_convey': 1, 'bioethanol': 1, 'calculate': 6, 'masterclasses': 1, 'transnational': 1, 'Engage': 4, 'flexible': 3, 'entrepreneurs': 2, 'total': 1, 'intensively': 1, 'doctoral': 1, 'reduction': 1, 'investigates': 1, 'empower': 2, 'prerequisite': 1, 'spanning': 1, 'scripting': 1, 'trajectory': 1, 'verification': 1, 'Europe': 2, 'tool': 5, 'expeditiously': 1, 'mutation': 2, 'finding': 1, 'groups': 8, 'sector': 4, 'genre': 2, 'greenhouse': 2, 'justice': 5, 'variation': 3, 'planned': 1, 'complex': 23, 'screen': 1, 'entrepreneurial': 2, 'CSMA': 1, 'antibodies': 1, 'curiosity': 1, 'corporations': 1, 'frameworks': 10, 'cabled': 1, 'platform': 2, 'approval': 3, 'concludes': 1, 'incident': 1, 'participation': 4, 'decline': 1, 'cloud': 2, 'subjective': 1, 'cost': 5, 'phenomenological': 1, 'communicative': 2, 'sustainability': 5, 'enhanced': 1, 'networking': 1, 'class': 6, 'formation': 2, 'post-Mao': 1, 'expression': 3, 'supply': 2, 'pursuing_Relate': 1, 'unusual': 1, 'arising': 3, 'Islam': 2, 'rehabilitation': 1, 'defined': 1, 'allocation': 1, 'respond': 3, 'non-malignant': 1, 'concurrent': 1, 'benefits': 1, 'combines': 1, 'therapeutic': 7, 'microbiology': 2, 'settlement': 3, 'manipulate': 2, 'outsourcing': 1, 'broker': 1, 'integrating': 2, 'similarity': 1, 'qualities': 1, 'photography': 2, 'momentum': 2, 'Contemporary': 1, 'differentiate': 3, 'traverses': 1, 'check': 1, 'intellectually_stimulating': 1, 'Afghanistan': 1, 'proficiently': 1, 'BFW2341': 1, 'aids_distributes': 1, 'multiple': 7, 'secure': 1, 'race_age': 1, 'earnings': 1, 'secondary': 1, 'inference': 1, 'nurse': 2, 'resources': 9, 'objective': 6, 'audiences': 10, 'atmosphere': 3, 'literacy': 3, 'projects': 22, 'everyday': 1, 'Articulate': 2, 'modify': 1, 'finished_artwork': 1, 'BFW2140': 1, 'crucial': 3, 'stylistic': 2, 'recommend': 3, 'drilling': 1, 'recognizes': 1, 'determining': 4, 'abusive_head': 1, 'preserving': 1, 'imagined': 1, 'speak': 1, 'illustration': 1, \"today's\": 1, 'ethically': 2, 'pre-clinical': 1, 'speed': 1, 'turbulence': 1, 'expected': 6, 'General': 1, 'initiatives': 2, 'loading': 2, 'retrieval': 1, 'ethnographical': 1, 'high-level': 2, 'transitions': 1, 'created': 1, 'consumers': 3, 'repertoire': 2, 'stakeholders': 5, 'comply': 1, 'incorporate': 3, 'christianity': 1, 'Thinking': 1, 'Appraise': 2, 'tied': 1, 'motion': 1, 'execution': 2, 'sensory': 3, 'sensitive': 1, 'nature': 15, 'wider': 3, 'imbalances': 1, 'experimental': 10, 'graphs': 2, 'structural': 6, 'defence': 1, 'imaginatively_connect': 1, 'resolve': 1, 'area': 16, 'consolidation': 1, 'materialism': 2, 'techniques': 39, 'natural': 3, 'engaging': 3, 'cord': 1, 'practising': 1, 'bacteria_fungi': 1, 'inferences': 1, 'endocrine': 1, 'greed': 1, 'concerned': 1, 'management': 31, 'safe': 3, 'victim': 2, 'visit': 1, 'colonialism': 1, 'readings': 2, 'World': 2, 'entails': 1, 'applicable': 3, 'entirety': 1, 'founding_moment': 1, 'analyzing': 1, 'languages': 4, 'offender': 2, 'organised': 2, 'advocate': 1, 'productive': 2, 'measuring': 2, 'ancient': 2, 'concurrency': 1, 'archaeologists': 1, 'attainment': 1, 'Middle': 1, 'transition': 3, 'BFF2701': 1, 'commonly': 3, 'governance': 4, 'derive': 2, 'ill-defined': 1, 'engage': 14, 'North': 1, 'attend': 1, 'support': 9, 'politicisation': 1, 'textual': 2, 'definition': 1, 'justifiable': 1, 'rebuilding': 1, 'piping': 1, 'Hardware_Capabilities': 1, 'blasts': 1, 'wrangling': 1, 'credit': 2, 'enables': 4, 'summarising': 2, 'unpack': 3, 'epoch': 1, 'centrality': 1, 'lines': 1, 'integral': 4, 'hospital': 3, 'pressure': 3, 'mathematically': 1, 'sufficient': 1, 'Japanese': 1, 'relations': 10, 'influenced': 2, 'ushering': 1, 'government': 2, 'day-to': 2, 'pathophysiological': 1, 'work': 52, 'presentations': 6, 'turbomachinery': 1, 'comprising': 1, 'works': 7, 'water': 2, 'capstone': 2, '2019': 1, 'senses': 2, 'increasingly': 1, 'econometrics': 1, 'beginning': 1, 'cover': 6, 'tissues': 1, 'categories': 2, 'rights': 12, 'texture': 1, 'spectacular': 1, 'graphic': 3, 'documentary': 4, 'norms': 3, 'fully': 1, 'contributed': 2, 'feasible': 1, 'Crisis': 1, 'handling': 3, 'systems': 32, 'Analyze': 1, 'synthesise': 8, 'championing': 1, 'materials': 7, 'graduate': 3, 'mass': 1, 'play': 1, 'terrain': 1, 'international': 24, 'trigonometric': 1, 'profound': 1, 'States': 2, 'compared': 1, 'supervised': 2, 'operate': 4, 'illness': 6, 'APG5690_Advanced': 1, 'explained': 1, 'weaknesses': 1, 'photograph': 1, 'distributed': 2, 'Criminology': 1, 'HACCP': 1, 'higher': 4, 'writings': 3, 'examples': 7, 'statistical': 3, 'structured': 2, 'orally': 3, 'rational': 2, 'Construct': 2, 'developed': 21, 'activities': 13, '19th': 1, 'concentrating': 1, 'advanced': 20, 'sessions': 3, 'painting': 2, 'discussed': 11, 'policies': 9, 'excavations': 1, 'prospect': 1, 'dynamics': 6, 'buildings': 3, 'Analyse': 7, 'impacting': 1, 'workshops': 3, 'invoices': 2, 'analysing': 5, 'practitioners': 3, 'considers': 3, 'exchangers': 1, 'require': 4, 'emulation': 1, 'recovery-oriented': 1, 'achieve': 5, 'substantial': 1, 'computer': 8, 'recommendations': 2, 'increased': 1, 'basic': 18, 'concerns': 7, 'experimentation': 3, 'specificity': 2, 'ageing': 1, 'mine-to_mill': 1, 'birthplace': 1, 'vocabulary': 2, 'discursive': 3, 'competitive': 2, 'Planning': 1, 'Sensors': 1, 'data-link': 1, 'characterisation': 1, 'guided': 1, 'children': 3, 'compare': 10, 'craft': 5, 'resolution': 3, 'parties': 1, 'contacts': 1, 'differentiation': 1, 'deficits': 1, 'Competently': 1, 'analytical': 14, 'boundary': 3, 'perpetrator': 1, 'undertaking': 4, 'theme': 5, 'participant': 1, 'opportunties': 1, 'Korean': 2, 'persuasively': 1, 'preservation': 1, 'end': 8, 'devise': 4, 'operationalise': 2, 'prevention': 4, 'pole-placement': 1, \"Germany's_reunification\": 1, 'delivery': 8, 'internationally': 6, 'flow': 7, 'pivotal': 1, 'principle': 3, 'governing': 6, 'emergence': 3, 'applying': 7, 'choice': 2, 'societal': 1, 'satisfy': 2, 'immunofluorescence_fluorescence': 1, 'propelled': 1, 'evolving': 1, 'analogue': 1, 'astrophysics': 1, 'judicial': 2, 'real-world': 2, 'generated': 1, 'faced': 4, 'extremist': 1, 'limitation': 1, 'explain': 34, 'argument': 6, 'focuses': 10, 'aerospace': 2, 'enabling': 2, 'mission': 1, 'newsgathering': 1, 'side': 3, 'articulating': 1, 'placing': 1, 'contributions': 2, 'submit': 1, 'firms': 2, 'classic': 1, 'PID': 1, 'inform': 2, 'designers': 2, 'violence': 3, 'responsibly': 2, 'matters': 1, 'preferences': 2, 'Cold': 1, 'Computer_Aided': 1, 'diffusers': 1, 'prioritising': 1, 'project-based': 2, 'ratios': 1, 'spine': 1, 'drag': 2, 'care': 18, 'bodies': 2, 'lived': 2, 'pathology': 2, 'socio-cultural': 5, 'Cartesian': 1, 'Sociology': 1, 'peripheral': 1, 'object': 1, 'Manufacturing': 1, 'pharmacokinetic': 1, 'audio': 1, 'approach': 13, 'facilitate': 3, 'deeper': 1, 'comprises': 1, 'memory': 4, 'blasting': 1, 'drug': 3, 'optimisation': 6, 'processes': 37, 'scenario': 1, 'academics_magazine': 1, 'multi-skilled': 1, 'ensure': 6, 'exercise': 2, 'refers': 1, 'philosophies': 3, 'language': 12, 'limitations': 9, 'Agency_AHPRA': 1, 'criticism': 3, 'abiotic': 1, 'onset': 1, 'estimation': 3, 'hormones': 2, 'annual': 1, 'Adobe_suite': 1, 'span': 1, 'requires': 5, 'pop': 1, 'inter-agency': 1, 'generation': 2, 'gain': 13, 'unrest': 1, 'damage': 2, 'Bachelor': 2, 'witch-purging': 1, 'placements': 4, 'aesthetics': 1, 'realm': 2, 'northeast': 1, 'multinational': 2, 'humanism': 1, 'funding': 5, 'possibility': 2, 'loss_remedies': 1, 'Achieve': 2, 'Film': 2, 'emerged': 1, 'Design': 13, 'HAZOP': 1, 'isolation': 2, 'court': 2, 'sites': 1, 'verbal': 2, 'planners': 1, 'spinal': 2, 'software': 9, 'brain': 2, 'data': 30, 'bibliographic': 2, 'arise': 2, 'newspapers': 1, 'technical': 13, 'investigate': 5, 'bills': 2, 'empirically': 1, 'recently': 1, 'efficiently': 3, 'story-telling': 1, 'theories': 18, 'controlling': 1, 'operating': 3, 'Skills': 5, 'citizenship': 1, 'automatic': 1, 'infrastructure': 1, 'scientifically': 2, 'workflow': 1, 'element': 1, 'politically-loaded_visions': 1, 'taught': 3, 'factual': 4, 'conversion': 1, 'western': 1, 'MASB': 1, 'dimensional': 2, 'belief': 1, 'utilize': 1, 'idea': 1, 'availability': 2, 'commissions': 1, 'referred': 1, 'approximations': 2, 'inside': 1, 'world': 21, 'ATS2297_ATS3297': 1, 'neural': 4, 'encounter_unmediated': 1, 'eyewitness_testimony': 1, 'pottery': 1, 'NGO': 1, 'problem': 23, 'Sustain': 1, 'budget': 1, 'portfolio': 1, 'histological': 1, 'customer': 1, 'interprofessional': 1, 'aged': 1, 'Research': 3, 'review': 13, 'including': 55, 'pitching': 2, 'enrolled': 1, 'summative': 5, 'tourism': 1, 'suitable': 10, 'Maintain_records': 1, 'drivers': 2, 'jets': 1, 'paid': 1, 'arbitraging': 1, 'screenings': 1, 'accounts': 1, 'life-long': 1, 'receiving': 1, 'citizens': 1, 'emphasising': 2, 'Establish': 1, '150': 1, 'cell': 1, 'direct': 5, 'applied': 9, 'banking': 1, 'problem-solving': 5, 'notion': 1, 'form': 19, 'influencing': 3, 'ill-health': 1, 'dimensioned': 1, 'commercialisation': 1, 'evidence': 8, 'analyzed': 1, 'informs': 2, 'standard': 10, 'shear': 1, 'anthropology': 2, 'Experiment': 1, 'sciences': 4, 'dominate': 1, 'varieties': 1, 'controversies': 4, \"community's\": 1, 'components': 7, 'centuries': 1, 'Interaction': 1, 'Validate': 1, 'boundary-layer': 1, 'algebra': 1, 'volume': 3, 'thought': 1, 'compose': 1, 'demonstrated': 3, 'Specialised': 1, 'atypical': 1, 'ensuring': 1, 'hypothesis': 2, 'Islamic': 2, 'microorganism': 1, 'profiles': 1, 'post-colonial': 2, 'fabricate': 1, 'utilised': 3, 'students': 111, 'Prato': 1, 'habit': 1, 'detail': 7, 'microscopy': 1, 'relevant': 43, 'producing': 3, 'open-ended': 1, 'determinant': 1, 'critical': 44, 'alcohol': 1, 'kinship': 1, 'transaction': 3, 'providing': 3, 'intermediate': 1, 'mock': 2, 'television': 1, 'coordinating': 1, 'discusses': 2, 'bulletins': 1, 'authors': 1, 'intra-team': 1, 'passing': 1, 'selling': 1, 'candidates': 3, 'statute': 2, 'Select': 3, 'financial': 8, 'upshots': 1, 'landscape': 2, 'non-legal': 1, 'childhood': 1, 'upper': 2, 'Practices': 2, 'master': 2, 'makers_regulators': 1, 'climate': 3, 'scaled': 1, 'discretization': 1, 'hands': 1, 'inverse': 1, 'parallelism': 1, 'post-production': 1, 'specialisations': 1, 'thing': 1, 'lending': 1, 'multiculturalism': 1, 'values': 14, 'high-lift': 1, 'depending': 1, 'self-practice': 1, 'enforcement': 1, 'computational': 2, 'obtaining': 2, 'communicating': 5, 'complements': 1, 'category': 1, 'therapy': 9, 'conditioning': 1, 'PhD': 2, 'organs': 1, 'communicate': 31, 'lender': 1, 'proposed': 4, 'Fluid': 1, 'memoir': 1, 'occupation': 1, 'ISO': 1, 'aeromedical': 1, 'radiative': 1, 'ecology': 1, 'positions': 3, 'seminars': 6, 'keepers': 1, 'hormone': 2, 'cognate': 1, 'hazards': 2, 'individually': 1, 'playing': 1, 'desired': 2, 'comparison': 4, 'extends': 1, 'linkage': 1, 'III': 2, 'carer': 1, 'co-evolution': 1, 'diagnoses': 2, 'Contribute': 1, 'Determine': 1, 'personnel': 2, 'foundations': 8, 'follow': 1, 'working': 22, 'acting': 2, 'foodborne': 1, 'demonstrate': 53, 'aim': 8, 'debating': 1, 'life-span': 1, 'reproductive': 2, 'studying': 4, 'neuroanatomical': 1, 'financing': 4, 'purposes': 4, 'immune': 1, 'secularism': 1, \"professional's\": 1, 'long-term': 1, 'Prepare': 3, 'CFD': 1, 'spreads': 1, 'local': 14, 'ways': 18, 'Critique': 2, 'commercial': 7, 'Canada': 2, 'covers': 6, 'project-orientated': 1, 'promotion': 4, 'Forms': 1, 'tissue': 1, 'expository': 1, 'Clinical': 5, 'practice': 44, 'programming': 3, 'responsiveness': 1, 'dimension': 2, 'constructive': 1, 'sensor': 1, 'goals': 3, 'synchronicity': 1, 'games': 1, 'tract': 1, 'partial': 1, 'written': 37, 'architecture': 4, 'wellness': 1, 'independently': 7, 'downstream': 1, 'sustain': 2, 'safety': 23, 'successful': 5, 'registered': 2, 'signs': 2, 'proposition': 2, \"Women's\": 1, 'rehabilitative': 1, 'mechanism': 1, 'awards': 1, 'Integrate': 1, 'built': 2, 'China': 4, 'assemblages': 1, 'CAD': 2, 'indigenous': 1, 'arguments': 6, 'Country': 1, 'midwifery': 1, 'non-occupational': 1, 'terminology': 4, 'religiosity': 1, 'expert_witness': 1, 'exercises': 2, 'post-structuralist_feminist': 1, 'evaluations': 3, 'bases': 1, 'integrative': 1, 'responsive': 1, 'non-specialist': 2, 'strength': 1, 'potential': 4, 'researching': 3, 'formulate': 15, 'tutorials': 5, 'imputation': 1, 'Arrange': 1, 'parameters': 3, \"candidate's\": 2, 'earthquake': 1, 'link': 1, 'takes': 5, 'positive': 1, 'anxious': 1, 'developments': 7, 'advances': 1, 'prior': 2, 'Estimate': 1, 'transports': 1, 'surgery': 2, 'practicing': 1, 'religious': 3, 'expressing': 1, 'thermodynamics': 1, 'pathological': 2, 'Civil_Engineering': 1, 'consumer': 3, 'bridges': 1, 'experiments': 3, 'equipment': 4, 'transport': 3, \"midwife's\": 1, 'question': 4, 'airfoil': 1, 'Central_Bank': 1, 'aerosols': 1, 'globalising': 1, 'learner': 1, 'reduce_resourcing': 1, 'multimedia': 2, 'synthesising': 1, 'France': 1, 'tests': 1, 'APG5095': 1, 'complexity': 5, 'set': 13, 'substantive': 1, 'aerodynamic': 3, 'equally': 1, 'contract': 1, 'nozzle': 1, 'Master': 2, 'visual': 7, 'struggles': 1, 'theory': 28, 'collective': 2, 'markets': 7, 'bearing': 1, 'answers_translations': 1, 'embedded': 1, 'globalisation': 4, 'submitting': 1, 'module': 1, 'provision': 5, 'broader': 9, 'contributes': 1, 'archaeology': 1, 'collaboratively': 4, 'ALOHA': 1, 'previous_VPR': 1, '2000': 1, 'setting': 7, 'Indigeneity': 1, 'weeks': 1, 'autonomy': 2, 'candidate': 1, 'specialist': 3, 'modern': 21, 'methods': 40, 'video': 2, 'largely_self-directed': 1, 'economics': 2, 'helps': 1, 'nutrient_cycling': 1, 'protection': 4, 'Nutrition': 1, 'droughts_earthquakes': 1, 'specific': 19, 'rest': 1, 'conceptually': 1, 'mechanisms': 12, 'attitudes': 7, 'lasting': 2, 'chemical': 2, 'practicum': 1, 'self-management': 1, 'implementation': 8, 'Screen': 1, 'mundane': 1, 'principal': 1, 'mapping': 2, 'plausible': 1, 'economic': 11, 'oncology': 2, 'DPsych': 1, 'discounted': 1, 'responsibility': 3, 'writers': 3, 'compute': 1, 'confront': 2, 'architectures': 2, 'conjunction': 1, 'surrounding': 1, '1200-1400': 1, 'competing': 3, 'transonic': 1, 'linked': 2, 'post-structural': 1, 'function': 13, 'departments': 2, 'surviving': 1, 'survey': 2, 'earlier': 1, '20th': 2, 'non-disclosure': 1, 'meteorology': 3, 'conflict': 4, 'paper': 3, 'non-human': 1, 'skilfully': 1, 'aptitudes': 1, 'disability': 4, 'evaluation': 11, 'NATO_EEC': 1, 'submission': 3, 'Compare': 1, 'authenticity': 1, 'manufacturing': 3, 'OSCE': 2, 'competencies': 6, 'delivering': 2, 'database': 1, 'phenomena': 1, 'position': 5, '1980s': 2, 'auditing': 1, 'scattering_absorption': 1, 'projected': 1, 'Australasian': 1, 'inherent': 1, 'hard': 1, 'murder_pyromania': 1, 'forward': 2, 'distinctive': 3, 'certainty': 1, 'situate': 1, 'Ethics_deliberate': 1, 'cycle': 2, 'differences': 5, 'asks': 1, 'literatures': 1, 'grows': 2, 'progress': 4, 'greater': 1, 'broadly': 1, 'Conference': 1, 'thesis': 9, 'placement': 5, 'labelled': 1, 'parts': 1, 'statutory': 3, 'biologists': 1, 'wakes': 1, 'single-output': 1, 'healthcare': 3, 'quality': 10, 'strengths': 2, 'antibiotics': 1, 'convincing': 1, 'shells': 1, 'Australia': 9, 'education': 3, 'arbiters': 1, 'centre': 1, 'sensitivity': 2, 'recognising': 2, 'major': 22, 'observing': 1, 'geographical': 3, 'processing': 4, 'ownership': 1, 'Accounting': 2, 'marketing': 6, 'foreignness': 1, 'abilities': 2, 'antigen': 1, 'graphical': 1, 'cytometry_enzyme': 1, 'level': 23, 'steps': 2, 'environment': 21, 'definitions': 2, 'species': 2, 'levels': 6, 'fail': 1, 'post-genocide': 1, 'Studies': 5, 'collectively': 3, 'necessity': 1, 'parallel': 1, 'Use': 5, 'diseases': 1, 'Dietetic': 1, 'hurdles': 1, 'diagnostic': 2, 'excursion': 1, 'deliver': 4, 'food': 5, 'Acquire': 1, 'informed': 8, 'complement': 3, 'focused': 3, 'socket': 1, 'approaches': 35, 'contrast': 7, 'late': 1, 'floods_hurricanes': 1, 'causation': 3, 'Thesis': 1, 'insurable': 1, 'succession': 1, 'reflexivity': 1, 'duty': 1, 'Argue': 1, 'pathways': 3, 'de-colonisation': 1, 'styles': 3, 'direction': 2, 'comprehension': 1, 'state-centered': 1, 'products': 7, 'discovered': 1, 'Management_CRM': 1, 'bloggers': 1, 'Synthesise': 1, 'acute': 5, 'studio': 11, 'relating': 13, 'genomics': 1, 'Interact': 1, 'cognitive': 4, 'distance': 1, 'microbial': 1, 'train': 1, 'death': 3, 'maintaining': 3, 'reflects': 1, 'hands-on': 2, 'Australia-Pacific': 1, 'resurgence': 1, 'Part': 1, 'sampling': 4, 'evenly_split': 1, 'relevance': 14, \"agency's\": 1, 'capitalist': 1, 'audience': 6, 'define': 7, 'antidote': 1, 'green': 1, 'self-assessment': 1, 'Standards': 2, 'subjects': 1, 'literary': 5, 'confidence': 2, 'accuracy': 2, 'explores': 15, 'three-view': 1, 'innovation': 7, 'valid': 2, 'modernity': 2, 'integrates': 1, '2011': 1, 'entry': 3, 'static': 3, 'main': 11, 'Codes': 1, 'Data': 1, 'microbiological': 1, 'manual': 1, 'Second': 1, 'men': 1, 'unions': 2, 'dysfunctions': 1, 'content': 14, 'medieval_theological': 1, 'cancer': 2, 'legislations': 1, 'protest': 1, 'Renaissance': 1, 'behavioural': 3, 'actions': 2, 'quasi-1D_approximation': 1, 'land': 1, 'societies': 4, 'supports': 2, 'nutritive': 1, 'topical': 1, 'budgeting': 3, 'mechanics': 2, 'additional': 2, 'english': 1, 'express': 3, 'holistic': 3, 'influence': 10, 'legislatures_enact': 1, 'organisation': 12, 'results': 14, 'trade': 7, 'Kantian': 1, 'units': 13, 'nuance': 2, 'trajectories': 1, 'MAE5410Not': 1, 'harvest': 1, 'fellow_trainees': 1, 'female': 1, 'sale': 2, 'Summarise': 1, 'propositions': 1, 'spoken': 3, 'altered': 1, 'introduction': 19, 'maintain': 3, 'therapist': 1, 'gathering': 2, 'health': 43, 'Korea': 3, 'interrogation': 1, 'texts': 10, 'assistive': 1, 'product': 5, 'Observe': 3, 'responding': 3, 'lift': 1, 'forum': 1, 'respective': 2, 'settlements': 1, 'complementary': 3, 'regulated': 2, 'procedures': 7, 'description': 3, 'random': 2, 'publicity': 1, 'outcomes': 20, 'truth': 1, 'HRM': 1, 'numerous': 2, 'generic': 1, 'Architecture': 1, 'journalists': 1, 'journal': 4, 'socio-historical': 1, 'designed': 16, 'How': 1, 'stone': 1, 'commence': 1, 'prevalent_ethos': 1, 'purified': 1, 'professionals': 4, 'stage': 1, 'cognition': 1, 'conduct': 25, 'awareness': 20, 'economy': 6, 'religion': 2, 'Gothic': 1, 'wellbeing': 1, 'three-dimensional': 1, 'targeted': 2, 'Theme': 1, 'assess': 17, 'marginalised': 1, 'institutionalized_patriarchy': 1, 'fermentation': 1, 'scenarios': 5, 'basis': 12, 'appearances': 1, 'Integrated_Marketing': 1, 'situational': 1, 'Ability': 1, 'logical': 5, 'non-fiction': 1, 'Gain': 1, 'controls': 1, 'covered': 10, 'reliable': 1, 'laws': 3, 'doctors': 1, 'programs': 6, 'vivid': 1, 'touch': 1, 'soft': 2, 'nonlinear': 1, 'elementary': 1, 'discipline': 16, 'chromosomes': 1, 'progression': 1, 'Conduct': 4, 'describe': 30, 'maximum': 1, 'diverse': 9, 'roles': 7, 'begin': 3, 'offer': 5, 'facilitation': 1, 'quickly': 2, 'toxic': 1, 'maintained': 1, 'landslides_tsunamis': 1, 'scientific': 17, 'conditions': 7, 'Outline': 1, 'urinary': 1, 'conducted': 2, 'apparent': 1, 'reproducing': 1, 'ideally': 1, 'semester': 8, 'curriculum': 1, 'exchanges': 1, 'multidisciplinary': 1, 'disadvantage': 1, 'completing': 2, 'acquire': 8, 'allocating': 1, 'articles': 4, 'collections': 3, 'high': 6, 'viewpoint': 1, 'explosives': 1, 'growth': 4, 'proof': 1, 'succinctly': 1, 'pollution': 1, 'punitive': 1, 'distinguishing': 1, 'comment': 1, 'proliferation': 1, 'aware': 4, 'advisers': 1, 'value-changing': 1, 'researchers': 1, 'pharmacological': 2, 'philosopher_Rene': 1, 'Situate': 1, 'powers': 3, 'tradition': 1, 'undertaken': 3, 'misrepresentation': 1, 'detailed': 6, 'universal': 2, 'essay-writing': 1, 'post-modern': 1, 'grasp': 1, 'accordance': 5, 'art': 9, 'Financial': 2, 'injustices': 1, 'chemistry': 2, 'constituents': 1, 'Malaysian': 2, 'representation': 7, 'general': 7, 'improving': 1, 'discourse': 3, 'caps': 1, 'qualitative': 2, 'role-plays': 1, 'presence': 3, 'produce': 15, 'haematological': 1, 'picture': 1, 'socioeconomic': 1, 'Arab-Israeli': 1, 'synthesizing': 1, 'examine': 22, 'Torres_Strait': 1, 'piece': 2, 'outcome': 6, 'editorial': 1, 'african': 1, 'advise': 1, 'strong': 2, 'speaking': 2, 'accessible': 1, 'writer': 1, 'x-ray': 1, 'clinically': 1, 'managed': 1, 'engagement': 5, 'engines': 1, 'weakened': 1, 'popularity': 2, 'journeys': 1, 'premise': 1, 'root-locus': 1, 'globally': 1, 'protocol_Interpret': 1, 'interviews': 3, 'English': 2, 'managerial': 1, 'anatomy': 4, 'compressibility': 2, 'interpreting': 3, 'worker': 1, 'europe': 1, 'technicality': 1, 'interactivity': 1, 'rising': 1, 'self-reflection': 1, 'offenders': 1, 'Index_GBI': 1, 'complexities': 1, 'cooperatively': 1, 'lighting': 2, 'lives': 2, 'utilise': 7, 'incompressible': 3, 'publish': 1, 'underpin': 4, 'regulatory': 8, 'institutional': 3, 'Manage': 1, 'scholarship': 2, 'attachment': 1, 'elaborates': 1, 'divine': 1, 'exploration': 7, 'Collaborative': 1, 'intersection': 1, 'gastrointestinal': 1, 'imaging': 2, 'preliminary': 1, 'protectors': 1, 'Contextualise': 2, 'recognize': 1, 'pollutants': 1, 'immunosorbent_assay': 1, 'Cth': 1, 'occupations': 1, 'construction': 4, 'Illness': 2, 'address': 5, 'Medicine': 1, 'exchanger': 1, 'learning': 21, 'impacts': 10, 'metastatic': 2, 'order': 14, 'monoclonal': 1, 'Exhibit': 1, 'well-established': 1, 'motivate': 1, 'dreaming': 1, 'refugees': 1, 'conceptual': 12, 'programme': 2, 'nurses': 4, 'taking': 4, 'consequence': 1, 'core': 16, 'internship': 1, 'share': 1, 'topic': 6, 'commerce': 1, 'Fine': 1, 'purpose-built_newsroom': 1, 'independent': 16, 'socio-economic': 3, 'selected': 8, 'WWC': 1, 'acquisition': 10, 'abnormal': 2, 'disciplinary': 1, 'estimates': 1, 'places': 4, 'animate': 1, 'structures': 13, 'poetic': 1, 'ongoing': 2, 'novels': 1, 'volatile': 1, 'notions': 2, 'great': 2, 'aspiring': 1, 'understanding': 73, 'APG5849_Graduate': 1, 'inter_alia': 1, 'inferential': 2, 'lateral': 1, 'highly': 2, 'GHG': 1, 'job': 3, 'War': 2, 'habitat': 1, 'Organisation': 1, 'generative': 1, 'combustion': 1, 'genetics': 3, 'Capacity': 1, 'engineers': 2, 'external': 6, 'unintended': 1, 'correctly': 1, 'unorthodox': 1, 'setters': 1, 'poverty': 1, 'resilient': 1, 'targets': 1, 'Size': 1, 'extensive': 2, 'mining': 1, 'vulnerability': 1, 'nationalism': 1, 'supporting': 3, 'East': 3, 'MPI': 1, 'minimum': 1, 'analytic': 2, 'capability': 2, 'spread': 1, 'skin': 1, 'BNM': 1, 'condition': 1, 'regimes': 5, 'pathophysiology': 3, 'event': 2, 'understood': 1, 'heat': 3, 'grammatically': 1, 'energy': 6, 'fraud': 1, 'to-be': 1, 'long_aspired': 1, 'hypothetical': 1, 'aspects': 25, 'reasoned': 1, 'period': 3, 'plans': 6, 'preoccupations': 1, 'testing': 5, 'metaphysical': 1, 'relates': 2, 'translating': 2, 'complete': 7, 'insights': 1, 'electrophoresis': 1, 'news': 2, 'deductive': 1, 'flight': 2, 'exposition': 1, 'elaboration': 1, 'component': 3, 'manages': 1, 'exposure': 2, 'resource': 3, 'leaders': 5, 'creation': 7, 'carbon': 1, 'examined': 3, 'behavior': 1, 'pertinent': 6, 'subjectivity': 1, 'guidelines': 1, 'close': 1, 'robust': 2, 'nominated': 1, 'discoveries': 1, 'articulate': 8, 'negotiate': 3, 'time-series': 1, 'WEU': 1, 'discontinuities': 1, 'datasets': 1, 'simulation': 4, 'introduced': 12, 'reader': 1, 'estimate': 3, 'services': 9, 'location-based': 1, 'essay': 5, 'clear': 4, 'leadership': 8, 'responsible': 3, 'economies': 2, 'queueing': 1, 'breakage': 1, 'required': 17, 'champion': 1, 'encounters': 1, 'context-aware': 1, 'spectacle': 1, 'publicly_listed': 1, 'debt': 1, 'web': 2, 'ideological': 4, 'regional': 8, 'non-discrimination': 1, 'psycholinguistics_neurolinguistics': 1, 'commencement': 1, 'advance': 2, 'coherently_argued': 1, 'site': 2, 'register': 1, 'completed': 3, 'modelling': 5, 'torture': 1, 'scholars': 1, 'involves': 4, 'welfare': 1, 'field': 22, 'devices': 1, 'aimed': 1, 'sustained': 3, 'players_privacy': 1, 'labelling': 1, 'sparked': 1, 'essential': 5, 'histories': 3, 'cervical': 1, 'sectors': 2, 'lower': 1, 'effort': 1, 'Practitioner_Registration': 1, 'victimisation': 1, 'ethnic': 2, 'fact': 2, 'flows': 4, 'rotary': 1, 'wishes': 1, 'productions': 1, 'packages': 2, 'output': 3, 'methodological': 7, 'documents': 3, 'operational_KPIs': 1, 'live': 1, 'paediatric': 2, 'kind': 1, 'phonological': 1, 'geometrical': 1, 'intensive': 2, 'legacies': 1, 'vary': 1, 'medium': 3, 'equipped': 2, 'difficulties': 2, 'administration': 1, 'breakdown': 1, 'demographic': 1, 'state': 9, 'perform': 7, 'publication': 3, 'points': 1, 'asset': 2, 'Obtain': 1, 'accounting': 6, 'batch': 1, 'consolidate': 6, 'interventions': 4, 'organized': 1, 'intricacy': 1, 'customised': 1, 'answering': 1, 'argument-formulating': 1, 'year': 5, 'rise': 5, 'brokers': 1, 'objectives': 6, 'sociolinguistic': 1, 'error': 1, 'number': 5, 'biodiversity': 2, 'business': 18, 'tunnels': 2, 'point': 1, 'Present': 3, 'preference': 1, 'industry': 15, 'malignancies': 1, 'Direction': 1, 'propose': 6, 'probiotics': 1, 'fields': 4, 'econometric': 1, 'First_Philosophy': 1, 'connection': 2, 'MKC1200': 1, 'Characterise': 1, 'addressed': 4, 'writing': 18, 'affairs': 2, 'drawings': 2, 'genotype': 1, 'observe': 1, 'protections_termination': 1, 'productivity': 2, 'minimize': 1, 'project': 34, 'women': 2, 'elites': 1, 'graduates': 1, 'Relations': 1, 'capacities': 2, 'successfully': 1, 'Leadership': 1, 'preparation': 4, 'investigation': 9, 'sound': 8, 'produces': 1, 'internet': 2, 'identities': 2, 'chronic': 2, 'society': 11, 'avenues': 1, 'minutes': 1, 'critera': 1, 'ideas': 12, 'multi-disciplinary': 3, 'Hinduism': 1, 'resilience': 2, 'input': 1, 'large': 3, 'message': 2, 'maker': 1, 'atmospheric': 1, 'intent': 1, 'multilateral': 1, 'Englishes': 1, 'member': 6, 'backgrounds': 2, 'addition': 8, 'rocket': 1, 'employ': 7, 'clarity': 1, 'undergoing': 1, 'analysed': 4, 'NUR2225_NUR2226': 1, 'sociologists': 1, \"site's\": 1, 'tribunals': 1, 'Malaysia': 1, 'small': 2, 'South': 4, 'networks': 5, 'narratives': 2, 'trial': 1, 'underlying': 11, 'single': 1, 'view': 2, 'non-Western': 1, 'dependence': 1, 'politically': 1, 'criminal': 5, 'pre-colonial': 1, 'drawing': 6, 'longitudinal': 1, 'Department': 1, 'transmission': 1, 'ontological': 1, 'show': 2, 'memorable': 1, 'reception': 1, 'embeddings': 1, 'Infuse_daily': 1, 'biochemistry': 1, 'animation': 1, 'enter': 1, 'personality_motivation': 1, 'spaces': 1, 'prepare': 5, 'equivalent': 2, 'Critically': 14, 'understandings': 6, 'chemotherapy': 2, 'tendencies': 1, 'voluntary': 1, 'employment': 3, 'specialized': 1, 'areas': 13, 'Indonesia': 2, 'paths': 1, 'packet-switching': 1, 'pitch': 2, 'create': 12, 'active_stakeholder': 1, 'purposefully': 1, 'participants': 1, 'critiques': 1, 'real-life': 1, 'advertising': 2, 'computerised': 1, 'employed': 1, 'enabled': 2, 'interaction': 8, 'Visual': 1, 'storage': 1, 'Africa': 4, 'record': 4, 'Registered_Nurse': 1, 'student-written': 1, 'solve': 9, 'property': 4, 'intended': 1, 'assigned': 1, 'legislative': 2, 'change': 11, 'published': 1, 'FBT': 1, 'discussions': 4, 'introduce': 10, 'similarities': 2, 'intending': 1, 'sectional': 1, 'facts': 1, 'approved': 2, 'formulating': 1, 'rely': 1, 'Green_Building': 1, 'sized': 1, 'keen': 1, 'intercultural': 2, 'merits': 2, 'makes': 3, 'choices': 3, 'anatomical': 1, 'body': 5, 'collection': 9, 'strengthen': 1, 'facing': 2, 'medical': 4, 'similarly': 1, 'important': 14, 'domestic': 3, 'spectra': 1, 'feedback': 3, 'wall': 1, 'delivered': 4, 'coherent': 2, 'well-designed': 1, 'sight': 1, 'population': 4, 'accountabilities': 1, 'Formulate': 1, 'political': 23, 'low-emissions': 1, 'characters': 2, 'account': 3, 'comprehending': 1, 'Age': 1, 'urbanism': 1, 'researcher': 1, 'taxes': 1, 'apply': 74, 'post-modernity': 1, 'protocols': 2, 'blended': 1, 'postgraduate': 1, 'WAN': 1, 'means': 1, 'bedside': 1, 'sits': 1, 'display': 2, 'initial': 2, 'tensor': 1, 'Foundations': 1, 'negotiated': 2, 'client': 4, 'challenges': 16, 'regulating': 1, 'computing': 2, 'synopsis': 1, 'genes': 1, 'emphasizes': 1, 'arrange': 1, 'group': 10, 'appreciation': 12, 'polyclonal_antisera': 1, 'freedom': 2, '1910-1945_supplemented': 1, 'dealing': 6, 'selection': 8, 'differently': 1, 'LAN': 1, 'section': 3, 'portion': 1, 'cultural': 30, 'twentieth-century': 1, 'wishing': 1, 'mise': 1, 'profile': 2, 'malignant': 1, 'constructed': 2, 'friction': 1, 'social': 40, 'insight': 5, 'postmodern': 1, 'voices': 2, 'shipping': 2, 'extending': 3, 'identifies': 1, 'documented': 1, 'practical': 27, 'hardware': 3, 'sociocultural': 2, 'foreign': 1, 'Comprehend': 2, 'interplay': 2, 'proposals': 5, 'conventional': 3, 'situates': 1, 'responses': 9, 'clients': 5, 'reading': 6, 'Health': 5, 'attaining': 1, 'accompanying': 1, 'confidently': 2, 'communications': 2, 'oriented': 3, 'Studio': 2, 'classification': 2, 'Modern': 1, 'kinetic': 1, 'company': 1, 'Reflect': 2, 'resistance': 1, 'instruments': 7, 'Classical': 1, 'reports': 7, 'fandom': 1, 'profession': 3, 'therapies': 2, 'personal': 17, 'overview': 5, 'AAOIFI': 1, 'seventeenth-century': 1, 'centres': 1, 'modalities': 1, 'engrain': 1, 'bear': 1, 'performed': 1, 'control': 16, 'controller': 1, 'competence': 9, 'Direct': 1, 'managing': 6, 'resolutions': 1, 'Collect': 1, 'guardianship': 1, 'validity': 2, 'interviewing': 4, 'regular': 1, 'market': 11, 'options': 9, 'accountability': 3, 'figure': 1, 'adolescent': 2, 'instability': 1, 'genres': 4, 'dividend': 1, 'pollutant_concentrations': 1, 'psychological': 12, 'phenotype': 1, 'lecture_inputs': 1, 'surfaces': 1, 'translates': 1, 'reflections': 1, 'optimise': 1, 'neuropsychology': 1, 'agenda': 1, 'Act_1984': 1, 'psychology': 2, 'approaching': 3, 'vibration': 1, 'action': 5, 'assumptions': 6, 'libretto': 1, 'foundation': 5, 'Can': 1, 'Early': 1, 'give': 1, 'efforts': 2, 'light': 3, 'limited': 2, 'Italy': 2, 'Auditing_Organization': 1, 'strategy': 2, 'artificial': 2, 'effects': 16, 'goal_alignment': 1, 'criminology': 1, 'ascertaining': 1, 'ELISA': 1, 'deepened': 1, 'refine': 4, 'accurate': 1, 'Insurance_Contracts': 1, 'contending': 1, 'article': 1, 'continuous': 2, 'fundamental': 15, 'defines': 1, 'determination': 1, 'Project': 2, 'contextualise': 4, 'evaluated': 2, 'cities': 1, 'media': 16, 'eco-spirituality': 1, 'final': 4, 'themes': 8, 'relate': 7, 'objects': 4, 'musculoskeletal': 1, 'analyses': 9, 'Libya': 1, 'alarming_transformation': 1, 'facilitating': 1, 'marine': 3, 'prototypes': 2, 'overseas': 2, 'books': 1, 'investigating': 4, 'events': 5, 'entities': 1, 'explaining_troubles': 1, 'Accurately': 1, 'implemented': 1, 'Science': 3, 'honours': 4, 'part': 13, 'satisfying': 1, 'Unit': 1, 'readers': 1, 'held_accountable': 1, 'diagram': 3, 'assignment': 1, 'youth': 2, 'Therapy': 1, 'monitoring': 4, 'discourses': 4, 'sculpture': 1, 'Communication': 1, 'traditionally': 1, 'APG5096': 1, 'encourages': 1, 'Virtual': 1, 'consideration': 1, 'illicit': 1, 'activity': 3, 'offending': 1, 'command': 1, 'Honours': 3, 'thesis-mode': 1, 'harbour_inefficiencies': 1, 'Rwanda_Cambodia': 1, 'credibility': 1, '2012_despite': 1, 'familiarity': 3, 'analytics': 2, 'era': 1, 'Medical': 1, 'Demonstrate': 19, 'reads': 1, 'dimensions': 1, 'brand': 1, 'impact': 22, 'reparations': 1, 'applies': 2, 'effect': 3, 'return': 2, 'scope': 6, 'Predict': 1, 'rebuild': 1, 'Pacific': 1, 'designing': 5, 'protect': 2, 'ocular': 1, 'therapeutics': 1, 'sport': 1, 'aspirations': 2, 'non-technical': 1, 'place': 9, 'student': 9, 'grid': 1, 'promote': 4, 'minimal_supervisory': 1, 'kanji': 1, 'program': 10, 'line': 2, 'edit': 3, 'Politics': 1, 'French': 1, 'enhancing': 2, 'competently': 2, 'meaning': 3, 'energy-related': 1, 'powerful': 3, 'access': 3, 'aims': 10, 'regions': 3, \"one's\": 1, 'practicals': 1, 'emphasised': 1, 'colonial': 2, 'Christian': 1, 'expanded': 1, 'What': 2, 'exhibit': 1, 'improved': 2, 'Effectively': 2, 'concept': 9, 'exposes': 2, 'relativity': 1, 'expands': 2, 'study': 26, 'proteins': 2, 'stress': 1, 'size': 3, 'neurophysiological': 1, 'depth': 4, 'physical': 13, 'Theatre': 1, 'cancers': 2, 'provisions': 2, 'start': 1, 'manner': 9, 'self-learning': 1, 'price': 2, 'specialty': 1, 'raised': 2, 'decision-making': 4, 'subsequent': 1, 'hypotheses': 2, 'foundational': 2, 'camera': 2, 'Urban': 1, 'philosophy': 1, 'Apply': 23, 'abused': 1, 'early': 3, 'Iraq': 2, 'system-centric': 1, 'made': 9, 'exciting': 1, 'characteristic': 1, 'arthritic': 1, 'knowledgeable': 1, 'midwives': 1, 'Romantic': 1, 'introducing': 4, 'completion': 6, 'vibrations': 1, 'underlie': 3, 'Performance': 1, 'service': 5, 'equal': 1, 'classes': 1, 'role': 38, 'maintenance': 3, 'mentally_disordered': 1, 'enhance': 10, 'anthropological': 1, 'chromosomal': 1, 'pharmacokinetics_adverse': 1, 'wound': 1, 'emotional': 1, 'functional': 2, 'survive': 1, 'individual': 28, 'Literature': 1, 'conversations': 1, 'practise': 2, 'disasters': 1, 'designs': 7, 'claims': 1, 'grammatical': 2, 'registration': 1, 'guidance': 3, 'conceived': 2, 'directions': 2, 'adolescents': 1, 'build': 7, 'Quantitatively': 1, 'biology': 5, 'schemes': 2, 'determinants': 2, 'permitted': 2, 'air': 2, 'demonstrates': 3, 'authorship': 3, 'gas': 1, 'periods': 3, 'pose': 1, 'organisational': 7, 'capable': 1, 'bottom': 1, 'income': 2, 'decisions': 7, 'liberalisation': 1, 'sets': 2, 'ethnographic': 1, 'Multimedia': 1, 'multithreading': 1, 'integrate': 8, 'deals': 1, 'embedding': 1, 'lectures': 6, 'making': 6, 'imperfections': 1, 'specialisation': 1, 'abstract': 3, 'subfields': 1, 'individuals': 13, 'focusing': 4, 'former_Yugoslavia': 1, 'camerawork_editing': 1, 'genocide': 1, 'films': 1, 'inquiry': 2, 'post': 2, 'exerted': 1, 'responsibilities': 3}\n"
     ]
    }
   ],
   "source": [
    "print(\"Document frequence of all the words: \", doc_freq)"
   ]
  },
  {
   "cell_type": "markdown",
   "metadata": {},
   "source": [
    "Now, since we are dealing with 194 units because of unit repetitions, our 95% threshold becomes, 0.95*194 = 184.3 which is rounded to 184. "
   ]
  },
  {
   "cell_type": "code",
   "execution_count": 29,
   "metadata": {},
   "outputs": [],
   "source": [
    "thresh_95_words = []\n",
    "for k,val in doc_freq.items():\n",
    "    if(val>184):\n",
    "        thresh_95_words.append(k)"
   ]
  },
  {
   "cell_type": "markdown",
   "metadata": {},
   "source": [
    "We see that there are no words that occur in more than 95% of documents."
   ]
  },
  {
   "cell_type": "code",
   "execution_count": 30,
   "metadata": {},
   "outputs": [
    {
     "name": "stdout",
     "output_type": "stream",
     "text": [
      "95% threshold words:  []\n"
     ]
    }
   ],
   "source": [
    "print(\"95% threshold words: \", thresh_95_words)"
   ]
  },
  {
   "cell_type": "code",
   "execution_count": 31,
   "metadata": {},
   "outputs": [],
   "source": [
    "for unit_id,text in units_raw.items():\n",
    "    units_raw[unit_id] = [w for w in units_raw[unit_id] if w not in thresh_95_words]"
   ]
  },
  {
   "cell_type": "markdown",
   "metadata": {},
   "source": [
    "## 9. Rare tokens removal (5% threshold)\n",
    "\n",
    "Now, since we are dealing with 194 units because of unit repetitions, our 5% threshold becomes, 0.05*194 = 9.7 which is rounded to 10.\n",
    "\n",
    "By doing this, we also remove all the bigrams because they were rarely occuring. If we would have removed the stop words and then calculated the bigrams, there was a possibility that some of the bigrams would remain. But again, I feel the approach that is done is more justified, because if we remove stop words first and then calculate the bigrams, we would have got some bigrams which actually dont exist as explained in the bigrams extraction section.\n",
    "\n",
    "Also, if we dont remove the bigrams as rare tokens, then we would have the bigrams which occur very rarely, may be even just once and they remain in the vocab, which again does not make sense because we need bigrams which make sense. "
   ]
  },
  {
   "cell_type": "code",
   "execution_count": 32,
   "metadata": {},
   "outputs": [],
   "source": [
    "thresh_5_words = []\n",
    "for k,val in doc_freq.items():\n",
    "    if(val<10):\n",
    "        thresh_5_words.append(k)"
   ]
  },
  {
   "cell_type": "code",
   "execution_count": 33,
   "metadata": {},
   "outputs": [
    {
     "name": "stdout",
     "output_type": "stream",
     "text": [
      "5% threshold words:  ['Computational', 'prototypical', 'non-accidental', 'non-traditional', 'adjustment', 'defendants', 'India', 'test', 'micro', 'dark', 'microorganisms', 'critiqued', 'meaningful', 'matter', 'gather', \"coroner's\", 'cater', 'possess', 'booth', 'non-English', 'venture', 'interrelation', 'linguistic', 'raise', 'concisely', 'attributed', 'location-awareness', 'perception', 'Skill', 'bias', 'discrimination', 'drugs', 'particles', 'businesses', 'registers', 'Assess', 'Make', 'controversy', 'DNA', 'changing', 'Illustrate', 'uncertain', 'distribution', 'demands', 'workplace', 'move', 'shared', 'cross', 'meant', 'NUR2229', 'risks', 'simple', 'reducing', 'subrogation', 'spoilage', 'Art', 'healing', 'interactive', 'coverage', 'CAM', 'rationale', 'Society', 'bio', 'seminar', 'professions', 'vehicles', 'budgetary', 'functioning', 'detected', 'manipulation', 'respect', 'infection', 'aspect', 'fluid', 'progresses', 'German', 'predisposing_protective', 'imagery', 'recent', 'barriers', 'expertise', 'considerations', 'practicality', 'typical', 'central', 'pursue', 'listening', 'triple', 'APG5874', 'remains', 'agents', 'tension', 'practica', 'reference', 'composition', 'disturbance', 'The', 'anthropogenic', 'aircraft', 'studied', 'behaviours', 'recognised', 'load', 'mating', 'timely', 'mitigation', 'conceptualising', 'highlighted', 'contradictions', 'forums', 'archaeological', 'assist', 'mitigating', 'representational', 'epidemics_fires', 'Explain', 'lifelong', 'politics', 'summary', 'competency', 'regard', 'locate', 'disease', 'existing', 'Professional', 'modes', \"practitioner's\", 'treat', 'descriptions', 'talisman', 'NUR2228', 'limiting', 'meet', 'poses', '2003_invasion', 'experienced', 'cooperative', 'player', 'regime', 'borrower', 'aerofoils', 'war', 'Language', 'lay_persons', 'existence', 'utilising', 'IPC', 'precedents', 'promotes', 'whilst', 'similar', 'rigorously', 'provided', 'mitigate', 'indemnity', 'industries', 'equations', 'Nobel_Prize', 'ASX', 'equation', 'adapt', 'derivatives', 'utility', 'travel', 'accurately', 'post-conflict', 'sovereignty', 'representing', 'organisms', 'evidence-based', 'staffing', 'requiring', 'kinds', 'underside', 'piling', 'increasing', 'handbook', 'deploying', 'costing', 'offerings', 'Framework', 'optimize', 'Express', 'integrity', 'confronted', 'Recognise', 'International', 'co-ordination', 'finally', 'abuse', 'GPU', 'inheritance', 'clinicians', 'mind', 'MATLAB', 'implementing', 'offering', 'productively', 'Basis', 'physiological', 'scene', 'empirical', 'Relying', 'mobile', 'adaptation', 'disclosures', 'musical', 'employability', 'enterprises', 'preferred', 'hypersonic', 'computer-aided', 'overarching', 'Biology', 'put', 'certain_accepted', 'investigatory', 'film', 'pre-sentence', 'Union', 'base', 'philosophical', 'cutting-edge', 'currency', 'patterns', 'priority', 'Inderstand', 'construct', 'highest', 'organisations', 'solution', 'discretise', 'nations', 'CGT', 'justify', 'exist', 'prospects', 'personalities', 'rate', 'medicine', 'unsupervised', 'building', 'viability', 'algebraic_geometric', 'Meditations', 'capabilities', 'asia', 'peninsula', 'precipitation', 'insurance', 'Choose', 'proficient', 'requirement', 'seeks', \"designer's\", 'internetworking', 'integration', 'highlighting', 'text', 'Initiate', 'alternatives', 'forces', 'summaries', 'speeches', 'nation', 'lead', 'religions', 'Pentecostal', 'print', 'derivation', 'exists', 'interpersonal', 'antibody', 'participating', 'stages', 'advisor', 'authority', 'Board', 'Population', 'patients', 'stories', 'teamwork', 'deploy', 'department', 'larger', 'optimum', 'uncomplicated', 'fundamentalist_streams', 'book', 'turbulent', 'populations', 'injury', 'needed', 'decades', 'incorporates', 'ground-based', 'Plan', 'assemble', 'offences_substance', 'sharpens', 'experiences', 'neurotransmitters', 'statistics', 'front', 'discovery', 'contextualises', 'wide-scale', 'dietetic', 'systemic', 'agreements', 'cases', 'fair', 'selecting', 'fault-tree', 'commenced', 'confident', 'normal', 'nanomaterials', 'epistemology', 'properties', 'viscous', '21st', 'self-guided', 'ats1835', 'immunology', 'artefact', 'layer', 'journalistic', 'genomes', 'Classification', 'double', 'bystander', 'cellular', 'corporation', 'encourage', '450', 'criteria', 'systematic', 'user', 'Hallyu', 'drift', 'advice', 'Asia-Pacific', 'prominent', 'statements', 'spiritual', 'opinion', 'monologues', 'vessel', 'immunisation_certificates', 'fine', 'phenotypes', 'animating', 'ranging', '1968', 'feudal_hierarchy', 'practice-based', 'Revolution', 'beliefs_schema', 'gained', 'toxicology', 'poetry', 'halal', 'Descartes', 'Discuss', 'owed', 'reported', 'explored', 'conceptualise', 'creating', 'indicators', 'medico-legal', 'prices', 'compiling', 'innovations', 'difficulty', 'Practicum', 'organization', 'extended', 'occur', 'basics', 'calculations', 'powerfully_endorsed', 'prescribed', 'characterise_inflicted', 'shown', 'past', 'tuition', 'icons', 'judgement', 'protects', 'recruitment', 'sustaining', 'trauma', 'energies', 'campaign', 'Write', 'determined', 'Describe', 'goods', 'Structured', 'extremes', 'WTO', 'varied', 'Translation', 'socket-level', 'scholarly', 'regulations', 'drawn', 'millennia', 'landing_gear', 'transient', 'lens', 'linking', 'sizing', 'sense', 'theorising', 'paradigms', 'references', 'educational', 'psychiatry', 'safely', 'technologies', 'profit', 'thrust', 'plasma', 'Musical', 'hostage-taking', 'critics_broadcasters', 'subject', 'inviscid', 'fixed', 'tasked', 'urban', 'argumentation', 'sponsorship', 'wireless', 'emitters', 'molecular', 'inclusiveness_nurturance', 'emissions', 'digital', 'Century', 'enforceability', 'dataset', 'Government', 'deal', 'specification', 'arm', 'origin', 'immunoglobulins', 'inter-professional', 'Functioning_Disability', 'reconciliation_bosnia', 'discussing', 'rigorous', 'occurrence', 'power', 'shape', 'expressions_Manipulate', 'starting', 'manufacture', 'improve', 'Psychiatry', 'eager', 'relative', 'cash', 'temporal', 'fermentations', 'Work', 'African', 'carry', 'ethno-nationalism', 'potentially_publishable', 'linearised', 'peoples', 'industry-centred', 'agency', 'assessments', 'realistic', 'gene', 'secondary-source', 'states', 'elements', 'measurements', 'chosen', 'attained', 'disaster', 'ICF', 'speech', 'famously_declared', 'genomic', 'well-documented', 'Monash', 'pertain', 'full', 'native_speakers', 'attempts', 'descriptive', 'reasoning', 'concise', 'images', 'ANMAC', 'indices', 'brought', 'augmented', 'hospitals', 'non-standard', 'immigrant', 'communities', 'maximise', 'screens', 'reform', 'aero', 'valuation', 'degrees', 'foods', 'regulation', 'judgements', 'aided', 'Learn', 'functions', 'blast', 'initiate', 'publishing', 'internships', 'banker-customer', 'evolutionary', 'lucidly', 'commitment', 'expansion_fans', 'status', 'subjected', 'theorists', 'corporate', 'Aboriginal', 'specifications', 'ready', 'affecting', 'refined', 'influences', 're-emergence', 'controllability', 'improvements', 'conciseness', 'loadings', 'career', 'dictionaries', 'focussing', 'Neuropsychology', 'breadth', 'plied', 'sexuality', \"people's\", 'contact', 'included', 'mode', 'imaginative_conjecture', 'careers', 'factitious', 'true', 'peace', 'exploited', 'educate', 'firm', 'single-input', 'faculty', 'scale', 'radiographic', 'users', 'collaborative', 'optimal', 'fiction', \"student's\", 'crime', 'contributing', 'combination', 'transformations', 'shoulder', 'dietary', 'embodies', 'aesthetic', 'complaint', 'introductory', 'psychrometric_charts', 'team-work', 'CDS1001', 'consist', 'Broadway', 'grind', 'examination', 'tables', 'tactics', 'subverts', 'failures', 'plays', 'Examine', 'Clearly', 'efficient', 'meeting', 'photographic', 'interpretations', 'significantly', 'collaboration', 'sustainable', 'disclosure', 'intersect', 'evidence-base', 'formal', 'challenging', 'future', 'limbs', 'effectiveness', 'aiming', 'Possess', 'inclusive', 'liability_fire', 'calculus', 'investment', 'realities', 'inclusion', 'density', 'interventional', 'electronic', 'distinct', 'philosophers', 'determine', 'Convey', 'adopted', 'governed', 'underpinning', 'operationalization', 'grounds', 'symptoms', 'sociability', 'supercomputing', 'translate', 'make', 'locally', 'oblique_shocks', 'presented', 'debate', 'medications', 'humans', 'carriage', 'cannot_afford', 'mobility', 'sections_Culture', 'two-dimensional', 'operability', 'forensic', 'nervous', 'state-space', 'two-semester', 'achieved', 'attention', 'investigations', 'textbooks', 'propulsion', 'Generate', 'teams', 'independence', 'aetiology', 'space', 'specifically', 'simplified', 'intervals', 'net', 'location', 'supplement', 'simulated', 'younger', 'balance_trade-offs', 'fieldwork', 'papers', 'staff', 'optimization', 'corrosion', 'visualise', 'homeostasis', 'jurisdictions', 'gender', 'efficiency', 'poster', 'managers', 'Code', 'approximate', 'compelling', 'disputes', 'interacting', 'nuanced', 'engineering', 'furniture', 'weekly', 'operation', 'exegesis', 'instance_serial', 'industrial', 'familiar', 'instruction', 'footprint', 'measure', 'rapid', 'defend', 'perceptive', 'select', 'inventive', 'experiencing', 'membrane', 'closely', 'promoted', 'supplied', 'gaming', 'girdle', 'geopolitical', 'capitalism', 'geotechnical', 'informal', 'trends', 'image', 'genetic', 'relationality', 'critical-thinking', 'formulation', 'GST', 'Critical', 'negotiation', 'employees', 'innovators', 'inherently_variable', 'counselling', 'week', 'equips', 'style', 'Zakat', 'task', 'fluent', 'Doctor', 'renal', 'harming', 'Scientific', 'domain', 'combat', 'Persuasive', 'epistemological', 'suggests', 'Recall', 'translated', 'necessarily', 'thinkers', 'Crew_Resource', 'deep', 'bargaining', 'treaties', 'clinics', 'situation', 'throughput', 'pace', 'one-dimensional', 'institutions', 'regression', 'conservation', 'target', 'exchange', 'Have', 'contraindications', 'readiness', 'interest', 'coronial', 'Southeast', 'West_primarily', 'establishment', 'assignments', 'repeated', 'moisture', 'radio', 'Indigenous', 'journals', 'giving', 'improvement', 'challenged', 'respiratory', 'Elicit', 'response', 'arrangements', 'community-based', 'reflection', 'unmet', 'two-way', 'recording', 'prompts', 'advocacy', 'identity', 'interested', 'capital', 'taste', 'notoriety', 'organ', 'increase', 'conclusions', 'endurance_accelerated', 'word', 'Source', 'This', 'Global', 'collaborate', 'terrorism', 'hegemonic', 'special', 'measures', 'supported', 'tensions', \"Children's\", 'Perform', 'coefficients', 'refugee', 'frequently', 'transferred', 'reliability', 'guide', 'offered', 'emergent', 'details', 'viable', 'United', 'boundaries', 'wing', 'converting', 'Dynamics', 'substances', 'denoted', 'spatial', 'dose', 'plant', 'adapting', 'seminal', 'Improved', 'evidentiary', 'threat', 'Chart', 'significant', 'fashion', 'consultation', 'instances_even', 'source', 'patient-centred', 'ethics', 'ecological', 'family', 'laminar', 'hedging', 'synthesize', 'visualisation', 'biological', 'Radio', 'summarise', 'engineer', 'broadcasting', 'livelihoods', 'sub-disciplines', 'tail', 'tight', 'driver', 'mixture', 'mental', 'motors', 'comparative', 'formative_Objective', 'applications', 'well-reasoned', 'illustrate', 'specialised', 'timeline', 'due', 'joints', 'positioning', 'song', 'continue', 'cost-effective', 'assessing', 'evolution', 'preceding', 'Japan', 'colleagues', 'broadcast', 'series', 'beneficial', 'comparatively', 'generalise', 'century', 'hazardous', 'post-Holocaust_German-Jewish', 'identified', 'ambiguous_VUCA', 'modules', 'ground-borne', 'technological', 'futures', 'gendered', 'integrated', 'acceptable', \"semester's\", 'overcome', 'enforceable', 'fabrication', 'FIT', 'represented', 'sophistication', 'Examination', 'bones', 'hitherto', 'risky', 'cinema', 'Asia', 'entrepreneurship', 'fluids', 'private', 'in-laboratory', 'emerging', 'ineffective', 'persuasive', 'trained', 'Produce', 'directed', 'online', 'nutrition', 'quantify', 'reconsider', 'One_transferable', 'conceive', 'recognition', 'write', 'discussion', 'physics', 'implied', 'pricing', 'dysfunction', 'reactions', 'convention', 'ethnicity', 'dominant', 'semantic', 'days', 'loan', 'corruption', 'distinguish', 'weights', 'creativity', 'found', 'includes', 'texturing', 'whole-aircraft', 'predictive', 'sales', 'package', 'reconfiguration', 'leading', 'democratisation', 'established', 'stock', 'young', 'approx', 'difference', 'dialogue', 'continues', 'Participate', 'circumstances', 'variations', 'classical', 'numerical', 'aid', 'embody', 'folio', 'metaphysics', 'interdisciplinary', 'laboratory', 'dying', 'food-borne', 'Blowing', 'diagnosis', 'lifespan', 'issue', 'self-preservation', 'compulsory', 'measurement', 'act', 'learnt', 'execute', 'sequence', 'essays', 'Internet', 'clouds', 'thematic', 'agencies', 'manifestations', 'scales', 'wealth', 'movements', 'gains', 'centred', 'meanings', 'videos', 'props', 'extent', 'subsequently', 'conjecturing', 'conclude', 'identifying', 'type', 'reflectively', 'State', 'deteriorating', 'workshop', 'original', 'strengthened', 'costs', 'translation', 'moves', 'rendering', 'statuses', 'shifts', 'emphasise', 'Iran', 'Differentiate', 'illnesses', 'screening', 'arts', 'equip', 'tailored', 'origins', 'airflow', 'Midwifery_Council', 'wide', 'comprehend', 'circulation', 'occupation-focussed', 'participate', 'patient', 'music', 'in-depth', '1945', 'reflective', 'planner', 'physiology', 'exegetical', 'hedge', 'Australasia', 'radiant', '1990-91_Gulf', 'receive', 'seek', 'givens', 'governs', 'satellite', 'shaped', 'conceptualization', 'duties', 'webs', 'minor', 'homeostatic', 'mathematical', 'small-group', 'short', 'presenting', 'real', 'fragmentation', 'acquired', 'score_ultimately', 'observation', 'Cultivate', 'liable', 'contribution', 'utilizing', 'disciplines', 'deadline', 'rapidly', 'popular', 'engaged', 'genetically_modified', 'sub-discipline', 'workers', 'rock', 'integumentary', 'obtained_handled', 'junior_employee', 'detect', 'identification', 'dates', 'differential', 'interfaces', 'supervision', 'symbolic', 'historians', 'text-based', 'the-art', 'sufficiency', 'ecosystems', 'payments', 'attendance', 'non-professionals_Turn', 'supervisor', 'result', 'conducting', 'interrogate', 'Interpreting', 'consecutive', 'neighbours', 'BIO4200', 'scientists', 'Provide', 'generates', 'views', 'validation', 'lawmaking', 'preoccupation', 'constitute', 'clustered', 'addresses', 'competent', 'pushing', 'assets', 'pain', 'walking', 'reality', 'clustering', 'uncertainty', 'gross', 'polynomial', 'exploring', 'reward', 'characteristics', '3-dimensional', 'security', 'assistance', 'capture', 'refer', 'liabilities', 'Wave_phenomenon', 'builds', 'weight', 'Glass', 'Institutions', 'realms', 'enrolling', 'logic', 'pertaining', 'unique', 'behaviors', 'times', 'self-determination', 'enterprise', 'sub-theme', 'gradual', 'obligations', 'illustrating', 'surveys', 'dichotomies', 'Excel', 'perspective', '2-dimensional', 'note', 'enable', 'faunal', 'child', 'training', 'invited', 'SIMULINK_assumes', 'devoted', 'conventions', 'pro-active', 'Italian', 'families', 'Social_Change', 'Facebook', 'crisis', '1641', 'service-oriented', 'concern', 'nursing', 'intervention', 'length', 'state-of', 'subsonic', 'cardiovascular', 'documentation', 'degree', 'Development', 'good_faith', 'unity', 'student-led', 'swept', 'mobilise', 'mentioned', 'enquiry', 'offers', 'European', 'workplaces', 'conduction_convection', 'exploratory', 'polar', 'domains', 'generating', 'resolving', 'Countries', 'directly', 'architectural', 'platforms', 'digestive', 'traditional', 'entire', 'drag-buildup', 'third-year', 'intricate', 'humanities', 'treatment', 'deceived', 'face', 'simultaneous', 'viruses', 'describing', 'Dialectical_Behavior', 'autonomously', 'opened', 'cytotoxic', 'posed', 'sexual', 'thin-walled', 'dynamic', 'chromosome', 'representations', 'Capture', 'australia', 'Aviation', 'transactions', 'collected', 'constructing', 'syntactically', 'non-linear', 'rates', 'proficiency', 'violators', 'ponders', 'voice', 'aeronautics', 'terms', 'injuries', 'geometry', 'theatre', 'Develop', 'reviewing_curation', 'colonisation', 'civil', 'coursework', 'Chinese', 'instrumentation', 'demonstrating', 'Enhanced', 'Zealand', 'mechanical', 'Australian', 'Baroque', 'ecosystem', 'minimise', 'intend', 'catastrophes', 'gravity', 'Personal', 'satisfactory', 'Asian', 'traditions', 'Practice', 'peers', 'methodology', 'obtain', 'encouraged', 'investigative', 'timing', 'intellectual', 'churches', 'network', 'globalization', 'metalwork', 'national', 'alienation', 'variables', 'generate', 'configuration', 'America', 'interactions', 'climb_gliding', 'stability', 'affect', 'Chief_Examiner', 'nozzles', 'profiling', 'arbitration', 'explains', 'virtual', 'Explore', 'fundamentals', 'mainstream', 'read', 'predict', \"Monash's_Melbourne\", 'familial', 'answer', 'taxation', 'weather', 'frequency', 'combined', 'conceptualizations', 'Interdisciplinary', 'male', 'socio-political', 'situating', 'covering', 'proxy_decision-makers', 'sociology', 'Practica_Coordinator', 'traits', 'academically', 'evaluating', 'scenes', 'detailed-scaled', 'Communicate', 'focussed', 'encountered', 'palliative', 'vector', 'vertebrates', 'interface', 'concert', 'excavation', 'teaching', 'CFSP', 'risk', 'operations', 'psychopathology', 'visits', 'narrative', 'contribute', 'providers', 'associations', 'proceedings', 'shutdown', 'Latin', 'dressing', 'actively', 'creatively', 'letters', 'finance', 'draw', 'New', 'appraisal', 'bounded', 'initiative', 'equity', 'trading', 'vapors', 'inter-related', 'people', 'intention', 'dissertations_although', 'in-house', 'demand', 'asylum_seeker', 'mediums', 'psychosocial', '000', 'list', 'creative', 'stimulate', 'aerodynamics', 'cancellation', 'linear', 'wind', 'credentialing', 'today', 'shaping', 'leaning', 'skill', 'emergency', 'document', 'employers', 'purpose', 'point-of', 'colloquium', 'inevitably', 'aviation', 'radar', 'in-situ', 'journey', 'characterised', 'constraints', 'awarding', 'opportunities', 'threatening', 'contracts', 'alternative', 'consequences', 'Muslim', 'deconstruction', 'Industrial', 'demonstrations', 'high-value', 'machine', 'affects', 'distributions', 'conceiving', 'cooking_wares', 'benefit', 'experiential', 'primary', 'keeping', 'adopting', 'User_Interactions', 'bring', 'background', 'taxpayers', 'hour', 'therapists', '1st', 'connections', 'GANNT_chart', 'University', 'non-western', 'method', 'Twitter', 'organise', 'large-scale', 'contrasting', 'govern', 'frame', 'dramas', 'suspicions', 'produced', 'appropriately', 'involve', 'exponential_logarithmic', 'gases', 'professionalism', 'warranties', 'behaviour', 'finds', 'mobilising', 'internal', 'storytelling', 'examining', 'divisions', 'observability_introductions', 'situated', 'success', 'electability', 'conference', 'agreed', 'search', 'precipitating_perpetuating', 'utmost', 'diplomatic', 'coordinator', 'Mannerist', 'plants_invertebrates', 'correlations', 'reflexively', 'neurocognitive', 'ordered', 'persistent', 'notation', 'police', 'journalism', 'articulation', 'feature', 'remote', 'exposed', 'anti-colonial_nationalists', 'orientation', 'face-to', 'notes_summarisation', 'Create', 'limits', 'Evaluate', 'roots', 'thermodynamic', 'epidemiology', 'conflicts', 'fora', 'standardised', 'steady', 'dispute', 'interests', 'Charismatic_Christianity', 'develops', 'banks', 'expectations_judgments', 'tax', 'diversity', 'microphysics', 'sophisticated', 'consumption', 'discernment', 'remain', 'sociological', 'cultures', 'explicit', 'countries', 'collect', 'preventing', 'supersonic', 'systematically', 'artefacts', 'listing', 'reporting', 'considered', 'biotic', 'invasive', 'person', 'region', 'transfer', 'prototyping', 'compressible', 'enshrine', 'deepen', 'possibilities', 'converted', \"Australia's\", 'excavated', 'choose', 'free', 'habits', 'jurisdiction', 'layout', 'innovative', 'excitation', 'tasks', 'suspected', 'Genetics_BIO4100', 'detection', 'incorporating', 'cross-cultural', 'pharmaceutical', 'stratigraphy', 'Eastern', 'Westphalian', 'universalist', 'disorders', 'addressing', 'brings', 'materiality', 'rigour', 'radiation', 'premium', 'Standard', 'diaspora', 'relationships', 'policy-making', 'inception', 'format', 'adult', 'interim', 'vehicle', 'companies', 'magnitude', 'open', 'proposal', 'structuring', 'Investigate', 'framing', 'emission', 'Campuses', 'decision', 'retrieve', 'day', 'strategic', 'establish', 'differing', 'case-based', 'rural', 'story', 'artistic', 'professionally', 'intelligence', 'Nursing', 'documenting', 'derived', 'reflecting', 'challenge', 'characterize', 'prose', 'Implement', 'viewers', 'developmental', 'legislation', 'members', 'deadlines_convey', 'bioethanol', 'calculate', 'masterclasses', 'transnational', 'Engage', 'flexible', 'entrepreneurs', 'total', 'intensively', 'doctoral', 'reduction', 'investigates', 'empower', 'prerequisite', 'spanning', 'scripting', 'trajectory', 'verification', 'Europe', 'tool', 'expeditiously', 'mutation', 'finding', 'groups', 'sector', 'genre', 'greenhouse', 'justice', 'variation', 'planned', 'screen', 'entrepreneurial', 'CSMA', 'antibodies', 'curiosity', 'corporations', 'cabled', 'platform', 'approval', 'concludes', 'incident', 'participation', 'decline', 'cloud', 'subjective', 'cost', 'phenomenological', 'communicative', 'sustainability', 'enhanced', 'networking', 'class', 'formation', 'post-Mao', 'expression', 'supply', 'pursuing_Relate', 'unusual', 'arising', 'Islam', 'rehabilitation', 'defined', 'allocation', 'respond', 'non-malignant', 'concurrent', 'benefits', 'combines', 'therapeutic', 'microbiology', 'settlement', 'manipulate', 'outsourcing', 'broker', 'integrating', 'similarity', 'qualities', 'photography', 'momentum', 'Contemporary', 'differentiate', 'traverses', 'check', 'intellectually_stimulating', 'Afghanistan', 'proficiently', 'BFW2341', 'aids_distributes', 'multiple', 'secure', 'race_age', 'earnings', 'secondary', 'inference', 'nurse', 'resources', 'objective', 'atmosphere', 'literacy', 'everyday', 'Articulate', 'modify', 'finished_artwork', 'BFW2140', 'crucial', 'stylistic', 'recommend', 'drilling', 'recognizes', 'determining', 'abusive_head', 'preserving', 'imagined', 'speak', 'illustration', \"today's\", 'ethically', 'pre-clinical', 'speed', 'turbulence', 'expected', 'General', 'initiatives', 'loading', 'retrieval', 'ethnographical', 'high-level', 'transitions', 'created', 'consumers', 'repertoire', 'stakeholders', 'comply', 'incorporate', 'christianity', 'Thinking', 'Appraise', 'tied', 'motion', 'execution', 'sensory', 'sensitive', 'wider', 'imbalances', 'graphs', 'structural', 'defence', 'imaginatively_connect', 'resolve', 'consolidation', 'materialism', 'natural', 'engaging', 'cord', 'practising', 'bacteria_fungi', 'inferences', 'endocrine', 'greed', 'concerned', 'safe', 'victim', 'visit', 'colonialism', 'readings', 'World', 'entails', 'applicable', 'entirety', 'founding_moment', 'analyzing', 'languages', 'offender', 'organised', 'advocate', 'productive', 'measuring', 'ancient', 'concurrency', 'archaeologists', 'attainment', 'Middle', 'transition', 'BFF2701', 'commonly', 'governance', 'derive', 'ill-defined', 'North', 'attend', 'support', 'politicisation', 'textual', 'definition', 'justifiable', 'rebuilding', 'piping', 'Hardware_Capabilities', 'blasts', 'wrangling', 'credit', 'enables', 'summarising', 'unpack', 'epoch', 'centrality', 'lines', 'integral', 'hospital', 'pressure', 'mathematically', 'sufficient', 'Japanese', 'influenced', 'ushering', 'government', 'day-to', 'pathophysiological', 'presentations', 'turbomachinery', 'comprising', 'works', 'water', 'capstone', '2019', 'senses', 'increasingly', 'econometrics', 'beginning', 'cover', 'tissues', 'categories', 'texture', 'spectacular', 'graphic', 'documentary', 'norms', 'fully', 'contributed', 'feasible', 'Crisis', 'handling', 'Analyze', 'synthesise', 'championing', 'materials', 'graduate', 'mass', 'play', 'terrain', 'trigonometric', 'profound', 'States', 'compared', 'supervised', 'operate', 'illness', 'APG5690_Advanced', 'explained', 'weaknesses', 'photograph', 'distributed', 'Criminology', 'HACCP', 'higher', 'writings', 'examples', 'statistical', 'structured', 'orally', 'rational', 'Construct', '19th', 'concentrating', 'sessions', 'painting', 'policies', 'excavations', 'prospect', 'dynamics', 'buildings', 'Analyse', 'impacting', 'workshops', 'invoices', 'analysing', 'practitioners', 'considers', 'exchangers', 'require', 'emulation', 'recovery-oriented', 'achieve', 'substantial', 'computer', 'recommendations', 'increased', 'concerns', 'experimentation', 'specificity', 'ageing', 'mine-to_mill', 'birthplace', 'vocabulary', 'discursive', 'competitive', 'Planning', 'Sensors', 'data-link', 'characterisation', 'guided', 'children', 'craft', 'resolution', 'parties', 'contacts', 'differentiation', 'deficits', 'Competently', 'boundary', 'perpetrator', 'undertaking', 'theme', 'participant', 'opportunties', 'Korean', 'persuasively', 'preservation', 'end', 'devise', 'operationalise', 'prevention', 'pole-placement', \"Germany's_reunification\", 'delivery', 'internationally', 'flow', 'pivotal', 'principle', 'governing', 'emergence', 'applying', 'choice', 'societal', 'satisfy', 'immunofluorescence_fluorescence', 'propelled', 'evolving', 'analogue', 'astrophysics', 'judicial', 'real-world', 'generated', 'faced', 'extremist', 'limitation', 'argument', 'aerospace', 'enabling', 'mission', 'newsgathering', 'side', 'articulating', 'placing', 'contributions', 'submit', 'firms', 'classic', 'PID', 'inform', 'designers', 'violence', 'responsibly', 'matters', 'preferences', 'Cold', 'Computer_Aided', 'diffusers', 'prioritising', 'project-based', 'ratios', 'spine', 'drag', 'bodies', 'lived', 'pathology', 'socio-cultural', 'Cartesian', 'Sociology', 'peripheral', 'object', 'Manufacturing', 'pharmacokinetic', 'audio', 'facilitate', 'deeper', 'comprises', 'memory', 'blasting', 'drug', 'optimisation', 'scenario', 'academics_magazine', 'multi-skilled', 'ensure', 'exercise', 'refers', 'philosophies', 'limitations', 'Agency_AHPRA', 'criticism', 'abiotic', 'onset', 'estimation', 'hormones', 'annual', 'Adobe_suite', 'span', 'requires', 'pop', 'inter-agency', 'generation', 'unrest', 'damage', 'Bachelor', 'witch-purging', 'placements', 'aesthetics', 'realm', 'northeast', 'multinational', 'humanism', 'funding', 'possibility', 'loss_remedies', 'Achieve', 'Film', 'emerged', 'HAZOP', 'isolation', 'court', 'sites', 'verbal', 'planners', 'spinal', 'software', 'brain', 'bibliographic', 'arise', 'newspapers', 'investigate', 'bills', 'empirically', 'recently', 'efficiently', 'story-telling', 'controlling', 'operating', 'Skills', 'citizenship', 'automatic', 'infrastructure', 'scientifically', 'workflow', 'element', 'politically-loaded_visions', 'taught', 'factual', 'conversion', 'western', 'MASB', 'dimensional', 'belief', 'utilize', 'idea', 'availability', 'commissions', 'referred', 'approximations', 'inside', 'ATS2297_ATS3297', 'neural', 'encounter_unmediated', 'eyewitness_testimony', 'pottery', 'NGO', 'Sustain', 'budget', 'portfolio', 'histological', 'customer', 'interprofessional', 'aged', 'Research', 'pitching', 'enrolled', 'summative', 'tourism', 'Maintain_records', 'drivers', 'jets', 'paid', 'arbitraging', 'screenings', 'accounts', 'life-long', 'receiving', 'citizens', 'emphasising', 'Establish', '150', 'cell', 'direct', 'applied', 'banking', 'problem-solving', 'notion', 'influencing', 'ill-health', 'dimensioned', 'commercialisation', 'evidence', 'analyzed', 'informs', 'shear', 'anthropology', 'Experiment', 'sciences', 'dominate', 'varieties', 'controversies', \"community's\", 'components', 'centuries', 'Interaction', 'Validate', 'boundary-layer', 'algebra', 'volume', 'thought', 'compose', 'demonstrated', 'Specialised', 'atypical', 'ensuring', 'hypothesis', 'Islamic', 'microorganism', 'profiles', 'post-colonial', 'fabricate', 'utilised', 'Prato', 'habit', 'detail', 'microscopy', 'producing', 'open-ended', 'determinant', 'alcohol', 'kinship', 'transaction', 'providing', 'intermediate', 'mock', 'television', 'coordinating', 'discusses', 'bulletins', 'authors', 'intra-team', 'passing', 'selling', 'candidates', 'statute', 'Select', 'financial', 'upshots', 'landscape', 'non-legal', 'childhood', 'upper', 'Practices', 'master', 'makers_regulators', 'climate', 'scaled', 'discretization', 'hands', 'inverse', 'parallelism', 'post-production', 'specialisations', 'thing', 'lending', 'multiculturalism', 'high-lift', 'depending', 'self-practice', 'enforcement', 'computational', 'obtaining', 'communicating', 'complements', 'category', 'therapy', 'conditioning', 'PhD', 'organs', 'lender', 'proposed', 'Fluid', 'memoir', 'occupation', 'ISO', 'aeromedical', 'radiative', 'ecology', 'positions', 'seminars', 'keepers', 'hormone', 'cognate', 'hazards', 'individually', 'playing', 'desired', 'comparison', 'extends', 'linkage', 'III', 'carer', 'co-evolution', 'diagnoses', 'Contribute', 'Determine', 'personnel', 'foundations', 'follow', 'acting', 'foodborne', 'aim', 'debating', 'life-span', 'reproductive', 'studying', 'neuroanatomical', 'financing', 'purposes', 'immune', 'secularism', \"professional's\", 'long-term', 'Prepare', 'CFD', 'spreads', 'Critique', 'commercial', 'Canada', 'covers', 'project-orientated', 'promotion', 'Forms', 'tissue', 'expository', 'Clinical', 'programming', 'responsiveness', 'dimension', 'constructive', 'sensor', 'goals', 'synchronicity', 'games', 'tract', 'partial', 'architecture', 'wellness', 'independently', 'downstream', 'sustain', 'successful', 'registered', 'signs', 'proposition', \"Women's\", 'rehabilitative', 'mechanism', 'awards', 'Integrate', 'built', 'China', 'assemblages', 'CAD', 'indigenous', 'arguments', 'Country', 'midwifery', 'non-occupational', 'terminology', 'religiosity', 'expert_witness', 'exercises', 'post-structuralist_feminist', 'evaluations', 'bases', 'integrative', 'responsive', 'non-specialist', 'strength', 'potential', 'researching', 'tutorials', 'imputation', 'Arrange', 'parameters', \"candidate's\", 'earthquake', 'link', 'takes', 'positive', 'anxious', 'developments', 'advances', 'prior', 'Estimate', 'transports', 'surgery', 'practicing', 'religious', 'expressing', 'thermodynamics', 'pathological', 'Civil_Engineering', 'consumer', 'bridges', 'experiments', 'equipment', 'transport', \"midwife's\", 'question', 'airfoil', 'Central_Bank', 'aerosols', 'globalising', 'learner', 'reduce_resourcing', 'multimedia', 'synthesising', 'France', 'tests', 'APG5095', 'complexity', 'substantive', 'aerodynamic', 'equally', 'contract', 'nozzle', 'Master', 'visual', 'struggles', 'collective', 'markets', 'bearing', 'answers_translations', 'embedded', 'globalisation', 'submitting', 'module', 'provision', 'broader', 'contributes', 'archaeology', 'collaboratively', 'ALOHA', 'previous_VPR', '2000', 'setting', 'Indigeneity', 'weeks', 'autonomy', 'candidate', 'specialist', 'video', 'largely_self-directed', 'economics', 'helps', 'nutrient_cycling', 'protection', 'Nutrition', 'droughts_earthquakes', 'rest', 'conceptually', 'attitudes', 'lasting', 'chemical', 'practicum', 'self-management', 'implementation', 'Screen', 'mundane', 'principal', 'mapping', 'plausible', 'oncology', 'DPsych', 'discounted', 'responsibility', 'writers', 'compute', 'confront', 'architectures', 'conjunction', 'surrounding', '1200-1400', 'competing', 'transonic', 'linked', 'post-structural', 'departments', 'surviving', 'survey', 'earlier', '20th', 'non-disclosure', 'meteorology', 'conflict', 'paper', 'non-human', 'skilfully', 'aptitudes', 'disability', 'NATO_EEC', 'submission', 'Compare', 'authenticity', 'manufacturing', 'OSCE', 'competencies', 'delivering', 'database', 'phenomena', 'position', '1980s', 'auditing', 'scattering_absorption', 'projected', 'Australasian', 'inherent', 'hard', 'murder_pyromania', 'forward', 'distinctive', 'certainty', 'situate', 'Ethics_deliberate', 'cycle', 'differences', 'asks', 'literatures', 'grows', 'progress', 'greater', 'broadly', 'Conference', 'thesis', 'placement', 'labelled', 'parts', 'statutory', 'biologists', 'wakes', 'single-output', 'healthcare', 'strengths', 'antibiotics', 'convincing', 'shells', 'Australia', 'education', 'arbiters', 'centre', 'sensitivity', 'recognising', 'observing', 'geographical', 'processing', 'ownership', 'Accounting', 'marketing', 'foreignness', 'abilities', 'antigen', 'graphical', 'cytometry_enzyme', 'steps', 'definitions', 'species', 'levels', 'fail', 'post-genocide', 'Studies', 'collectively', 'necessity', 'parallel', 'Use', 'diseases', 'Dietetic', 'hurdles', 'diagnostic', 'excursion', 'deliver', 'food', 'Acquire', 'informed', 'complement', 'focused', 'socket', 'contrast', 'late', 'floods_hurricanes', 'causation', 'Thesis', 'insurable', 'succession', 'reflexivity', 'duty', 'Argue', 'pathways', 'de-colonisation', 'styles', 'direction', 'comprehension', 'state-centered', 'products', 'discovered', 'Management_CRM', 'bloggers', 'Synthesise', 'acute', 'genomics', 'Interact', 'cognitive', 'distance', 'microbial', 'train', 'death', 'maintaining', 'reflects', 'hands-on', 'Australia-Pacific', 'resurgence', 'Part', 'sampling', 'evenly_split', \"agency's\", 'capitalist', 'audience', 'define', 'antidote', 'green', 'self-assessment', 'Standards', 'subjects', 'literary', 'confidence', 'accuracy', 'three-view', 'innovation', 'valid', 'modernity', 'integrates', '2011', 'entry', 'static', 'Codes', 'Data', 'microbiological', 'manual', 'Second', 'men', 'unions', 'dysfunctions', 'medieval_theological', 'cancer', 'legislations', 'protest', 'Renaissance', 'behavioural', 'actions', 'quasi-1D_approximation', 'land', 'societies', 'supports', 'nutritive', 'topical', 'budgeting', 'mechanics', 'additional', 'english', 'express', 'holistic', 'legislatures_enact', 'trade', 'Kantian', 'nuance', 'trajectories', 'MAE5410Not', 'harvest', 'fellow_trainees', 'female', 'sale', 'Summarise', 'propositions', 'spoken', 'altered', 'maintain', 'therapist', 'gathering', 'Korea', 'interrogation', 'assistive', 'product', 'Observe', 'responding', 'lift', 'forum', 'respective', 'settlements', 'complementary', 'regulated', 'procedures', 'description', 'random', 'publicity', 'truth', 'HRM', 'numerous', 'generic', 'Architecture', 'journalists', 'journal', 'socio-historical', 'How', 'stone', 'commence', 'prevalent_ethos', 'purified', 'professionals', 'stage', 'cognition', 'economy', 'religion', 'Gothic', 'wellbeing', 'three-dimensional', 'targeted', 'Theme', 'marginalised', 'institutionalized_patriarchy', 'fermentation', 'scenarios', 'appearances', 'Integrated_Marketing', 'situational', 'Ability', 'logical', 'non-fiction', 'Gain', 'controls', 'reliable', 'laws', 'doctors', 'programs', 'vivid', 'touch', 'soft', 'nonlinear', 'elementary', 'chromosomes', 'progression', 'Conduct', 'maximum', 'diverse', 'roles', 'begin', 'offer', 'facilitation', 'quickly', 'toxic', 'maintained', 'landslides_tsunamis', 'conditions', 'Outline', 'urinary', 'conducted', 'apparent', 'reproducing', 'ideally', 'semester', 'curriculum', 'exchanges', 'multidisciplinary', 'disadvantage', 'completing', 'acquire', 'allocating', 'articles', 'collections', 'high', 'viewpoint', 'explosives', 'growth', 'proof', 'succinctly', 'pollution', 'punitive', 'distinguishing', 'comment', 'proliferation', 'aware', 'advisers', 'value-changing', 'researchers', 'pharmacological', 'philosopher_Rene', 'Situate', 'powers', 'tradition', 'undertaken', 'misrepresentation', 'detailed', 'universal', 'essay-writing', 'post-modern', 'grasp', 'accordance', 'art', 'Financial', 'injustices', 'chemistry', 'constituents', 'Malaysian', 'representation', 'general', 'improving', 'discourse', 'caps', 'qualitative', 'role-plays', 'presence', 'haematological', 'picture', 'socioeconomic', 'Arab-Israeli', 'synthesizing', 'Torres_Strait', 'piece', 'outcome', 'editorial', 'african', 'advise', 'strong', 'speaking', 'accessible', 'writer', 'x-ray', 'clinically', 'managed', 'engagement', 'engines', 'weakened', 'popularity', 'journeys', 'premise', 'root-locus', 'globally', 'protocol_Interpret', 'interviews', 'English', 'managerial', 'anatomy', 'compressibility', 'interpreting', 'worker', 'europe', 'technicality', 'interactivity', 'rising', 'self-reflection', 'offenders', 'Index_GBI', 'complexities', 'cooperatively', 'lighting', 'lives', 'utilise', 'incompressible', 'publish', 'underpin', 'regulatory', 'institutional', 'Manage', 'scholarship', 'attachment', 'elaborates', 'divine', 'exploration', 'Collaborative', 'intersection', 'gastrointestinal', 'imaging', 'preliminary', 'protectors', 'Contextualise', 'recognize', 'pollutants', 'immunosorbent_assay', 'Cth', 'occupations', 'construction', 'Illness', 'address', 'Medicine', 'exchanger', 'metastatic', 'monoclonal', 'Exhibit', 'well-established', 'motivate', 'dreaming', 'refugees', 'programme', 'nurses', 'taking', 'consequence', 'internship', 'share', 'topic', 'commerce', 'Fine', 'purpose-built_newsroom', 'socio-economic', 'selected', 'WWC', 'abnormal', 'disciplinary', 'estimates', 'places', 'animate', 'poetic', 'ongoing', 'novels', 'volatile', 'notions', 'great', 'aspiring', 'APG5849_Graduate', 'inter_alia', 'inferential', 'lateral', 'highly', 'GHG', 'job', 'War', 'habitat', 'Organisation', 'generative', 'combustion', 'genetics', 'Capacity', 'engineers', 'external', 'unintended', 'correctly', 'unorthodox', 'setters', 'poverty', 'resilient', 'targets', 'Size', 'extensive', 'mining', 'vulnerability', 'nationalism', 'supporting', 'East', 'MPI', 'minimum', 'analytic', 'capability', 'spread', 'skin', 'BNM', 'condition', 'regimes', 'pathophysiology', 'event', 'understood', 'heat', 'grammatically', 'energy', 'fraud', 'to-be', 'long_aspired', 'hypothetical', 'reasoned', 'period', 'plans', 'preoccupations', 'testing', 'metaphysical', 'relates', 'translating', 'complete', 'insights', 'electrophoresis', 'news', 'deductive', 'flight', 'exposition', 'elaboration', 'component', 'manages', 'exposure', 'resource', 'leaders', 'creation', 'carbon', 'examined', 'behavior', 'pertinent', 'subjectivity', 'guidelines', 'close', 'robust', 'nominated', 'discoveries', 'articulate', 'negotiate', 'time-series', 'WEU', 'discontinuities', 'datasets', 'simulation', 'reader', 'estimate', 'services', 'location-based', 'essay', 'clear', 'leadership', 'responsible', 'economies', 'queueing', 'breakage', 'champion', 'encounters', 'context-aware', 'spectacle', 'publicly_listed', 'debt', 'web', 'ideological', 'regional', 'non-discrimination', 'psycholinguistics_neurolinguistics', 'commencement', 'advance', 'coherently_argued', 'site', 'register', 'completed', 'modelling', 'torture', 'scholars', 'involves', 'welfare', 'devices', 'aimed', 'sustained', 'players_privacy', 'labelling', 'sparked', 'essential', 'histories', 'cervical', 'sectors', 'lower', 'effort', 'Practitioner_Registration', 'victimisation', 'ethnic', 'fact', 'flows', 'rotary', 'wishes', 'productions', 'packages', 'output', 'methodological', 'documents', 'operational_KPIs', 'live', 'paediatric', 'kind', 'phonological', 'geometrical', 'intensive', 'legacies', 'vary', 'medium', 'equipped', 'difficulties', 'administration', 'breakdown', 'demographic', 'state', 'perform', 'publication', 'points', 'asset', 'Obtain', 'accounting', 'batch', 'consolidate', 'interventions', 'organized', 'intricacy', 'customised', 'answering', 'argument-formulating', 'year', 'rise', 'brokers', 'objectives', 'sociolinguistic', 'error', 'number', 'biodiversity', 'tunnels', 'point', 'Present', 'preference', 'malignancies', 'Direction', 'propose', 'probiotics', 'fields', 'econometric', 'First_Philosophy', 'connection', 'MKC1200', 'Characterise', 'addressed', 'affairs', 'drawings', 'genotype', 'observe', 'protections_termination', 'productivity', 'minimize', 'women', 'elites', 'graduates', 'Relations', 'capacities', 'successfully', 'Leadership', 'preparation', 'investigation', 'sound', 'produces', 'internet', 'identities', 'chronic', 'avenues', 'minutes', 'critera', 'multi-disciplinary', 'Hinduism', 'resilience', 'input', 'large', 'message', 'maker', 'atmospheric', 'intent', 'multilateral', 'Englishes', 'member', 'backgrounds', 'addition', 'rocket', 'employ', 'clarity', 'undergoing', 'analysed', 'NUR2225_NUR2226', 'sociologists', \"site's\", 'tribunals', 'Malaysia', 'small', 'South', 'networks', 'narratives', 'trial', 'single', 'view', 'non-Western', 'dependence', 'politically', 'criminal', 'pre-colonial', 'drawing', 'longitudinal', 'Department', 'transmission', 'ontological', 'show', 'memorable', 'reception', 'embeddings', 'Infuse_daily', 'biochemistry', 'animation', 'enter', 'personality_motivation', 'spaces', 'prepare', 'equivalent', 'understandings', 'chemotherapy', 'tendencies', 'voluntary', 'employment', 'specialized', 'Indonesia', 'paths', 'packet-switching', 'pitch', 'active_stakeholder', 'purposefully', 'participants', 'critiques', 'real-life', 'advertising', 'computerised', 'employed', 'enabled', 'interaction', 'Visual', 'storage', 'Africa', 'record', 'Registered_Nurse', 'student-written', 'solve', 'property', 'intended', 'assigned', 'legislative', 'published', 'FBT', 'discussions', 'similarities', 'intending', 'sectional', 'facts', 'approved', 'formulating', 'rely', 'Green_Building', 'sized', 'keen', 'intercultural', 'merits', 'makes', 'choices', 'anatomical', 'body', 'collection', 'strengthen', 'facing', 'medical', 'similarly', 'domestic', 'spectra', 'feedback', 'wall', 'delivered', 'coherent', 'well-designed', 'sight', 'population', 'accountabilities', 'Formulate', 'low-emissions', 'characters', 'account', 'comprehending', 'Age', 'urbanism', 'researcher', 'taxes', 'post-modernity', 'protocols', 'blended', 'postgraduate', 'WAN', 'means', 'bedside', 'sits', 'display', 'initial', 'tensor', 'Foundations', 'negotiated', 'client', 'regulating', 'computing', 'synopsis', 'genes', 'emphasizes', 'arrange', 'polyclonal_antisera', 'freedom', '1910-1945_supplemented', 'dealing', 'selection', 'differently', 'LAN', 'section', 'portion', 'twentieth-century', 'wishing', 'mise', 'profile', 'malignant', 'constructed', 'friction', 'insight', 'postmodern', 'voices', 'shipping', 'extending', 'identifies', 'documented', 'hardware', 'sociocultural', 'foreign', 'Comprehend', 'interplay', 'proposals', 'conventional', 'situates', 'responses', 'clients', 'reading', 'Health', 'attaining', 'accompanying', 'confidently', 'communications', 'oriented', 'Studio', 'classification', 'Modern', 'kinetic', 'company', 'Reflect', 'resistance', 'instruments', 'Classical', 'reports', 'fandom', 'profession', 'therapies', 'overview', 'AAOIFI', 'seventeenth-century', 'centres', 'modalities', 'engrain', 'bear', 'performed', 'controller', 'competence', 'Direct', 'managing', 'resolutions', 'Collect', 'guardianship', 'validity', 'interviewing', 'regular', 'options', 'accountability', 'figure', 'adolescent', 'instability', 'genres', 'dividend', 'pollutant_concentrations', 'phenotype', 'lecture_inputs', 'surfaces', 'translates', 'reflections', 'optimise', 'neuropsychology', 'agenda', 'Act_1984', 'psychology', 'approaching', 'vibration', 'action', 'assumptions', 'libretto', 'foundation', 'Can', 'Early', 'give', 'efforts', 'light', 'limited', 'Italy', 'Auditing_Organization', 'strategy', 'artificial', 'goal_alignment', 'criminology', 'ascertaining', 'ELISA', 'deepened', 'refine', 'accurate', 'Insurance_Contracts', 'contending', 'article', 'continuous', 'defines', 'determination', 'Project', 'contextualise', 'evaluated', 'cities', 'eco-spirituality', 'final', 'themes', 'relate', 'objects', 'musculoskeletal', 'analyses', 'Libya', 'alarming_transformation', 'facilitating', 'marine', 'prototypes', 'overseas', 'books', 'investigating', 'events', 'entities', 'explaining_troubles', 'Accurately', 'implemented', 'Science', 'honours', 'satisfying', 'Unit', 'readers', 'held_accountable', 'diagram', 'assignment', 'youth', 'Therapy', 'monitoring', 'discourses', 'sculpture', 'Communication', 'traditionally', 'APG5096', 'encourages', 'Virtual', 'consideration', 'illicit', 'activity', 'offending', 'command', 'Honours', 'thesis-mode', 'harbour_inefficiencies', 'Rwanda_Cambodia', 'credibility', '2012_despite', 'familiarity', 'analytics', 'era', 'Medical', 'reads', 'dimensions', 'brand', 'reparations', 'applies', 'effect', 'return', 'scope', 'Predict', 'rebuild', 'Pacific', 'designing', 'protect', 'ocular', 'therapeutics', 'sport', 'aspirations', 'non-technical', 'place', 'student', 'grid', 'promote', 'minimal_supervisory', 'kanji', 'line', 'edit', 'Politics', 'French', 'enhancing', 'competently', 'meaning', 'energy-related', 'powerful', 'access', 'regions', \"one's\", 'practicals', 'emphasised', 'colonial', 'Christian', 'expanded', 'What', 'exhibit', 'improved', 'Effectively', 'concept', 'exposes', 'relativity', 'expands', 'proteins', 'stress', 'size', 'neurophysiological', 'depth', 'Theatre', 'cancers', 'provisions', 'start', 'manner', 'self-learning', 'price', 'specialty', 'raised', 'decision-making', 'subsequent', 'hypotheses', 'foundational', 'camera', 'Urban', 'philosophy', 'abused', 'early', 'Iraq', 'system-centric', 'made', 'exciting', 'characteristic', 'arthritic', 'knowledgeable', 'midwives', 'Romantic', 'introducing', 'completion', 'vibrations', 'underlie', 'Performance', 'service', 'equal', 'classes', 'maintenance', 'mentally_disordered', 'anthropological', 'chromosomal', 'pharmacokinetics_adverse', 'wound', 'emotional', 'functional', 'survive', 'Literature', 'conversations', 'practise', 'disasters', 'designs', 'claims', 'grammatical', 'registration', 'guidance', 'conceived', 'directions', 'adolescents', 'build', 'Quantitatively', 'biology', 'schemes', 'determinants', 'permitted', 'air', 'demonstrates', 'authorship', 'gas', 'periods', 'pose', 'organisational', 'capable', 'bottom', 'income', 'decisions', 'liberalisation', 'sets', 'ethnographic', 'Multimedia', 'multithreading', 'integrate', 'deals', 'embedding', 'lectures', 'making', 'imperfections', 'specialisation', 'abstract', 'subfields', 'focusing', 'former_Yugoslavia', 'camerawork_editing', 'genocide', 'films', 'inquiry', 'post', 'exerted', 'responsibilities']\n"
     ]
    }
   ],
   "source": [
    "print(\"5% threshold words: \", thresh_5_words)"
   ]
  },
  {
   "cell_type": "markdown",
   "metadata": {},
   "source": [
    "We see that there are a lot of words that have occured rarely and hence we remove them using the below code."
   ]
  },
  {
   "cell_type": "code",
   "execution_count": 34,
   "metadata": {},
   "outputs": [],
   "source": [
    "for unit_id,text in units_raw.items():\n",
    "    units_raw[unit_id] = [w for w in units_raw[unit_id] if w not in thresh_5_words]"
   ]
  },
  {
   "cell_type": "markdown",
   "metadata": {},
   "source": [
    "Lets have a look at the stats again in more detail this time."
   ]
  },
  {
   "cell_type": "code",
   "execution_count": 35,
   "metadata": {},
   "outputs": [
    {
     "name": "stdout",
     "output_type": "stream",
     "text": [
      "Vocabulary size:  277\n",
      "Total number of tokens:  9029\n",
      "Lexical diversity:  7.561695153359869\n",
      "Total number of articles: 194\n",
      "Average document length: 46.54123711340206\n",
      "Maximun document length: 122\n",
      "Minimun document length: 0\n",
      "Standard deviation of document length: 19.09177105930434\n"
     ]
    }
   ],
   "source": [
    "words = list(chain.from_iterable(units_raw.values()))\n",
    "vocab = set(words)\n",
    "print (\"Vocabulary size: \",len(vocab))\n",
    "print (\"Total number of tokens: \", len(words))\n",
    "print (\"Lexical diversity: \", lexical_diversity)\n",
    "print (\"Total number of articles:\", len(units_raw))\n",
    "lens = [len(value) for value in units_raw.values()]\n",
    "print (\"Average document length:\", np.mean(lens))\n",
    "print (\"Maximun document length:\", np.max(lens))\n",
    "print (\"Minimun document length:\", np.min(lens))\n",
    "print (\"Standard deviation of document length:\", np.std(lens))"
   ]
  },
  {
   "cell_type": "markdown",
   "metadata": {},
   "source": [
    "Key point to notice is the reduction in our vocab after removing the rare tokens. "
   ]
  },
  {
   "cell_type": "markdown",
   "metadata": {},
   "source": [
    "## 10. Stemming\n",
    "\n",
    "Now, a lot of words occur from the same origin, for eg. meets, meeting etc but they come from the same origin word 'meet'. So to convert these words, we use a Porter Stemmer provided by nltk.\n",
    "\n",
    "We Stem the words and store them in dictionary but we dont stem the bigrams that were included. "
   ]
  },
  {
   "cell_type": "code",
   "execution_count": 36,
   "metadata": {},
   "outputs": [],
   "source": [
    "stemmer = PorterStemmer()\n",
    "for unit_id,text in units_raw.items():\n",
    "    units_raw[unit_id] = [stemmer.stem(w) if '_' not in w else w for w in units_raw[unit_id]]"
   ]
  },
  {
   "cell_type": "markdown",
   "metadata": {},
   "source": [
    "Below are the stats that we have after stemming."
   ]
  },
  {
   "cell_type": "code",
   "execution_count": 37,
   "metadata": {},
   "outputs": [
    {
     "name": "stdout",
     "output_type": "stream",
     "text": [
      "Vocabulary size:  218 \n",
      "Total number of tokens:  9029 \n",
      "Lexical diversity:  41.41743119266055\n"
     ]
    }
   ],
   "source": [
    "words_1 = list(chain.from_iterable(units_raw.values()))\n",
    "vocab_1 = set(words_1)\n",
    "lexical_diversity_1 = len(words_1)/len(vocab_1)\n",
    "print (\"Vocabulary size: \",len(vocab_1),\"\\nTotal number of tokens: \", len(words_1), \\\n",
    "\"\\nLexical diversity: \", lexical_diversity_1)"
   ]
  },
  {
   "cell_type": "markdown",
   "metadata": {},
   "source": [
    "## 11. Write to Output files\n",
    "\n",
    "Now, we finally write to the output files as specified in the specification."
   ]
  },
  {
   "cell_type": "code",
   "execution_count": 38,
   "metadata": {},
   "outputs": [],
   "source": [
    "words = list(chain.from_iterable(units_raw.values()))\n",
    "vocab = list(sorted(set(words)))\n",
    "vocab_dict = {}\n",
    "\n",
    "i = 0\n",
    "for w in vocab:\n",
    "    vocab_dict[w] = i\n",
    "    i = i + 1\n",
    "with open(\"29620163_vocab.txt\", 'w') as outfile:\n",
    "    for k,v in vocab_dict.items():\n",
    "        outfile.write(\"{}:{}\\n\".format(k,v))\n",
    "\n",
    "with open(\"29620163_countVec.txt\", 'w') as out_file:\n",
    "    for u,d in units_raw.items():\n",
    "        out = \"\"\n",
    "        out += u + \",\"\n",
    "        d_idx = [vocab_dict[w] for w in d]\n",
    "        for k, v in FreqDist(d_idx).items():\n",
    "            out += str(k) + \":\" + str(v) + \",\"\n",
    "        out = out[:-1]\n",
    "        out += \"\\n\"\n",
    "        out_file.write(out)"
   ]
  },
  {
   "cell_type": "markdown",
   "metadata": {},
   "source": [
    "## 12. Summary\n",
    "\n",
    "The output files are generated as specified in the requirement. There are few things that can be improved is the extraction of bigrams specially and extract more relavant bigrams based on applying the frequency filter. In that case they wouldn't have been removed as rare tokens. Other explaination have been provided in the sections above as and when necessary. "
   ]
  },
  {
   "cell_type": "markdown",
   "metadata": {},
   "source": [
    "## 13. References\n",
    "\n",
    "* Monash Moodle for FIT5196 https://lms.monash.edu/course/view.php?id=50799\n",
    "* Website to verify Regular Expressions https://regex101.com/\n",
    "* How to count the frequency of the elements in a list? https://stackoverflow.com/questions/2161752/how-to-count-the-frequency-of-the-elements-in-a-list/2162045"
   ]
  },
  {
   "cell_type": "code",
   "execution_count": null,
   "metadata": {},
   "outputs": [],
   "source": []
  }
 ],
 "metadata": {
  "kernelspec": {
   "display_name": "Python 3",
   "language": "python",
   "name": "python3"
  },
  "language_info": {
   "codemirror_mode": {
    "name": "ipython",
    "version": 3
   },
   "file_extension": ".py",
   "mimetype": "text/x-python",
   "name": "python",
   "nbconvert_exporter": "python",
   "pygments_lexer": "ipython3",
   "version": "3.7.4"
  }
 },
 "nbformat": 4,
 "nbformat_minor": 2
}
