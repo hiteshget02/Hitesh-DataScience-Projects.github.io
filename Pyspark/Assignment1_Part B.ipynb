{
 "cells": [
  {
   "cell_type": "markdown",
   "metadata": {},
   "source": [
    "# Assignment1 PART B : FIT5202\n",
    "### Submitted by : Hitesh Get\n",
    "### Student ID : 29637333"
   ]
  },
  {
   "cell_type": "markdown",
   "metadata": {},
   "source": [
    "### Step 01: Import pyspark and initialize Spark"
   ]
  },
  {
   "cell_type": "code",
   "execution_count": 1,
   "metadata": {},
   "outputs": [],
   "source": [
    "#import libraries\n",
    "import numpy as np\n",
    "import matplotlib.pyplot as plt\n",
    "import pandas as pd"
   ]
  },
  {
   "cell_type": "code",
   "execution_count": 2,
   "metadata": {},
   "outputs": [],
   "source": [
    "import os\n",
    "os.environ['PYSPARK_SUBMIT_ARGS'] = '--packages org.mongodb.spark:mongo-spark-connector_2.11:2.4.0 pyspark-shell'\n",
    "# create entry points to spark\n",
    "from pyspark import SparkContext # Spark\n",
    "from pyspark.sql import SparkSession # Spark SQL\n",
    "\n",
    "# We add this line to avoid an error : \"Cannot run multiple SparkContexts at once\". \n",
    "# If there is an existing spark context, we will reuse it instead of creating a new context.\n",
    "sc = SparkContext.getOrCreate()\n",
    "\n",
    "# local[*]: run Spark locally with as many working processors as logical cores on your machine.\n",
    "# In the field of `master`, we use a local server with as many working processors (or threads) as possible (i.e. `local[*]`). \n",
    "# If we want Spark to run locally with 'k' worker threads, we can specify as `local[k]`.\n",
    "# The `appName` field is a name to be shown on the Sparking cluster UI. \n",
    "\n",
    "# If there is no existing spark context, we now create a new context\n",
    "if (sc is None):\n",
    "    sc = SparkContext(master=\"local[*]\")\n",
    "spark = SparkSession(sparkContext=sc)\\\n",
    "        .builder\\\n",
    "        .appName(\"MongoDB and Apache Spark Data Visualization\")\\\n",
    "        .config(\"spark.mongodb.input.uri\", \"mongodb://127.0.0.1/fit5202_db.assignment1_data\")\\\n",
    "        .config(\"spark.mongodb.output.uri\", \"mongodb://127.0.0.1/fit5202_db.assignment1_data\")\\\n",
    "        .getOrCreate()"
   ]
  },
  {
   "cell_type": "markdown",
   "metadata": {},
   "source": [
    "### Step 02: Create Dataframe"
   ]
  },
  {
   "cell_type": "code",
   "execution_count": 3,
   "metadata": {},
   "outputs": [],
   "source": [
    "# Reading the csv file\n",
    "crime_stats_df = spark.read.csv(\"Crime_Statistics_SA_2010_present.csv\",header = True, inferSchema = True)"
   ]
  },
  {
   "cell_type": "code",
   "execution_count": 4,
   "metadata": {},
   "outputs": [
    {
     "data": {
      "text/plain": [
       "727408"
      ]
     },
     "execution_count": 4,
     "metadata": {},
     "output_type": "execute_result"
    }
   ],
   "source": [
    "# Record count in the data frame\n",
    "crime_stats_df.count()"
   ]
  },
  {
   "cell_type": "markdown",
   "metadata": {},
   "source": [
    "### Step 03: Write to Database"
   ]
  },
  {
   "cell_type": "code",
   "execution_count": 5,
   "metadata": {},
   "outputs": [],
   "source": [
    "crime_stats_df = spark.read.csv(\"Crime_Statistics_SA_2010_present.csv\",header = True, inferSchema = True)\n",
    "crime_stats_df.write.format(\"com.mongodb.spark.sql.DefaultSource\").mode(\"overwrite\").save()"
   ]
  },
  {
   "cell_type": "markdown",
   "metadata": {},
   "source": [
    "### Step 04: Read from Database"
   ]
  },
  {
   "cell_type": "code",
   "execution_count": 6,
   "metadata": {},
   "outputs": [
    {
     "name": "stdout",
     "output_type": "stream",
     "text": [
      "+-------------+---------------------------+---------------------------+---------------------------+-------------------+-------------+-----------------+--------------------+\n",
      "|Offence Count|Offence Level 1 Description|Offence Level 2 Description|Offence Level 3 Description|Postcode - Incident|Reported Date|Suburb - Incident|                 _id|\n",
      "+-------------+---------------------------+---------------------------+---------------------------+-------------------+-------------+-----------------+--------------------+\n",
      "|            1|       OFFENCES AGAINST ...|       PROPERTY DAMAGE A...|       Other property da...|               5271|   13/07/2015|       NARACOORTE|[5d727a2a5bd48c0c...|\n",
      "|            1|       OFFENCES AGAINST ...|       PROPERTY DAMAGE A...|       Other property da...|               5032|   18/06/2014|         LOCKLEYS|[5d727a2a5bd48c0c...|\n",
      "|            1|       OFFENCES AGAINST ...|       THEFT AND RELATED...|                Other theft|               5032|   18/06/2014|         LOCKLEYS|[5d727a2a5bd48c0c...|\n",
      "|            1|       OFFENCES AGAINST ...|       SERIOUS CRIMINAL ...|            SCT - Residence|               5271|   13/07/2015|       NARACOORTE|[5d727a2a5bd48c0c...|\n",
      "|            1|       OFFENCES AGAINST ...|       PROPERTY DAMAGE A...|       Other property da...|               5160|   18/06/2014|         LONSDALE|[5d727a2a5bd48c0c...|\n",
      "|            1|       OFFENCES AGAINST ...|       ACTS INTENDED TO ...|             Common Assault|               5168|   13/07/2015| NOARLUNGA CENTRE|[5d727a2a5bd48c0c...|\n",
      "|            1|       OFFENCES AGAINST ...|       SERIOUS CRIMINAL ...|        SCT - Non Residence|               5072|   18/06/2014|           MAGILL|[5d727a2a5bd48c0c...|\n",
      "|            1|       OFFENCES AGAINST ...|       ROBBERY AND RELAT...|         Aggravated robbery|               5168|   13/07/2015| NOARLUNGA CENTRE|[5d727a2a5bd48c0c...|\n",
      "|            1|       OFFENCES AGAINST ...|       OTHER OFFENCES AG...|       Abduction, harass...|               5072|   18/06/2014|           MAGILL|[5d727a2a5bd48c0c...|\n",
      "|            1|       OFFENCES AGAINST ...|       THEFT AND RELATED...|                Other theft|               5006|   13/07/2015|   NORTH ADELAIDE|[5d727a2a5bd48c0c...|\n",
      "+-------------+---------------------------+---------------------------+---------------------------+-------------------+-------------+-----------------+--------------------+\n",
      "only showing top 10 rows\n",
      "\n"
     ]
    }
   ],
   "source": [
    "crime_mongodb_df = spark.read.format(\"com.mongodb.spark.sql.DefaultSource\").load()\n",
    "crime_mongodb_df.show(10)"
   ]
  },
  {
   "cell_type": "code",
   "execution_count": 7,
   "metadata": {},
   "outputs": [
    {
     "data": {
      "text/plain": [
       "['Offence Count',\n",
       " 'Offence Level 1 Description',\n",
       " 'Offence Level 2 Description',\n",
       " 'Offence Level 3 Description',\n",
       " 'Postcode - Incident',\n",
       " 'Reported Date',\n",
       " 'Suburb - Incident',\n",
       " '_id']"
      ]
     },
     "execution_count": 7,
     "metadata": {},
     "output_type": "execute_result"
    }
   ],
   "source": [
    "crime_mongodb_df.columns"
   ]
  },
  {
   "cell_type": "markdown",
   "metadata": {},
   "source": [
    "### Step 05: Calculate the statistics of numeric and string columns"
   ]
  },
  {
   "cell_type": "code",
   "execution_count": 8,
   "metadata": {},
   "outputs": [
    {
     "name": "stdout",
     "output_type": "stream",
     "text": [
      "+-------+------------------+\n",
      "|summary|     Offence Count|\n",
      "+-------+------------------+\n",
      "|  count|            727407|\n",
      "|   mean|1.1715174585892079|\n",
      "| stddev|0.5787050930378105|\n",
      "|    min|                 1|\n",
      "|    max|                28|\n",
      "+-------+------------------+\n",
      "\n"
     ]
    }
   ],
   "source": [
    "# Calculate the offence count statistics\n",
    "crime_mongodb_df.select('Offence Count').describe().show()"
   ]
  },
  {
   "cell_type": "code",
   "execution_count": 9,
   "metadata": {},
   "outputs": [
    {
     "name": "stdout",
     "output_type": "stream",
     "text": [
      "+-------+-------------+\n",
      "|summary|Reported Date|\n",
      "+-------+-------------+\n",
      "|  count|       727407|\n",
      "|   mean|         null|\n",
      "| stddev|         null|\n",
      "|    min|    1/01/2011|\n",
      "|    max|    9/12/2018|\n",
      "+-------+-------------+\n",
      "\n"
     ]
    }
   ],
   "source": [
    "# Calculate the reported date statistics\n",
    "crime_mongodb_df.select('Reported Date').describe().show()"
   ]
  },
  {
   "cell_type": "markdown",
   "metadata": {},
   "source": [
    "Here in the reported date we can see the minimum date is of 2011 but when we open the file and see the the min date if of year 2010.Also the maximum year calculated is 2018 but in the data file it is 2019 .this is because the the Reported date is string type instead of date type."
   ]
  },
  {
   "cell_type": "code",
   "execution_count": 10,
   "metadata": {},
   "outputs": [
    {
     "name": "stdout",
     "output_type": "stream",
     "text": [
      "root\n",
      " |-- Offence Count: integer (nullable = true)\n",
      " |-- Offence Level 1 Description: string (nullable = true)\n",
      " |-- Offence Level 2 Description: string (nullable = true)\n",
      " |-- Offence Level 3 Description: string (nullable = true)\n",
      " |-- Postcode - Incident: string (nullable = true)\n",
      " |-- Reported Date: string (nullable = true)\n",
      " |-- Suburb - Incident: string (nullable = true)\n",
      " |-- _id: struct (nullable = true)\n",
      " |    |-- oid: string (nullable = true)\n",
      "\n"
     ]
    }
   ],
   "source": [
    "crime_mongodb_df.printSchema()"
   ]
  },
  {
   "cell_type": "markdown",
   "metadata": {},
   "source": [
    "### Step 06: Change the data type of a column"
   ]
  },
  {
   "cell_type": "code",
   "execution_count": 11,
   "metadata": {},
   "outputs": [],
   "source": [
    "# import all the libraries\n",
    "from datetime import datetime\n",
    "from pyspark.sql.functions import col, udf\n",
    "from pyspark.sql.types import DateType\n",
    "from pyspark.sql.functions import *"
   ]
  },
  {
   "cell_type": "code",
   "execution_count": 12,
   "metadata": {},
   "outputs": [
    {
     "name": "stdout",
     "output_type": "stream",
     "text": [
      "root\n",
      " |-- Offence Count: integer (nullable = true)\n",
      " |-- Offence Level 1 Description: string (nullable = true)\n",
      " |-- Offence Level 2 Description: string (nullable = true)\n",
      " |-- Offence Level 3 Description: string (nullable = true)\n",
      " |-- Postcode - Incident: string (nullable = true)\n",
      " |-- Reported Date: date (nullable = true)\n",
      " |-- Suburb - Incident: string (nullable = true)\n",
      " |-- _id: struct (nullable = true)\n",
      " |    |-- oid: string (nullable = true)\n",
      "\n"
     ]
    }
   ],
   "source": [
    "# Change the reported date data type from string to date using udf\n",
    "change_to_date =  udf (lambda x: datetime.strptime(x, '%d/%m/%Y'), DateType())\n",
    "crime_mongodb_df_new = crime_mongodb_df.withColumn('Reported Date', change_to_date(col('Reported Date')))\n",
    "# Check the datatype of reported date\n",
    "crime_mongodb_df_new.printSchema()"
   ]
  },
  {
   "cell_type": "markdown",
   "metadata": {},
   "source": [
    "### Step 07: Preliminary data analysis"
   ]
  },
  {
   "cell_type": "markdown",
   "metadata": {},
   "source": [
    "#### A.How many level 2 offences are there? Display the list of level 2 offences"
   ]
  },
  {
   "cell_type": "code",
   "execution_count": 13,
   "metadata": {},
   "outputs": [
    {
     "data": {
      "text/plain": [
       "9"
      ]
     },
     "execution_count": 13,
     "metadata": {},
     "output_type": "execute_result"
    }
   ],
   "source": [
    "# Removing the null values and counting offences\n",
    "crime_mongodb_df_new.select('Offence Level 2 Description')\\\n",
    ".where(col(\"Offence Level 2 Description\").isNotNull()).distinct().count()"
   ]
  },
  {
   "cell_type": "code",
   "execution_count": 14,
   "metadata": {},
   "outputs": [
    {
     "name": "stdout",
     "output_type": "stream",
     "text": [
      "+---------------------------+\n",
      "|Offence Level 2 Description|\n",
      "+---------------------------+\n",
      "|       ROBBERY AND RELAT...|\n",
      "|       PROPERTY DAMAGE A...|\n",
      "|       SEXUAL ASSAULT AN...|\n",
      "|       HOMICIDE AND RELA...|\n",
      "|       ACTS INTENDED TO ...|\n",
      "|       SERIOUS CRIMINAL ...|\n",
      "|       OTHER OFFENCES AG...|\n",
      "|       FRAUD DECEPTION A...|\n",
      "|       THEFT AND RELATED...|\n",
      "+---------------------------+\n",
      "\n"
     ]
    }
   ],
   "source": [
    "# Displaying the list of level 2 offences\n",
    "crime_mongodb_df_new.select('Offence Level 2 Description')\\\n",
    ".where(col(\"Offence Level 2 Description\").isNotNull()).distinct().show()"
   ]
  },
  {
   "cell_type": "markdown",
   "metadata": {},
   "source": [
    "#### B.What is the number of offences against the person?"
   ]
  },
  {
   "cell_type": "code",
   "execution_count": 15,
   "metadata": {},
   "outputs": [
    {
     "name": "stdout",
     "output_type": "stream",
     "text": [
      "+---------------------------+------------------+\n",
      "|Offence Level 1 Description|sum(Offence Count)|\n",
      "+---------------------------+------------------+\n",
      "|       OFFENCES AGAINST ...|            175644|\n",
      "+---------------------------+------------------+\n",
      "\n"
     ]
    }
   ],
   "source": [
    "crime_mongodb_df_new.filter(col(\"Offence Level 1 Description\") == 'OFFENCES AGAINST THE PERSON').\\\n",
    "groupby('Offence Level 1 Description').\\\n",
    "sum('Offence Count').show()"
   ]
  },
  {
   "cell_type": "markdown",
   "metadata": {},
   "source": [
    "#### Calculating total number of offence, offences_against_person and offences_against_property"
   ]
  },
  {
   "cell_type": "code",
   "execution_count": 16,
   "metadata": {},
   "outputs": [],
   "source": [
    "crimes_per_offence = crime_mongodb_df_new.groupby('Offence Level 1 Description').sum('Offence Count')"
   ]
  },
  {
   "cell_type": "code",
   "execution_count": 17,
   "metadata": {},
   "outputs": [],
   "source": [
    "offences_against_person = crime_mongodb_df_new.filter(col(\"Offence Level 1 Description\") == 'OFFENCES AGAINST THE PERSON')\\\n",
    ".groupby('Offence Level 1 Description').sum('Offence Count')\\\n",
    ".collect()[0][1]"
   ]
  },
  {
   "cell_type": "code",
   "execution_count": 18,
   "metadata": {},
   "outputs": [
    {
     "data": {
      "text/plain": [
       "175644"
      ]
     },
     "execution_count": 18,
     "metadata": {},
     "output_type": "execute_result"
    }
   ],
   "source": [
    "offences_against_person"
   ]
  },
  {
   "cell_type": "code",
   "execution_count": 19,
   "metadata": {},
   "outputs": [],
   "source": [
    "offences_against_property = crime_mongodb_df_new.filter(col(\"Offence Level 1 Description\") == 'OFFENCES AGAINST PROPERTY')\\\n",
    ".groupby('Offence Level 1 Description').sum('Offence Count')\\\n",
    ".collect()[0][1]"
   ]
  },
  {
   "cell_type": "code",
   "execution_count": 20,
   "metadata": {},
   "outputs": [
    {
     "data": {
      "text/plain": [
       "676526"
      ]
     },
     "execution_count": 20,
     "metadata": {},
     "output_type": "execute_result"
    }
   ],
   "source": [
    "offences_against_property"
   ]
  },
  {
   "cell_type": "code",
   "execution_count": 21,
   "metadata": {},
   "outputs": [
    {
     "data": {
      "text/plain": [
       "852170"
      ]
     },
     "execution_count": 21,
     "metadata": {},
     "output_type": "execute_result"
    }
   ],
   "source": [
    "total_offences = crimes_per_offence.agg({'sum(Offence Count)':\"sum\"}).collect()[0][0]\n",
    "total_offences"
   ]
  },
  {
   "cell_type": "markdown",
   "metadata": {},
   "source": [
    "#### C.How many serious criminal tresspasses with more than 1 offence count?"
   ]
  },
  {
   "cell_type": "code",
   "execution_count": 22,
   "metadata": {},
   "outputs": [
    {
     "data": {
      "text/plain": [
       "8579"
      ]
     },
     "execution_count": 22,
     "metadata": {},
     "output_type": "execute_result"
    }
   ],
   "source": [
    "crime_mongodb_df_new.filter(col(\"Offence Level 2 Description\") == 'SERIOUS CRIMINAL TRESPASS').\\\n",
    "filter(col(\"Offence Count\") > 1).select('Offence Level 2 Description').count()"
   ]
  },
  {
   "cell_type": "markdown",
   "metadata": {},
   "source": [
    "#### D.What percentage of crimes are offences against the property?"
   ]
  },
  {
   "cell_type": "code",
   "execution_count": 23,
   "metadata": {},
   "outputs": [
    {
     "data": {
      "text/plain": [
       "79.3886196416208"
      ]
     },
     "execution_count": 23,
     "metadata": {},
     "output_type": "execute_result"
    }
   ],
   "source": [
    "percentage_crime_against_property = (offences_against_property/total_offences)*100\n",
    "percentage_crime_against_property"
   ]
  },
  {
   "cell_type": "code",
   "execution_count": null,
   "metadata": {},
   "outputs": [],
   "source": []
  },
  {
   "cell_type": "code",
   "execution_count": 24,
   "metadata": {},
   "outputs": [
    {
     "name": "stdout",
     "output_type": "stream",
     "text": [
      "root\n",
      " |-- Offence Count: integer (nullable = true)\n",
      " |-- Offence Level 1 Description: string (nullable = true)\n",
      " |-- Offence Level 2 Description: string (nullable = true)\n",
      " |-- Offence Level 3 Description: string (nullable = true)\n",
      " |-- Postcode - Incident: string (nullable = true)\n",
      " |-- Reported Date: date (nullable = true)\n",
      " |-- Suburb - Incident: string (nullable = true)\n",
      " |-- _id: struct (nullable = true)\n",
      " |    |-- oid: string (nullable = true)\n",
      "\n"
     ]
    }
   ],
   "source": [
    "crime_mongodb_df_new.printSchema()"
   ]
  },
  {
   "cell_type": "markdown",
   "metadata": {},
   "source": [
    "### Step 08: Exploratory data analysis"
   ]
  },
  {
   "cell_type": "markdown",
   "metadata": {},
   "source": [
    "#### A. Number of Crimes Per Year"
   ]
  },
  {
   "cell_type": "code",
   "execution_count": 25,
   "metadata": {},
   "outputs": [],
   "source": [
    "# Create a dataframe consisting reported date and offence count\n",
    "df_reported_year = crime_mongodb_df.select('Reported Date','Offence Count')\n",
    "# Extracting year from the reported date\n",
    "df_reported_year = df_reported_year.withColumn('Reported_Year',year(to_timestamp('Reported Date', 'dd/MM/yyyy')))"
   ]
  },
  {
   "cell_type": "code",
   "execution_count": 26,
   "metadata": {},
   "outputs": [],
   "source": [
    "# Manipulating the dataframe\n",
    "df_reported_year = df_reported_year.groupby('Reported_Year').sum('Offence Count').orderBy('Reported_Year').dropna()\n",
    "df_reported_year_list = df_reported_year.collect()\n"
   ]
  },
  {
   "cell_type": "code",
   "execution_count": 27,
   "metadata": {},
   "outputs": [
    {
     "data": {
      "image/png": "[encoded data removed]",
      "text/plain": [
       "<Figure size 432x288 with 1 Axes>"
      ]
     },
     "metadata": {
      "needs_background": "light"
     },
     "output_type": "display_data"
    }
   ],
   "source": [
    "# Creating total offence variable for an year\n",
    "total_offence = [row['sum(Offence Count)'] for row in df_reported_year_list ]\n",
    "# Creating Offence reported year\n",
    "Reported_year = [row['Reported_Year'] for row in df_reported_year_list ] \n",
    "bar_width = 0.5\n",
    "# Creating the index\n",
    "index = np.arange(len(Reported_year))\n",
    "# Plotting the bar graph\n",
    "plt.bar(index, total_offence, bar_width, align='center')\n",
    "plt.xticks(index,Reported_year)\n",
    "plt.xlabel('Reported year')\n",
    "plt.ylabel('Total Number of offences')\n",
    "plt.title('Number of crimes per year')\n",
    "plt.tight_layout()\n",
    "plt.xticks( rotation=90,horizontalalignment='right',fontweight='light',fontsize='x-large')\n",
    "plt.show()"
   ]
  },
  {
   "cell_type": "markdown",
   "metadata": {},
   "source": [
    "Here as per the graph we can see that the rate of crime increased from 2010 and then gradually decreased reaching minimum in 2019."
   ]
  },
  {
   "cell_type": "markdown",
   "metadata": {},
   "source": [
    "#### B. Number of Crimes Per Month"
   ]
  },
  {
   "cell_type": "code",
   "execution_count": 28,
   "metadata": {},
   "outputs": [],
   "source": [
    "# Create a dataframe consisting reported date and offence count\n",
    "df_reported_month = crime_mongodb_df.select('Reported Date','Offence Count')\n",
    "# Extracting the month value from the reported date\n",
    "df_reported_month = df_reported_month.withColumn('reported_month',month(to_timestamp('Reported Date', 'dd/MM/yyyy')))\n",
    "df_reported_month = df_reported_month.groupby('reported_month').sum('Offence Count').orderBy('reported_month').dropna()\n",
    "df_month_list = df_reported_month.collect()"
   ]
  },
  {
   "cell_type": "code",
   "execution_count": 29,
   "metadata": {},
   "outputs": [
    {
     "data": {
      "image/png": "[encoded data removed]",
      "text/plain": [
       "<Figure size 432x288 with 1 Axes>"
      ]
     },
     "metadata": {
      "needs_background": "light"
     },
     "output_type": "display_data"
    }
   ],
   "source": [
    "# Creating total offence variable for an year\n",
    "total_offence = [row['sum(Offence Count)'] for row in df_month_list ]\n",
    "# Creating the month list for all the months\n",
    "month_list = ['Jan','Feb','March','April','May','June','July','Aug','Sep','Oct','Nov','Dec'] \n",
    "bar_width = 0.5\n",
    "# Creating the index for bar graph\n",
    "index = np.arange(len(month_list))\n",
    "# Plot the bar graph\n",
    "plt.bar(index, total_offence, bar_width, align='center')\n",
    "plt.xticks(index,month_list)\n",
    "plt.xlabel('Month')\n",
    "plt.ylabel('Total Number of offences')\n",
    "plt.title('Number of crimes for months')\n",
    "plt.tight_layout()\n",
    "plt.xticks( rotation=90,horizontalalignment='right',fontweight='light',fontsize='x-large')\n",
    "plt.show()"
   ]
  },
  {
   "cell_type": "markdown",
   "metadata": {},
   "source": [
    "Here as per the graph,maximum crime was in January the crime rates has dropped for the month of April till june and then again gradually increased till oct, reaching saturation in december"
   ]
  },
  {
   "cell_type": "markdown",
   "metadata": {},
   "source": [
    "#### C.Where do most crimes take place? "
   ]
  },
  {
   "cell_type": "code",
   "execution_count": 30,
   "metadata": {},
   "outputs": [],
   "source": [
    "# Creating the suburb dataframe\n",
    "df_suburb = crime_mongodb_df.select(concat(col(\"Suburb - Incident\"), lit(\"-\"), col(\"Postcode - Incident\"))\\\n",
    "                                        .alias(\"Postcode\"),'Offence Count')"
   ]
  },
  {
   "cell_type": "code",
   "execution_count": 31,
   "metadata": {},
   "outputs": [
    {
     "data": {
      "text/plain": [
       "['Postcode', 'Offence Count']"
      ]
     },
     "execution_count": 31,
     "metadata": {},
     "output_type": "execute_result"
    }
   ],
   "source": [
    "df_suburb.columns"
   ]
  },
  {
   "cell_type": "code",
   "execution_count": 32,
   "metadata": {},
   "outputs": [],
   "source": [
    "# Manipulate the suburb dataset\n",
    "df_suburb = df_suburb.groupby('Postcode').sum('Offence Count')"
   ]
  },
  {
   "cell_type": "code",
   "execution_count": 33,
   "metadata": {},
   "outputs": [],
   "source": [
    "# Sort the sururbs on the basis of offence count\n",
    "df_suburb = df_suburb.sort('sum(Offence Count)',ascending = False)"
   ]
  },
  {
   "cell_type": "code",
   "execution_count": 34,
   "metadata": {},
   "outputs": [
    {
     "data": {
      "image/png": "[encoded data removed]",
      "text/plain": [
       "<Figure size 432x288 with 1 Axes>"
      ]
     },
     "metadata": {
      "needs_background": "light"
     },
     "output_type": "display_data"
    }
   ],
   "source": [
    "# Take the top 20 suburbs\n",
    "df_suburb_list = df_suburb.take(20)\n",
    "# Calculate total offence count\n",
    "total_offence = [row['sum(Offence Count)'] for row in df_suburb_list]\n",
    "# Collect the suburb information from the suburb list\n",
    "suburb = [row['Postcode'] for row in df_suburb_list] \n",
    "bar_width = 0.5\n",
    "# Plot the graph\n",
    "index = np.arange(len(suburb))\n",
    "plt.bar(index, total_offence, align='center')\n",
    "plt.xticks(index,suburb)\n",
    "plt.xlabel('Suburb with Postcode')\n",
    "plt.ylabel('Total number of offences')\n",
    "plt.title('Number of crimes per suburb')\n",
    "plt.tight_layout()\n",
    "plt.xticks( rotation=90,horizontalalignment='right',fontweight='light',fontsize='x-large')\n",
    "plt.show()"
   ]
  },
  {
   "cell_type": "markdown",
   "metadata": {},
   "source": [
    "Here the graph indicates that the crime rate is too high in citiessuch as Adelaide as compared to the suburbs which are small and less densly populated."
   ]
  },
  {
   "cell_type": "markdown",
   "metadata": {},
   "source": [
    "#### Find the number of serious criminal trespasses by day and month"
   ]
  },
  {
   "cell_type": "code",
   "execution_count": 35,
   "metadata": {},
   "outputs": [],
   "source": [
    "# Creating the data frame for reported date and offence count for serious criminal trespass\n",
    "df_day_of_month = crime_mongodb_df.filter(col('Offence Level 2 Description') == 'SERIOUS CRIMINAL TRESPASS')\\\n",
    ".select('Reported Date','Offence Count')\n",
    "# Extracting the day and month from the reported date\n",
    "df_day_of_month = df_day_of_month.withColumn('reported_month',month(to_timestamp('Reported Date', 'dd/MM/yyyy')))\n",
    "df_day_of_month = df_day_of_month.withColumn('reported_day',dayofweek(to_timestamp('Reported Date', 'dd/MM/yyyy')))\n"
   ]
  },
  {
   "cell_type": "code",
   "execution_count": 36,
   "metadata": {
    "scrolled": true
   },
   "outputs": [],
   "source": [
    "df_day_of_month1 = df_day_of_month.groupby(['reported_month','reported_day']).sum('Offence Count')\\\n",
    ".orderBy(['reported_month','reported_day']).dropna()\n",
    "day_month_list = df_day_of_month1.collect()"
   ]
  },
  {
   "cell_type": "code",
   "execution_count": 37,
   "metadata": {},
   "outputs": [
    {
     "data": {
      "image/png": "[encoded data removed]",
      "text/plain": [
       "<Figure size 432x288 with 1 Axes>"
      ]
     },
     "metadata": {
      "needs_background": "light"
     },
     "output_type": "display_data"
    }
   ],
   "source": [
    "# Create the weekday from the day month list and assign sum of offence count\n",
    "Sun = [row['sum(Offence Count)'] for row in day_month_list if row['reported_day'] == 1]\n",
    "Mon = [row['sum(Offence Count)'] for row in day_month_list if row['reported_day'] == 2]\n",
    "Tue = [row['sum(Offence Count)'] for row in day_month_list if row['reported_day'] == 3]\n",
    "Wed = [row['sum(Offence Count)'] for row in day_month_list if row['reported_day'] == 4]\n",
    "Thu = [row['sum(Offence Count)'] for row in day_month_list if row['reported_day'] == 5]\n",
    "Fri = [row['sum(Offence Count)'] for row in day_month_list if row['reported_day'] == 6]\n",
    "Sat = [row['sum(Offence Count)'] for row in day_month_list if row['reported_day'] == 7]\n",
    "# Create month value list\n",
    "month_value = ['Jan','Feb','March','April','May','June','July','Aug','Sep','Oct','Nov','Dec'] \n",
    "y_pos = np.arange(len(month_value))\n",
    "# Plot the graph\n",
    "bar_width = 0.5\n",
    "plt.plot(month_value, Sun, color='orange')\n",
    "plt.plot(month_value, Mon, color='yellow')\n",
    "plt.plot(month_value, Tue, color='red')\n",
    "plt.plot(month_value, Wed, color='brown')\n",
    "plt.plot(month_value, Thu, color='green')\n",
    "plt.plot(month_value, Fri, color='blue')\n",
    "plt.plot(month_value, Sat, color='pink')\n",
    "plt.xlabel('Month')\n",
    "plt.ylabel('Count of Offense ')\n",
    "plt.legend(['Sunday','Monday','Tuesday','Wednesday','Thrusday','Friday','Saturday'])\n",
    "plt.title('Number of offences for each day of a month')\n",
    "plt.tight_layout()\n",
    "plt.show()"
   ]
  },
  {
   "cell_type": "markdown",
   "metadata": {},
   "source": [
    "From the graph, we can conclude that the serious criminal trespasses reported fluctuated maximum on a Monday and minimum on Saturday. Rest of the days the reported serious criminal trespasses fluctuations were not that drastic."
   ]
  },
  {
   "cell_type": "code",
   "execution_count": null,
   "metadata": {},
   "outputs": [],
   "source": []
  }
 ],
 "metadata": {
  "kernelspec": {
   "display_name": "Python 3",
   "language": "python",
   "name": "python3"
  },
  "language_info": {
   "codemirror_mode": {
    "name": "ipython",
    "version": 3
   },
   "file_extension": ".py",
   "mimetype": "text/x-python",
   "name": "python",
   "nbconvert_exporter": "python",
   "pygments_lexer": "ipython3",
   "version": "3.7.1"
  }
 },
 "nbformat": 4,
 "nbformat_minor": 2
}
